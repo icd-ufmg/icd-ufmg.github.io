{
 "cells": [
  {
   "cell_type": "markdown",
   "id": "33135adb",
   "metadata": {},
   "source": [
    "# Usiminas: Residência em Ciência de Dados\n",
    "\n",
    "**Disciplina:** Probabilidade e Análise de Dados com Python\n",
    "\n",
    "**Professores:** Flávio Figueiredo e Pedro Melo\n",
    "\n",
    "**Aula 9:** Estudo de caso ENEM"
   ]
  },
  {
   "cell_type": "markdown",
   "id": "d4dce6c7",
   "metadata": {},
   "source": [
    "# CADERNO DE EXERCÍCIOS - AULA 09\n",
    "\n",
    "Utilizando as técnicas aprendidas até agora, analise os microdados do ENEM 2020 para responder às perguntas a seguir. Caso seja possível, gere visualizações apropriadas para cada uma delas."
   ]
  },
  {
   "cell_type": "code",
   "execution_count": null,
   "id": "e1ed2754",
   "metadata": {},
   "outputs": [],
   "source": [
    "import pandas as pd\n",
    "import matplotlib.pyplot as plt\n",
    "import numpy as np\n",
    "import seaborn as sns\n",
    "import plotly.express as px\n",
    "import plotly.graph_objects as go"
   ]
  },
  {
   "cell_type": "code",
   "execution_count": null,
   "id": "85e39e7e",
   "metadata": {},
   "outputs": [],
   "source": [
    "# Carregando o dataframe\n",
    "# Encoding cp860 é o encoding para português. utf-8 não lê estes dados.\n",
    "enem = pd.read_csv('http://dcc.ufmg.br/~flaviovdf/MICRODADOS_ENEM_2020_FILTRADOS.csv')"
   ]
  },
  {
   "cell_type": "markdown",
   "id": "5fa4461d",
   "metadata": {},
   "source": [
    "## 1. Quais os 5 estados brasileiros com maior taxa de ausência (geral) no ENEM 2020?\n"
   ]
  },
  {
   "cell_type": "code",
   "execution_count": null,
   "id": "7759b3a1",
   "metadata": {},
   "outputs": [],
   "source": []
  },
  {
   "cell_type": "markdown",
   "id": "f53b9321",
   "metadata": {},
   "source": [
    "## 2. Como a probabilidade de um(a) candidato(a) obter nota superior a 600 na redação varia com o tempo desde que ele(a) concluiu o segundo grau? Esta tendência é a mesma observada em Ciências da natureza?\n",
    "\n",
    "**Ovservação:** O valor da coluna TP_ANO_CONCLUIU já indica o tempo desde a conclusão até prova. Entretanto, o valor 0 não necessariamente indica que o estudante concluiu em 2020! Elimine este valor para análises mais precisas."
   ]
  },
  {
   "cell_type": "code",
   "execution_count": null,
   "id": "ba0c54ff",
   "metadata": {},
   "outputs": [],
   "source": []
  },
  {
   "cell_type": "markdown",
   "id": "3bd8c160",
   "metadata": {},
   "source": [
    "## 3. Como fatores como renda (Q006), número de pessoas que moram na mesma residência que o candidato (Q005), e a faixa etária (TP_FAIXA_ETARIA) do participante influenciam em sua nota em Matemática?\n",
    "\n",
    "**Sugestões:** Para análises mais precisas, elimine as notas 0 e os candidatos que faltaram nas provas analisadas (ex:TP_PRESENCA_MT=0). Como as notas são uma escala contínua, você pode optar, se preferir, por torná-la discreta, criando classes que englobem faixas de notas (ex: 200<NU_NOTA_MT<400)."
   ]
  },
  {
   "cell_type": "code",
   "execution_count": null,
   "id": "29620660",
   "metadata": {},
   "outputs": [],
   "source": []
  }
 ],
 "metadata": {
  "kernelspec": {
   "display_name": "Python 3 (ipykernel)",
   "language": "python",
   "name": "python3"
  },
  "language_info": {
   "codemirror_mode": {
    "name": "ipython",
    "version": 3
   },
   "file_extension": ".py",
   "mimetype": "text/x-python",
   "name": "python",
   "nbconvert_exporter": "python",
   "pygments_lexer": "ipython3",
   "version": "3.8.12"
  }
 },
 "nbformat": 4,
 "nbformat_minor": 5
}
