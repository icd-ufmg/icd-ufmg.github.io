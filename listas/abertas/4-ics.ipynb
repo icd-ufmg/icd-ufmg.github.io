{
  "nbformat": 4,
  "nbformat_minor": 0,
  "metadata": {
    "colab": {
      "private_outputs": true,
      "provenance": []
    },
    "kernelspec": {
      "name": "python3",
      "display_name": "Python 3"
    },
    "language_info": {
      "name": "python"
    }
  },
  "cells": [
    {
      "cell_type": "markdown",
      "metadata": {
        "id": "oV8iH-KSPpsa"
      },
      "source": [
        "# Intervalos de Confiança\n",
        "\n",
        "Neste notebook, vamos aprender a calcular intervalos de confiança."
      ]
    },
    {
      "cell_type": "markdown",
      "metadata": {
        "id": "l2mGxqXAQY2u"
      },
      "source": [
        "## Uma breve introdução\n",
        "\n",
        "Embora intervalos de confiança sejam amplamente usados, pode ser difícil entender seu conceito e quando devemos usá-lo. Então vamos a um exemplo:\n",
        "\n",
        "Suponha que você queira saber qual a porcentagem de pessoas nos Brasil que amam futebol. Para obter uma resposta 100% correta a essa pergunta, você deveria perguntar a cada um dos 212 milhões habitantes se eles amam ou não futebol. Obviamente, não é viável falar com 212 milhões de pessoas.\n",
        "\n",
        "Você poderia então obter uma amostra aleatória de brasileiros (falando com muito menos pessoas) para obter a porcentagem de pessoas que amam futebol nessa amostra. Contudo, assim não estaria 100% confiante de que esse número está certo ou quão longe esse número está da resposta real.\n",
        "\n",
        "Você poderia tentar obter um intervalo, como: “Tenho 95% de certeza que a porcentagem de pessoas que amam futebol nos EUA está entre 58% e 62%”. É daí que vem o nome Intervalo de confiança, temos um intervalo e temos alguma confiança sobre ele."
      ]
    },
    {
      "cell_type": "markdown",
      "metadata": {
        "id": "8gy3R7pTUQ-R"
      },
      "source": [
        "## Como calcular intervalos de confiança"
      ]
    },
    {
      "cell_type": "markdown",
      "metadata": {
        "id": "sx68L-PHVeiF"
      },
      "source": [
        "O cálculo do intervalo de confiança (ou CI, Confidence Interval) envolve a melhor estimativa obtida pela amostra (média ou mediana) e uma margem de erro. A margem de erro é calculada usando o Z-score para a confiança desejada multiplicada pelo desvio padrão amostral da média.\n"
      ]
    },
    {
      "cell_type": "markdown",
      "metadata": {
        "id": "BAYsaU2IWzkL"
      },
      "source": [
        "![image.png](data:image/png;base64,iVBORw0KGgoAAAANSUhEUgAAAFAAAAA/CAYAAAB3s08iAAADtUlEQVR4Ae2a7XHkIAyGmbl/mSthtxH3cS24HlfjHlKDG7k/N7oRnwJjApKTTWxlZieEICMei1fCXgP6IyJgRNZqDApQGAQKUAEKCQjNNQIVoJCA0FwjUAEKCQjNNQIVoJCA0FwjUAEKCQjNNQIV4CiBDZbJgDHp89vMsI5exo+/WQQ6eL/mhGtbJlCA3dGzwh9jYFq2ZLEtME0LkJ70v47WLSNQEnEl05sBBIBtsVGIGphFYkmm8282wL//Omf4psPW2SURqoccV9kAOZO91GZboIQlTSC4ngOATmyfzyeEz+PxgLe3N5/+J6A6/FIwvZOvMxhD/fbljCCBNAD2evWDxhHtizWgEN69AH7Svd5vYRvqqUqPNSfpP7MMaK6rFjXkBGFOiKDm/B3/3AO0mX6yWpen+XAEojrSMYO/XingXZY73UIrvh9dcw4OqgIMtVIG0EdDjMiBiTDbcQBiqZH5QG4ux48Bl7uH1gH6u5wW7e56uZjeWbgAd9f3NzH5tRvx5R0HAAGAbB+MBInT5wB0pdWX6W/nrTgGCM5hTPkSeOjHGQDdyWFcfzs5sIc1AGIQGhjNdG6hKYvHmotmz9DuzaK+AuBKCJtOh+EhQIyasHipYIsicED3gr+f8fuIZR0g3nEbHe/2ycXrtrBLXt9N9yjMPUB8wEjOjLglpQvgRmCQg3wHrDALHsHTxZ/RLgC6xJE57PUn6xucmQXwQPestPRq56CfnOEEoK/wS+fCcarsH5htHKCvAMo5B/Sw7V6qMEb0snbNCBDfFbiL0VIhHJvOefhYc2Dfl89ZW6BkN9j5hO9BqM8RIO2UtINu1Ra+6ysjTDLxgC3uiLNKotMBDqzjRUMxwukuk7lxQ4DnZvH7AVxn8dGUxuztAKJGi5MQIXgzgHX9C4kvHRhImfNBorsXwF354komG5G2cJ9gWZd08uo4RFwSIEZU7fzeLF88rOzpU4Da+OLMpQCGrYj1ZtqOSbBa+mePiOQZAFphX+066YqHL9bpkB/Y9tGUF8ut8sWffjK9q/XtWVwqAtPyKotvli8uaZTAd1+FSxPE1kUBuu2HWzmULD36F8ZaOh0JBMddFiCEdzp2W743j281/aMv1bBdS0oXBxii0JUmrW+h2uST6R+iSbXgEbzLAwxfEMCt3IKAILg/F97CDkkobTJ949Kq2F0eIEbhR7VchUt31/UBdqPgDVSAPG7RSgFGFLyGAuRxi1YKMKLgNRQgj1u0UoARBa+hAHncopUCjCh4jf/snXhXpa+fLgAAAABJRU5ErkJggg==)\n",
        "\n",
        "\n"
      ]
    },
    {
      "cell_type": "markdown",
      "metadata": {
        "id": "DmUv_lmuEeeh"
      },
      "source": [
        "Em que ![image.png](data:image/png;base64,iVBORw0KGgoAAAANSUhEUgAAABIAAAATCAYAAACdkl3yAAAA8klEQVQ4EbWU0Q3DIAxELfUv6gjJIuzRFZiHadihMzDMVcaGxsRJ2iqNFCEMPM6HgXDRRz4n40GEZVn6P88zpmkCEYEoIBW7cgdkJ33S+yMoR5XPKRBiVj2r+J0iWripdRWVFCokGCMKUvD9YZgLQknVbAPSWFfYpGjrgyC73/oq6RvwZyAA1RM55hwJb+hAOFbEo1JLbPgZhGfvpCbbsBIKCUPtqQbb7ILayZkSsGtNzwexP1XJs57eb6mVhLC6S5yeV4BGztYjMbifOs/WijaxkWJBWrmjuVqIZ6Z3j/jZ2D4R7VrI2JFXHeSo/Sp0GegFmwS5SCQHnhUAAAAASUVORK5CYII=) é a média amostral, Z é o valor de Z-score associado ao nível de confiança desejado, e ![image.png](data:image/png;base64,iVBORw0KGgoAAAANSUhEUgAAAB0AAAAsCAYAAACZtbMHAAABzElEQVRYCe2X623EIAyALfVvJ2KPrsA8TMMOnYFhXBkCGOJwNrnqdNJVuiqQ4M9PMIAv+IMXMPEdoAmDAwTov2/wGI3uMlhagF++I1Jw+M/QiD8A6ELqdqWAzgVkM/3d4sls6Y5lM98ARcQUsrUU08HiWeqDsQ16CIu+JBKP7wPO8FoHTQFnwG4SEV0HjR4BHPYcOkpnI4n0UBbLVqObQD10iMj9gc699zmDhA90cMezBx/3Ptujg7zm3lb07IB+1txAVG+D86qb42bpTTmm5e8CLW2LNd7cFXZLN/uiW1A6vO+0KgQ3WkqHNz/Muf76ZyM0ot9ormd1bNDoT73SLFAzNkGpC2QNvka++I0BKseztqO9CWclddFH6aGnUikdYba8dosx9LtNnpM9c4KS5nOPSz5alsoBAG5ZVUS46DRodRPtNN1VPSSreJJCY19clJTkkMQGbeIPrccNYFUqUuMtzTWCAEVhwbJUhCskSnNLaHENubmWhyae9dssepFE9P7s3rKqXAlzYvwutz4pnsiTSPDSBbRa6zDE9W07JyDPWq40yJVwCeUXYKmEsuzNf9dQRKxlNMRrE8SXLaFk7VWtcSHW5zXUKk35/R8miVsZezHRigAAAABJRU5ErkJggg==) é o desvio padrão amostral da média."
      ]
    },
    {
      "cell_type": "markdown",
      "metadata": {
        "id": "uwHWVH4KXdsM"
      },
      "source": [
        "Aqui estão os z-scores para os níveis de confiança mais comuns:"
      ]
    },
    {
      "cell_type": "markdown",
      "metadata": {
        "id": "3ioFY0V3XwP3"
      },
      "source": [
        "Confiança | Z\n",
        "\n",
        "75%       | 1.15\n",
        "\n",
        "90%       | 1.64\n",
        "\n",
        "95%       | 1.96\n",
        "\n",
        "99%       | 2.57"
      ]
    },
    {
      "cell_type": "markdown",
      "metadata": {
        "id": "pZQQYw8IYy0E"
      },
      "source": [
        "## Vamos ao código!"
      ]
    },
    {
      "cell_type": "code",
      "metadata": {
        "id": "DoW5tEl7ron2"
      },
      "source": [
        "import pandas as pd\n",
        "import numpy as np"
      ],
      "execution_count": null,
      "outputs": []
    },
    {
      "cell_type": "markdown",
      "metadata": {
        "id": "w5gPkU_mY3S3"
      },
      "source": [
        "## Base de dados\n",
        "Para este exercício, vamos utilizar uma base de dados do site [basedosdados.org](https://basedosdados.org), uma organização colaborativa que cataloga e divulga dados públicos brasileiros. Vocês podem usar esse site para buscar bases para projetos acadêmicos, sempre que necessitarem. Outro exemplo de site de reúne bases abertas (nesse caso, americanas) é o [UCI](https://archive.ics.uci.edu/ml/index.php)."
      ]
    },
    {
      "cell_type": "markdown",
      "metadata": {
        "id": "PK_W3lKVm9N9"
      },
      "source": [
        "Vamos usar a base de \"Indicadores de Mobilidade e Transportes em 2010\" para analisar os dados sobre tempo médio de deslocamento casa-trabalho para o ano de 2010.\n",
        "\n",
        "Para usar o arquivo, podemos usar duas opções: (1)  baixar o csv e importá-lo (usando pandas), ou (2) usar diretamente o pacote do basededados."
      ]
    },
    {
      "cell_type": "markdown",
      "metadata": {
        "id": "YgGzuKpXpK37"
      },
      "source": [
        "### Opção 1:\n",
        "Baixar a tabela 'tempo_deslocamento_casa_trabalho' em https://basedosdados.org/dataset/br-mobilidados-indicadores, adicionar em Files (menu da esquerda) e importar com pandas"
      ]
    },
    {
      "cell_type": "code",
      "metadata": {
        "id": "b2jzaNJbpGBB"
      },
      "source": [
        "df = pd.read_csv(\"\")"
      ],
      "execution_count": null,
      "outputs": []
    },
    {
      "cell_type": "markdown",
      "metadata": {
        "id": "JPE1JAOMpXFD"
      },
      "source": [
        "### Opção 2:\n",
        "Instalar o pacote basedosdados, e importar a base diretamente. Mais detalhes em: https://basedosdados.github.io/mais/access_data_packages/#primeiros-passos.\n",
        "\n",
        "Vocês terão que criar um projeto em https://console.cloud.google.com/projectselector2/home/dashboard?pli=1 para pegar o billing_project_id (ID do projeto)"
      ]
    },
    {
      "cell_type": "code",
      "metadata": {
        "id": "2LtkuGTKnZE1"
      },
      "source": [
        "!pip install basedosdados\n",
        "import basedosdados as bd\n",
        "# Para carregar o dado direto no pandas\n",
        "df = bd.read_table(dataset_id='br_mobilidados_indicadores',\n",
        "            table_id='tempo_deslocamento_casa_trabalho',\\\n",
        "            billing_project_id=<ID_PROJETO>)#colocar aqui o ID do projeto do gcloud\n",
        "            #billing_project_id='censo-331617')\n"
      ],
      "execution_count": null,
      "outputs": []
    },
    {
      "cell_type": "code",
      "metadata": {
        "id": "XJwqVNnr9BQY"
      },
      "source": [
        "df"
      ],
      "execution_count": null,
      "outputs": []
    },
    {
      "cell_type": "markdown",
      "metadata": {
        "id": "_nL4_4PEaawP"
      },
      "source": [
        "Antes de começarmos a análise, é importante explorar se há valores faltantes."
      ]
    },
    {
      "cell_type": "code",
      "metadata": {
        "id": "D2yqkkLNan8S"
      },
      "source": [
        "df['tempo_medio_deslocamento'].isnull().sum()"
      ],
      "execution_count": null,
      "outputs": []
    },
    {
      "cell_type": "markdown",
      "metadata": {
        "id": "SiR5qAW2bjco"
      },
      "source": [
        "Não há valores faltantes."
      ]
    },
    {
      "cell_type": "markdown",
      "metadata": {
        "id": "Qy6G6B-U-mY7"
      },
      "source": [
        "### Vamos calcular o intervalo de confiança para o tempo medio de deslocamento no estado de MG para um nível de confiança de 95%."
      ]
    },
    {
      "cell_type": "code",
      "metadata": {
        "id": "SF-lNDIE-iEq"
      },
      "source": [
        "## Primeiro, vamos calcular a media e o o desvio padrao\n",
        "media_mg = np.mean(df.loc[df['sigla_uf']=='MG','tempo_medio_deslocamento'])\n",
        "std_mg = np.std(df.loc[df['sigla_uf']=='MG','tempo_medio_deslocamento'])\n",
        "\n",
        "print('O tempo médio de deslocamento no estado de MG é de', \\\n",
        "      np.round(media_mg,2), 'e o desvio padrão é de', np.round(std_mg,2))"
      ],
      "execution_count": null,
      "outputs": []
    },
    {
      "cell_type": "code",
      "metadata": {
        "id": "N0LfA7ClACtZ"
      },
      "source": [
        "## Agora, voltando à tabela do Z-score, vemos que o valor de Z\n",
        "##correspondente a um nível de confiança de 95% é de 1.96\n",
        "## Assim, podemos calcular o intervalo de confiança:\n",
        "\n",
        "z = 1.96\n",
        "CI_inf_mg = media_mg - z*(std_mg/np.sqrt(len(df.loc[df['sigla_uf']=='MG'])))\n",
        "CI_sup_mg = media_mg + z*(std_mg/np.sqrt(len(df.loc[df['sigla_uf']=='MG'])))"
      ],
      "execution_count": null,
      "outputs": []
    },
    {
      "cell_type": "code",
      "metadata": {
        "id": "EwRgysOvA1-J"
      },
      "source": [
        "print('(', np.round(CI_inf_mg,2), ',',np.round(CI_sup_mg,2), ')')"
      ],
      "execution_count": null,
      "outputs": []
    },
    {
      "cell_type": "markdown",
      "metadata": {
        "id": "WA2eaVytBfSo"
      },
      "source": [
        "## Exercício 1\n",
        "\n",
        "Qual é o CI do tempo médio de deslocamento casa-trabalho para o estado de MG, considerando um nível de confiança de 90%?"
      ]
    },
    {
      "cell_type": "code",
      "metadata": {
        "id": "b9sRK9UIUrWx"
      },
      "source": [],
      "execution_count": null,
      "outputs": []
    },
    {
      "cell_type": "markdown",
      "metadata": {
        "id": "QfiTVIclUrvc"
      },
      "source": [
        "## Exercício 2\n",
        "\n",
        "Qual é o CI do tempo médio de deslocamento casa-trabalho para o estado de SP, considerando um nível de confiança de 95%?"
      ]
    },
    {
      "cell_type": "code",
      "metadata": {
        "id": "503EGlrSU0y8"
      },
      "source": [],
      "execution_count": null,
      "outputs": []
    },
    {
      "cell_type": "markdown",
      "metadata": {
        "id": "qvCxFKxTU1nm"
      },
      "source": [
        "## Exercício 3\n",
        "\n",
        "Qual é o CI do tempo **mediano** de deslocamento casa-trabalho para o estado de SP, considerando um nível de confiança de 95%?"
      ]
    },
    {
      "cell_type": "code",
      "metadata": {
        "id": "26AF4cedU9kq"
      },
      "source": [],
      "execution_count": null,
      "outputs": []
    },
    {
      "cell_type": "markdown",
      "metadata": {
        "id": "fI7HkUs5U-Fa"
      },
      "source": [
        "### Biblioteca scipy.stats\n",
        "\n",
        "O módulo de funções estatísticas scipy stats nos permite calcular o CI chamando apenas uma função. Para maiores informações, ver https://docs.scipy.org/doc/scipy/reference/generated/scipy.stats.norm.html."
      ]
    },
    {
      "cell_type": "code",
      "metadata": {
        "id": "UXTBErLABclW"
      },
      "source": [
        "import scipy.stats as st\n",
        "\n",
        "#Voltando ao problema inicial, vamos calcular o intervalo de confiança para\n",
        "#o tempo medio de deslocamento no estado de MG para um nível de confiança de 95%.\n",
        "#alpha = nivel de confiança\n",
        "#loc = array dos dados para media\n",
        "#scale = desvio padrão amostral da média\n",
        "\n",
        "ci = st.norm.interval(alpha=0.95, loc=np.mean(df.loc[df['sigla_uf']=='MG','tempo_medio_deslocamento']), \\\n",
        "                      scale=st.sem(df.loc[df['sigla_uf']=='MG','tempo_medio_deslocamento'], \\\n",
        "                                   ddof=0, nan_policy='omit'))"
      ],
      "execution_count": null,
      "outputs": []
    },
    {
      "cell_type": "code",
      "metadata": {
        "id": "jJox9e8kY3SA"
      },
      "source": [
        "np.round(ci,2)"
      ],
      "execution_count": null,
      "outputs": []
    },
    {
      "cell_type": "markdown",
      "metadata": {
        "id": "AqXAYCAZW9LH"
      },
      "source": [
        "## Exercício 4\n",
        "\n",
        "Usando a biblioteca scipy.stats, calcule e imprima o CI do tempo médio de deslocamento para cada estado brasileiro, com nível de confiança de 99% ."
      ]
    },
    {
      "cell_type": "code",
      "metadata": {
        "id": "_8124dEUXRJw"
      },
      "source": [
        "#Dica: a função unique dá o array de todos os estados\n",
        "df['sigla_uf'].unique()"
      ],
      "execution_count": null,
      "outputs": []
    },
    {
      "cell_type": "code",
      "metadata": {
        "id": "nD3qzzAlbEKf"
      },
      "source": [],
      "execution_count": null,
      "outputs": []
    },
    {
      "cell_type": "markdown",
      "metadata": {
        "id": "c0triLjibE3B"
      },
      "source": [
        "## Exercício 5\n",
        "Se não há valores valores, por que a função retorna NA para alguns estados?"
      ]
    },
    {
      "cell_type": "markdown",
      "metadata": {
        "id": "NDkZBh6abP8h"
      },
      "source": []
    },
    {
      "cell_type": "markdown",
      "metadata": {
        "id": "Uc6n2JacbQim"
      },
      "source": [
        "## Exercício 6\n",
        "\n",
        "Crie uma visualização (a seu critério) para mostrar os intervalos de confiança dos estados com valores não nulos. Qual padrão você observa?"
      ]
    },
    {
      "cell_type": "code",
      "metadata": {
        "id": "rHgfu15-bhFs"
      },
      "source": [],
      "execution_count": null,
      "outputs": []
    }
  ]
}