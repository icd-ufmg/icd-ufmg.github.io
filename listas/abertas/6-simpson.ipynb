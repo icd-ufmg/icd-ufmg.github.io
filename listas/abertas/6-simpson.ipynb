{
 "cells": [
  {
   "cell_type": "code",
   "execution_count": 5,
   "metadata": {},
   "outputs": [],
   "source": [
    "import numpy as np\n",
    "import pandas as pd\n",
    "import matplotlib.pyplot as plt"
   ]
  },
  {
   "cell_type": "markdown",
   "metadata": {},
   "source": [
    "## Paradoxo de Simpson\n",
    "\n",
    "Uma surpresa não incomum ao analisar dados é o Paradoxo de Simpson, no qual as correlações podem ser enganosas (ou *misleading*) quando variáveis confusas (ou *confounding variables*) são ignoradas.\n",
    "\n",
    "Por exemplo, imagine que você pode identificar todos os membros  do *DataSciencester* como cientistas de dados da Costa Leste ou cientistas de dados da Costa Oeste. Você decide examinar quais cientistas de dados são mais amigáveis:\n",
    "\n",
    "\n",
    "|Costa|# de membros|# médio de amigos|\n",
    "| :-: | :-: | :-: |\n",
    "|Oeste|101|8.2|\n",
    "|Leste|103|6.5|\n",
    "\n",
    "Certamente parece que os cientistas de dados da Costa Oeste são mais amigáveis do que os cientistas de dados da Costa Leste. Seus colegas de trabalho avançam todos os tipos de teorias sobre por que isso pode ser: talvez seja o sol, ou o café, ou os produtos orgânicos, ou a vibração descontraída do Pacífico?\n",
    "\n",
    "Ao brincar com os dados, você descobre algo muito estranho. Se você olhar apenas para pessoas com PhDs, os cientistas de dados da Costa Leste têm mais amigos, em média. E se você olhar apenas para pessoas sem PhDs, os cientistas de dados da Costa Leste também têm mais amigos em média!\n",
    "\n",
    "\n",
    "|Costa|PhD?|# de membros|# médio de amigos|\n",
    "| :-: | :-: | :-: | :-: |\n",
    "|Oeste|Sim|35|3.1|\n",
    "|Leste|Sim|70|3.2|\n",
    "|Oeste|Não|66|10.9|\n",
    "|Leste|Não|33|13.4|\n",
    "\n",
    "Depois de contabilizar se os usuários tem PhDs ou não, a correlação vai na direção oposta! Separar os dados somente entre Costa Leste e Costa Oeste escondeu o fato de que há muito mais cientistas de dados na Costa Leste com PhD (proporcionalmente) que na Costa Oeste.\n",
    "\n",
    "Esse fenômeno surge no mundo real com alguma regularidade. A questão-chave é que a correlação está medindo a relação entre suas duas variáveis **sendo tudo o mais igual**. Se suas classes de dados são atribuídas aleatoriamente, como elas podem ser em um experimento bem projetado, \"tudo o mais sendo igual\" pode não ser uma suposição terrível. Mas quando há um padrão mais profundo para atribuições de classe, \"tudo o mais sendo igual\" pode ser uma suposição terrível. Nesse exemplo, se a proporção de cientistas de dados com PhD fosse igual na Costa Leste e Costa Oeste, então \"ter PhD\" deixaria de ser um fator de confusão para a variável \"número médio de amigos\".\n",
    "\n",
    "Assim, a única maneira real de evitar fatores de confusão é conhecer seus dados e fazer o que puder para garantir que você tenha verificado tais fatores. Obviamente, isso nem sempre é possível. Se você não tivesse nos seus dados o nível educacional desses 200 cientistas de dados, você poderia simplesmente concluir que havia algo inerentemente mais sociável na Costa Oeste."
   ]
  },
  {
   "cell_type": "markdown",
   "metadata": {},
   "source": [
    "O Paradoxo de Simpson também pode ser observado na taxa de sobrevivência do [naufrágio do RMS Titanic](https://en.wikipedia.org/wiki/RMS_Titanic). Havia uma estimativa de 2.224 passageiros e tripulantes a bordo, e mais de 1.500 morreram, tornando-se um dos mais mortais desastres marítimos comerciais em tempos de paz da história moderna. Dados sobre os passageiros podem ser baixados [aqui](https://ww2.amstat.org/publications/jse/v3n3/datasets.dawson.html). Este conjunto de dados foi processado por mim e transformado em um arquivo [csv](https://www.dropbox.com/s/vk8jf0wyczqxkvv/survival_titanic.csv?dl=0), que é muito mais fácil de tratar que um arquivo texto. Informações sobre ele podem ser lidas [aqui](https://www.dropbox.com/s/xpjw74khyqx9ww4/survival_titanic.README.txt?dl=0). \n",
    "\n",
    "Embora muitas outras informações existam sobre os passageiros, aqui vamos trabalhar com apenas quatro:\n",
    "\n",
    "1) Se o passageiro sobreviveu;\n",
    "2) A classe do seu bilhete (primeira, segunda ou terceira) ou se ele era membro da tripulação;\n",
    "3) O sexo do passageiro;\n",
    "4) E se ele era um adulto ou uma criança.\n",
    "\n",
    "Primeiro, vamos carregar os dados:"
   ]
  },
  {
   "cell_type": "code",
   "execution_count": 4,
   "metadata": {
    "scrolled": true
   },
   "outputs": [
    {
     "data": {
      "text/html": [
       "<div>\n",
       "<style scoped>\n",
       "    .dataframe tbody tr th:only-of-type {\n",
       "        vertical-align: middle;\n",
       "    }\n",
       "\n",
       "    .dataframe tbody tr th {\n",
       "        vertical-align: top;\n",
       "    }\n",
       "\n",
       "    .dataframe thead th {\n",
       "        text-align: right;\n",
       "    }\n",
       "</style>\n",
       "<table border=\"1\" class=\"dataframe\">\n",
       "  <thead>\n",
       "    <tr style=\"text-align: right;\">\n",
       "      <th></th>\n",
       "      <th>class</th>\n",
       "      <th>Age</th>\n",
       "      <th>Sex</th>\n",
       "      <th>Survived</th>\n",
       "    </tr>\n",
       "  </thead>\n",
       "  <tbody>\n",
       "    <tr>\n",
       "      <th>0</th>\n",
       "      <td>1</td>\n",
       "      <td>1</td>\n",
       "      <td>1</td>\n",
       "      <td>1</td>\n",
       "    </tr>\n",
       "    <tr>\n",
       "      <th>1</th>\n",
       "      <td>1</td>\n",
       "      <td>1</td>\n",
       "      <td>1</td>\n",
       "      <td>1</td>\n",
       "    </tr>\n",
       "    <tr>\n",
       "      <th>2</th>\n",
       "      <td>1</td>\n",
       "      <td>1</td>\n",
       "      <td>1</td>\n",
       "      <td>1</td>\n",
       "    </tr>\n",
       "    <tr>\n",
       "      <th>3</th>\n",
       "      <td>1</td>\n",
       "      <td>1</td>\n",
       "      <td>1</td>\n",
       "      <td>1</td>\n",
       "    </tr>\n",
       "    <tr>\n",
       "      <th>4</th>\n",
       "      <td>1</td>\n",
       "      <td>1</td>\n",
       "      <td>1</td>\n",
       "      <td>1</td>\n",
       "    </tr>\n",
       "    <tr>\n",
       "      <th>...</th>\n",
       "      <td>...</td>\n",
       "      <td>...</td>\n",
       "      <td>...</td>\n",
       "      <td>...</td>\n",
       "    </tr>\n",
       "    <tr>\n",
       "      <th>2196</th>\n",
       "      <td>0</td>\n",
       "      <td>1</td>\n",
       "      <td>0</td>\n",
       "      <td>1</td>\n",
       "    </tr>\n",
       "    <tr>\n",
       "      <th>2197</th>\n",
       "      <td>0</td>\n",
       "      <td>1</td>\n",
       "      <td>0</td>\n",
       "      <td>1</td>\n",
       "    </tr>\n",
       "    <tr>\n",
       "      <th>2198</th>\n",
       "      <td>0</td>\n",
       "      <td>1</td>\n",
       "      <td>0</td>\n",
       "      <td>0</td>\n",
       "    </tr>\n",
       "    <tr>\n",
       "      <th>2199</th>\n",
       "      <td>0</td>\n",
       "      <td>1</td>\n",
       "      <td>0</td>\n",
       "      <td>0</td>\n",
       "    </tr>\n",
       "    <tr>\n",
       "      <th>2200</th>\n",
       "      <td>0</td>\n",
       "      <td>1</td>\n",
       "      <td>0</td>\n",
       "      <td>0</td>\n",
       "    </tr>\n",
       "  </tbody>\n",
       "</table>\n",
       "<p>2201 rows × 4 columns</p>\n",
       "</div>"
      ],
      "text/plain": [
       "      class  Age  Sex  Survived\n",
       "0         1    1    1         1\n",
       "1         1    1    1         1\n",
       "2         1    1    1         1\n",
       "3         1    1    1         1\n",
       "4         1    1    1         1\n",
       "...     ...  ...  ...       ...\n",
       "2196      0    1    0         1\n",
       "2197      0    1    0         1\n",
       "2198      0    1    0         0\n",
       "2199      0    1    0         0\n",
       "2200      0    1    0         0\n",
       "\n",
       "[2201 rows x 4 columns]"
      ]
     },
     "execution_count": 4,
     "metadata": {},
     "output_type": "execute_result"
    }
   ],
   "source": [
    "import pandas as pd\n",
    "df = pd.read_csv('https://media.githubusercontent.com/media/icd-ufmg/material/master/aulas/15-Correlacao/survival_titanic.csv')\n",
    "df"
   ]
  },
  {
   "cell_type": "markdown",
   "metadata": {},
   "source": [
    "Se você leu o arquivo explicativo, viu que os dados estão organizados da seguinte maneira:\n",
    "\n",
    "|Coluna|Descrição|Valores|\n",
    "| :-: | :-: | :-: |\n",
    "|0|Classe| 0 = tripulação, 1 = primeira, 2 = segunda, 3 = terceira|\n",
    "|1|Idade|1 = adulto, 0 = criança|\n",
    "|2|Sexo|1 = masculino, 0 = feminino|\n",
    "|3|Sobreviveu?|1 = sim, 0 = não|"
   ]
  },
  {
   "cell_type": "markdown",
   "metadata": {},
   "source": [
    "Agora vamos montar uma tabela de contigência na mão. Para tal, vamos calcular a fração de pessoas que sobreviveram por classe. Podemos aplicar o group-by na classe e tirar a média. Lembrando que a média de 1s e 0s captura uma fração.\n",
    "\n",
    "**Exercício 1**: use a função `groupby` do `Pandas` para calcular e exibir essa fração."
   ]
  },
  {
   "cell_type": "code",
   "execution_count": null,
   "metadata": {},
   "outputs": [],
   "source": [
    "#Seu código aqui:\n",
    "\n",
    "colunas = [] #completar\n",
    "coluna_groupby = '' #completar\n",
    "df[colunas].groupby(coluna_groupby).mean()"
   ]
  },
  {
   "cell_type": "markdown",
   "metadata": {},
   "source": [
    "Aparentemente, a classe dos tripulantes (classe 0) é aquela com menor taxa de sobrevivência. Para verificar se o Paradoxo de Simpson ocorre, vamos quebrar a análise pelas outras duas colunas, idade (`Age`) e sexo (`Sex`). Para isso, basta agrupar a taxa de sobrevivência pelas duas colunas de interesse.\n",
    "\n",
    "Primeiro, vamos quebrar pela idade.\n",
    "\n",
    "**Exercício 2**: use a função `groupby` do `Pandas` para calcular e exibir essa fração quebrada por idade (`Age`)."
   ]
  },
  {
   "cell_type": "code",
   "execution_count": null,
   "metadata": {},
   "outputs": [],
   "source": [
    "#Seu código aqui:\n",
    "\n",
    "colunas = [] #completar\n",
    "colunas_groupby = [] #completar\n",
    "df[colunas].groupby(colunas_groupby).mean()"
   ]
  },
  {
   "cell_type": "markdown",
   "metadata": {},
   "source": [
    "A única coisa que podemos ver aqui é que a taxa de sobrevivência de crianças é significativamente maior. Talvez se tivéssemos uma quantidade significativa de crianças, poderíamos observar o Paradoxo de Simpson.\n",
    "\n",
    "Vamos agora quebrar por sexo.\n",
    "\n",
    "**Exercício 3**: use a função `groupby` do `Pandas` para calcular e exibir essa fração quebrada por sexo (`Sex`)."
   ]
  },
  {
   "cell_type": "code",
   "execution_count": null,
   "metadata": {},
   "outputs": [],
   "source": [
    "#Seu código aqui:"
   ]
  },
  {
   "cell_type": "markdown",
   "metadata": {},
   "source": [
    "Quebrando a análise por sexo, podemos ver também que a taxa de sobrevivência de mulheres foi significativamente maior que a taxa de sobrevivência de homens. Além disso, por haver muito mais mulheres na terceira classe que na tripulação, isso mascarou o primeiro resultado, que indicava que membros da tripulação sobreviveram menos que os membros da terceira classe. Podemos ver agora que os membros da tripulação sobreviveram mais que os membros da terceira classe, o que configura o Paradoxo de Simpson.\n",
    "\n",
    "**Exercício 4**: Para você confiar ainda mais nessa análise, observe a quantidade de pessoas de cada sexo por classe e note que há uma proporção muito menor de mulheres na classe `0` que na classe `3`."
   ]
  },
  {
   "cell_type": "code",
   "execution_count": null,
   "metadata": {},
   "outputs": [],
   "source": [
    "#Seu código aqui:\n"
   ]
  },
  {
   "cell_type": "markdown",
   "metadata": {},
   "source": [
    "## Valores-p de Correlações\n",
    "\n",
    "Alguns pacotes, como o `scipy`, também calculam **valores-p** (ou *p-values*) de correlações. Esse valor-p refere-se à probabilidade da correlação ser explicada pela hipótese **H0** abaixo em detrimento da hipótese **H1**:\n",
    "\n",
    "- **H0**: A correlação observada pode ser fruto do acaso, ou seja, é estatisticamente explicada por uma permutações aleatórias nos dados.\n",
    "- **H1**: A correlação observada não é fruto do acaso, ou seja, permutações dos dados não podem gerar dados correlacionados dessa maneira.\n"
   ]
  },
  {
   "cell_type": "markdown",
   "metadata": {},
   "source": [
    "**Exercício 5**: Crie uma função que recebe dois *arrays numpy* e retorna a correlação de Pearson entre eles."
   ]
  },
  {
   "cell_type": "code",
   "execution_count": 6,
   "metadata": {},
   "outputs": [],
   "source": [
    "#seu codigo aqui:\n",
    "\n",
    "def correlation(x, y):\n",
    "    return 0"
   ]
  },
  {
   "cell_type": "markdown",
   "metadata": {},
   "source": [
    "\n",
    "Observe como os dados abaixo tem uma correlação quase que perfeita!"
   ]
  },
  {
   "cell_type": "code",
   "execution_count": null,
   "metadata": {},
   "outputs": [],
   "source": [
    "x = np.array([7.1, 7.1, 7.2, 8.3, 9.4])\n",
    "y = np.array([2.8, 2.9, 2.8, 2.6, 3.5])\n",
    "plt.scatter(x, y, edgecolor='k', alpha=0.6, s=80)\n",
    "print(\"correlação entre x e y:\", correlation(x, y))"
   ]
  },
  {
   "cell_type": "markdown",
   "metadata": {},
   "source": [
    "No entanto, se permutarmos esses dados 10000 vezes..."
   ]
  },
  {
   "cell_type": "code",
   "execution_count": null,
   "metadata": {},
   "outputs": [],
   "source": [
    "#copia x para x_perm\n",
    "x_perm = x.copy()\n",
    "#vamos guardar os valores das correlações\n",
    "perm_corr = []\n",
    "for _ in range(10000):\n",
    "    #permuta o vetor x\n",
    "    np.random.shuffle(x_perm)\n",
    "    #calcula a correlação e guarda no vetor perm_corr\n",
    "    perm_corr.append(correlation(x_perm, y))\n",
    "\n"
   ]
  },
  {
   "cell_type": "markdown",
   "metadata": {},
   "source": [
    "Temos agora 10000 valores de correlações, que foram calculadas a partir de permutações do vetor `x` original. Será que apenas o `x` original era correlacionado com `y`?"
   ]
  },
  {
   "cell_type": "code",
   "execution_count": null,
   "metadata": {},
   "outputs": [],
   "source": [
    "plt.hist(perm_corr, edgecolor='k')\n",
    "plt.xlabel('Correlação na Permutação')\n",
    "plt.ylabel('Quantidade de Permutações')\n",
    "plt.vlines(correlation(x, y), 0, 2000, color='r')\n",
    "plt.text(correlation(x, y), 2000, 'Observado')\n"
   ]
  },
  {
   "cell_type": "markdown",
   "metadata": {},
   "source": [
    "Podemos calcular agora quantos desses valores de correlações, gerados ao acaso, são maiores ou iguais ao valor observado:"
   ]
  },
  {
   "cell_type": "code",
   "execution_count": null,
   "metadata": {},
   "outputs": [],
   "source": [
    "valor_p = sum(perm_corr > correlation(x, y)) / len(perm_corr)\n",
    "print(\"valor_p\", valor_p)"
   ]
  },
  {
   "cell_type": "markdown",
   "metadata": {},
   "source": [
    "Vamos calcular a correlação e o valor-p a partir do `scipy`:"
   ]
  },
  {
   "cell_type": "code",
   "execution_count": null,
   "metadata": {},
   "outputs": [],
   "source": [
    "from scipy import stats as ss"
   ]
  },
  {
   "cell_type": "code",
   "execution_count": null,
   "metadata": {},
   "outputs": [],
   "source": [
    "c, p = ss.pearsonr(x, y)\n",
    "print(c, p)"
   ]
  },
  {
   "cell_type": "markdown",
   "metadata": {},
   "source": [
    "A conclusão é que, de fato, a correlação entre x e y pode ser uma correlação espúria, ou seja, vinda do acaso. O valor-p indica que há uma alta probabilidade de conseguirmos uma correlção tão alta quanto a observada."
   ]
  },
  {
   "cell_type": "markdown",
   "metadata": {},
   "source": [
    "## Algumas Outras Advertências Correlacionais\n",
    "\n",
    "Uma correlação de zero indica que não há relação linear entre as duas variáveis. No entanto, outros tipos de relacionamentos podem existir. Por exemplo, se:\n",
    "\n",
    "`x = [-2, -1, 0, 1, 2]`\n",
    "\n",
    "`y = [ 2, 1, 0, 1, 2]`\n",
    "\n",
    "então `x` e `y` têm correlação zero. Mas eles certamente têm um relacionamento - cada elemento de `y` é igual ao valor absoluto do elemento correspondente de `x`. O que eles não têm é um relacionamento em que saber como `x_i` se compara à média de `x` (`mean(x)`) nos fornece informações sobre como `y_i` se compara à média de `y` (`mean(y)`). Esse é o tipo de relacionamento que a correlação procura.\n",
    "\n",
    "Além disso, a correlação não informa nada sobre o tamanho do relacionamento. As variáveis:\n",
    "\n",
    "`x = [-2, 1, 0, 1, 2]`\n",
    "\n",
    "`y = [99.98, 99.99, 100, 100.01, 100.02]`\n",
    "\n",
    "são perfeitamente correlacionados, mas (dependendo do que você está medindo) é bem possível que esse relacionamento não seja tão interessante."
   ]
  },
  {
   "cell_type": "markdown",
   "metadata": {},
   "source": [
    "## Correlação e Causalidade\n",
    "\n",
    "Você provavelmente já ouviu, em algum momento, que \"correlação não é causalidade\", provavelmente por alguém que olha dados que representam um desafio para partes de sua visão de mundo que ele estava relutante em questionar. No entanto, este é um ponto importante - se `x` e `y` estão fortemente correlacionados, isso pode significar que `x` causa `y`, `y` causa `x`, que cada um causa o outro, que algum terceiro fator causa ambos, ou pode não significar nada.\n",
    "\n",
    "Considere a relação entre `numero_amigos` e `minutos_diarios`. É possível que ter mais amigos no site faça com que os usuários do *DataSciencester* passem mais tempo no site. Este pode ser o caso se cada amigo publicar uma certa quantidade de conteúdo por dia, o que significa que quanto mais amigos você tiver, mais tempo levará para se manter atualizado a respeito das publicações deles.\n",
    "\n",
    "No entanto, também é possível que quanto mais tempo você gasta discutindo nos fóruns do *DataSciencester*, mais você encontra e faz amizade com pessoas que pensam como você. Ou seja, passar mais tempo no site faz com que os usuários tenham mais amigos.\n",
    "\n",
    "Uma terceira possibilidade é que os usuários mais apaixonados por ciência dos dados passem mais tempo no site (porque acham isso a coisa mais interessante do dia) e façam mais ativamente amigos que gostam de ciência de dados (porque não querem se associar a ninguém mais).\n",
    "\n",
    "Uma maneira de se sentir mais confiante sobre a causalidade é conduzir estudos randomizados. Se você puder dividir seus usuários aleatoriamente em dois grupos com dados demográficos semelhantes e dar a um dos grupos uma experiência levemente diferente, então você poderá muitas vezes dizer que essa leve experiência está causando os diferentes resultados.\n",
    "\n",
    "Por exemplo, se você não se importa em ser acusado de fazer experiências com seus usuários, você pode escolher aleatoriamente um subconjunto de usuários e mostrar a eles apenas uma fração de seus amigos. Se esse subconjunto subsequentemente passou menos tempo no site, isso lhe daria alguma confiança de que ter mais amigos causa mais tempo no site."
   ]
  },
  {
   "cell_type": "markdown",
   "metadata": {},
   "source": [
    "## Para explorações futuras\n",
    "\n",
    "* [`SciPy`](https://www.scipy.org/), [`pandas`](https://pandas.pydata.org/) e [`StatsModels`](https://www.statsmodels.org/stable/index.html) vêm com uma ampla variedade de funções estatísticas.\n",
    "\n",
    "* Estatísticas são *importantes*. (Ou talvez as estatísticas *sejam* importantes?) Se você quer ser um bom cientista de dados, seria uma boa idéia ler um livro de estatísticas. Muitos estão disponíveis gratuitamente online. Dois exemplos:\n",
    " - [*OpenIntro Statistics*](https://www.openintro.org/stat/textbook.php)\n",
    " - [*OpenStax Introductory Statistics*](https://openstax.org/details/introductory-statistics)"
   ]
  },
  {
   "cell_type": "markdown",
   "metadata": {},
   "source": [
    "## Dados Reais\n",
    "\n",
    "Nesta aula vamos utilizados dados de preços de carros híbridos. Nos EUA, um carro híbrido pode rodar tanto em eletricidade quanto em combustível. A tabela contém as vendas de 1997 até 2003.\n",
    "\n",
    "Uma máxima dessa aula será: **Sempre visualize seus dados**. \n",
    "\n",
    "As colunas são:\n",
    "\n",
    "1. **vehicle:** modelo do carro\n",
    "1. **year:** ano de manufatura\n",
    "1. **msrp:** preço sugerido em 2013 e em USDs\n",
    "1. **acceleration:** aceleração em km por hora por segundo\n",
    "1. **mpg:** economia de combustível em milhas por galão\n",
    "1. **class:** a classe do modelo\n",
    "\n",
    "### Olhando para os Dados\n",
    "\n",
    "Vamos iniciar olhando para cada coluna dos dados."
   ]
  },
  {
   "cell_type": "code",
   "execution_count": null,
   "metadata": {},
   "outputs": [],
   "source": [
    "df = pd.read_csv('https://media.githubusercontent.com/media/icd-ufmg/material/master/aulas/15-Correlacao/hybrid.csv')\n",
    "df['msrp'] = df['msrp'] / 1000\n",
    "df.head()"
   ]
  },
  {
   "cell_type": "markdown",
   "metadata": {},
   "source": [
    "A coluna MSRP é o preço médio de venda. Cada linha da tabela é um carro. \n",
    "\n",
    "Vamos ver o histograma da aceleração:"
   ]
  },
  {
   "cell_type": "code",
   "execution_count": null,
   "metadata": {},
   "outputs": [],
   "source": [
    "plt.hist(df['acceleration'], bins=20, edgecolor='k')\n",
    "plt.title('Histograma de Aceleração')\n",
    "plt.xlabel('Aceleração em Milhas por Hora')\n",
    "plt.ylabel('Num. Carros')"
   ]
  },
  {
   "cell_type": "markdown",
   "metadata": {},
   "source": [
    "Agora vamos ver o histograma do preço sugerido:"
   ]
  },
  {
   "cell_type": "code",
   "execution_count": null,
   "metadata": {},
   "outputs": [],
   "source": [
    "plt.hist(df['msrp'], bins=20, edgecolor='k')\n",
    "plt.title('Histograma de Modelos por Ano')\n",
    "plt.xlabel('Preço em Mil. Dólar')\n",
    "plt.ylabel('Num. Carros')\n"
   ]
  },
  {
   "cell_type": "markdown",
   "metadata": {},
   "source": [
    "Os gráficos acima nos dão uma visão geral dos dados. Note que, como esperado, cada coluna tem uma faixa diferente de valores no eixo-x. Além do mais, a concentração (lado esquerdo/direito) diferente entre as colunas. Como que podemos comparar as colunas? Cada uma está representada em uma unidade diferente.\n",
    "\n",
    "Vamos fazer os gráficos de dispersão.\n",
    "\n",
    "### Dispersão\n",
    "\n",
    "Começamos com o gráfico que compara aceleração com o preço:"
   ]
  },
  {
   "cell_type": "code",
   "execution_count": null,
   "metadata": {},
   "outputs": [],
   "source": [
    "plt.scatter(df['acceleration'], df['msrp'], edgecolor='k', alpha=0.6, s=80)\n",
    "plt.xlabel('MSRP')\n",
    "plt.ylabel('Acc.')\n",
    "plt.title('Consumo vs Acc')"
   ]
  },
  {
   "cell_type": "markdown",
   "metadata": {},
   "source": [
    "Tudo indica que há uma correlação entre os dois valores.\n",
    "\n",
    "**Exercício 6**: calcule a correlação entre aceleração e preço. Indique se a correlação é significativa ou não através do seu valor-p."
   ]
  },
  {
   "cell_type": "code",
   "execution_count": null,
   "metadata": {},
   "outputs": [],
   "source": [
    "#Seu código aqui:\n"
   ]
  },
  {
   "cell_type": "markdown",
   "metadata": {},
   "source": [
    "Finalmente, o pairplot no Seaborn permite que você veja gráficos de dispersão e histogramas para várias colunas em uma tabela. Aqui brincamos com algumas das palavras-chave para produzir um gráfico de pares mais sofisticado e fácil de ler que incorpora linhas de mistura alfa e regressão linear para os gráficos de dispersão."
   ]
  },
  {
   "cell_type": "code",
   "execution_count": null,
   "metadata": {},
   "outputs": [],
   "source": [
    "import seaborn as sns\n",
    "sns.pairplot(df[['msrp', 'acceleration', 'mpg', 'class', 'year']], kind=\"reg\", plot_kws={'line_kws':{'color':'red'}, 'scatter_kws': {'alpha': 0.1}})"
   ]
  },
  {
   "cell_type": "markdown",
   "metadata": {},
   "source": [
    "Você pode também calcular a matriz de correlações entre todas as colunas de um `DataFrame` usando a função `corr`:"
   ]
  },
  {
   "cell_type": "code",
   "execution_count": null,
   "metadata": {},
   "outputs": [],
   "source": [
    "df.corr()"
   ]
  },
  {
   "cell_type": "markdown",
   "metadata": {},
   "source": [
    "Essa função calcula a correlação de `Pearson`, mas você pode calcular a de `Spearman`."
   ]
  },
  {
   "cell_type": "code",
   "execution_count": null,
   "metadata": {},
   "outputs": [],
   "source": [
    "df.corr(method='spearman')"
   ]
  },
  {
   "cell_type": "markdown",
   "metadata": {},
   "source": [
    "# Exercício Final\n",
    "\n",
    "O professor disponibilizou uma planilha com as notas finais dos alunos que cursaram a disciplina *Programação e Desenvolvimento de Software - 1* da UFMG [neste link](https://drive.google.com/file/d/1Bm5mKv5FHHfaFycuVufV8FBWnk1Dh267/view?usp=sharing). Faça o download desse arquivo para realizar este exercício.\n",
    "\n",
    "\n",
    "A planilha contém as seguintes informações:\n",
    "\n",
    "- **Aluno**: código anonimizado do número de matrícula do aluno.\n",
    "- **Praticas**: pontuação (no intervalo entre 0 e 5) obtida pelo aluno nas atividades práticas semanais. É uma forma de quantificar a *quantidade de horas* dedicada para a disciplina.\n",
    "- **Ano**: ano em que a disciplina foi cursada.\n",
    "\n",
    "### Objetivos do exercício:\n",
    "\n",
    "1) Verificar se há correlação entre os pontos obtidos nas atividades práticas e a nota final.\n",
    "2) Verificar se há diferenças entre as correlação do ano 2020 com a do ano 2021.\n",
    "2) Verificar se as correlações mudam ao remover os alunos que desistiram do curso.\n",
    "\n",
    "**Importante**: não se esqueça de lidar com os valores faltantes!"
   ]
  },
  {
   "cell_type": "code",
   "execution_count": 7,
   "metadata": {},
   "outputs": [
    {
     "data": {
      "text/html": [
       "<div>\n",
       "<style scoped>\n",
       "    .dataframe tbody tr th:only-of-type {\n",
       "        vertical-align: middle;\n",
       "    }\n",
       "\n",
       "    .dataframe tbody tr th {\n",
       "        vertical-align: top;\n",
       "    }\n",
       "\n",
       "    .dataframe thead th {\n",
       "        text-align: right;\n",
       "    }\n",
       "</style>\n",
       "<table border=\"1\" class=\"dataframe\">\n",
       "  <thead>\n",
       "    <tr style=\"text-align: right;\">\n",
       "      <th></th>\n",
       "      <th>Aluno</th>\n",
       "      <th>Praticas</th>\n",
       "      <th>Nota</th>\n",
       "      <th>Ano</th>\n",
       "    </tr>\n",
       "  </thead>\n",
       "  <tbody>\n",
       "    <tr>\n",
       "      <th>0</th>\n",
       "      <td>322dc9c2578ab8e6e9148cc8aa13e852</td>\n",
       "      <td>NaN</td>\n",
       "      <td>0</td>\n",
       "      <td>2021</td>\n",
       "    </tr>\n",
       "    <tr>\n",
       "      <th>1</th>\n",
       "      <td>ad229fb205bc55f579fb585d822e6a62</td>\n",
       "      <td>4</td>\n",
       "      <td>49,96</td>\n",
       "      <td>2021</td>\n",
       "    </tr>\n",
       "    <tr>\n",
       "      <th>2</th>\n",
       "      <td>d0ca98e1af20d4bc4c471ae3c73c8ffd</td>\n",
       "      <td>NaN</td>\n",
       "      <td>0</td>\n",
       "      <td>2021</td>\n",
       "    </tr>\n",
       "    <tr>\n",
       "      <th>3</th>\n",
       "      <td>c4d14e39372b7c44ba0c58cc730562ce</td>\n",
       "      <td>NaN</td>\n",
       "      <td>0</td>\n",
       "      <td>2021</td>\n",
       "    </tr>\n",
       "    <tr>\n",
       "      <th>4</th>\n",
       "      <td>fef5f1f3a5b6681347d75525201b4ad2</td>\n",
       "      <td>4</td>\n",
       "      <td>34,85845</td>\n",
       "      <td>2021</td>\n",
       "    </tr>\n",
       "  </tbody>\n",
       "</table>\n",
       "</div>"
      ],
      "text/plain": [
       "                              Aluno Praticas      Nota   Ano\n",
       "0  322dc9c2578ab8e6e9148cc8aa13e852      NaN         0  2021\n",
       "1  ad229fb205bc55f579fb585d822e6a62        4     49,96  2021\n",
       "2  d0ca98e1af20d4bc4c471ae3c73c8ffd      NaN         0  2021\n",
       "3  c4d14e39372b7c44ba0c58cc730562ce      NaN         0  2021\n",
       "4  fef5f1f3a5b6681347d75525201b4ad2        4  34,85845  2021"
      ]
     },
     "execution_count": 7,
     "metadata": {},
     "output_type": "execute_result"
    }
   ],
   "source": [
    "df_alunos = pd.read_csv('notas_pds1.csv',delimiter=',',header='infer')\n",
    "df_alunos.head()"
   ]
  },
  {
   "cell_type": "markdown",
   "metadata": {},
   "source": [
    "Verifique se há valores faltantes com a função `info()`."
   ]
  },
  {
   "cell_type": "code",
   "execution_count": null,
   "metadata": {},
   "outputs": [],
   "source": [
    "#Seu código aqui:\n"
   ]
  },
  {
   "cell_type": "markdown",
   "metadata": {},
   "source": [
    "Troque os valores nulos por `0`."
   ]
  },
  {
   "cell_type": "code",
   "execution_count": null,
   "metadata": {},
   "outputs": [],
   "source": [
    "#Seu código aqui:"
   ]
  },
  {
   "cell_type": "markdown",
   "metadata": {},
   "source": [
    "Os valores das colunas `Aluno`, `Praticas` e `Nota` estão com o tipo `object` e também com o caractere `,` separando a parte inteira da parte decimal. Substitua as `,` por `.` usando a função `str.replace` do `Pandas` e, depois, use a função `astype(float)` para converter os tipos para `float`."
   ]
  },
  {
   "cell_type": "code",
   "execution_count": null,
   "metadata": {},
   "outputs": [],
   "source": [
    "#Seu código aqui:"
   ]
  },
  {
   "cell_type": "markdown",
   "metadata": {},
   "source": [
    "Calcule a correção entre a coluna `Praticas` e `Nota` usando a função `corr` do Pandas."
   ]
  },
  {
   "cell_type": "code",
   "execution_count": null,
   "metadata": {},
   "outputs": [],
   "source": [
    "#Seu código aqui:"
   ]
  },
  {
   "cell_type": "markdown",
   "metadata": {},
   "source": [
    "Por fim, encontre as colunas que correspondem aos alunos que fizeram a disciplina em 2020 e também em 2021. Use a expressão `idx_ano = df[\"coluna\"] == ano` para encontrar esses índices. Depois, calcule a correção nesses anos."
   ]
  },
  {
   "cell_type": "code",
   "execution_count": null,
   "metadata": {},
   "outputs": [],
   "source": [
    "#Seu código aqui:\n",
    "\n"
   ]
  },
  {
   "cell_type": "markdown",
   "metadata": {},
   "source": [
    "Como exercício final, remova todos os alunos desistentes e calcule as correlações novamente. Os alunos desistentes são aqueles que ficaram com `Nota` menor que `1`. Para isso, use a função `drop` do Pandas."
   ]
  },
  {
   "cell_type": "code",
   "execution_count": null,
   "metadata": {},
   "outputs": [],
   "source": [
    "#Seu código aqui:"
   ]
  }
 ],
 "metadata": {
  "kernelspec": {
   "display_name": "Python 3.8.8 ('base')",
   "language": "python",
   "name": "python3"
  },
  "language_info": {
   "codemirror_mode": {
    "name": "ipython",
    "version": 3
   },
   "file_extension": ".py",
   "mimetype": "text/x-python",
   "name": "python",
   "nbconvert_exporter": "python",
   "pygments_lexer": "ipython3",
   "version": "3.8.8"
  },
  "vscode": {
   "interpreter": {
    "hash": "190605ead3d59fdd7149d57090309db6515571225da4d448ac9f06d043bf74ec"
   }
  }
 },
 "nbformat": 4,
 "nbformat_minor": 2
}
