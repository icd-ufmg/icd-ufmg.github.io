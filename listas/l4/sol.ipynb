{
 "cells": [
  {
   "cell_type": "code",
   "execution_count": null,
   "metadata": {
    "colab": {
     "base_uri": "https://localhost:8080/",
     "height": 552
    },
    "id": "VF6HWP1vQmHl",
    "outputId": "a6bb6623-a5ab-49a4-b1d6-7e5504359959"
   },
   "outputs": [],
   "source": [
    "import matplotlib.pyplot as plt\n",
    "\n",
    "import numpy as np\n",
    "import seaborn as sns\n",
    "import scipy.stats as ss\n",
    "\n",
    "\n",
    "np.random.seed(30091985)\n",
    "\n",
    "plt.rcParams[\"figure.figsize\"] = (10, 8)\n",
    "plt.ion();"
   ]
  },
  {
   "cell_type": "markdown",
   "metadata": {
    "id": "AumlbrSa9B6-"
   },
   "source": [
    "# Lista 4 - ICs e Bootstrap"
   ]
  },
  {
   "cell_type": "markdown",
   "metadata": {
    "id": "9kanULcm6e_P"
   },
   "source": [
    "## Intervalos de Confiança"
   ]
  },
  {
   "cell_type": "markdown",
   "metadata": {
    "id": "ZwWt4tZ9KyJW"
   },
   "source": [
    "Intervalos de confiança são intervalos calculados a partir de observações que podem variar de amostra para amostra e que com dada frequência (nível de confiança) inclui o parâmetro de interesse real não observável. \n",
    "\n",
    "**Por exemplo:** Um intervalo com nível de confiança de 99% para a média de uma variável aleatória significa que ao calcularmos *n* intervalos de confiança tomando como base *n* amostras aleatórias, espera-se que 99% dos intervalos construídos contenham o valor real do parâmetro (média).\n",
    "\n",
    "Em outras palavras, o nível de confiança seria a proporção de intervalos de confiança construídos em experimentos separados da mesma população e com o mesmo procedimento que contém o parâmetro de interesse real."
   ]
  },
  {
   "cell_type": "markdown",
   "metadata": {
    "id": "UJNKIoa66qWP"
   },
   "source": [
    "Foram ministradas duas maneiras de construírmos intervalos de confiança:\n",
    "\n",
    "- Probabilisticamente direto dos dados (Forma clássica).\n",
    "- Via sub-amostragem com reposição (*Bootstrap*)."
   ]
  },
  {
   "cell_type": "markdown",
   "metadata": {
    "id": "jnVjOUUzv_LJ"
   },
   "source": [
    "Para o primeiro caso, lembrando do conceito visto em aula, temos (para um IC com 95% de confiança):\n",
    "\n",
    "$$\\begin{align}\n",
    "0.95 = P(-z \\le Z \\le z)=P \\left(-1.96 \\le \\frac {\\bar X-\\mu}{\\sigma/\\sqrt{n}} \\le 1.96 \\right) = P \\left( \\bar X - 1.96 \\frac \\sigma {\\sqrt{n}} \\le \\mu \\le \\bar X + 1.96 \\frac \\sigma {\\sqrt{n}}\\right).\n",
    "\\end{align}$$"
   ]
  },
  {
   "cell_type": "markdown",
   "metadata": {
    "id": "KVA8KGEW8JhE"
   },
   "source": [
    "Vamos colocar na prática!"
   ]
  },
  {
   "cell_type": "markdown",
   "metadata": {
    "id": "nWTB0e1NtN1n"
   },
   "source": [
    "## Exemplo Inicial"
   ]
  },
  {
   "cell_type": "markdown",
   "metadata": {
    "id": "ZdiXKyXmQGoS"
   },
   "source": [
    "Vamos começar construindo um intervalo de confiança pra a média de uma distribuição Normal (Gaussiana) com média $\\mu = 0$ e variância $\\sigma² = 1$."
   ]
  },
  {
   "cell_type": "code",
   "execution_count": null,
   "metadata": {},
   "outputs": [],
   "source": [
    "def confidence_interval(loc, scale, alpha=0.99):\n",
    "    \"\"\"\n",
    "    Essa função cria uma distribuição Normal com base nos\n",
    "    parâmetros fornecidos e constrói um intervalo de confiança para sua média.\n",
    "\n",
    "    Parameters:\n",
    "    -----------\n",
    "    loc (float): Média da distribuição desejada.\n",
    "    scale (float): Desvio padrão da distribuição desejada.\n",
    "    alpha (float): Nível de confiança do intervalo. Deve ser um valor entre 0 e 1. Default = 0.99, o que corresponde a 99% de confiança.\n",
    "\n",
    "    Returns:\n",
    "    -----------\n",
    "    X (array): Dados gerados segundo uma distribuição Normal(0,1).\n",
    "    LI (float): Limite inferior do intervalo calculado.\n",
    "    LS (float): Limite superior do intervalo calculado.\n",
    "\n",
    "    \"\"\"\n",
    "\n",
    "    # Gerando amostra de uma Normal(média,std) de tamanho N\n",
    "    N = 1000\n",
    "    X = np.random.normal(loc=loc, scale=scale, size=N)\n",
    "\n",
    "    # Criando plot da amostra gerada\n",
    "    plt.xlabel('Valores', fontsize=12)\n",
    "    plt.ylabel('Frequências', fontsize=12)\n",
    "    plt.title('Histograma de amostra de uma Distribuição Normal(0,1)', fontsize=16)\n",
    "\n",
    "    plt.hist(X, color='#A3333D', alpha=0.9, rwidth=0.85, bins=15)\n",
    "    plt.show()\n",
    "\n",
    "    # Calculando intervalo de  95% de confiança para a média manualmente\n",
    "    LI = X.mean() - 1.96 * (X.std(ddof=1) / np.sqrt(N)) # LI = limite inferior\n",
    "    LS = X.mean() + 1.96 * (X.std(ddof=1) / np.sqrt(N)) # LS = limite superior\n",
    "    print(\"INTERVALO DE CONFIANCA (manual) = [{:.4f}, {:.4f}]\".format(LI, LS))\n",
    "\n",
    "    # Utilizando o valor da confiança como base, utilizamos o pacote scipy.stats\n",
    "    LI = X.mean() - ss.norm.ppf(alpha+(1-alpha)/2).round(2) * (X.std(ddof=1) / np.sqrt(N))\n",
    "    LS = X.mean() + ss.norm.ppf(alpha+(1-alpha)/2).round(2) * (X.std(ddof=1) / np.sqrt(N))\n",
    "\n",
    "    # Printando intervalo de confiança\n",
    "    print(\"INTERVALO DE CONFIANCA (com scipy)= [{:.4f}, {:.4f}]\".format(LI, LS))\n",
    "\n",
    "    return X, LI, LS\n",
    "\n",
    "X, LI, LS = confidence_interval(loc=0, scale=1, alpha=0.95)"
   ]
  },
  {
   "cell_type": "markdown",
   "metadata": {
    "id": "Ob__-W20QGlU"
   },
   "source": [
    "Podemos afirmar que, se pudermos repetir muitas vezes o experimento e coletarmos os dados, aproximadamente em 95% das vezes a média populacional estará no intervalo encontrado.\n",
    "\n",
    "**Algumas observações interessantes. Note que:**\n",
    "- A cada vez que executamos o código acima, tanto os intervalos como o histograma dos dados são diferentes. Estamos realizando uma amostra de uma distribuição.\n",
    "- A medida que o tamanho da amostra (N) cresce, o tamanho do intervalo - para um mesmo nível de confiança - cai. Isso ocorre pois com mais dados temos uma maior certeza de que os valores encontrados de fato representam a população de interesse.\n",
    "- Os valores dos intervalos de confiança (manual e scipy) só coincidem quando *alpha=0.95*. Essa é a vantagem de se utilizar o pacote. Para valores diferentes de 0.95, deve-se consultar o valor correspondente na distribuição Z."
   ]
  },
  {
   "cell_type": "markdown",
   "metadata": {
    "id": "DbPnGld79G4s"
   },
   "source": [
    "## Dados ENEM 2015."
   ]
  },
  {
   "cell_type": "markdown",
   "metadata": {
    "id": "-V5G53Xm7CDL"
   },
   "source": [
    "Nos exercícios dessa seção vamos trabalhar com os dados do [ENEM 2015](https://raw.githubusercontent.com/pedroharaujo/ICD_Docencia/master/enem2015.csv).\n",
    "\n",
    "Importando pandas e carregando dados."
   ]
  },
  {
   "cell_type": "code",
   "execution_count": null,
   "metadata": {
    "id": "yv4wKf8XKkqc"
   },
   "outputs": [],
   "source": [
    "import pandas as pd\n",
    "\n",
    "url = 'https://github.com/icd-ufmg/icd-ufmg.github.io/raw/master/listas/l4/enem2015.csv'\n",
    "data = pd.read_csv(url)"
   ]
  },
  {
   "cell_type": "markdown",
   "metadata": {
    "id": "Zuz-TU799Wm2"
   },
   "source": [
    "Primeiras visualizações do banco de dados do ENEM 2015."
   ]
  },
  {
   "cell_type": "code",
   "execution_count": null,
   "metadata": {
    "colab": {
     "base_uri": "https://localhost:8080/",
     "height": 204
    },
    "id": "CXXzJbG7Nb91",
    "outputId": "e4a5716c-4e52-437a-a332-7f4f557a482e"
   },
   "outputs": [],
   "source": [
    "data.head()"
   ]
  },
  {
   "cell_type": "code",
   "execution_count": null,
   "metadata": {
    "colab": {
     "base_uri": "https://localhost:8080/",
     "height": 297
    },
    "id": "toIeoUHsNjVd",
    "outputId": "dda9a0ac-c870-4bba-f9a5-fe34df8e5604"
   },
   "outputs": [],
   "source": [
    "data.describe()"
   ]
  },
  {
   "cell_type": "markdown",
   "metadata": {
    "id": "rGEHgaEBQGis"
   },
   "source": [
    "## Exercício 01"
   ]
  },
  {
   "cell_type": "markdown",
   "metadata": {
    "id": "SjLpnwC19vcV"
   },
   "source": [
    "Altere a função a baixo para retornar o intervalo de confiança para a média da variável 'NOTA_MEDIA_ESCOLA' para escolas com 'DEPENDENCIA_ADMINISTRATIVA' == Estadual.\n",
    "\n",
    "Nível de confiança: 99%\n",
    "\n",
    "**Lembrete**: será necessário aplicar os conhecimentos de pandas do módulo anterior para filtrar o DataFrame selecionando apenas os casos de interesse."
   ]
  },
  {
   "cell_type": "code",
   "execution_count": null,
   "metadata": {
    "id": "7nAXnIpk6tPr"
   },
   "outputs": [],
   "source": [
    "def CI(data):\n",
    "    return None\n",
    "# array = pegue os dados\n",
    "# CI(data)"
   ]
  },
  {
   "cell_type": "markdown",
   "metadata": {
    "id": "tpE-OB2A-eI5"
   },
   "source": [
    "Carregando os módulos de testes!"
   ]
  },
  {
   "cell_type": "code",
   "execution_count": null,
   "metadata": {
    "id": "Eynd-EnyNkuq"
   },
   "outputs": [],
   "source": [
    "from numpy.testing import assert_almost_equal\n",
    "from numpy.testing import assert_equal\n",
    "\n",
    "from numpy.testing import assert_array_almost_equal\n",
    "from numpy.testing import assert_array_equal"
   ]
  },
  {
   "cell_type": "markdown",
   "metadata": {
    "id": "7GjnqG_DRRX2"
   },
   "source": [
    "Nosso teste"
   ]
  },
  {
   "cell_type": "code",
   "execution_count": null,
   "metadata": {
    "id": "fB3QNl7iRRX2"
   },
   "outputs": [],
   "source": [
    "(LI, LS) = CI(data)\n",
    "\n",
    "assert_equal(548.48, LI.round(2))\n",
    "assert_equal(550.74, LS.round(2))"
   ]
  },
  {
   "cell_type": "markdown",
   "metadata": {
    "id": "ZoqeIRs6tAeJ"
   },
   "source": [
    "## Exercício 02 (Sem correção automática)"
   ]
  },
  {
   "cell_type": "markdown",
   "metadata": {
    "id": "AoNoA0HQzGI9"
   },
   "source": [
    "Plote uma CDF da coluna 'TAXA_DE_APROVACAO'.\n",
    "\n",
    "**Use o statsmodels e crie um objeto `ecdf = ECDF(...)`.**\n",
    "\n",
    "\n",
    "Esta tarefa não tem correção automática, use o gráfico abaixo para saber se acertou ou não.\n",
    "\n",
    "![](https://github.com/pedroharaujo/ICD_Docencia/blob/master/ECDF.png?raw=true)"
   ]
  },
  {
   "cell_type": "code",
   "execution_count": null,
   "metadata": {
    "colab": {
     "base_uri": "https://localhost:8080/"
    },
    "id": "6bGem0S0zOb2",
    "outputId": "0ba42a39-b009-4111-fbb4-1c0f38595318"
   },
   "outputs": [],
   "source": [
    "\n",
    "# codigo para importar a função ECDF\n",
    "from statsmodels.distributions.empirical_distribution import ECDF"
   ]
  },
  {
   "cell_type": "code",
   "execution_count": null,
   "metadata": {
    "id": "QWq52qQp2u3A"
   },
   "outputs": [],
   "source": [
    "# YOUR CODE HERE"
   ]
  },
  {
   "cell_type": "markdown",
   "metadata": {
    "id": "FLwdrfiTCqo9"
   },
   "source": [
    "## Bootstrap"
   ]
  },
  {
   "cell_type": "markdown",
   "metadata": {
    "id": "6VmU_-Q2qAmo"
   },
   "source": [
    "Quando falamos em bootstrap deve-se ter em mente que estamos falando de amostragem com reposição.\n",
    "\n",
    "De maneira simplista, utilizamos bootstrap quando queremos construir um intervalo de confiança para uma variável e dispomos de poucos dados. Ao realizarmos várias sub-amostras **com reposição**, a lei dos grandes números nos garante que estamos aproximando a população de interesse.\n",
    "\n",
    "Note o destaque para o termo com reposição. É CRUCIAL que as sub-amostras sejam feitas com reposição. Só assim garantimos a aleatoriedade!\n",
    "\n",
    "Veja o exemplo abaixo."
   ]
  },
  {
   "cell_type": "code",
   "execution_count": null,
   "metadata": {
    "colab": {
     "base_uri": "https://localhost:8080/"
    },
    "id": "HusB0hXVAXHD",
    "outputId": "2e9ec89d-b2e8-43dd-c9cc-877c0495e85a"
   },
   "outputs": [],
   "source": [
    "col = 'TAXA_DE_PARTICIPACAO'\n",
    "n_sub = 10000 #numero de sub-amostras\n",
    "size = len(data) #tamanho do dataframe\n",
    "values = np.zeros(n_sub)\n",
    "\n",
    "def bootstrap(n_sub, size, col):\n",
    "    for i in range(n_sub):\n",
    "        sample = data.sample(size, replace=True) \n",
    "\n",
    "        # Lembre que podemos utilizar mediana, média ou qualquer outra estatística agregada\n",
    "        # values[i] = sample[col].median()\n",
    "        values[i] = sample[col].mean()\n",
    "  \n",
    "    # Gerando valores inferior e superior para um nível de confiança de 95%\n",
    "    LI = np.percentile(values, 2.5)\n",
    "    LS = np.percentile(values, 97.5)\n",
    "    return values, LI, LS\n",
    "\n",
    "values, LI, LS = bootstrap(n_sub, size, col)\n",
    "print('Intervalo de Confianca: [{}, {}]'.format(LI.round(4), LS.round(4)))"
   ]
  },
  {
   "cell_type": "markdown",
   "metadata": {
    "id": "Nh2ftLwCuA-0"
   },
   "source": [
    "## Exercício 03"
   ]
  },
  {
   "cell_type": "markdown",
   "metadata": {
    "id": "snm4iPdYtf-l"
   },
   "source": [
    "Realizando um groupy pela coluna 'DEPENDENCIA_ADMINISTRATIVA' conseguimos observar para quais casos vale a pena utilizarmos bootstrap."
   ]
  },
  {
   "cell_type": "code",
   "execution_count": null,
   "metadata": {
    "colab": {
     "base_uri": "https://localhost:8080/",
     "height": 204
    },
    "id": "lecmZMWcpIkl",
    "outputId": "5e546fa4-e777-49f9-f682-e4359b76f155"
   },
   "outputs": [],
   "source": [
    "data.groupby('DEPENDENCIA_ADMINISTRATIVA').count()"
   ]
  },
  {
   "cell_type": "markdown",
   "metadata": {
    "id": "cMQteG5et_wj"
   },
   "source": [
    "**A)** Intervalos de confiança exatos são úteis quando temos pelo menos uns 50 pontos. Na função abaixo, retorne o número da opção que indica para quais 'DEPENDENCIAS_ADMINISTRATIVAS' é aconselhado utilizar Bootstrap para construção do intervalo de confiança:\n",
    "\n",
    "- 1) Estadual e Federal.\n",
    "- 2) Estadual e Municipal.\n",
    "- 3) Estadual e Privada.\n",
    "- 4) Federal e Municipal.\n",
    "- 5) Federal e Privada.\n",
    "- 6) Municipal e Privada."
   ]
  },
  {
   "cell_type": "code",
   "execution_count": null,
   "metadata": {
    "id": "VKRjH8ZxpPdv"
   },
   "outputs": [],
   "source": [
    "def resposta():\n",
    "    # Escolha uma das opções acima\n",
    "    # return 1 ou 2 ou 3 ou 4 ou 5 ou 6\n",
    "    # Escreva sua resposta abaixo:\n",
    "    # YOUR CODE HERE\n",
    "    return None"
   ]
  },
  {
   "cell_type": "markdown",
   "metadata": {
    "id": "Yfd0Qm3xw4wL"
   },
   "source": [
    "**B)** Construa um intervalo de confiança via Bootstrap para a média da variável 'NOTA_MEDIA_ESCOLA' para escolas de 'DEPENDENCIA_ADMINISTRATIVA' **Federal**. Você deve utilizar 5000 amostras e nível de confiança de 90%."
   ]
  },
  {
   "cell_type": "code",
   "execution_count": null,
   "metadata": {
    "id": "eHLyqTxd0u6g"
   },
   "outputs": [],
   "source": [
    "def bootstrap_mean(n_sub, alpha):\n",
    "    # Retorne um vetor com os valores obtidos.\n",
    "    # Retorne tambem uma tupla com os limites inferiores e superiores do IC construído.\n",
    "    # Exemplo:\n",
    "    # return values, (LI, LS)\n",
    "    return None"
   ]
  },
  {
   "cell_type": "code",
   "execution_count": null,
   "metadata": {
    "id": "-C0BkpeW1QlF"
   },
   "outputs": [],
   "source": [
    "values, (LI, LS) = bootstrap_mean(n_sub=5000, alpha=0.9)\n",
    "assert_almost_equal(71.0697, LI, 2)\n",
    "assert_almost_equal(79.4893, LS, 2)"
   ]
  },
  {
   "cell_type": "markdown",
   "metadata": {
    "id": "jQltzed7WC_7"
   },
   "source": [
    "## Exercício 4"
   ]
  },
  {
   "cell_type": "markdown",
   "metadata": {
    "id": "qZq7arokWPb4"
   },
   "source": [
    "Altere a função abaixo para que retorne a 'DEPENDENCIA_ADMINISTRATIVA' (Federal, Estadual, Municipal ou Privada) cujo intervalo de confiança para *mediana* via *bootstrap* para a variável 'TAXA_DE_PARTICIPACAO' apresente maior amplitude (LS-LI), e qual esse valor. \n",
    "\n",
    "Utilize:\n",
    "- 95% como nível de confiança.\n",
    "- 5000 como número de sub-amostras."
   ]
  },
  {
   "cell_type": "code",
   "execution_count": null,
   "metadata": {
    "id": "Ztgw_idYZnQ3"
   },
   "outputs": [],
   "source": [
    "def ci_amplitude():\n",
    "    # Sua função deve retorar uma tupla como no exemplo\n",
    "    # exemplo: (dependencia_administrativa, amplitude_do_ic)\n",
    "    return None"
   ]
  },
  {
   "cell_type": "code",
   "execution_count": null,
   "metadata": {
    "id": "iSM60rO4ZEPs"
   },
   "outputs": [],
   "source": [
    "(dep, amp) = ci_amplitude()\n",
    "assert_equal(dep, 'Federal')\n",
    "assert_almost_equal(amp, 2.1116, 2)"
   ]
  }
 ],
 "metadata": {
  "colab": {
   "collapsed_sections": [
    "9kanULcm6e_P",
    "nWTB0e1NtN1n",
    "DbPnGld79G4s",
    "ZoqeIRs6tAeJ",
    "FLwdrfiTCqo9"
   ],
   "name": "sol.ipynb",
   "provenance": []
  },
  "kernelspec": {
   "display_name": "Python 3 (ipykernel)",
   "language": "python",
   "name": "python3"
  },
  "language_info": {
   "codemirror_mode": {
    "name": "ipython",
    "version": 3
   },
   "file_extension": ".py",
   "mimetype": "text/x-python",
   "name": "python",
   "nbconvert_exporter": "python",
   "pygments_lexer": "ipython3",
   "version": "3.11.3"
  }
 },
 "nbformat": 4,
 "nbformat_minor": 1
}
