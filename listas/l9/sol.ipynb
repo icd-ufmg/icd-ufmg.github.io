{
 "cells": [
  {
   "cell_type": "markdown",
   "metadata": {
    "id": "dCWDs0khJw43"
   },
   "source": [
    "# Lista 9 - Gradiente Descendente (*Gradient Descent*)"
   ]
  },
  {
   "cell_type": "markdown",
   "metadata": {
    "id": "k4Z5no8oKMi3"
   },
   "source": [
    "## Introdução"
   ]
  },
  {
   "cell_type": "code",
   "execution_count": null,
   "metadata": {
    "id": "mhz4euI53B1l"
   },
   "outputs": [],
   "source": [
    "# -*- coding: utf8\n",
    "\n",
    "from scipy import stats as ss\n",
    "\n",
    "import matplotlib.pyplot as plt\n",
    "from numpy.testing import assert_equal\n",
    "import numpy as np\n",
    "import pandas as pd\n",
    "import seaborn as sns\n",
    "\n",
    "plt.rcParams['figure.figsize']  = (18, 10)\n",
    "plt.rcParams['axes.labelsize']  = 20\n",
    "plt.rcParams['axes.titlesize']  = 20\n",
    "plt.rcParams['legend.fontsize'] = 20\n",
    "plt.rcParams['xtick.labelsize'] = 20\n",
    "plt.rcParams['ytick.labelsize'] = 20\n",
    "plt.rcParams['lines.linewidth'] = 4"
   ]
  },
  {
   "cell_type": "code",
   "execution_count": null,
   "metadata": {
    "id": "gKKH1y5O3B1q"
   },
   "outputs": [],
   "source": [
    "plt.ion()\n",
    "plt.style.use('tableau-colorblind10')\n",
    "plt.rcParams['figure.figsize']  = (12, 8)"
   ]
  },
  {
   "cell_type": "code",
   "execution_count": null,
   "metadata": {
    "id": "HIZWc5883B1r"
   },
   "outputs": [],
   "source": [
    "def despine(ax=None):\n",
    "    if ax is None:\n",
    "        ax = plt.gca()\n",
    "    # Hide the right and top spines\n",
    "    ax.spines['right'].set_visible(False)\n",
    "    ax.spines['top'].set_visible(False)\n",
    "\n",
    "    # Only show ticks on the left and bottom spines\n",
    "    ax.yaxis.set_ticks_position('left')\n",
    "    ax.xaxis.set_ticks_position('bottom')"
   ]
  },
  {
   "cell_type": "markdown",
   "metadata": {
    "id": "YAk-TXGT3B1t"
   },
   "source": [
    "Ao fazer ciência de dados é comum se deparar com casos onde buscamos um melhor modelo. Diferente dos testes de hipóteses, onde buscamos a chance dos nossos dados em um modelo. Aqui, estamos tentando encontrar o melhor modelo para uma determinada situação. Geralmente \"melhor\" significará algo como \"minimiza o erro do modelo\" ou \"maximiza a verossimilhaça dos dados\". \n",
    "\n",
    "Para casos simples, como na regressão linear, é possível achar o melhor modelo usando cálculo. Porém, em casos particulares, precisamos achar tal modelo na marra. Nossa abordagem será uma técnica chamada gradiente descendente, que funciona muito bem para diferentes cenário. Gradiente descendente é a base da maioria dos __frameworks__ de aprendizado de máquina. Você pode não achar isso super excitante por si só, mas ao combinar gradiente descendente com modelos complexos temos a fórmula do sucesso de aprendizando hoje em dia."
   ]
  },
  {
   "cell_type": "markdown",
   "metadata": {
    "id": "AhjVnRPBKU04"
   },
   "source": [
    "## A ideia por trás do gradiente descendente"
   ]
  },
  {
   "cell_type": "markdown",
   "metadata": {
    "id": "DU33ugXnKRo-"
   },
   "source": [
    "Vamos focar no caso de regressão linear com dados z-normalizados. Aqui, temos um modelo muito simples:\n",
    "\n",
    "$$y_i = \\beta x_i + \\epsilon_i$$\n",
    "\n",
    "Sabemos tratar o mesmo de um ponto de vista de mínimos quadrados como também de máxima verossimilhança. Vamos explorar uma base onde queremos prever o comprimento dos narizes de Kangaroos. Para isto vamos usar uma feature fantástica, a largura do nariz do Canguru."
   ]
  },
  {
   "cell_type": "code",
   "execution_count": null,
   "metadata": {
    "colab": {
     "base_uri": "https://localhost:8080/"
    },
    "executionInfo": {
     "elapsed": 14,
     "status": "ok",
     "timestamp": 1627418907020,
     "user": {
      "displayName": "Pedro H. Araujo",
      "photoUrl": "https://lh3.googleusercontent.com/a-/AOh14GhzCZOTGJByptF1pKyyjaN5tpLs48lYpt_Rze_RFA=s64",
      "userId": "10251972540170667362"
     },
     "user_tz": 180
    },
    "id": "Ps56CPEA3B1v",
    "outputId": "0d477697-21d5-48ae-b13b-7f49a14849d4"
   },
   "outputs": [],
   "source": [
    "df = pd.read_csv('https://raw.githubusercontent.com/pedroharaujo/ICD_Docencia/master/gray-kangaroos.csv', names=['comprimento', 'largura'], header=0)\n",
    "df.head()"
   ]
  },
  {
   "cell_type": "markdown",
   "metadata": {
    "id": "5smUXbQZ3B1x"
   },
   "source": [
    "Abaixo temos o modelo."
   ]
  },
  {
   "cell_type": "code",
   "execution_count": null,
   "metadata": {
    "colab": {
     "base_uri": "https://localhost:8080/"
    },
    "executionInfo": {
     "elapsed": 5693,
     "status": "ok",
     "timestamp": 1627418912701,
     "user": {
      "displayName": "Pedro H. Araujo",
      "photoUrl": "https://lh3.googleusercontent.com/a-/AOh14GhzCZOTGJByptF1pKyyjaN5tpLs48lYpt_Rze_RFA=s64",
      "userId": "10251972540170667362"
     },
     "user_tz": 180
    },
    "id": "2JHzN_Lg3B1y",
    "outputId": "f40ed75f-30b9-41b0-b504-108e64c28f02"
   },
   "outputs": [],
   "source": [
    "sns.regplot(x='largura', y='comprimento', data=df, n_boot=10000,\n",
    "            line_kws={'color':'magenta', 'lw':4},\n",
    "            scatter_kws={'edgecolor':'k', 's':80, 'alpha':0.8})\n",
    "despine()"
   ]
  },
  {
   "cell_type": "markdown",
   "metadata": {
    "id": "NL4Iuvdw3B1z"
   },
   "source": [
    "Z-normalizando temos:"
   ]
  },
  {
   "cell_type": "code",
   "execution_count": null,
   "metadata": {
    "colab": {
     "base_uri": "https://localhost:8080/"
    },
    "executionInfo": {
     "elapsed": 68,
     "status": "ok",
     "timestamp": 1627418912702,
     "user": {
      "displayName": "Pedro H. Araujo",
      "photoUrl": "https://lh3.googleusercontent.com/a-/AOh14GhzCZOTGJByptF1pKyyjaN5tpLs48lYpt_Rze_RFA=s64",
      "userId": "10251972540170667362"
     },
     "user_tz": 180
    },
    "id": "hSXTEN3Z3B10",
    "outputId": "85bf1608-b099-4292-e259-40a3815dba61"
   },
   "outputs": [],
   "source": [
    "df -= df.mean()\n",
    "df /= df.std(ddof=1)\n",
    "sns.regplot(x='largura', y='comprimento', data=df, n_boot=10000,\n",
    "            line_kws={'color':'magenta', 'lw':4},\n",
    "            scatter_kws={'edgecolor':'k', 's':80, 'alpha':0.8})\n",
    "despine()"
   ]
  },
  {
   "cell_type": "markdown",
   "metadata": {
    "id": "fD-kSWFT3B11"
   },
   "source": [
    "Por fim, a regressão. Note o intercepto igual a 0."
   ]
  },
  {
   "cell_type": "code",
   "execution_count": null,
   "metadata": {
    "colab": {
     "base_uri": "https://localhost:8080/"
    },
    "executionInfo": {
     "elapsed": 66,
     "status": "ok",
     "timestamp": 1627418912703,
     "user": {
      "displayName": "Pedro H. Araujo",
      "photoUrl": "https://lh3.googleusercontent.com/a-/AOh14GhzCZOTGJByptF1pKyyjaN5tpLs48lYpt_Rze_RFA=s64",
      "userId": "10251972540170667362"
     },
     "user_tz": 180
    },
    "id": "KoFRrqCf3B11",
    "outputId": "2efe6ea9-d8fc-4ec6-9070-f0ec0932f7eb"
   },
   "outputs": [],
   "source": [
    "y = df['comprimento']\n",
    "x = df['largura']\n",
    "ss.linregress(x, y)"
   ]
  },
  {
   "cell_type": "markdown",
   "metadata": {
    "id": "x0MXge373B11"
   },
   "source": [
    "Abaixo temos um plot com a soma dos erros ao quadrado que é utilizado para chegar na reta. Lembre-se das aulas anteriores. Chegamos no resultado acima usando cálculo, isto é, setamos as derivadas para zero. Uma outra abordagem para minimizar o erro é escolher um ponto de partida aleatório. Deste, calculamos o gradiente (derivadas). Depois, damos um pequeno passo na oposta do gradiente.\n",
    "\n",
    "Inicialmente, observe como o erro é para um ponto. Lembrando que estamos trabalhando com uma função de erros quadrado. Diferente das aulas anteriores, ao invés de somar a mesma vamos tirar a média. Como o número de pontos, $n$, é uma constante, não afeta nossos algoritmos. Ao setar a derivada para zero o n some. De qualquer forma, pode ajudar os nossos algoritmos (evitar overflow).\n",
    "\n",
    "$L(\\beta) = n^{-1} \\sum_i (y_i - \\beta x_i)^2$"
   ]
  },
  {
   "cell_type": "code",
   "execution_count": null,
   "metadata": {
    "colab": {
     "base_uri": "https://localhost:8080/"
    },
    "executionInfo": {
     "elapsed": 62,
     "status": "ok",
     "timestamp": 1627418912704,
     "user": {
      "displayName": "Pedro H. Araujo",
      "photoUrl": "https://lh3.googleusercontent.com/a-/AOh14GhzCZOTGJByptF1pKyyjaN5tpLs48lYpt_Rze_RFA=s64",
      "userId": "10251972540170667362"
     },
     "user_tz": 180
    },
    "id": "FEwAKVHE3B12",
    "outputId": "71e5f5ec-b07f-4fec-b485-0ba71e54f642"
   },
   "outputs": [],
   "source": [
    "betas = np.linspace(0.1, 16, 100)\n",
    "errs = np.zeros_like(betas)\n",
    "for j in range(len(betas)):\n",
    "    err = ((y[0] - betas[j] * x[0]) ** 2).mean()\n",
    "    errs[j] = err\n",
    "plt.plot(betas, errs, label='L(beta)')\n",
    "plt.xlabel(r'$\\beta$')\n",
    "plt.title(r'Erro para um ponto: x = {:.2f}, y = {:.2f}'.format(x[2], y[2]))\n",
    "plt.ylabel(r'$(y_i - \\beta x_i)^2$')\n",
    "plt.grid()\n",
    "despine()"
   ]
  },
  {
   "cell_type": "markdown",
   "metadata": {
    "id": "wfCMf9Xy3B13"
   },
   "source": [
    "A soma de duas funções convexas é convexa. Então, a soma do erro quadrado nos pontos tamém é convexa."
   ]
  },
  {
   "cell_type": "code",
   "execution_count": null,
   "metadata": {
    "colab": {
     "base_uri": "https://localhost:8080/"
    },
    "executionInfo": {
     "elapsed": 60,
     "status": "ok",
     "timestamp": 1627418912705,
     "user": {
      "displayName": "Pedro H. Araujo",
      "photoUrl": "https://lh3.googleusercontent.com/a-/AOh14GhzCZOTGJByptF1pKyyjaN5tpLs48lYpt_Rze_RFA=s64",
      "userId": "10251972540170667362"
     },
     "user_tz": 180
    },
    "id": "pOfrI0Xe3B13",
    "outputId": "09f34e6c-f810-4832-b2d0-b5a45809b841"
   },
   "outputs": [],
   "source": [
    "betas = np.linspace(0.1, 1.7, 100)\n",
    "errs = np.zeros_like(betas)\n",
    "grads = np.zeros_like(betas)\n",
    "for j in range(len(betas)):\n",
    "    err = ((y - betas[j] * x) ** 2).mean()\n",
    "    grads[j] = (-2 * (y - betas[j] * x) * x).mean()\n",
    "    errs[j] = err\n",
    "plt.plot(betas, errs, label='L(beta)')\n",
    "# plt.plot(betas, grads, label='L\\'(beta)')\n",
    "plt.xlabel(r'$\\beta$')\n",
    "plt.title(r'Erro na soma para todos os pontos')\n",
    "plt.ylabel(r'$\\sum_i(y_i - \\beta x_i)^2$')\n",
    "plt.legend()\n",
    "plt.grid()\n",
    "despine()"
   ]
  },
  {
   "cell_type": "markdown",
   "metadata": {
    "id": "hdN34iUB3B14"
   },
   "source": [
    "Observe que essa função possui um ponto de mínimo quando $\\beta \\approx 0.9$.  Observe que o gradiente, ou a derivada, é negativa quando estamos do lado esquero do mínimo. É positiva do lado direto e zero no valor ótimo. Então, a partir de um local inicial o sinal da derivada, na verdade o oposto do sinal como estamos minimizando, indica a direção que devemos ir."
   ]
  },
  {
   "cell_type": "code",
   "execution_count": null,
   "metadata": {
    "colab": {
     "base_uri": "https://localhost:8080/"
    },
    "executionInfo": {
     "elapsed": 57,
     "status": "ok",
     "timestamp": 1627418912705,
     "user": {
      "displayName": "Pedro H. Araujo",
      "photoUrl": "https://lh3.googleusercontent.com/a-/AOh14GhzCZOTGJByptF1pKyyjaN5tpLs48lYpt_Rze_RFA=s64",
      "userId": "10251972540170667362"
     },
     "user_tz": 180
    },
    "id": "rs_MmLPf3B15",
    "outputId": "3fcf79d4-6323-4e95-928c-3a15612487d0"
   },
   "outputs": [],
   "source": [
    "plt.plot(betas, errs, label='L(beta)')\n",
    "plt.plot(betas, grads, label='L\\'(beta)')\n",
    "plt.xlabel(r'$\\beta$')\n",
    "plt.title(r'Erro na soma para todos os pontos')\n",
    "plt.ylabel(r'$\\sum_i(y_i - \\beta x_i)^2$')\n",
    "plt.legend()\n",
    "plt.grid()\n",
    "despine()"
   ]
  },
  {
   "cell_type": "markdown",
   "metadata": {
    "id": "cxnVEjveJ4AP"
   },
   "source": [
    "## Gradiente Descendente"
   ]
  },
  {
   "cell_type": "markdown",
   "metadata": {
    "id": "Tc1OYw3Y3B17"
   },
   "source": [
    "Com o conhecimento acima temos a base do Gradiente Descendente. Iniciando de um local qualquer, $\\beta=2$. Vamos:\n",
    "\n",
    "1. Computar a derivada $\\frac{dL(\\beta)}{d\\beta}$\n",
    "1. Setar $\\beta = \\beta - \\lambda \\frac{dL(\\beta)}{d\\beta}$\n",
    "1. Repetir\n",
    "\n",
    "O valor de $\\lambda$ define nossa taxa de aprendizado. "
   ]
  },
  {
   "cell_type": "code",
   "execution_count": null,
   "metadata": {
    "id": "6XalOfOR3B17"
   },
   "outputs": [],
   "source": [
    "def ssq_znormed(x, y, beta):\n",
    "    return ((y - beta * x) ** 2).mean()"
   ]
  },
  {
   "cell_type": "code",
   "execution_count": null,
   "metadata": {
    "id": "SrHxdcfu3B17"
   },
   "outputs": [],
   "source": [
    "def grad_znormed(x, y, beta):\n",
    "    return (-2 * x * (y - beta * x)).mean()"
   ]
  },
  {
   "cell_type": "code",
   "execution_count": null,
   "metadata": {
    "colab": {
     "base_uri": "https://localhost:8080/"
    },
    "executionInfo": {
     "elapsed": 58,
     "status": "ok",
     "timestamp": 1627418912712,
     "user": {
      "displayName": "Pedro H. Araujo",
      "photoUrl": "https://lh3.googleusercontent.com/a-/AOh14GhzCZOTGJByptF1pKyyjaN5tpLs48lYpt_Rze_RFA=s64",
      "userId": "10251972540170667362"
     },
     "user_tz": 180
    },
    "id": "mkZGID5w3B18",
    "outputId": "25e204a3-656f-4c1c-c326-75e2700e122c"
   },
   "outputs": [],
   "source": [
    "beta = 2\n",
    "beta_passo = [beta]\n",
    "erros = []\n",
    "for _ in range(500):\n",
    "    err_sq = ssq_znormed(x, y, beta)\n",
    "    grad = grad_znormed(x, y, beta)\n",
    "    beta = beta - 0.01 * grad\n",
    "    beta_passo.append(beta)\n",
    "    erros.append(err_sq)\n",
    "plt.plot(beta_passo)\n",
    "plt.xlabel('Passo')\n",
    "plt.ylabel('Valor de Beta')\n",
    "despine()"
   ]
  },
  {
   "cell_type": "markdown",
   "metadata": {
    "id": "XJmlp4PL3B19"
   },
   "source": [
    "Observe os erros"
   ]
  },
  {
   "cell_type": "code",
   "execution_count": null,
   "metadata": {
    "colab": {
     "base_uri": "https://localhost:8080/"
    },
    "executionInfo": {
     "elapsed": 57,
     "status": "ok",
     "timestamp": 1627418912713,
     "user": {
      "displayName": "Pedro H. Araujo",
      "photoUrl": "https://lh3.googleusercontent.com/a-/AOh14GhzCZOTGJByptF1pKyyjaN5tpLs48lYpt_Rze_RFA=s64",
      "userId": "10251972540170667362"
     },
     "user_tz": 180
    },
    "id": "ywAc0-eD3B1-",
    "outputId": "f463edb8-8706-403d-fc18-9a873a82c616"
   },
   "outputs": [],
   "source": [
    "plt.plot(erros)\n",
    "plt.xlabel('Passo')\n",
    "plt.ylabel('Erro Sq')\n",
    "despine()"
   ]
  },
  {
   "cell_type": "markdown",
   "metadata": {
    "id": "JwlBZ4XVJ8Hn"
   },
   "source": [
    "## Gradiente Descendente Estocástico"
   ]
  },
  {
   "cell_type": "markdown",
   "metadata": {
    "id": "hb6-s4o13B1-"
   },
   "source": [
    "Muitas vezes usaremos o gradiente descendente para escolher os parâmetros de um modelo de maneira a minimizar alguma noção de erro. Usando a abordagem em lote anterior, cada etapa do método exige que façamos uma previsão e calculemos o gradiente para todo o conjunto de dados, o que faz com que cada etapa demore muito.\n",
    "\n",
    "Geralmente, essas funções de erro são *aditivas*, o que significa que o erro preditivo em todo o conjunto de dados é simplesmente a soma dos erros preditivos para cada ponto de dados.\n",
    "\n",
    "Quando este é o caso, podemos, em vez disso, aplicar uma técnica chamada gradiente descendente estocástico (ou *stochastic gradient descent*), que calcula o gradiente (e dá um passo) para apenas um ponto por vez. Ele passa sobre os dados repetidamente até atingir um ponto de parada.\n",
    "\n",
    "Durante cada ciclo, queremos iterar nossos dados em uma ordem aleatória:"
   ]
  },
  {
   "cell_type": "code",
   "execution_count": null,
   "metadata": {
    "colab": {
     "base_uri": "https://localhost:8080/"
    },
    "executionInfo": {
     "elapsed": 58,
     "status": "ok",
     "timestamp": 1627418912715,
     "user": {
      "displayName": "Pedro H. Araujo",
      "photoUrl": "https://lh3.googleusercontent.com/a-/AOh14GhzCZOTGJByptF1pKyyjaN5tpLs48lYpt_Rze_RFA=s64",
      "userId": "10251972540170667362"
     },
     "user_tz": 180
    },
    "id": "1tfiXndz3B1_",
    "outputId": "358f4d17-c6d2-4a39-c319-61cc3adf9c8f"
   },
   "outputs": [],
   "source": [
    "beta = 2\n",
    "beta_passo = [beta]\n",
    "erros = []\n",
    "for _ in range(1000):\n",
    "    i = np.random.randint(0, len(x))\n",
    "    x_i, y_i = x[i], y[i]\n",
    "    err_sq = ssq_znormed(x, y, beta) # esta linha ainda precisa ser em todos os pontos\n",
    "    grad = grad_znormed(x_i, y_i, beta)\n",
    "    beta = beta - 0.01 * grad\n",
    "    beta_passo.append(beta)\n",
    "    erros.append(err_sq)\n",
    "plt.plot(beta_passo)\n",
    "plt.xlabel('Passo')\n",
    "plt.ylabel('Valor de Beta')\n",
    "despine()"
   ]
  },
  {
   "cell_type": "markdown",
   "metadata": {
    "id": "5O0Kq_763B1_"
   },
   "source": [
    "Observe os erros"
   ]
  },
  {
   "cell_type": "code",
   "execution_count": null,
   "metadata": {
    "colab": {
     "base_uri": "https://localhost:8080/"
    },
    "executionInfo": {
     "elapsed": 1249,
     "status": "ok",
     "timestamp": 1627418913909,
     "user": {
      "displayName": "Pedro H. Araujo",
      "photoUrl": "https://lh3.googleusercontent.com/a-/AOh14GhzCZOTGJByptF1pKyyjaN5tpLs48lYpt_Rze_RFA=s64",
      "userId": "10251972540170667362"
     },
     "user_tz": 180
    },
    "id": "hAucO6ST3B1_",
    "outputId": "e7742042-4498-4c1d-9e53-3fda8d2fd3cd"
   },
   "outputs": [],
   "source": [
    "plt.plot(erros)\n",
    "plt.xlabel('Passo')\n",
    "plt.ylabel('Erro Sq')\n",
    "despine()"
   ]
  },
  {
   "cell_type": "markdown",
   "metadata": {
    "id": "6itRKu-eJ_KQ"
   },
   "source": [
    "## Escolhendo o tamanho certo do passo"
   ]
  },
  {
   "cell_type": "markdown",
   "metadata": {
    "id": "l_GOhq813B2A"
   },
   "source": [
    "Embora o raciocínio para se mover na direção oposta ao gradiente seja claro, até que ponto mover-se não é. De fato, escolher o tamanho certo do passo que devemos nos mover é mais uma arte do que uma ciência. Opções populares incluem:\n",
    "\n",
    "  Usar um tamanho de passo fixo;\n",
    "\n",
    "  Diminuir gradualmente o tamanho do passo ao longo do tempo;\n",
    "\n",
    "  Em cada etapa, escolha o tamanho do passo que minimiza o valor da função objetivo.\n",
    "\n",
    "O último parece ótimo, mas é, na prática, um cálculo caro. Podemos aproximá-lo tentando uma variedade de tamanhos de passo e escolhendo aquele que resulta no menor valor da função objetivo:"
   ]
  },
  {
   "cell_type": "markdown",
   "metadata": {
    "id": "Z5ci_wiZKBLk"
   },
   "source": [
    "## Caso Multivariado"
   ]
  },
  {
   "cell_type": "markdown",
   "metadata": {
    "id": "vpVx5dQR3B2A"
   },
   "source": [
    "Até agora estamos roubando um pouco ao normalizar os dados. Isto é, estamos forçando $\\alpha=0$ na equação abaixo:\n",
    "\n",
    "$$y_i = \\beta x_i + \\alpha$$\n",
    "\n",
    "Vamos voltar para os dados originais. Note que o resultado da regressão é outro. Em particular, o intercepto é 2.988. Queremos estimar o mesmo também."
   ]
  },
  {
   "cell_type": "code",
   "execution_count": null,
   "metadata": {
    "colab": {
     "base_uri": "https://localhost:8080/"
    },
    "executionInfo": {
     "elapsed": 30,
     "status": "ok",
     "timestamp": 1627418913910,
     "user": {
      "displayName": "Pedro H. Araujo",
      "photoUrl": "https://lh3.googleusercontent.com/a-/AOh14GhzCZOTGJByptF1pKyyjaN5tpLs48lYpt_Rze_RFA=s64",
      "userId": "10251972540170667362"
     },
     "user_tz": 180
    },
    "id": "u1lynhPz3B2B",
    "outputId": "0bfe07d1-a33c-4f65-a328-dc34ab9a251c"
   },
   "outputs": [],
   "source": [
    "# np.random.seed(2)\n",
    "x = np.random.normal(size=1000)\n",
    "y = 2 * x + np.random.normal(loc=3, size=1000)\n",
    "ss.linregress(x, y)"
   ]
  },
  {
   "cell_type": "code",
   "execution_count": null,
   "metadata": {
    "colab": {
     "base_uri": "https://localhost:8080/"
    },
    "executionInfo": {
     "elapsed": 24,
     "status": "ok",
     "timestamp": 1627418913911,
     "user": {
      "displayName": "Pedro H. Araujo",
      "photoUrl": "https://lh3.googleusercontent.com/a-/AOh14GhzCZOTGJByptF1pKyyjaN5tpLs48lYpt_Rze_RFA=s64",
      "userId": "10251972540170667362"
     },
     "user_tz": 180
    },
    "id": "IrXi8_ZU3B2C",
    "outputId": "5755b621-5487-479a-d93a-bbd5d7acea96"
   },
   "outputs": [],
   "source": [
    "plt.scatter(x, y, alpha=0.8, s=80, edgecolors='k')\n",
    "despine()"
   ]
  },
  {
   "cell_type": "markdown",
   "metadata": {
    "id": "VzqUg2xs3B2D"
   },
   "source": [
    "Abaixo tenho as derivadas:\n",
    "\n",
    "$$\\frac{dL}{d\\alpha} = n^{-1}\\sum_i 2 (-y_i + \\beta x_i + \\alpha)$$\n",
    "\n",
    "$$\\frac{d L}{d\\beta} =n^{-1} \\sum_i 2 (-y_i + \\beta x_i + \\alpha) x_i$$"
   ]
  },
  {
   "cell_type": "code",
   "execution_count": null,
   "metadata": {
    "id": "A3_1NLxO3B2E"
   },
   "outputs": [],
   "source": [
    "def derivadas_regressao(parametros, x, y):\n",
    "    alpha, beta = parametros\n",
    "    da = (-2 * y) + (2 * beta * x) + (2 * alpha)\n",
    "    db = (-2 * y * x) + (2 * beta * (x ** 2)) + (2 * alpha * x)\n",
    "    return np.array([da.mean(), db.mean()])"
   ]
  },
  {
   "cell_type": "markdown",
   "metadata": {
    "id": "bsk-PWMy3B2E"
   },
   "source": [
    "Um gradiente descendente simples vai parar de executar quando os parâmetros convergem. Aqui temos uma função mais organizada. A mesma recebe uma outra função de derivada."
   ]
  },
  {
   "cell_type": "code",
   "execution_count": null,
   "metadata": {
    "id": "pfBXgEg93B2F"
   },
   "outputs": [],
   "source": [
    "def gd(parametros, d_fun, x, y, lambda_=0.01):\n",
    "    parametros = parametros.copy()\n",
    "    for i in range(1000):\n",
    "        grad = d_fun(parametros, x, y)\n",
    "        parametros_novos = parametros - lambda_ * grad\n",
    "        if np.abs(parametros - parametros_novos).mean() <= 0.00001:\n",
    "            break\n",
    "        parametros = parametros_novos\n",
    "        print('Iter {}; alpha, beta = '.format(i), parametros)\n",
    "    return parametros"
   ]
  },
  {
   "cell_type": "markdown",
   "metadata": {
    "id": "lJTTkC8A3B2F"
   },
   "source": [
    "Resposta!"
   ]
  },
  {
   "cell_type": "code",
   "execution_count": null,
   "metadata": {
    "colab": {
     "base_uri": "https://localhost:8080/"
    },
    "executionInfo": {
     "elapsed": 22,
     "status": "ok",
     "timestamp": 1627418913913,
     "user": {
      "displayName": "Pedro H. Araujo",
      "photoUrl": "https://lh3.googleusercontent.com/a-/AOh14GhzCZOTGJByptF1pKyyjaN5tpLs48lYpt_Rze_RFA=s64",
      "userId": "10251972540170667362"
     },
     "user_tz": 180
    },
    "id": "jE1twThE3B2F",
    "outputId": "9b7ab3d3-1d6d-4da0-8790-1eedfbbd51a5"
   },
   "outputs": [],
   "source": [
    "parametros_iniciais = np.array([1, 1])\n",
    "gd(parametros_iniciais, derivadas_regressao, x, y)"
   ]
  },
  {
   "cell_type": "markdown",
   "metadata": {
    "id": "QcdNcZPd3B2G"
   },
   "source": [
    "Observe como alpha é o intercept e beta o slope da regressão com scipy"
   ]
  },
  {
   "cell_type": "code",
   "execution_count": null,
   "metadata": {
    "colab": {
     "base_uri": "https://localhost:8080/"
    },
    "executionInfo": {
     "elapsed": 19,
     "status": "ok",
     "timestamp": 1627418913914,
     "user": {
      "displayName": "Pedro H. Araujo",
      "photoUrl": "https://lh3.googleusercontent.com/a-/AOh14GhzCZOTGJByptF1pKyyjaN5tpLs48lYpt_Rze_RFA=s64",
      "userId": "10251972540170667362"
     },
     "user_tz": 180
    },
    "id": "-kDKqvx33B2G",
    "outputId": "65bbd45f-e9b6-4460-a116-5936f67f7e67"
   },
   "outputs": [],
   "source": [
    "ss.linregress(x, y)"
   ]
  },
  {
   "cell_type": "markdown",
   "metadata": {
    "id": "5GBFChGkKaqm"
   },
   "source": [
    "## Gradiente Ascendente"
   ]
  },
  {
   "cell_type": "markdown",
   "metadata": {
    "id": "cNi3d5s_3B2H"
   },
   "source": [
    "Vamos agora chegar no mesmo resultado usando Gradiente Ascendente. Em particular, ainda vamos nos manter em uma regressão linear. Porém, queremos maximizar a log-verossimilhança. Da aula anterior, nosso modelo é:\n",
    "\n",
    "$$y_i = \\beta x_i + \\alpha + \\epsilon_i $$\n",
    "$$\\epsilon_i = y_i - \\beta x_i - \\alpha $$\n",
    "$$\\epsilon_i \\sim Normal(0, \\sigma) $$\n",
    "\n",
    "Partindo do mesmo chegamos em:\n",
    "\n",
    "$$p(\\epsilon_i\\mid \\sigma^2, \\alpha, \\beta) = \\frac{1}{{\\sqrt {\\sigma ^22\\pi } }}\n",
    "e^{- ({y_i - \\beta x_i - \\alpha })^2 / 2\\sigma^2} $$\n",
    "\n",
    "\n",
    "Assumindo que cada erro é independente, a verossimilhança de todos os erros é:\n",
    "\n",
    "$$p_{\\Theta}(E) = \\prod_{i} p_{\\Theta}(\\epsilon_i) \\\\\n",
    "\\log(p_{\\Theta}(E)) = \\mathcal{l}_{\\Theta}(E) =  \\sum_{i} \\log(p_{\\Theta}(\\epsilon_i))$$\n",
    "\n",
    "O log da mesma é:\n",
    "\n",
    "$$\\mathcal{l}_{\\Theta}(E) =  -n \\log(\\sqrt{2\\pi}) - n{\\log(\\sigma) } - { \\sum^n_{i=1} ({y_i - \\beta x_i - \\alpha })^2 \\over 2\\sigma^2} $$\n",
    "\n",
    "A derivada em $\\sigma$ é:\n",
    "\n",
    "$${d \\mathcal{l}_{\\Theta} \\over d\\sigma} =  -{n\\over \\sigma} + { 2 \\sum^n_{i=1} ({y_i - \\beta x_i - \\alpha })^2 \\over 2\\sigma^3}$$\n",
    "\n",
    "A derivada em $\\alpha$ e $\\beta$ é a mesma de antes, apenas invertemos o sinal:\n",
    "\n",
    "$$\\frac{d\\mathcal{l}_{\\Theta}}{d\\alpha} = -n^{-1} \\sum_i 2 (-y_i + \\beta x_i + \\alpha)$$\n",
    "\n",
    "$$\\frac{d\\mathcal{l}_{\\Theta}}{d\\beta} = -n^{-1} \\sum_i 2 (-y_i + \\beta x_i + \\alpha) x_i$$\n",
    "\n",
    "Em outras palavras, vamos chegar no mesmo resultado."
   ]
  },
  {
   "cell_type": "code",
   "execution_count": null,
   "metadata": {
    "id": "ktsPtXr_3B2H"
   },
   "outputs": [],
   "source": [
    "def derivadas_vero(parametros, x, y):\n",
    "    alpha, beta = parametros\n",
    "    da = -1 * ((-2 * y) + (2 * beta * x) + (2 * alpha))\n",
    "    db = -1 * ((-2 * y * x) + (2 * beta * (x ** 2)) + (2 * alpha * x))\n",
    "    return np.array([da.mean(), db.mean()])"
   ]
  },
  {
   "cell_type": "code",
   "execution_count": null,
   "metadata": {
    "id": "x413YRmF3B2H"
   },
   "outputs": [],
   "source": [
    "def ga(parametros, d_fun, x, y, lambda_=0.01):\n",
    "    parametros = parametros.copy()\n",
    "    print('Iter {}; alpha, beta = '.format(-1), parametros)\n",
    "    for i in range(1000):\n",
    "        grad = d_fun(parametros, x, y)\n",
    "        parametros_novos = parametros + lambda_ * grad\n",
    "        if np.abs(parametros - parametros_novos).mean() <= 0.00001:\n",
    "            break\n",
    "        parametros = parametros_novos\n",
    "        print('Iter {}; alpha, beta = '.format(i), parametros)\n",
    "    return parametros"
   ]
  },
  {
   "cell_type": "code",
   "execution_count": null,
   "metadata": {
    "colab": {
     "base_uri": "https://localhost:8080/"
    },
    "executionInfo": {
     "elapsed": 1163,
     "status": "ok",
     "timestamp": 1627418915061,
     "user": {
      "displayName": "Pedro H. Araujo",
      "photoUrl": "https://lh3.googleusercontent.com/a-/AOh14GhzCZOTGJByptF1pKyyjaN5tpLs48lYpt_Rze_RFA=s64",
      "userId": "10251972540170667362"
     },
     "user_tz": 180
    },
    "id": "K88bmeXo3B2H",
    "outputId": "d41e88bf-369c-456d-d44f-88cd13b51e87"
   },
   "outputs": [],
   "source": [
    "parametros_iniciais = np.array([0.1, 0.1])\n",
    "parametros = ga(parametros_iniciais, derivadas_vero, x, y)"
   ]
  },
  {
   "cell_type": "code",
   "execution_count": null,
   "metadata": {
    "colab": {
     "base_uri": "https://localhost:8080/"
    },
    "executionInfo": {
     "elapsed": 35,
     "status": "ok",
     "timestamp": 1627418915063,
     "user": {
      "displayName": "Pedro H. Araujo",
      "photoUrl": "https://lh3.googleusercontent.com/a-/AOh14GhzCZOTGJByptF1pKyyjaN5tpLs48lYpt_Rze_RFA=s64",
      "userId": "10251972540170667362"
     },
     "user_tz": 180
    },
    "id": "b0lsVspM3B2I",
    "outputId": "de70a9a6-3192-4adc-8e08-8e0e025878be"
   },
   "outputs": [],
   "source": [
    "ss.linregress(x, y)"
   ]
  },
  {
   "cell_type": "markdown",
   "metadata": {
    "id": "QWIOSX4sRtJc"
   },
   "source": [
    "## Exercícios"
   ]
  },
  {
   "cell_type": "markdown",
   "metadata": {
    "id": "JHf_BVQSKkeB"
   },
   "source": [
    "### Close Nova Dataset"
   ]
  },
  {
   "cell_type": "markdown",
   "metadata": {
    "id": "7Ahgh0X43B2L",
    "nbgrader": {
     "grade": false,
     "grade_id": "cell1c1-a00",
     "locked": true,
     "schema_version": 1,
     "solution": false
    }
   },
   "source": [
    "Atualmente, uma das teorias mais aceitas sobre a formação do universo, diz que o universo está em constante expansão.\n",
    "\n",
    "Supernovas são estrelas que explodiram e morreram recentemente. A base inclusa na pasta desta lista contém registros dessas supernovas. Cada linha na tabela corresponde a uma supernova próxima da Terra observada por astrônomos, indicando o quão longe da Terra a supernova estava e o quão rápido ela se afastava.\n",
    "\n",
    "Neste exercício, vamos encontrar valores para os parâmetros de uma reta que aproxime a velocidade a partir da distância, usando a base ```close_novas.csv```, por meio do gradiente descendente. Ou seja, uma regressão linear.\n",
    "\n",
    "A figura abaixo mostra um pouco, de forma bem bem simples, a ideia do big bang.\n",
    "\n",
    "![BIG BANG](https://github.com/pedroharaujo/ICD_Docencia/blob/master/bang.png?raw=true)"
   ]
  },
  {
   "cell_type": "code",
   "execution_count": null,
   "metadata": {
    "colab": {
     "base_uri": "https://localhost:8080/",
     "height": 204
    },
    "executionInfo": {
     "elapsed": 33,
     "status": "ok",
     "timestamp": 1627418915075,
     "user": {
      "displayName": "Pedro H. Araujo",
      "photoUrl": "https://lh3.googleusercontent.com/a-/AOh14GhzCZOTGJByptF1pKyyjaN5tpLs48lYpt_Rze_RFA=s64",
      "userId": "10251972540170667362"
     },
     "user_tz": 180
    },
    "id": "De6RFGpb3B2L",
    "outputId": "d60cd5ca-8ad1-435f-edf0-e710576034a0"
   },
   "outputs": [],
   "source": [
    "df = pd.read_csv('https://raw.githubusercontent.com/pedroharaujo/ICD_Docencia/master/close_novas.csv')\n",
    "df.head()"
   ]
  },
  {
   "cell_type": "code",
   "execution_count": null,
   "metadata": {
    "colab": {
     "base_uri": "https://localhost:8080/",
     "height": 532
    },
    "executionInfo": {
     "elapsed": 41,
     "status": "ok",
     "timestamp": 1627418916006,
     "user": {
      "displayName": "Pedro H. Araujo",
      "photoUrl": "https://lh3.googleusercontent.com/a-/AOh14GhzCZOTGJByptF1pKyyjaN5tpLs48lYpt_Rze_RFA=s64",
      "userId": "10251972540170667362"
     },
     "user_tz": 180
    },
    "id": "2pYDkE5o3B2M",
    "nbgrader": {
     "grade": false,
     "grade_id": "cell-13f014c4c37dfcda",
     "locked": true,
     "schema_version": 1,
     "solution": false
    },
    "outputId": "6c9e1adf-66cb-4fc1-91ea-05c81635ceda",
    "scrolled": true
   },
   "outputs": [],
   "source": [
    "fig = plt.figure()\n",
    "plt.scatter(df.values[:, 0], df.values[:, 1], alpha=0.3) # Esse alpha define transparência dos pontos\n",
    "plt.xlabel('Distance (million parsecs)')\n",
    "plt.ylabel('Speed (parsecs/year)')\n",
    "fig.show()"
   ]
  },
  {
   "cell_type": "markdown",
   "metadata": {
    "id": "X-N2UScl3B2N",
    "nbgrader": {
     "grade": false,
     "grade_id": "cell-3599a439494a96b2",
     "locked": true,
     "schema_version": 1,
     "solution": false
    }
   },
   "source": [
    "O resultado de uma regressão nos dados acima pode ser utilizada para estimar a idade do universo. Para entender como podemos fazer isso, vamos dar um exemplo. Um carro com alguns colegas seus partiu do ICEx. Um carro partiu da sua localização com uma velocidade de 80 km/h. Depois um tempo, um conhecido seu que está dentro do carro liga para você indicando que os passageiros já percorreram 160km. Com base nesta resposta, você consegue estimar que seus colegas partiram do ICEx 2h atrás.\n",
    "\n",
    "A mesma ideia acima é utilizada para estimar a idade do universo. Cada supernova está viajando com uma velocidade razoavelmente constante. Podemos assumir que todas as estrelas partiram de um mesmo local, afinal o vetor da trajetória também é razoavelmente constante. Agora, obviamente não observamos as estrelas do local do big bang. Estamos mensurando a velocidade das mesmas e a distância em relação ao planeta Terra.\n",
    "\n",
    "Um fator interessante é que a correlação não muda ao somar uma constante nos eixos. Lembre-se da z-normalização. A dispersão abaixo captura a mesma tendência da dispersão acima. "
   ]
  },
  {
   "cell_type": "code",
   "execution_count": null,
   "metadata": {
    "colab": {
     "base_uri": "https://localhost:8080/",
     "height": 532
    },
    "executionInfo": {
     "elapsed": 34,
     "status": "ok",
     "timestamp": 1627418916007,
     "user": {
      "displayName": "Pedro H. Araujo",
      "photoUrl": "https://lh3.googleusercontent.com/a-/AOh14GhzCZOTGJByptF1pKyyjaN5tpLs48lYpt_Rze_RFA=s64",
      "userId": "10251972540170667362"
     },
     "user_tz": 180
    },
    "id": "hwRWF5w23B2N",
    "nbgrader": {
     "grade": false,
     "grade_id": "cell-bcccbfd366be032b",
     "locked": true,
     "schema_version": 1,
     "solution": false
    },
    "outputId": "57ded036-9b24-407c-ab7a-c48861829ab1"
   },
   "outputs": [],
   "source": [
    "C = 5000 # constante\n",
    "plt.scatter(df.values[:, 0] + C, df.values[:, 1], alpha=0.3)\n",
    "plt.xlabel('Distance (million parsecs) + C')\n",
    "plt.ylabel('Speed (parsecs/year)')\n",
    "plt.show()"
   ]
  },
  {
   "cell_type": "markdown",
   "metadata": {
    "id": "08vgGEXr3B2P",
    "nbgrader": {
     "grade": false,
     "grade_id": "cell-a7a2753fdb0ef119",
     "locked": true,
     "schema_version": 1,
     "solution": false
    }
   },
   "source": [
    "Agora, pense em uma regressão linear como uma média de linhas. Para cada linha, temos a fórmula:\n",
    "\n",
    "$$y_i = \\beta x_i + \\alpha$$\n",
    "\n",
    "Partindo de uma origem (0, 0), cada linha é definida por $\\Delta_y/\\Delta_x$. Neste caso, temos que $\\alpha=0$ e $\\beta=(y-0)/(x-0)$, ou $y/x$. \n",
    "\n",
    "Nos seus dados da supernova, y é a velocidade e x é a distância. Sabendo também que a correlação não muda quando adicionamos uma constante nos dados, podemos estimar a idade do universo observando os dados a partir do planeta Terra. Assumindo que todas as supernovas partiram de uma mesma origem, temos que $\\Delta_y/\\Delta_x$ = ${parsecs \\over time} * {1.0\\over 1M*parsecs}$ = ${1 \\over 1M time}$. Então: 1.0/$\\beta$ = 1M time.\n",
    "\n",
    "\n",
    "Sabendo da informação acima, vamos brincar um pouco com a regressão linear. Inicialmente, vamos estimar a reta:\n",
    "\n",
    "$$y_i = \\beta x_i + \\alpha$$\n",
    "\n",
    "fazendo uso de gradiente descendente."
   ]
  },
  {
   "cell_type": "markdown",
   "metadata": {
    "id": "PaydAGMa3B2Q"
   },
   "source": [
    "**Exercício 2 (sem correção automática):** Para ajudar no algoritmo, z-normalize seus dados e plote novamente a dispersão dos dados z-normalizados."
   ]
  },
  {
   "cell_type": "code",
   "execution_count": null,
   "metadata": {
    "id": "jHuBBO7_W9rU"
   },
   "outputs": [],
   "source": [
    "def z_norm(dataset):\n",
    "  # YOUR CODE HERE\n",
    "  # deve receber o dataset df e retornar o mesmo z-normalizado\n",
    "  return"
   ]
  },
  {
   "cell_type": "code",
   "execution_count": null,
   "metadata": {
    "colab": {
     "base_uri": "https://localhost:8080/",
     "height": 536
    },
    "executionInfo": {
     "elapsed": 30,
     "status": "ok",
     "timestamp": 1627418916012,
     "user": {
      "displayName": "Pedro H. Araujo",
      "photoUrl": "https://lh3.googleusercontent.com/a-/AOh14GhzCZOTGJByptF1pKyyjaN5tpLs48lYpt_Rze_RFA=s64",
      "userId": "10251972540170667362"
     },
     "user_tz": 180
    },
    "id": "n8DXbYwJ3B2Q",
    "nbgrader": {
     "grade": false,
     "grade_id": "cell-379358cbec2de487",
     "locked": false,
     "schema_version": 1,
     "solution": true
    },
    "outputId": "46a94418-0160-46bf-d48b-af4753202e42"
   },
   "outputs": [],
   "source": [
    "df = z_norm(df)\n",
    "\n",
    "plt.scatter(df.values[:, 0], df.values[:, 1], alpha=0.3)\n",
    "plt.xlabel('Distance (million parsecs)')\n",
    "plt.ylabel('Speed (parsecs/year)')"
   ]
  },
  {
   "cell_type": "markdown",
   "metadata": {
    "id": "xhiPriuF3B2R",
    "nbgrader": {
     "grade": false,
     "grade_id": "cell-4ca5a76f5abbd718",
     "locked": true,
     "schema_version": 1,
     "solution": false
    }
   },
   "source": [
    "**Exercício 3:** Implemente uma função de perda que retorna o erro quadrático para um ponto."
   ]
  },
  {
   "cell_type": "code",
   "execution_count": null,
   "metadata": {
    "id": "HNJMNh9rXcQA"
   },
   "outputs": [],
   "source": [
    "def loss_um_ponto(x_i, y_i, alpha, beta):\n",
    "  # YOUR CODE HERE\n",
    "  return"
   ]
  },
  {
   "cell_type": "markdown",
   "metadata": {
    "id": "z4BjZ1BO3B2S",
    "nbgrader": {
     "grade": false,
     "grade_id": "cell-ee64bde24cdaa651",
     "locked": true,
     "schema_version": 1,
     "solution": false
    }
   },
   "source": [
    "**Exercício 4:** Considerando a função de perda definida anteriormente, implemente a função de gradiente para um ponto, retornando uma lista com os valores dos gradientes para $\\alpha$ e $\\beta$, nessa ordem."
   ]
  },
  {
   "cell_type": "code",
   "execution_count": null,
   "metadata": {
    "id": "ZgiF3Z_BXi5Q"
   },
   "outputs": [],
   "source": [
    "def gradient(x_i, y_i, alpha, beta):\n",
    "  # YOUR CODE HERE\n",
    "  # deve retornar uma lista [da, db]\n",
    "  return"
   ]
  },
  {
   "cell_type": "markdown",
   "metadata": {
    "id": "0qawCyMn3B2T",
    "nbgrader": {
     "grade": false,
     "grade_id": "cell-e4b5321938764920",
     "locked": true,
     "schema_version": 1,
     "solution": false
    }
   },
   "source": [
    "**Exercício 5:** Por fim, implemente a função de gradiente descendente para os parâmetros $\\alpha$ e $\\beta$ da regressão linear, utilizando as duas funções criadas anteriormente. \n",
    "\n",
    "Retorne uma lista com os valores de $\\alpha$ (intercepto) e $\\beta$ (inclinação), nessa ordem.\n",
    "\n",
    "__Dica:__ obtenha os gradientes para cada ponto, some gradientes para cada parâmetro ($\\alpha$ e $\\beta$), e só então atualize os valores de acordo com a taxa de aprendizado."
   ]
  },
  {
   "cell_type": "code",
   "execution_count": null,
   "metadata": {
    "id": "6AyJ_vsEXxOV"
   },
   "outputs": [],
   "source": [
    "def descent(x, y, param, lambda_=0.0001, niter=1000):\n",
    "  # YOUR CODE HERE\n",
    "  # x,y : dados\n",
    "  # param : lista com valores iniciais para alpha e beta\n",
    "  # lambda_ : taxa de aprendizado\n",
    "  # niter : número de iterações do gradiente descendente\n",
    "  return"
   ]
  },
  {
   "cell_type": "code",
   "execution_count": null,
   "metadata": {
    "id": "nrUE2TG1gY6G"
   },
   "outputs": [],
   "source": [
    "[alpha, beta] = descent(df.values[:, 0], df.values[:, 1], [1, 1])\n",
    "\n",
    "assert_almost_equal(alpha, 1.816, 3)\n",
    "assert_almost_equal(beta, 0.982, 3)"
   ]
  },
  {
   "cell_type": "markdown",
   "metadata": {
    "id": "Np0Vg_yt3B2U",
    "nbgrader": {
     "grade": false,
     "grade_id": "cell-33cbf13797c14b9b",
     "locked": true,
     "schema_version": 1,
     "solution": false
    }
   },
   "source": [
    "Até o momento, vocês implementaram um grandiente descendente calculando o gradiente um ponto de cada vez.\n",
    "Em python, essa não é a forma mais eficiente de se fazer isso.\n",
    "\n",
    "**Exercício 6:** Implementem uma nova versão da função de gradiente descendente, dessa vez realizando as operações de forma vetorial, ao invés de um ponto de cada vez."
   ]
  },
  {
   "cell_type": "code",
   "execution_count": null,
   "metadata": {
    "id": "zem51ZyldH9h"
   },
   "outputs": [],
   "source": [
    "def descent_vec(x, y, param, lambda_=0.0001, niter=1000):\n",
    "  # x,y : dados\n",
    "  # param : lista com valores iniciais para alpha e beta\n",
    "  # lambda_ : taxa de aprendizado\n",
    "  # niter : número de iterações do gradiente descendente\n",
    "  # YOUR CODE HERE\n",
    "  # deve retornar uma lista [alpha, beta]\n",
    "  return "
   ]
  },
  {
   "cell_type": "code",
   "execution_count": null,
   "metadata": {
    "id": "_T8H1Mdegol_"
   },
   "outputs": [],
   "source": [
    "theta = descent_vec(df.values[:, 0], df.values[:, 1], [1, 1])\n",
    "[alpha, beta] = theta\n",
    "assert_almost_equal(alpha, 1.816, 3)\n",
    "assert_almost_equal(beta, 0.982, 3)"
   ]
  },
  {
   "cell_type": "markdown",
   "metadata": {
    "id": "u01vcab83B2U",
    "nbgrader": {
     "grade": false,
     "grade_id": "cell-b7a466b23808a53f",
     "locked": true,
     "schema_version": 1,
     "solution": false
    }
   },
   "source": [
    "* Vamos visualizar o modelo de regressão obtido. Utilizando a função abline abaixo, gere um gráfico com a reta de regressão linear sobre a dispersão dos dados z-normalizados."
   ]
  },
  {
   "cell_type": "code",
   "execution_count": null,
   "metadata": {
    "id": "xSsunG_o3B2U",
    "nbgrader": {
     "grade": false,
     "grade_id": "cell-8fb62f738b5dcef8",
     "locked": true,
     "schema_version": 1,
     "solution": false
    }
   },
   "outputs": [],
   "source": [
    "def abline(slope, intercept):\n",
    "    \"\"\"Plot a line from slope and intercept\"\"\"\n",
    "    axes = plt.gca()\n",
    "    x_vals = np.array(axes.get_xlim())\n",
    "    y_vals = intercept + slope * x_vals\n",
    "    plt.plot(x_vals, y_vals, '--')"
   ]
  },
  {
   "cell_type": "code",
   "execution_count": null,
   "metadata": {
    "colab": {
     "base_uri": "https://localhost:8080/",
     "height": 515
    },
    "executionInfo": {
     "elapsed": 26,
     "status": "ok",
     "timestamp": 1627418916589,
     "user": {
      "displayName": "Pedro H. Araujo",
      "photoUrl": "https://lh3.googleusercontent.com/a-/AOh14GhzCZOTGJByptF1pKyyjaN5tpLs48lYpt_Rze_RFA=s64",
      "userId": "10251972540170667362"
     },
     "user_tz": 180
    },
    "id": "zCzuOcj63B2U",
    "nbgrader": {
     "grade": true,
     "grade_id": "cell-5b7e5076fc34598f",
     "locked": false,
     "points": 1,
     "schema_version": 1,
     "solution": true
    },
    "outputId": "b9293cfb-38ba-4105-e314-4c7740636e37"
   },
   "outputs": [],
   "source": [
    "def plot_regression(x, y, param, lambda_, niter):\n",
    "    # x,y : dados\n",
    "    # param : lista com valores iniciais para alpha e beta\n",
    "    # lambda_ : taxa de aprendizado\n",
    "    # niter : número de iterações do gradiente descendente\n",
    "\n",
    "    alpha, beta = descent_vec(df.values[:, 0], df.values[:, 1], param, lambda_, niter)\n",
    "    plt.scatter(df.values[:, 0], df.values[:, 1], alpha=0.3)\n",
    "    abline(beta,alpha)\n",
    "    plt.xlabel('Distance (million parsecs)')\n",
    "    plt.ylabel('Speed (parsecs/year)')\n",
    "    \n",
    "plot_regression(df.values[:, 0], df.values[:, 1], [1, 1], 0.0001, 1000)"
   ]
  },
  {
   "cell_type": "markdown",
   "metadata": {
    "id": "9iJa_n7y3B2V",
    "nbgrader": {
     "grade": false,
     "grade_id": "cell-256a04a859341d06",
     "locked": true,
     "schema_version": 1,
     "solution": false
    }
   },
   "source": [
    "Agora vamos tentar avaliar o modelo de regressão linear obtido com o gradiente descendente.\n",
    "\n",
    "**Exercício 7:** Primeiro, implemente uma função que calcule o valor da soma total dos quadrados dada por:\n",
    "\n",
    "$$\\sum_i (y_i - \\bar{y})^2$$\n"
   ]
  },
  {
   "cell_type": "code",
   "execution_count": null,
   "metadata": {
    "id": "DTcZOMv5da28"
   },
   "outputs": [],
   "source": [
    "def sst(y):\n",
    "  # YOUR CODE HERE\n",
    "  return"
   ]
  },
  {
   "cell_type": "code",
   "execution_count": null,
   "metadata": {
    "id": "qWQxvMVHg7gu"
   },
   "outputs": [],
   "source": [
    "soma_quadrados = sst(df.values[:, 1])\n",
    "assert_equal(round(soma_quadrados, 4), 155)"
   ]
  },
  {
   "cell_type": "markdown",
   "metadata": {
    "id": "uA50IjTr3B2V",
    "nbgrader": {
     "grade": false,
     "grade_id": "cell-0002d0cc9d29ee72",
     "locked": true,
     "schema_version": 1,
     "solution": false
    }
   },
   "source": [
    "Para calcular a soma dos erros quadráticos, primeiro precisamos ter uma previsão para os valores de velocidade das supernovas.\n",
    "\n",
    "**Exercício 8:** Implemente uma função que obtenha os valores previstos de velocidade a partir da distância, de acordo com o modelo de regressão linear ($\\alpha$ e $\\beta$). "
   ]
  },
  {
   "cell_type": "code",
   "execution_count": null,
   "metadata": {
    "id": "aMZpr8TSdkrR"
   },
   "outputs": [],
   "source": [
    "def predict(x, param):\n",
    "  # x : array de distancias das supernovas\n",
    "  # param : lista com os valores dos parâmetros alpha e beta\n",
    "  # YOUR CODE HERE\n",
    "  return"
   ]
  },
  {
   "cell_type": "code",
   "execution_count": null,
   "metadata": {
    "id": "vyy-kKTuhGnF"
   },
   "outputs": [],
   "source": [
    "preds = predict(df.values[:, 0], theta)\n",
    "assert_almost_equal(round(preds.mean()), 0)"
   ]
  },
  {
   "cell_type": "markdown",
   "metadata": {
    "id": "AW84JUh63B2W",
    "nbgrader": {
     "grade": false,
     "grade_id": "cell-27efa98540f81e4f",
     "locked": true,
     "schema_version": 1,
     "solution": false
    }
   },
   "source": [
    "**Exercício 9:** Agora implemente uma função que calcule o valor da soma dos erros quadráticos dada por:\n",
    "\n",
    "$$\\sum_i (y_i - \\hat{y}_i)^2$$"
   ]
  },
  {
   "cell_type": "code",
   "execution_count": null,
   "metadata": {
    "id": "Gs4VIKl_dtjg"
   },
   "outputs": [],
   "source": [
    "def sse(x, y, param):\n",
    "  # x : array de distancias das supernovas\n",
    "  # y : array de velocidades das supernovas\n",
    "  # param : lista com os valores dos parâmetros alpha e beta\n",
    "  # YOUR CODE HERE\n",
    "  return"
   ]
  },
  {
   "cell_type": "code",
   "execution_count": null,
   "metadata": {
    "id": "gVdsKmlGhvin"
   },
   "outputs": [],
   "source": [
    "soma_quadrados = sse(df.values[:, 0], df.values[:, 1], theta)\n",
    "assert_amost_equal(soma_quadrados, 5.4975, 4)"
   ]
  },
  {
   "cell_type": "markdown",
   "metadata": {
    "id": "8LEZrA4X3B2W",
    "nbgrader": {
     "grade": false,
     "grade_id": "cell-ad6c2e3e99821a16",
     "locked": true,
     "schema_version": 1,
     "solution": false
    }
   },
   "source": [
    "**Exercício 10:** Finalmente, implemente a função que calcula o coeficiente de determinação (R-quadrado, $R^2$). \n",
    "\n",
    "Avalie se o valor de $R^2$ obtido condiz com a qualidade do modelo observada no gráfico da regressão."
   ]
  },
  {
   "cell_type": "code",
   "execution_count": null,
   "metadata": {
    "id": "C9d-zRWWd1gx"
   },
   "outputs": [],
   "source": [
    "def r2(x, y, param):\n",
    "  # x : array de distancias das supernovas\n",
    "  # y : array de velocidades das supernovas\n",
    "  # param : lista com os valores dos parâmetros alpha e beta\n",
    "  # YOUR CODE HERE\n",
    "  return"
   ]
  },
  {
   "cell_type": "code",
   "execution_count": null,
   "metadata": {
    "id": "TUE78-q5h3Lt"
   },
   "outputs": [],
   "source": [
    "rsquared = r2(df.values[:, 0], df.values[:, 1], theta)\n",
    "assert_amost_equal(rsquared, 0.9645, 4)"
   ]
  },
  {
   "cell_type": "markdown",
   "metadata": {
    "id": "lHB42W-43B2X",
    "nbgrader": {
     "grade": false,
     "grade_id": "cell-c69552db6aaf0b62",
     "locked": true,
     "schema_version": 1,
     "solution": false
    }
   },
   "source": [
    "**Exercício 11:** Com os resultados acima, compute a idade do universo. Estime a mesma em bilhões de anos. Deve ser algo perto de 13 ou 14 a resposta. Você tem que usar os dados não normalizados. Use o valor de $\\beta$ da regressão. Lembre-se que:\n",
    "\n",
    "$$\\beta = {r_{xy} s_y \\over s_x}$$\n",
    "\n",
    "Os desvios são não normalizados. O r pode ser o mesmo que você achou antes. Lembre-se que: a correlação é invariante nas operações de translação e escala (normalização). Porém, a unidade do beta nos dados normalizados não é a mesma dos dados originais. O beta nos dados originais, estimado com a equação acima, corrige isto."
   ]
  },
  {
   "cell_type": "code",
   "execution_count": null,
   "metadata": {
    "id": "1oSl0kqad9Zu"
   },
   "outputs": [],
   "source": [
    "df = pd.read_csv('https://raw.githubusercontent.com/pedroharaujo/ICD_Docencia/master/close_novas.csv')\n",
    "x = df.values[:, 0]\n",
    "y = df.values[:, 1]\n",
    "\n",
    "def idade_universo(sd_x, sd_y):\n",
    "  # YOUR CODE HERE\n",
    "  return"
   ]
  },
  {
   "cell_type": "code",
   "execution_count": null,
   "metadata": {
    "id": "en56IFgLiEGi"
   },
   "outputs": [],
   "source": [
    "age = idade_universo(x.std(ddof=1), y.std(ddof=1))\n",
    "\n",
    "assert_amost_equal(age, 14.61, 2)"
   ]
  }
 ],
 "metadata": {
  "colab": {
   "collapsed_sections": [
    "k4Z5no8oKMi3",
    "AhjVnRPBKU04",
    "cxnVEjveJ4AP",
    "JwlBZ4XVJ8Hn",
    "6itRKu-eJ_KQ",
    "Z5ci_wiZKBLk",
    "5GBFChGkKaqm",
    "AoMfUwAdKfVy",
    "uhk1VOcVKhJJ"
   ],
   "name": "sol.ipynb",
   "provenance": [
    {
     "file_id": "1iegcee-sOFGFO9SYm-gHZCdFIt6yB1lK",
     "timestamp": 1626984978927
    }
   ]
  },
  "kernelspec": {
   "display_name": "Python 3 (ipykernel)",
   "language": "python",
   "name": "python3"
  },
  "language_info": {
   "codemirror_mode": {
    "name": "ipython",
    "version": 3
   },
   "file_extension": ".py",
   "mimetype": "text/x-python",
   "name": "python",
   "nbconvert_exporter": "python",
   "pygments_lexer": "ipython3",
   "version": "3.11.3"
  }
 },
 "nbformat": 4,
 "nbformat_minor": 1
}
