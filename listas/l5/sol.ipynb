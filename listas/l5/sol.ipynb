{
 "cells": [
  {
   "cell_type": "markdown",
   "metadata": {
    "id": "rd_ntNa1msHv"
   },
   "source": [
    "# Lista 5 - Testes de Hipótese"
   ]
  },
  {
   "cell_type": "markdown",
   "metadata": {
    "id": "ZDztiE2FnbnW"
   },
   "source": [
    "## Testes A/B"
   ]
  },
  {
   "cell_type": "markdown",
   "metadata": {
    "id": "LeMcT5nnoBdK"
   },
   "source": [
    "Testes A/B são uma metodologia muito utilizada para detectarmos diferenças significativas entre dois grupos, geralmente chamados controle e teste. \n",
    "\n",
    "**Exemplo:** Há eficácia na prevenção de morte de uma determinada vacina contra a Covid? \n",
    "\n",
    "Para isso, teremos:\n",
    "- Grupo de controle: placebo.\n",
    "- Grupo de teste: vacina.\n",
    "\n",
    "**Solução:** Realizamos amostragem bootstrap de cada grupo e plotamos boxplots das médias encontradas. No final comparamos as médias dos grupos para ver se há diferença significativa entre o número de mortos de cada grupo.\n",
    "\n",
    "Vamos ver um exemplo prático de como realizar um teste A/B para dados reais.\n",
    "\n",
    "Começamos importando a biblioteca pandas e carregando os dados do Enem2015. Em seguida, agrupamos pela variável 'DEPENDENCIA_ADMINISTRATIVA' para relembrarmos a distribuição dos dados."
   ]
  },
  {
   "cell_type": "code",
   "execution_count": 1,
   "metadata": {
    "id": "h48Su6gDmtyD"
   },
   "outputs": [],
   "source": [
    "import numpy as np\n",
    "import matplotlib.pyplot as plt\n",
    "import pandas as pd\n",
    "\n",
    "from numpy.testing import assert_almost_equal\n",
    "from numpy.testing import assert_equal\n",
    "from numpy.testing import assert_array_almost_equal\n",
    "from numpy.testing import assert_array_equal"
   ]
  },
  {
   "cell_type": "code",
   "execution_count": null,
   "metadata": {},
   "outputs": [],
   "source": [
    "np.random.seed(30091985)"
   ]
  },
  {
   "cell_type": "code",
   "execution_count": 2,
   "metadata": {
    "colab": {
     "base_uri": "https://localhost:8080/",
     "height": 204
    },
    "id": "hEFty4thFRkL",
    "outputId": "ebff3e8d-6dc0-4010-98b9-51764ffd8d57"
   },
   "outputs": [
    {
     "data": {
      "text/html": [
       "<div>\n",
       "<style scoped>\n",
       "    .dataframe tbody tr th:only-of-type {\n",
       "        vertical-align: middle;\n",
       "    }\n",
       "\n",
       "    .dataframe tbody tr th {\n",
       "        vertical-align: top;\n",
       "    }\n",
       "\n",
       "    .dataframe thead th {\n",
       "        text-align: right;\n",
       "    }\n",
       "</style>\n",
       "<table border=\"1\" class=\"dataframe\">\n",
       "  <thead>\n",
       "    <tr style=\"text-align: right;\">\n",
       "      <th></th>\n",
       "      <th>NOTA_MEDIA_ESCOLA</th>\n",
       "      <th>TAXA_DE_APROVACAO</th>\n",
       "      <th>TAXA_DE_PARTICIPACAO</th>\n",
       "    </tr>\n",
       "    <tr>\n",
       "      <th>DEPENDENCIA_ADMINISTRATIVA</th>\n",
       "      <th></th>\n",
       "      <th></th>\n",
       "      <th></th>\n",
       "    </tr>\n",
       "  </thead>\n",
       "  <tbody>\n",
       "    <tr>\n",
       "      <th>Estadual</th>\n",
       "      <td>1054</td>\n",
       "      <td>1054</td>\n",
       "      <td>1054</td>\n",
       "    </tr>\n",
       "    <tr>\n",
       "      <th>Federal</th>\n",
       "      <td>43</td>\n",
       "      <td>42</td>\n",
       "      <td>43</td>\n",
       "    </tr>\n",
       "    <tr>\n",
       "      <th>Municipal</th>\n",
       "      <td>22</td>\n",
       "      <td>22</td>\n",
       "      <td>22</td>\n",
       "    </tr>\n",
       "    <tr>\n",
       "      <th>Privada</th>\n",
       "      <td>566</td>\n",
       "      <td>565</td>\n",
       "      <td>566</td>\n",
       "    </tr>\n",
       "  </tbody>\n",
       "</table>\n",
       "</div>"
      ],
      "text/plain": [
       "                            NOTA_MEDIA_ESCOLA  TAXA_DE_APROVACAO  \\\n",
       "DEPENDENCIA_ADMINISTRATIVA                                         \n",
       "Estadual                                 1054               1054   \n",
       "Federal                                    43                 42   \n",
       "Municipal                                  22                 22   \n",
       "Privada                                   566                565   \n",
       "\n",
       "                            TAXA_DE_PARTICIPACAO  \n",
       "DEPENDENCIA_ADMINISTRATIVA                        \n",
       "Estadual                                    1054  \n",
       "Federal                                       43  \n",
       "Municipal                                     22  \n",
       "Privada                                      566  "
      ]
     },
     "execution_count": 2,
     "metadata": {},
     "output_type": "execute_result"
    }
   ],
   "source": [
    "url = 'https://github.com/icd-ufmg/icd-ufmg.github.io/raw/master/listas/l4/enem2015.csv'\n",
    "data = pd.read_csv(url)\n",
    "\n",
    "tmp = data.groupby('DEPENDENCIA_ADMINISTRATIVA').count()\n",
    "tmp.head()"
   ]
  },
  {
   "cell_type": "markdown",
   "metadata": {
    "id": "q0hOdpr3ptK7"
   },
   "source": [
    "Imagine que queremos testar se existe diferença entre as médias da variável 'NOTA_MEDIA_ESCOLA' para escolas com 'DEPENDENCIA_ADMINISTRATIVA' Federal e Municipal. Matematicamente, queremos testar se:\n",
    "\n",
    " $$\\mu_{Municipal} = \\mu_{Federal},$$\n",
    " \n",
    " onde $\\mu$ é a média da variável 'NOTA_MEDIA_ESCOLA'.\n",
    "\n",
    " Vamos utilizar os códigos da lista anterior e da aula de testes A/B como base para realização do *bootstrap*."
   ]
  },
  {
   "cell_type": "code",
   "execution_count": 3,
   "metadata": {
    "id": "2B3dK8Y5zxOp"
   },
   "outputs": [],
   "source": [
    "def bootstrap_mean(df1, df2, column, n=10000):\n",
    "    size1 = len(df1)\n",
    "    size2 = len(df2)\n",
    "    values1 = np.zeros(n)\n",
    "    values2 = np.zeros(n)\n",
    "    values_diff = np.zeros(n)\n",
    "    for i in range(n):\n",
    "        sample1 = df1[column].sample(size1, replace=True)\n",
    "        sample2 = df2[column].sample(size2, replace=True)\n",
    "        values1[i] = sample1.mean()\n",
    "        values2[i] = sample2.mean()\n",
    "        values_diff[i] = sample1.mean() - sample2.mean()\n",
    "    return values1, values2, values_diff\n",
    "\n",
    "federal = data[data['DEPENDENCIA_ADMINISTRATIVA']=='Federal']\n",
    "municipal = data[data['DEPENDENCIA_ADMINISTRATIVA']=='Municipal']\n",
    "col = 'NOTA_MEDIA_ESCOLA'\n",
    "v_fed, v_mun, v_diff = bootstrap_mean(federal, municipal, col)"
   ]
  },
  {
   "cell_type": "markdown",
   "metadata": {
    "id": "B4s0moPjY8CY"
   },
   "source": [
    "Em seguida plotamos os boxplots de cada grupo e avaliamos se há intersecção da amplitude dos valores para cada tipo de escola."
   ]
  },
  {
   "cell_type": "code",
   "execution_count": 4,
   "metadata": {
    "colab": {
     "base_uri": "https://localhost:8080/",
     "height": 409
    },
    "id": "TnqWDrkJrcHb",
    "outputId": "d1fdfbd0-ec17-4c90-ef47-ef5316672c79"
   },
   "outputs": [
    {
     "data": {
      "image/png": "[encoded data removed]",
      "text/plain": [
       "<Figure size 576x432 with 1 Axes>"
      ]
     },
     "metadata": {
      "needs_background": "light"
     },
     "output_type": "display_data"
    }
   ],
   "source": [
    "bp_data = [v_fed, v_mun]\n",
    "\n",
    "plt.rcParams['figure.figsize']  = (8, 6)\n",
    "plt.boxplot(bp_data, whis=[2.5, 97.5], positions=[1,2], showfliers=False, showmeans=True)\n",
    "plt.xticks([1,2], ['Municipal', 'Federal'], fontsize=10)\n",
    "plt.ylabel('', fontsize=13)\n",
    "plt.xlabel('DEPENDENCIA_ADMINISTRATIVA', fontsize=12)\n",
    "plt.title('Notas Médias das Escolas por Dependência Administrativa', fontsize=14)\n",
    "plt.show()"
   ]
  },
  {
   "cell_type": "markdown",
   "metadata": {
    "id": "WPC0ldxeZGW8"
   },
   "source": [
    "Podemos observar que os boxplots não se cruzam, com evidência de que as médias das `NOTAS_MEDIA_ESCOLA` para escolas Federais são maiores que para escolas com `DEPENDENCIA_ADMINISTRATIVA` Municipal.\n",
    "\n",
    "Outra maneira de realizarmos essa comparação entre as médias de dois grupos é computarmos a diferença entre as médias a cada amostragem *bootstrap* feita e analisarmos apenas o boxplot das diferenças. O código anterior computa essa diferença na variável `values` e o seguinte plota o boxplot de tais diferenças."
   ]
  },
  {
   "cell_type": "code",
   "execution_count": null,
   "metadata": {
    "colab": {
     "base_uri": "https://localhost:8080/",
     "height": 409
    },
    "id": "WTDCHkEayt-I",
    "outputId": "6308f221-d029-484a-ae0c-4fea8fad4105"
   },
   "outputs": [
    {
     "data": {
      "image/png": "[encoded data removed]",
      "text/plain": [
       "<Figure size 576x432 with 1 Axes>"
      ]
     },
     "metadata": {
      "needs_background": "light",
      "tags": []
     },
     "output_type": "display_data"
    }
   ],
   "source": [
    "plt.rcParams['figure.figsize']  = (8, 6)\n",
    "\n",
    "plt.boxplot(v_diff, whis=[2.5, 97.5], showfliers=False, showmeans=True)\n",
    "plt.xticks([1], ['Valor'], fontsize=10)\n",
    "plt.ylabel(col, fontsize=12)\n",
    "plt.xlabel('Diferença Municipal e Federal', fontsize=12)\n",
    "plt.title('Diferença das Notas Médias das Escolas Municipais e Federais', fontsize=14)\n",
    "plt.show()"
   ]
  },
  {
   "cell_type": "markdown",
   "metadata": {
    "id": "PSclkqRKu-ZA"
   },
   "source": [
    "Nesse caso, para que as médias sejam consideradas iguais, analisamos se o *boxplot* gerado após o processo de amostragem, contém o valor 0. Como não é o caso, podemos afirmar que existem evidências de que as médias dos grupos comparados são distintas.\n",
    "\n",
    "Note também, que alteramos o código do boxplot para que os limites sejam relativos aos percentis para um nível de 5% de significância, oque é um valor diferente de como é normalmente calculado os limites de um boxplot."
   ]
  },
  {
   "cell_type": "code",
   "execution_count": 5,
   "metadata": {
    "colab": {
     "base_uri": "https://localhost:8080/"
    },
    "id": "PkxMYpQRaJJ2",
    "outputId": "63450c40-f2be-4a64-e98b-adb35e324685"
   },
   "outputs": [
    {
     "name": "stdout",
     "output_type": "stream",
     "text": [
      "2.5% PERCENTIL:  43.1221\n",
      "97.5% PERCENTIL:  68.9476\n"
     ]
    }
   ],
   "source": [
    "print('2.5% PERCENTIL: ', np.percentile(v_diff, 2.5).round(4))\n",
    "print('97.5% PERCENTIL: ', np.percentile(v_diff, 97.5).round(4))"
   ]
  },
  {
   "cell_type": "code",
   "execution_count": 18,
   "metadata": {},
   "outputs": [
    {
     "data": {
      "text/html": [
       "<div>\n",
       "<style scoped>\n",
       "    .dataframe tbody tr th:only-of-type {\n",
       "        vertical-align: middle;\n",
       "    }\n",
       "\n",
       "    .dataframe tbody tr th {\n",
       "        vertical-align: top;\n",
       "    }\n",
       "\n",
       "    .dataframe thead th {\n",
       "        text-align: right;\n",
       "    }\n",
       "</style>\n",
       "<table border=\"1\" class=\"dataframe\">\n",
       "  <thead>\n",
       "    <tr style=\"text-align: right;\">\n",
       "      <th></th>\n",
       "      <th>NOTA_MEDIA_ESCOLA</th>\n",
       "      <th>TAXA_DE_APROVACAO</th>\n",
       "      <th>TAXA_DE_PARTICIPACAO</th>\n",
       "    </tr>\n",
       "    <tr>\n",
       "      <th>DEPENDENCIA_ADMINISTRATIVA</th>\n",
       "      <th></th>\n",
       "      <th></th>\n",
       "      <th></th>\n",
       "    </tr>\n",
       "  </thead>\n",
       "  <tbody>\n",
       "    <tr>\n",
       "      <th>Estadual</th>\n",
       "      <td>549.565521</td>\n",
       "      <td>82.50</td>\n",
       "      <td>62.264149</td>\n",
       "    </tr>\n",
       "    <tr>\n",
       "      <th>Federal</th>\n",
       "      <td>633.746033</td>\n",
       "      <td>86.60</td>\n",
       "      <td>96.385544</td>\n",
       "    </tr>\n",
       "    <tr>\n",
       "      <th>Municipal</th>\n",
       "      <td>568.882080</td>\n",
       "      <td>86.15</td>\n",
       "      <td>82.124062</td>\n",
       "    </tr>\n",
       "    <tr>\n",
       "      <th>Privada</th>\n",
       "      <td>618.657013</td>\n",
       "      <td>95.70</td>\n",
       "      <td>95.238098</td>\n",
       "    </tr>\n",
       "  </tbody>\n",
       "</table>\n",
       "</div>"
      ],
      "text/plain": [
       "                            NOTA_MEDIA_ESCOLA  TAXA_DE_APROVACAO  \\\n",
       "DEPENDENCIA_ADMINISTRATIVA                                         \n",
       "Estadual                           549.565521              82.50   \n",
       "Federal                            633.746033              86.60   \n",
       "Municipal                          568.882080              86.15   \n",
       "Privada                            618.657013              95.70   \n",
       "\n",
       "                            TAXA_DE_PARTICIPACAO  \n",
       "DEPENDENCIA_ADMINISTRATIVA                        \n",
       "Estadual                               62.264149  \n",
       "Federal                                96.385544  \n",
       "Municipal                              82.124062  \n",
       "Privada                                95.238098  "
      ]
     },
     "execution_count": 18,
     "metadata": {},
     "output_type": "execute_result"
    }
   ],
   "source": [
    "data.groupby(\"DEPENDENCIA_ADMINISTRATIVA\").median()"
   ]
  },
  {
   "cell_type": "markdown",
   "metadata": {
    "id": "SNtvG1pX8eDr"
   },
   "source": [
    "## Exercício 1"
   ]
  },
  {
   "cell_type": "markdown",
   "metadata": {
    "id": "B5fOIVXN8hKQ"
   },
   "source": [
    "Altere o código abaixo para retornar `True` ou `False` ao comparar se há diferença para as medianas da variável `TAXA_DE_PARTICIPACAO` entre escolas de `DEPENDENCIA_ADMINISTRATIVA` indicadas, a dado nível de significância. \n",
    "\n",
    "A função deve retornar `True` se houver diferença e `False` se não houver diferença entre as medianas testadas.\n",
    "\n",
    "**Exemplo:** Se $\\alpha = 0.05$, os percentis serão 2.5 e 97.5."
   ]
  },
  {
   "cell_type": "code",
   "execution_count": 30,
   "metadata": {
    "id": "Sl7irCSwziZz"
   },
   "outputs": [],
   "source": [
    "def percent(df1, df2, alpha):\n",
    "  # deve retornar True se houver diferença e False se não houver diferença\n",
    "  # entre as medianas testadas\n",
    "    \n",
    "    \n",
    "    return "
   ]
  },
  {
   "cell_type": "markdown",
   "metadata": {
    "id": "ZcYG435i82zS"
   },
   "source": [
    "**a)** Privada e Estadual, com $\\alpha=0.1$"
   ]
  },
  {
   "cell_type": "code",
   "execution_count": 31,
   "metadata": {
    "id": "Jot3mxYT9IEi"
   },
   "outputs": [
    {
     "name": "stdout",
     "output_type": "stream",
     "text": [
      "31.235431669999997 34.06840799195\n"
     ]
    }
   ],
   "source": [
    "privada = data[data['DEPENDENCIA_ADMINISTRATIVA']=='Privada']\n",
    "estadual = data[data['DEPENDENCIA_ADMINISTRATIVA']=='Estadual']\n",
    "alpha = 0.01\n",
    "result = percent(privada, estadual, alpha)\n",
    "\n",
    "assert_equal(result, True)"
   ]
  },
  {
   "cell_type": "markdown",
   "metadata": {
    "id": "r8zFYRheCa32"
   },
   "source": [
    "**b)** Privada e Municipal, com $\\alpha=0.15$"
   ]
  },
  {
   "cell_type": "code",
   "execution_count": 39,
   "metadata": {
    "id": "l6pLIqOxABnI"
   },
   "outputs": [
    {
     "name": "stdout",
     "output_type": "stream",
     "text": [
      "8.357557392375002 14.977967448124998\n"
     ]
    }
   ],
   "source": [
    "df1 = data[data['DEPENDENCIA_ADMINISTRATIVA']=='Privada']\n",
    "df2 = data[data['DEPENDENCIA_ADMINISTRATIVA']=='Municipal']\n",
    "alpha = 0.15\n",
    "result = percent(df1, df2, alpha)\n",
    "\n",
    "assert_equal(result, True)"
   ]
  },
  {
   "cell_type": "markdown",
   "metadata": {
    "id": "M8qatfSLCoCy"
   },
   "source": [
    "**c)** Privada e Federal, com $\\alpha=0.001$"
   ]
  },
  {
   "cell_type": "code",
   "execution_count": 37,
   "metadata": {
    "id": "DHdIkG21EGES"
   },
   "outputs": [
    {
     "name": "stdout",
     "output_type": "stream",
     "text": [
      "-0.4828843809059966 2.972378417557168\n"
     ]
    }
   ],
   "source": [
    "df1 = data[data['DEPENDENCIA_ADMINISTRATIVA']=='Federal']\n",
    "df2 = data[data['DEPENDENCIA_ADMINISTRATIVA']=='Privada']\n",
    "alpha = 0.0001\n",
    "result = percent(df1, df2, alpha)\n",
    "\n",
    "assert_equal(result, False)"
   ]
  },
  {
   "cell_type": "markdown",
   "metadata": {
    "id": "Ng4RU3O4Fpbb"
   },
   "source": [
    "## Teste de Permutação"
   ]
  },
  {
   "cell_type": "markdown",
   "metadata": {
    "id": "GYVTlE4TN0PR"
   },
   "source": [
    "- **Teste via *Bootstrap*:** Geramos várias sub-amostras com base na amostra disponível.\n",
    "- **Teste de Permutação:** Simulamos a população com base em conhecimentos/suposições da mesma.\n",
    "\n",
    "**Exemplo:** Suponha que eu jogue uma moeda para o alto 30 vezes e obtenho 23 caras e 7 coroas. Essa moeda pode ser considerada uma moeda honesta?\n",
    "\n",
    "Sabemos que uma moeda honesta apresenta 50% de chance de cair em cada lado. Logo, em 30 lançamentos o valor esperado seria 15 caras e 15 coroas. Mas a independencia entre um lançamento e outro nos garante que nem sempre isso será verdade. \n",
    "\n",
    "Nesse momento que aplica-se teste de permutação.\n",
    "\n",
    "O lançamento da moeda consistem em uma variável aleatória Bernoulli com média $p = 7/30$ e variância $p(1-p)$.\n",
    "\n",
    "Queremos testar a hipótese nula de que a moeda é honesta, pois queremos um SINAL caso ela não seja."
   ]
  },
  {
   "cell_type": "code",
   "execution_count": 41,
   "metadata": {
    "colab": {
     "base_uri": "https://localhost:8080/"
    },
    "id": "V5csnMkdNm5m",
    "outputId": "aad5daab-da7f-45ae-9f8a-d95793e4f9d1"
   },
   "outputs": [
    {
     "data": {
      "image/png": "[encoded data removed]",
      "text/plain": [
       "<Figure size 792x432 with 2 Axes>"
      ]
     },
     "metadata": {
      "needs_background": "light"
     },
     "output_type": "display_data"
    }
   ],
   "source": [
    "# definindo semente para reprodutibilidade\n",
    "np.random.seed(13)\n",
    "\n",
    "# criando 100k lançamentos meio a meio (moeda honesta)\n",
    "pop_size = 10**5\n",
    "data = np.zeros(pop_size)\n",
    "data[:int(pop_size/2)] = 1 # número de caras\n",
    "\n",
    "# definindo experimento - 1k experimentos com 30 amostras cada\n",
    "size = 30\n",
    "simulations = np.zeros(1000)\n",
    "simulations1 = np.zeros(1000)\n",
    "for i in range(1000):\n",
    "  np.random.shuffle(data)\n",
    "  tmp = data[:size]\n",
    "  num_k = (tmp == 1).sum()\n",
    "  prop = num_k/size\n",
    "  simulations[i] = num_k\n",
    "  simulations1[i] = prop\n",
    "\n",
    "# histogramas dos resultados - contagem de caras e probabilidade\n",
    "fig, (ax1, ax2) = plt.subplots(1, 2, figsize=(11, 6))\n",
    "\n",
    "ax1.hist(simulations, color='#A3333D', alpha=0.9, density=False, bins=15, rwidth=0.9)\n",
    "ax1.set_xlabel('Número de Caras', fontsize=13)\n",
    "ax1.set_ylabel('Frequências', fontsize=13)\n",
    "ax1.set_title('Histograma do Número de Caras', fontsize=16)\n",
    "\n",
    "ax2.hist(simulations1, color='#A3333D', alpha=0.9, density=False, bins=15, rwidth=0.9)\n",
    "ax2.set_xlabel('Proporção de Caras', fontsize=13)\n",
    "ax2.set_ylabel('Frequências', fontsize=13)\n",
    "ax2.set_title('Histograma da Proporção de Caras', fontsize=16)\n",
    "\n",
    "fig.tight_layout()\n",
    "plt.show()"
   ]
  },
  {
   "cell_type": "code",
   "execution_count": 42,
   "metadata": {
    "colab": {
     "base_uri": "https://localhost:8080/"
    },
    "id": "GUlUDqyEScq4",
    "outputId": "2c37d135-3e79-4d31-ec87-54ced3418cd4"
   },
   "outputs": [
    {
     "name": "stdout",
     "output_type": "stream",
     "text": [
      "COUNT INF:  10.0\n",
      "COUNT SUP:  20.0\n",
      "PROP INF: 0.33\n",
      "PROP SUP:  0.67\n"
     ]
    }
   ],
   "source": [
    "alpha=0.05\n",
    "\n",
    "count_inf = np.percentile(simulations, (alpha/2)*100).round(2)\n",
    "count_sup = np.percentile(simulations, (1-alpha/2)*100).round(2)\n",
    "print('COUNT INF: ', count_inf)\n",
    "print('COUNT SUP: ', count_sup)\n",
    "\n",
    "prop_inf = np.percentile(simulations1, (alpha/2)*100).round(2)\n",
    "prop_sup = np.percentile(simulations1, (1-alpha/2)*100).round(2)\n",
    "print('PROP INF:', prop_inf)\n",
    "print('PROP SUP: ', prop_sup)\n"
   ]
  },
  {
   "cell_type": "markdown",
   "metadata": {
    "id": "MDNS48bWbH6m"
   },
   "source": [
    "Note que se pegarmos 95% dos valores encontrados ao realizarmos 100k permutações, não estaremos incluindo casos com 23 caras e 7 coroas. Conclui-se que existem evidências que nos levam a rejeitar nossa hipótese nula de que a moeda é honesta a um nível de 5% de significância.\n",
    "\n",
    "Isso não quer dizer que não possa acontecer de termos 23 caras e 7 coroas, ou vice-versa, apenas que é muito raro."
   ]
  },
  {
   "cell_type": "markdown",
   "metadata": {
    "id": "dtFs7P-4cE2N"
   },
   "source": [
    "## Exercício 2"
   ]
  },
  {
   "cell_type": "markdown",
   "metadata": {
    "id": "mbJW9BN1l_ts"
   },
   "source": [
    "Você é o agente de um jogador da NBA que pretende receber o salário mais alto possível. Porém, apenas dois times estão interessados no jogador que você representa: Charlotte Hornets e Phoenix Suns. Ele notou que há uma diferença entre os dois times em relação ao salário médio e lhe pediu para checar se essa diferença pode ser explicada pelo acaso ou não.\n",
    "\n",
    "Você utilizará o seguinte dataframe."
   ]
  },
  {
   "cell_type": "code",
   "execution_count": 43,
   "metadata": {
    "colab": {
     "base_uri": "https://localhost:8080/",
     "height": 142
    },
    "id": "KG4yB1rVbigC",
    "outputId": "639ed7e6-4231-45ce-d52f-55d07d4ddb13"
   },
   "outputs": [
    {
     "data": {
      "text/html": [
       "<div>\n",
       "<style scoped>\n",
       "    .dataframe tbody tr th:only-of-type {\n",
       "        vertical-align: middle;\n",
       "    }\n",
       "\n",
       "    .dataframe tbody tr th {\n",
       "        vertical-align: top;\n",
       "    }\n",
       "\n",
       "    .dataframe thead th {\n",
       "        text-align: right;\n",
       "    }\n",
       "</style>\n",
       "<table border=\"1\" class=\"dataframe\">\n",
       "  <thead>\n",
       "    <tr style=\"text-align: right;\">\n",
       "      <th></th>\n",
       "      <th>SALARY</th>\n",
       "    </tr>\n",
       "    <tr>\n",
       "      <th>TEAM</th>\n",
       "      <th></th>\n",
       "    </tr>\n",
       "  </thead>\n",
       "  <tbody>\n",
       "    <tr>\n",
       "      <th>Charlotte Hornets</th>\n",
       "      <td>4.672355</td>\n",
       "    </tr>\n",
       "    <tr>\n",
       "      <th>Phoenix Suns</th>\n",
       "      <td>2.971813</td>\n",
       "    </tr>\n",
       "  </tbody>\n",
       "</table>\n",
       "</div>"
      ],
      "text/plain": [
       "                     SALARY\n",
       "TEAM                       \n",
       "Charlotte Hornets  4.672355\n",
       "Phoenix Suns       2.971813"
      ]
     },
     "execution_count": 43,
     "metadata": {},
     "output_type": "execute_result"
    }
   ],
   "source": [
    "df = pd.read_csv('https://media.githubusercontent.com/media/icd-ufmg/material/master/aulas/11-Hipoteses/nba_salaries.csv')\n",
    "df.head()\n",
    "\n",
    "# diferença dos salários médios\n",
    "df[df['TEAM'].isin(['Charlotte Hornets', 'Phoenix Suns'])].groupby('TEAM').mean()"
   ]
  },
  {
   "cell_type": "markdown",
   "metadata": {
    "id": "InnuZQutsZ5_"
   },
   "source": [
    "**a)** Qual a estatística de teste?"
   ]
  },
  {
   "cell_type": "code",
   "execution_count": 58,
   "metadata": {
    "id": "hBtkrgXQrzva"
   },
   "outputs": [],
   "source": [
    "data = df[df['TEAM'].isin(['Charlotte Hornets', 'Phoenix Suns'])]\n",
    "def t_obs(data):\n",
    "  #SEU CODIGO AQUI:\n",
    "  \n",
    "  return "
   ]
  },
  {
   "cell_type": "code",
   "execution_count": 59,
   "metadata": {
    "id": "uuqjfbit2hP1"
   },
   "outputs": [],
   "source": [
    "result = t_obs(data)\n",
    "assert_equal(round(result, 2), -1.70)"
   ]
  },
  {
   "cell_type": "markdown",
   "metadata": {
    "id": "VOPiPpLn0sVi"
   },
   "source": [
    "**b)** Agora responda ao jogador: Há diferença de salário significativa entre os clubes?\n",
    "\n",
    "Utilize um nível de significância de 10%."
   ]
  },
  {
   "cell_type": "code",
   "execution_count": 88,
   "metadata": {
    "id": "9vSM1590vpMO"
   },
   "outputs": [],
   "source": [
    "def resposta(data):\n",
    "  # retorna True se a diferença puder ser explicada pelo acaso\n",
    "  # retorna False se houver diferença significativa entre os salários\n",
    "\n",
    "  return "
   ]
  },
  {
   "cell_type": "code",
   "execution_count": 89,
   "metadata": {
    "id": "j0XZ3Nyj3k7s"
   },
   "outputs": [],
   "source": [
    "result = resposta(data)\n",
    "assert_equal(result, True)"
   ]
  },
  {
   "cell_type": "markdown",
   "metadata": {
    "id": "DKoEh6wS8CtB"
   },
   "source": [
    "## P-valor e Significância"
   ]
  },
  {
   "cell_type": "markdown",
   "metadata": {
    "id": "g97d8gD-8KXG"
   },
   "source": [
    "P-valor, ou valor-p, nada mais é do que a probabilidade de obter certo resultado de teste dada uma distribuição, ou seja, é a probabilidade do resultado ser o valor da estatística de teste.\n",
    "\n",
    "Com o a estatística de teste encontramos uma probabilidade associada, o P-valor.\n",
    "\n",
    "Já para significância o raciocínio é o oposto. Dado um nível de significância (probabilidade), encontramos o(s) valor(es) associado(s). Para um teste unilateral, teremos um valor e o nível de significância se mantém. Para um teste bilateral teremos dois valores e o nível de significância divide-se em dois. \n",
    "\n",
    "\n",
    "Veja o seguinte exemplo, com uma distribuição Normal de média 0 e variância 1."
   ]
  },
  {
   "cell_type": "code",
   "execution_count": 90,
   "metadata": {
    "colab": {
     "base_uri": "https://localhost:8080/",
     "height": 378
    },
    "id": "b8QOFF4d-cA8",
    "outputId": "eb1a5580-00f1-40a4-c3c3-9504fc190be4"
   },
   "outputs": [
    {
     "data": {
      "image/png": "[encoded data removed]",
      "text/plain": [
       "<Figure size 576x432 with 1 Axes>"
      ]
     },
     "metadata": {
      "needs_background": "light"
     },
     "output_type": "display_data"
    }
   ],
   "source": [
    "# Gerando 10k dados de uma distribuição normal\n",
    "np.random.seed(16)\n",
    "x = np.random.normal(0, 1, 5000)\n",
    "\n",
    "# normalizando apenas para deixar mais simétrico\n",
    "data = (x - x.mean()) / x.std()\n",
    "plt.hist(data, bins=15, rwidth=0.95)\n",
    "\n",
    "# calculando percentis para um intervalo de 95% de confiança (5% de significância)\n",
    "li = np.percentile(data, 2.5)\n",
    "ls = np.percentile(data, 97.5)\n",
    "\n",
    "# plotando\n",
    "plt.fill_between([li, ls], 4, 2000, color='grey', alpha=0.8)\n",
    "plt.ylim(top=2000)\n",
    "plt.show()"
   ]
  },
  {
   "cell_type": "markdown",
   "metadata": {
    "id": "wBa3caq7EgEi"
   },
   "source": [
    "Os limites cinzas são definidos com base no percentil da distribuição. Encontramos esses pontos com base no nível de significância. Um nível de significância de 5% indica que a área cinza contém 95% dos dados enquanto a ára branca contém os demais 5%, sendo 2,5% para baixo e 2,5% para cima.\n",
    "\n",
    "Quando o interesse for analisar apenas um lado da distribuição, devemos alterar o valor do percentil, como no código abaixo."
   ]
  },
  {
   "cell_type": "code",
   "execution_count": 91,
   "metadata": {
    "colab": {
     "base_uri": "https://localhost:8080/",
     "height": 378
    },
    "id": "Xgp4n7GO_Pyp",
    "outputId": "57fba090-6736-477d-c51c-a09964fe248e"
   },
   "outputs": [
    {
     "data": {
      "image/png": "[encoded data removed]",
      "text/plain": [
       "<Figure size 576x432 with 1 Axes>"
      ]
     },
     "metadata": {
      "needs_background": "light"
     },
     "output_type": "display_data"
    }
   ],
   "source": [
    "# normalizando apenas para deixar mais simétrico\n",
    "data = (x - x.mean()) / x.std()\n",
    "plt.hist(data, bins=15, rwidth=0.95)\n",
    "\n",
    "# calculando percentis para um intervalo de 95% de confiança (5% de significância)\n",
    "li = np.percentile(data, 5)\n",
    "\n",
    "# plotando\n",
    "plt.fill_between([li, 5], 4, 2000, color='grey', alpha=0.8)\n",
    "plt.ylim(top=2000)\n",
    "plt.xlim(right=4)\n",
    "plt.show()"
   ]
  },
  {
   "cell_type": "markdown",
   "metadata": {
    "id": "4LJFSYwGFPBl"
   },
   "source": [
    "Nesse caso, temos 5% dos dados à esquerda e o restante a direita. Note que o nível de significância se manteve constante, porém o valor de corte se alterou."
   ]
  },
  {
   "cell_type": "markdown",
   "metadata": {
    "id": "vGCB7Ct36xnF"
   },
   "source": [
    "## Exercício 3"
   ]
  },
  {
   "cell_type": "markdown",
   "metadata": {
    "id": "-uCwiIOygNNi"
   },
   "source": [
    "Neste exercício iremos realizar todas as etapas de um teste de hipóteses. Utilizaremos teste de permutação, porém a metodologia é bem semelhante nos outros casos também, e nos ajuda a mantermos uma linha de raciocínio muito clara e objetiva.\n",
    "\n",
    "\n",
    "**Exercício:** Utilizaremos um novo conjunto de dados da NBA. Desejamos testar se há uma diferença significativa na altura dos jogadores dos times Cleveland Cavaliers e Golden State Warriors na temporada 2017-18, a um nível de significância de 5%.\n",
    "\n",
    "**Raciocínio:** \n",
    "- 1 - Definir as hipóteses nula e alternativa.\n",
    "- 2 - Encontrar a estatística de teste.\n",
    "- 3 - Resampling/Shuffle de acordo com a hipótese nula.\n",
    "- 4 - Encontrar os valores crítios/calcular o p-valor.\n",
    "- 5 - Concluir (rejeitar ou não a hipótese)."
   ]
  },
  {
   "cell_type": "code",
   "execution_count": 92,
   "metadata": {
    "colab": {
     "base_uri": "https://localhost:8080/",
     "height": 309
    },
    "id": "ADF-tlzK60yX",
    "outputId": "d597bc92-6aa0-4a3b-be81-396a4e30220e"
   },
   "outputs": [
    {
     "data": {
      "text/html": [
       "<div>\n",
       "<style scoped>\n",
       "    .dataframe tbody tr th:only-of-type {\n",
       "        vertical-align: middle;\n",
       "    }\n",
       "\n",
       "    .dataframe tbody tr th {\n",
       "        vertical-align: top;\n",
       "    }\n",
       "\n",
       "    .dataframe thead th {\n",
       "        text-align: right;\n",
       "    }\n",
       "</style>\n",
       "<table border=\"1\" class=\"dataframe\">\n",
       "  <thead>\n",
       "    <tr style=\"text-align: right;\">\n",
       "      <th></th>\n",
       "      <th>player_name</th>\n",
       "      <th>team_abbreviation</th>\n",
       "      <th>age</th>\n",
       "      <th>player_height</th>\n",
       "      <th>player_weight</th>\n",
       "      <th>college</th>\n",
       "      <th>country</th>\n",
       "      <th>draft_year</th>\n",
       "      <th>draft_round</th>\n",
       "      <th>draft_number</th>\n",
       "      <th>...</th>\n",
       "      <th>pts</th>\n",
       "      <th>reb</th>\n",
       "      <th>ast</th>\n",
       "      <th>net_rating</th>\n",
       "      <th>oreb_pct</th>\n",
       "      <th>dreb_pct</th>\n",
       "      <th>usg_pct</th>\n",
       "      <th>ts_pct</th>\n",
       "      <th>ast_pct</th>\n",
       "      <th>season</th>\n",
       "    </tr>\n",
       "  </thead>\n",
       "  <tbody>\n",
       "    <tr>\n",
       "      <th>9578</th>\n",
       "      <td>Draymond Green</td>\n",
       "      <td>GSW</td>\n",
       "      <td>28.0</td>\n",
       "      <td>200.66</td>\n",
       "      <td>104.326160</td>\n",
       "      <td>Michigan State</td>\n",
       "      <td>USA</td>\n",
       "      <td>2012</td>\n",
       "      <td>2</td>\n",
       "      <td>35</td>\n",
       "      <td>...</td>\n",
       "      <td>11.0</td>\n",
       "      <td>7.6</td>\n",
       "      <td>7.3</td>\n",
       "      <td>6.7</td>\n",
       "      <td>0.036</td>\n",
       "      <td>0.183</td>\n",
       "      <td>0.168</td>\n",
       "      <td>0.556</td>\n",
       "      <td>0.286</td>\n",
       "      <td>2017-18</td>\n",
       "    </tr>\n",
       "    <tr>\n",
       "      <th>9599</th>\n",
       "      <td>George Hill</td>\n",
       "      <td>CLE</td>\n",
       "      <td>32.0</td>\n",
       "      <td>190.50</td>\n",
       "      <td>85.275296</td>\n",
       "      <td>None</td>\n",
       "      <td>USA</td>\n",
       "      <td>2008</td>\n",
       "      <td>1</td>\n",
       "      <td>26</td>\n",
       "      <td>...</td>\n",
       "      <td>10.0</td>\n",
       "      <td>2.7</td>\n",
       "      <td>2.8</td>\n",
       "      <td>-3.3</td>\n",
       "      <td>0.023</td>\n",
       "      <td>0.081</td>\n",
       "      <td>0.161</td>\n",
       "      <td>0.580</td>\n",
       "      <td>0.145</td>\n",
       "      <td>2017-18</td>\n",
       "    </tr>\n",
       "    <tr>\n",
       "      <th>9667</th>\n",
       "      <td>Andre Iguodala</td>\n",
       "      <td>GSW</td>\n",
       "      <td>34.0</td>\n",
       "      <td>198.12</td>\n",
       "      <td>97.522280</td>\n",
       "      <td>Arizona</td>\n",
       "      <td>USA</td>\n",
       "      <td>2004</td>\n",
       "      <td>1</td>\n",
       "      <td>9</td>\n",
       "      <td>...</td>\n",
       "      <td>6.0</td>\n",
       "      <td>3.8</td>\n",
       "      <td>3.3</td>\n",
       "      <td>7.9</td>\n",
       "      <td>0.033</td>\n",
       "      <td>0.109</td>\n",
       "      <td>0.112</td>\n",
       "      <td>0.536</td>\n",
       "      <td>0.169</td>\n",
       "      <td>2017-18</td>\n",
       "    </tr>\n",
       "    <tr>\n",
       "      <th>9674</th>\n",
       "      <td>Ante Zizic</td>\n",
       "      <td>CLE</td>\n",
       "      <td>21.0</td>\n",
       "      <td>210.82</td>\n",
       "      <td>113.398000</td>\n",
       "      <td>None</td>\n",
       "      <td>Croatia</td>\n",
       "      <td>2016</td>\n",
       "      <td>1</td>\n",
       "      <td>23</td>\n",
       "      <td>...</td>\n",
       "      <td>3.7</td>\n",
       "      <td>1.9</td>\n",
       "      <td>0.2</td>\n",
       "      <td>-9.1</td>\n",
       "      <td>0.112</td>\n",
       "      <td>0.179</td>\n",
       "      <td>0.171</td>\n",
       "      <td>0.746</td>\n",
       "      <td>0.039</td>\n",
       "      <td>2017-18</td>\n",
       "    </tr>\n",
       "    <tr>\n",
       "      <th>9679</th>\n",
       "      <td>Cedi Osman</td>\n",
       "      <td>CLE</td>\n",
       "      <td>23.0</td>\n",
       "      <td>203.20</td>\n",
       "      <td>97.522280</td>\n",
       "      <td>None</td>\n",
       "      <td>Turkey</td>\n",
       "      <td>2015</td>\n",
       "      <td>2</td>\n",
       "      <td>31</td>\n",
       "      <td>...</td>\n",
       "      <td>3.9</td>\n",
       "      <td>2.0</td>\n",
       "      <td>0.7</td>\n",
       "      <td>3.9</td>\n",
       "      <td>0.028</td>\n",
       "      <td>0.149</td>\n",
       "      <td>0.151</td>\n",
       "      <td>0.577</td>\n",
       "      <td>0.084</td>\n",
       "      <td>2017-18</td>\n",
       "    </tr>\n",
       "  </tbody>\n",
       "</table>\n",
       "<p>5 rows × 21 columns</p>\n",
       "</div>"
      ],
      "text/plain": [
       "         player_name team_abbreviation   age  player_height  player_weight  \\\n",
       "9578  Draymond Green               GSW  28.0         200.66     104.326160   \n",
       "9599     George Hill               CLE  32.0         190.50      85.275296   \n",
       "9667  Andre Iguodala               GSW  34.0         198.12      97.522280   \n",
       "9674      Ante Zizic               CLE  21.0         210.82     113.398000   \n",
       "9679      Cedi Osman               CLE  23.0         203.20      97.522280   \n",
       "\n",
       "             college  country draft_year draft_round draft_number  ...   pts  \\\n",
       "9578  Michigan State      USA       2012           2           35  ...  11.0   \n",
       "9599            None      USA       2008           1           26  ...  10.0   \n",
       "9667         Arizona      USA       2004           1            9  ...   6.0   \n",
       "9674            None  Croatia       2016           1           23  ...   3.7   \n",
       "9679            None   Turkey       2015           2           31  ...   3.9   \n",
       "\n",
       "      reb  ast  net_rating  oreb_pct  dreb_pct  usg_pct  ts_pct  ast_pct  \\\n",
       "9578  7.6  7.3         6.7     0.036     0.183    0.168   0.556    0.286   \n",
       "9599  2.7  2.8        -3.3     0.023     0.081    0.161   0.580    0.145   \n",
       "9667  3.8  3.3         7.9     0.033     0.109    0.112   0.536    0.169   \n",
       "9674  1.9  0.2        -9.1     0.112     0.179    0.171   0.746    0.039   \n",
       "9679  2.0  0.7         3.9     0.028     0.149    0.151   0.577    0.084   \n",
       "\n",
       "       season  \n",
       "9578  2017-18  \n",
       "9599  2017-18  \n",
       "9667  2017-18  \n",
       "9674  2017-18  \n",
       "9679  2017-18  \n",
       "\n",
       "[5 rows x 21 columns]"
      ]
     },
     "execution_count": 92,
     "metadata": {},
     "output_type": "execute_result"
    }
   ],
   "source": [
    "# preparação do dataset já está pronta\n",
    "data = pd.read_csv('https://raw.githubusercontent.com/pedroharaujo/ICD_Docencia/master/all_seasons.csv', index_col=0)\n",
    "df = data[(data['team_abbreviation'].isin(['GSW', 'CLE'])) & (data['season'] == '2017-18')]\n",
    "df.head()"
   ]
  },
  {
   "cell_type": "markdown",
   "metadata": {
    "id": "Z-ZdKsRisz7n"
   },
   "source": [
    "1 - Definir as hipóteses!\n",
    "\n",
    "$$H_0: \\mu_{CLE} = \\mu_{GSW}$$\n",
    "\n",
    "$$H_1: \\mu_{CLE} \\neq \\mu_{GSW}$$\n",
    "\n",
    "Ou ainda\n",
    "\n",
    "$$H_0: \\mu_{CLE} - \\mu_{GSW} = 0$$\n",
    "\n",
    "$$H_1: \\mu_{CLE} - \\mu_{GSW} \\neq 0$$\n",
    "\n",
    "Note que como estamos testando a hipótese alternativa como DIFERENTE, o teste é bilateral. Logo, deveremos dividir o nível de significância em duas regiões cada uma com metade do valor."
   ]
  },
  {
   "cell_type": "markdown",
   "metadata": {
    "id": "YOWsagqou_J2"
   },
   "source": [
    "**2 - Encontre a estatística de teste**\n",
    "\n",
    "Altere a função abaixo para que retorne a estatística de teste."
   ]
  },
  {
   "cell_type": "code",
   "execution_count": 100,
   "metadata": {
    "id": "Zcq1OVmWwOKn"
   },
   "outputs": [],
   "source": [
    "def t_obs2(data):\n",
    "  # deve retornar o valor da estatística de teste\n",
    "  # YOUR CODE HERE!!\n",
    "\n",
    "\n",
    "  return "
   ]
  },
  {
   "cell_type": "code",
   "execution_count": 101,
   "metadata": {
    "id": "T-NFRmQhvx5C"
   },
   "outputs": [],
   "source": [
    "result = t_obs2(df)\n",
    "assert_equal(round(result, 2), -1.43)"
   ]
  },
  {
   "cell_type": "markdown",
   "metadata": {
    "id": "IG10gfQ8u-XA"
   },
   "source": [
    "3 - Resampling/Shuffle\n",
    "\n",
    "Sempre de acordo com a hipótese nula! Ou seja, se estamos querendo testar se a média de pontos entre os times é igual, devemos remover o fator TIME da equação para podermos comparar.\n",
    "\n",
    "Como já fizemos isso anteriormente, essa função já será dada aqui. Note que atribuímos uma semente diferente de acordo com o valor de $i$ no *loop*, de forma a deixar o experimento replicável."
   ]
  },
  {
   "cell_type": "code",
   "execution_count": 102,
   "metadata": {
    "id": "0yNd92_Ju-vU"
   },
   "outputs": [],
   "source": [
    "def shuffling(data):\n",
    "  N = 5000\n",
    "  filtro = data['team_abbreviation'] == 'GSW'\n",
    "  t_obs = data[filtro]['player_height'].mean() - data[~filtro]['player_height'].mean()\n",
    "  diffs = np.zeros(N)\n",
    "  for i in range(N):\n",
    "    np.random.seed(i)\n",
    "    np.random.shuffle(filtro.values)\n",
    "    diffs[i] = data[filtro]['player_height'].mean() - data[~filtro]['player_height'].mean()\n",
    "  return diffs\n",
    "\n",
    "diffs = shuffling(df)"
   ]
  },
  {
   "cell_type": "markdown",
   "metadata": {
    "id": "QUyGMcswyStG"
   },
   "source": [
    "**4 - Encontrar valores críticos/Calcular o p-valor**\n",
    "\n",
    "**a)** Altere a função abaixo para que calcule os valores críticos."
   ]
  },
  {
   "cell_type": "code",
   "execution_count": 104,
   "metadata": {
    "id": "rphmacfvyFGE"
   },
   "outputs": [],
   "source": [
    "def critical_values(diffs):\n",
    "  # deve retornar uma tupla com os valores criticos\n",
    "  # exemplo: (critico_inferior, critico_superior)\n",
    "  return "
   ]
  },
  {
   "cell_type": "code",
   "execution_count": 105,
   "metadata": {
    "id": "wN6De7Qiy7ee"
   },
   "outputs": [],
   "source": [
    "(c_inf, c_sup) = critical_values(diffs)\n",
    "assert_equal(round(c_inf, 2), -4.43)\n",
    "assert_equal(round(c_sup, 2), 4.2)"
   ]
  },
  {
   "cell_type": "markdown",
   "metadata": {
    "id": "h8tHO51AziU5"
   },
   "source": [
    "**b)** Calcule o p-valor.\n",
    "\n",
    "Lembrete: o p-valor consiste na área a cima (ou abaixo, a depender do sinal) da estatística de teste. Consiste na probabilidade de valores superiores (ou inferiores) ao da estatística de teste.\n",
    "\n",
    "Altere a função abaixo para retornar o p-valor, com base na estatística de teste."
   ]
  },
  {
   "cell_type": "code",
   "execution_count": 117,
   "metadata": {
    "id": "wgkiccKU6GZm"
   },
   "outputs": [],
   "source": [
    "def p_value(t_obs, diffs):\n",
    "  # deve retornar o p-valor ou seja,\n",
    "  # a probabilidade de termos uma diferença maior que a estatística de teste\n",
    "  return "
   ]
  },
  {
   "cell_type": "code",
   "execution_count": 119,
   "metadata": {
    "id": "CNpgma-J6ch7"
   },
   "outputs": [],
   "source": [
    "result = t_obs2(df)\n",
    "foo = p_value(result, diffs)\n",
    "assert_equal(foo, 0.2578)"
   ]
  },
  {
   "cell_type": "markdown",
   "metadata": {
    "id": "_Fds0KxN4695"
   },
   "source": [
    "**5 - Conclusão**\n",
    "\n",
    "Altere a função a seguir para retornar o resultado do teste. \n",
    "\n",
    "Retorne `True` caso rejeite a hipótese nula e `False` caso não rejeite."
   ]
  },
  {
   "cell_type": "code",
   "execution_count": 120,
   "metadata": {
    "id": "40k8NcQ04s0h"
   },
   "outputs": [],
   "source": [
    "def resposta2(diffs, t_obs):\n",
    "  # voce pode escolher como quer fazer\n",
    "  # pode ser com base no p-valor calculado\n",
    "  # ou com base nos limites calculados e na estatística de teste\n",
    "  # porém, sua entrada deve ser o vetor diffs e a estatística de teste calculados anteriormente\n",
    "  return "
   ]
  },
  {
   "cell_type": "code",
   "execution_count": 121,
   "metadata": {
    "id": "jv9aaWWd5ZG-"
   },
   "outputs": [],
   "source": [
    "assert_equal(resposta2(diffs, result), False)"
   ]
  }
 ],
 "metadata": {
  "colab": {
   "collapsed_sections": [
    "ZDztiE2FnbnW",
    "Ng4RU3O4Fpbb",
    "dtFs7P-4cE2N",
    "DKoEh6wS8CtB"
   ],
   "name": "sol.ipynb",
   "provenance": []
  },
  "kernelspec": {
   "display_name": "Python 3 (ipykernel)",
   "language": "python",
   "name": "python3"
  },
  "language_info": {
   "codemirror_mode": {
    "name": "ipython",
    "version": 3
   },
   "file_extension": ".py",
   "mimetype": "text/x-python",
   "name": "python",
   "nbconvert_exporter": "python",
   "pygments_lexer": "ipython3",
   "version": "3.11.3"
  },
  "vscode": {
   "interpreter": {
    "hash": "190605ead3d59fdd7149d57090309db6515571225da4d448ac9f06d043bf74ec"
   }
  }
 },
 "nbformat": 4,
 "nbformat_minor": 1
}
