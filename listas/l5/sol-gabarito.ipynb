{
 "cells": [
  {
   "cell_type": "markdown",
   "metadata": {
    "id": "rd_ntNa1msHv"
   },
   "source": [
    "# Lista 5 - Testes de Hipótese"
   ]
  },
  {
   "cell_type": "markdown",
   "metadata": {
    "id": "ZDztiE2FnbnW"
   },
   "source": [
    "## Testes A/B"
   ]
  },
  {
   "cell_type": "markdown",
   "metadata": {
    "id": "LeMcT5nnoBdK"
   },
   "source": [
    "Testes A/B são uma metodologia muito utilizada para detectarmos diferenças significativas entre dois grupos, geralmente chamados controle e teste. \n",
    "\n",
    "**Exemplo:** Há eficácia na prevenção de morte de uma determinada vacina contra a Covid? \n",
    "\n",
    "Para isso, teremos:\n",
    "- Grupo de controle: placebo.\n",
    "- Grupo de teste: vacina.\n",
    "\n",
    "**Solução:** Realizamos amostragem bootstrap de cada grupo e plotamos boxplots das médias encontradas. No final comparamos as médias dos grupos para ver se há diferença significativa entre o número de mortos de cada grupo.\n",
    "\n",
    "Vamos ver um exemplo prático de como realizar um teste A/B para dados reais.\n",
    "\n",
    "Começamos importando a biblioteca pandas e carregando os dados do Enem2015. Em seguida, agrupamos pela variável 'DEPENDENCIA_ADMINISTRATIVA' para relembrarmos a distribuição dos dados."
   ]
  },
  {
   "cell_type": "code",
   "execution_count": 1,
   "metadata": {
    "id": "h48Su6gDmtyD"
   },
   "outputs": [],
   "source": [
    "import numpy as np\n",
    "import matplotlib.pyplot as plt\n",
    "import pandas as pd\n",
    "\n",
    "from numpy.testing import assert_almost_equal\n",
    "from numpy.testing import assert_equal\n",
    "from numpy.testing import assert_array_almost_equal\n",
    "from numpy.testing import assert_array_equal"
   ]
  },
  {
   "cell_type": "code",
   "execution_count": 2,
   "metadata": {},
   "outputs": [],
   "source": [
    "np.random.seed(30091985)"
   ]
  },
  {
   "cell_type": "code",
   "execution_count": 3,
   "metadata": {
    "colab": {
     "base_uri": "https://localhost:8080/",
     "height": 204
    },
    "id": "hEFty4thFRkL",
    "outputId": "ebff3e8d-6dc0-4010-98b9-51764ffd8d57"
   },
   "outputs": [],
   "source": [
    "url = 'https://github.com/icd-ufmg/icd-ufmg.github.io/raw/master/listas/l4/enem2015.csv'\n",
    "data = pd.read_csv(url)\n",
    "\n",
    "tmp = data.groupby('DEPENDENCIA_ADMINISTRATIVA').count()\n",
    "tmp.head()"
   ]
  },
  {
   "cell_type": "markdown",
   "metadata": {
    "id": "q0hOdpr3ptK7"
   },
   "source": [
    "Imagine que queremos testar se existe diferença entre as médias da variável 'NOTA_MEDIA_ESCOLA' para escolas com 'DEPENDENCIA_ADMINISTRATIVA' Federal e Municipal. Matematicamente, queremos testar se:\n",
    "\n",
    " $$\\mu_{Municipal} = \\mu_{Federal},$$\n",
    " \n",
    " onde $\\mu$ é a média da variável 'NOTA_MEDIA_ESCOLA'.\n",
    "\n",
    " Vamos utilizar os códigos da lista anterior e da aula de testes A/B como base para realização do *bootstrap*."
   ]
  },
  {
   "cell_type": "code",
   "execution_count": 4,
   "metadata": {
    "id": "2B3dK8Y5zxOp"
   },
   "outputs": [],
   "source": [
    "def bootstrap_mean(df1, df2, column, n=10000):\n",
    "    size1 = len(df1)\n",
    "    size2 = len(df2)\n",
    "    values1 = np.zeros(n)\n",
    "    values2 = np.zeros(n)\n",
    "    values_diff = np.zeros(n)\n",
    "    for i in range(n):\n",
    "        sample1 = df1[column].sample(size1, replace=True)\n",
    "        sample2 = df2[column].sample(size2, replace=True)\n",
    "        values1[i] = sample1.mean()\n",
    "        values2[i] = sample2.mean()\n",
    "        values_diff[i] = sample1.mean() - sample2.mean()\n",
    "    return values1, values2, values_diff\n",
    "\n",
    "federal = data[data['DEPENDENCIA_ADMINISTRATIVA']=='Federal']\n",
    "municipal = data[data['DEPENDENCIA_ADMINISTRATIVA']=='Municipal']\n",
    "col = 'NOTA_MEDIA_ESCOLA'\n",
    "v_fed, v_mun, v_diff = bootstrap_mean(federal, municipal, col)"
   ]
  },
  {
   "cell_type": "markdown",
   "metadata": {
    "id": "B4s0moPjY8CY"
   },
   "source": [
    "Em seguida plotamos os boxplots de cada grupo e avaliamos se há intersecção da amplitude dos valores para cada tipo de escola."
   ]
  },
  {
   "cell_type": "code",
   "execution_count": 5,
   "metadata": {
    "colab": {
     "base_uri": "https://localhost:8080/",
     "height": 409
    },
    "id": "TnqWDrkJrcHb",
    "outputId": "d1fdfbd0-ec17-4c90-ef47-ef5316672c79"
   },
   "outputs": [],
   "source": [
    "bp_data = [v_fed, v_mun]\n",
    "\n",
    "plt.rcParams['figure.figsize']  = (8, 6)\n",
    "plt.boxplot(bp_data, whis=[2.5, 97.5], positions=[1,2], showfliers=False, showmeans=True)\n",
    "plt.xticks([1,2], ['Municipal', 'Federal'], fontsize=10)\n",
    "plt.ylabel('', fontsize=13)\n",
    "plt.xlabel('DEPENDENCIA_ADMINISTRATIVA', fontsize=12)\n",
    "plt.title('Notas Médias das Escolas por Dependência Administrativa', fontsize=14)\n",
    "plt.show()"
   ]
  },
  {
   "cell_type": "markdown",
   "metadata": {
    "id": "WPC0ldxeZGW8"
   },
   "source": [
    "Podemos observar que os boxplots não se cruzam, com evidência de que as médias das `NOTAS_MEDIA_ESCOLA` para escolas Federais são maiores que para escolas com `DEPENDENCIA_ADMINISTRATIVA` Municipal.\n",
    "\n",
    "Outra maneira de realizarmos essa comparação entre as médias de dois grupos é computarmos a diferença entre as médias a cada amostragem *bootstrap* feita e analisarmos apenas o boxplot das diferenças. O código anterior computa essa diferença na variável `values` e o seguinte plota o boxplot de tais diferenças."
   ]
  },
  {
   "cell_type": "code",
   "execution_count": 6,
   "metadata": {
    "colab": {
     "base_uri": "https://localhost:8080/",
     "height": 409
    },
    "id": "WTDCHkEayt-I",
    "outputId": "6308f221-d029-484a-ae0c-4fea8fad4105"
   },
   "outputs": [],
   "source": [
    "plt.rcParams['figure.figsize']  = (8, 6)\n",
    "\n",
    "plt.boxplot(v_diff, whis=[2.5, 97.5], showfliers=False, showmeans=True)\n",
    "plt.xticks([1], ['Valor'], fontsize=10)\n",
    "plt.ylabel(col, fontsize=12)\n",
    "plt.xlabel('Diferença Municipal e Federal', fontsize=12)\n",
    "plt.title('Diferença das Notas Médias das Escolas Municipais e Federais', fontsize=14)\n",
    "plt.show()"
   ]
  },
  {
   "cell_type": "markdown",
   "metadata": {
    "id": "PSclkqRKu-ZA"
   },
   "source": [
    "Nesse caso, para que as médias sejam consideradas iguais, analisamos se o *boxplot* gerado após o processo de amostragem, contém o valor 0. Como não é o caso, podemos afirmar que existem evidências de que as médias dos grupos comparados são distintas.\n",
    "\n",
    "Note também, que alteramos o código do boxplot para que os limites sejam relativos aos percentis para um nível de 5% de significância, oque é um valor diferente de como é normalmente calculado os limites de um boxplot."
   ]
  },
  {
   "cell_type": "code",
   "execution_count": 7,
   "metadata": {
    "colab": {
     "base_uri": "https://localhost:8080/"
    },
    "id": "PkxMYpQRaJJ2",
    "outputId": "63450c40-f2be-4a64-e98b-adb35e324685"
   },
   "outputs": [],
   "source": [
    "print('2.5% PERCENTIL: ', np.percentile(v_diff, 2.5).round(4))\n",
    "print('97.5% PERCENTIL: ', np.percentile(v_diff, 97.5).round(4))"
   ]
  },
  {
   "cell_type": "code",
   "execution_count": 8,
   "metadata": {},
   "outputs": [],
   "source": [
    "data.groupby(\"DEPENDENCIA_ADMINISTRATIVA\").median()"
   ]
  },
  {
   "cell_type": "markdown",
   "metadata": {
    "id": "SNtvG1pX8eDr"
   },
   "source": [
    "## Exercício 1"
   ]
  },
  {
   "cell_type": "markdown",
   "metadata": {
    "id": "B5fOIVXN8hKQ"
   },
   "source": [
    "Altere o código abaixo para retornar `True` ou `False` ao comparar se há diferença para as medianas da variável `TAXA_DE_PARTICIPACAO` entre escolas de `DEPENDENCIA_ADMINISTRATIVA` indicadas, a dado nível de significância. \n",
    "\n",
    "A função deve retornar `True` se houver diferença e `False` se não houver diferença entre as medianas testadas.\n",
    "\n",
    "**Exemplo:** Se $\\alpha = 0.05$, os percentis serão 2.5 e 97.5."
   ]
  },
  {
   "cell_type": "code",
   "execution_count": 9,
   "metadata": {
    "id": "Sl7irCSwziZz"
   },
   "outputs": [],
   "source": [
    "def percent(df1, df2, alpha):\n",
    "  # deve retornar True se houver diferença e False se não houver diferença\n",
    "  # entre as medianas testadas\n",
    "    \n",
    "    #PEDRO: especificar a coluna requerida:\n",
    "    column = \"TAXA_DE_PARTICIPACAO\"\n",
    "\n",
    "\n",
    "    n=5000\n",
    "    size1 = len(df1)\n",
    "    size2 = len(df2)\n",
    "    values_diff = []\n",
    "    for i in range(n):\n",
    "        sample1 = df1[column].sample(size1, replace=True)\n",
    "        sample2 = df2[column].sample(size2, replace=True)\n",
    "        median1 = sample1.median()\n",
    "        median2 = sample2.median()\n",
    "        values_diff.append(median1 - median2)\n",
    "        #print(median1, median2, median1 - median2)\n",
    "    alpha = alpha * 100\n",
    "    min_dif = np.percentile(values_diff, alpha/2)\n",
    "    max_dif = np.percentile(values_diff, 100-alpha/2)\n",
    "    print(min_dif, max_dif)\n",
    "    test =  not (min_dif < 0 and max_dif > 0)\n",
    "    return test"
   ]
  },
  {
   "cell_type": "markdown",
   "metadata": {
    "id": "ZcYG435i82zS"
   },
   "source": [
    "**a)** Privada e Estadual, com $\\alpha=0.1$"
   ]
  },
  {
   "cell_type": "code",
   "execution_count": 10,
   "metadata": {
    "id": "Jot3mxYT9IEi"
   },
   "outputs": [],
   "source": [
    "privada = data[data['DEPENDENCIA_ADMINISTRATIVA']=='Privada']\n",
    "estadual = data[data['DEPENDENCIA_ADMINISTRATIVA']=='Estadual']\n",
    "alpha = 0.01\n",
    "result = percent(privada, estadual, alpha)\n",
    "\n",
    "assert_equal(result, True)"
   ]
  },
  {
   "cell_type": "markdown",
   "metadata": {
    "id": "r8zFYRheCa32"
   },
   "source": [
    "**b)** Privada e Municipal, com $\\alpha=0.15$"
   ]
  },
  {
   "cell_type": "code",
   "execution_count": 11,
   "metadata": {
    "id": "l6pLIqOxABnI"
   },
   "outputs": [],
   "source": [
    "df1 = data[data['DEPENDENCIA_ADMINISTRATIVA']=='Privada']\n",
    "df2 = data[data['DEPENDENCIA_ADMINISTRATIVA']=='Municipal']\n",
    "alpha = 0.15\n",
    "result = percent(df1, df2, alpha)\n",
    "\n",
    "assert_equal(result, True)"
   ]
  },
  {
   "cell_type": "markdown",
   "metadata": {
    "id": "M8qatfSLCoCy"
   },
   "source": [
    "**c)** Privada e Federal, com $\\alpha=0.001$"
   ]
  },
  {
   "cell_type": "code",
   "execution_count": 12,
   "metadata": {
    "id": "DHdIkG21EGES"
   },
   "outputs": [],
   "source": [
    "df1 = data[data['DEPENDENCIA_ADMINISTRATIVA']=='Federal']\n",
    "df2 = data[data['DEPENDENCIA_ADMINISTRATIVA']=='Privada']\n",
    "alpha = 0.0001\n",
    "result = percent(df1, df2, alpha)\n",
    "\n",
    "assert_equal(result, False)"
   ]
  },
  {
   "cell_type": "markdown",
   "metadata": {
    "id": "Ng4RU3O4Fpbb"
   },
   "source": [
    "## Teste de Permutação"
   ]
  },
  {
   "cell_type": "markdown",
   "metadata": {
    "id": "GYVTlE4TN0PR"
   },
   "source": [
    "- **Teste via *Bootstrap*:** Geramos várias sub-amostras com base na amostra disponível.\n",
    "- **Teste de Permutação:** Simulamos a população com base em conhecimentos/suposições da mesma.\n",
    "\n",
    "**Exemplo:** Suponha que eu jogue uma moeda para o alto 30 vezes e obtenho 23 caras e 7 coroas. Essa moeda pode ser considerada uma moeda honesta?\n",
    "\n",
    "Sabemos que uma moeda honesta apresenta 50% de chance de cair em cada lado. Logo, em 30 lançamentos o valor esperado seria 15 caras e 15 coroas. Mas a independencia entre um lançamento e outro nos garante que nem sempre isso será verdade. \n",
    "\n",
    "Nesse momento que aplica-se teste de permutação.\n",
    "\n",
    "O lançamento da moeda consistem em uma variável aleatória Bernoulli com média $p = 7/30$ e variância $p(1-p)$.\n",
    "\n",
    "Queremos testar a hipótese nula de que a moeda é honesta, pois queremos um SINAL caso ela não seja."
   ]
  },
  {
   "cell_type": "code",
   "execution_count": 13,
   "metadata": {
    "colab": {
     "base_uri": "https://localhost:8080/"
    },
    "id": "V5csnMkdNm5m",
    "outputId": "aad5daab-da7f-45ae-9f8a-d95793e4f9d1"
   },
   "outputs": [],
   "source": [
    "# definindo semente para reprodutibilidade\n",
    "np.random.seed(13)\n",
    "\n",
    "# criando 100k lançamentos meio a meio (moeda honesta)\n",
    "pop_size = 10**5\n",
    "data = np.zeros(pop_size)\n",
    "data[:int(pop_size/2)] = 1 # número de caras\n",
    "\n",
    "# definindo experimento - 1k experimentos com 30 amostras cada\n",
    "size = 30\n",
    "simulations = np.zeros(1000)\n",
    "simulations1 = np.zeros(1000)\n",
    "for i in range(1000):\n",
    "  np.random.shuffle(data)\n",
    "  tmp = data[:size]\n",
    "  num_k = (tmp == 1).sum()\n",
    "  prop = num_k/size\n",
    "  simulations[i] = num_k\n",
    "  simulations1[i] = prop\n",
    "\n",
    "# histogramas dos resultados - contagem de caras e probabilidade\n",
    "fig, (ax1, ax2) = plt.subplots(1, 2, figsize=(11, 6))\n",
    "\n",
    "ax1.hist(simulations, color='#A3333D', alpha=0.9, density=False, bins=15, rwidth=0.9)\n",
    "ax1.set_xlabel('Número de Caras', fontsize=13)\n",
    "ax1.set_ylabel('Frequências', fontsize=13)\n",
    "ax1.set_title('Histograma do Número de Caras', fontsize=16)\n",
    "\n",
    "ax2.hist(simulations1, color='#A3333D', alpha=0.9, density=False, bins=15, rwidth=0.9)\n",
    "ax2.set_xlabel('Proporção de Caras', fontsize=13)\n",
    "ax2.set_ylabel('Frequências', fontsize=13)\n",
    "ax2.set_title('Histograma da Proporção de Caras', fontsize=16)\n",
    "\n",
    "fig.tight_layout()\n",
    "plt.show()"
   ]
  },
  {
   "cell_type": "code",
   "execution_count": 14,
   "metadata": {
    "colab": {
     "base_uri": "https://localhost:8080/"
    },
    "id": "GUlUDqyEScq4",
    "outputId": "2c37d135-3e79-4d31-ec87-54ced3418cd4"
   },
   "outputs": [],
   "source": [
    "alpha=0.05\n",
    "\n",
    "count_inf = np.percentile(simulations, (alpha/2)*100).round(2)\n",
    "count_sup = np.percentile(simulations, (1-alpha/2)*100).round(2)\n",
    "print('COUNT INF: ', count_inf)\n",
    "print('COUNT SUP: ', count_sup)\n",
    "\n",
    "prop_inf = np.percentile(simulations1, (alpha/2)*100).round(2)\n",
    "prop_sup = np.percentile(simulations1, (1-alpha/2)*100).round(2)\n",
    "print('PROP INF:', prop_inf)\n",
    "print('PROP SUP: ', prop_sup)\n"
   ]
  },
  {
   "cell_type": "markdown",
   "metadata": {
    "id": "MDNS48bWbH6m"
   },
   "source": [
    "Note que se pegarmos 95% dos valores encontrados ao realizarmos 100k permutações, não estaremos incluindo casos com 23 caras e 7 coroas. Conclui-se que existem evidências que nos levam a rejeitar nossa hipótese nula de que a moeda é honesta a um nível de 5% de significância.\n",
    "\n",
    "Isso não quer dizer que não possa acontecer de termos 23 caras e 7 coroas, ou vice-versa, apenas que é muito raro."
   ]
  },
  {
   "cell_type": "markdown",
   "metadata": {
    "id": "dtFs7P-4cE2N"
   },
   "source": [
    "## Exercício 2"
   ]
  },
  {
   "cell_type": "markdown",
   "metadata": {
    "id": "mbJW9BN1l_ts"
   },
   "source": [
    "Você é o agente de um jogador da NBA que pretende receber o salário mais alto possível. Porém, apenas dois times estão interessados no jogador que você representa: Charlotte Hornets e Phoenix Suns. Ele notou que há uma diferença entre os dois times em relação ao salário médio e lhe pediu para checar se essa diferença pode ser explicada pelo acaso ou não.\n",
    "\n",
    "Você utilizará o seguinte dataframe."
   ]
  },
  {
   "cell_type": "code",
   "execution_count": 15,
   "metadata": {
    "colab": {
     "base_uri": "https://localhost:8080/",
     "height": 142
    },
    "id": "KG4yB1rVbigC",
    "outputId": "639ed7e6-4231-45ce-d52f-55d07d4ddb13"
   },
   "outputs": [],
   "source": [
    "df = pd.read_csv('https://media.githubusercontent.com/media/icd-ufmg/material/master/aulas/11-Hipoteses/nba_salaries.csv')\n",
    "df.head()\n",
    "\n",
    "# diferença dos salários médios\n",
    "df[df['TEAM'].isin(['Charlotte Hornets', 'Phoenix Suns'])].groupby('TEAM').mean()"
   ]
  },
  {
   "cell_type": "code",
   "execution_count": 16,
   "metadata": {},
   "outputs": [],
   "source": [
    "df"
   ]
  },
  {
   "cell_type": "markdown",
   "metadata": {
    "id": "InnuZQutsZ5_"
   },
   "source": [
    "**a)** Qual a estatística de teste?"
   ]
  },
  {
   "cell_type": "code",
   "execution_count": 17,
   "metadata": {
    "id": "hBtkrgXQrzva"
   },
   "outputs": [],
   "source": [
    "data = df[df['TEAM'].isin(['Charlotte Hornets', 'Phoenix Suns'])]\n",
    "def t_obs(data):\n",
    "  df_grouped = data.groupby('TEAM').mean()\n",
    "  return (df_grouped.iloc[1] - df_grouped.iloc[0])['SALARY']"
   ]
  },
  {
   "cell_type": "code",
   "execution_count": 18,
   "metadata": {
    "id": "uuqjfbit2hP1"
   },
   "outputs": [],
   "source": [
    "result = t_obs(data)\n",
    "assert_equal(round(result, 2), -1.70)"
   ]
  },
  {
   "cell_type": "markdown",
   "metadata": {
    "id": "VOPiPpLn0sVi"
   },
   "source": [
    "**b)** Agora responda ao jogador: Há diferença de salário significativa entre os clubes?\n",
    "\n",
    "Utilize um nível de significância de 10%."
   ]
  },
  {
   "cell_type": "code",
   "execution_count": 19,
   "metadata": {
    "id": "9vSM1590vpMO"
   },
   "outputs": [],
   "source": [
    "def resposta(data):\n",
    "  # retorna True se a diferença puder ser explicada pelo acaso\n",
    "  # retorna False se houver diferença significativa entre os salários\n",
    "\n",
    "  n = 5000\n",
    "  difs = []\n",
    "\n",
    "  for i in range(n):\n",
    "    data_tmp = data.copy()\n",
    "    teams = list(data_tmp['TEAM'].values)\n",
    "    np.random.shuffle(teams)\n",
    "    data_tmp['SHUFFLED_TEAM'] = teams\n",
    "    dif = data_tmp.query(\"SHUFFLED_TEAM == 'Phoenix Suns'\")['SALARY'].mean() - data_tmp.query(\"SHUFFLED_TEAM == 'Charlotte Hornets'\")['SALARY'].mean()\n",
    "    difs.append(dif)\n",
    "\n",
    "  minv = np.percentile(difs, 5)\n",
    "  maxv = np.percentile(difs, 95)\n",
    "\n",
    "  #print(minv, maxv)\n",
    "\n",
    "  test = t_obs(data) >= minv and t_obs(data) <= maxv\n",
    "\n",
    "  return test"
   ]
  },
  {
   "cell_type": "code",
   "execution_count": 20,
   "metadata": {
    "id": "j0XZ3Nyj3k7s"
   },
   "outputs": [],
   "source": [
    "result = resposta(data)\n",
    "assert_equal(result, True)"
   ]
  },
  {
   "cell_type": "markdown",
   "metadata": {
    "id": "DKoEh6wS8CtB"
   },
   "source": [
    "## P-valor e Significância"
   ]
  },
  {
   "cell_type": "markdown",
   "metadata": {
    "id": "g97d8gD-8KXG"
   },
   "source": [
    "P-valor, ou valor-p, nada mais é do que a probabilidade de obter certo resultado de teste dada uma distribuição, ou seja, é a probabilidade do resultado ser o valor da estatística de teste.\n",
    "\n",
    "Com o a estatística de teste encontramos uma probabilidade associada, o P-valor.\n",
    "\n",
    "Já para significância o raciocínio é o oposto. Dado um nível de significância (probabilidade), encontramos o(s) valor(es) associado(s). Para um teste unilateral, teremos um valor e o nível de significância se mantém. Para um teste bilateral teremos dois valores e o nível de significância divide-se em dois. \n",
    "\n",
    "\n",
    "Veja o seguinte exemplo, com uma distribuição Normal de média 0 e variância 1."
   ]
  },
  {
   "cell_type": "code",
   "execution_count": null,
   "metadata": {
    "colab": {
     "base_uri": "https://localhost:8080/",
     "height": 378
    },
    "id": "b8QOFF4d-cA8",
    "outputId": "eb1a5580-00f1-40a4-c3c3-9504fc190be4"
   },
   "outputs": [],
   "source": [
    "# Gerando 10k dados de uma distribuição normal\n",
    "np.random.seed(16)\n",
    "x = np.random.normal(0, 1, 5000)\n",
    "\n",
    "# normalizando apenas para deixar mais simétrico\n",
    "data = (x - x.mean()) / x.std()\n",
    "plt.hist(data, bins=15, rwidth=0.95)\n",
    "\n",
    "# calculando percentis para um intervalo de 95% de confiança (5% de significância)\n",
    "li = np.percentile(data, 2.5)\n",
    "ls = np.percentile(data, 97.5)\n",
    "\n",
    "# plotando\n",
    "plt.fill_between([li, ls], 4, 2000, color='grey', alpha=0.8)\n",
    "plt.ylim(top=2000)\n",
    "plt.show()"
   ]
  },
  {
   "cell_type": "markdown",
   "metadata": {
    "id": "wBa3caq7EgEi"
   },
   "source": [
    "Os limites cinzas são definidos com base no percentil da distribuição. Encontramos esses pontos com base no nível de significância. Um nível de significância de 5% indica que a área cinza contém 95% dos dados enquanto a ára branca contém os demais 5%, sendo 2,5% para baixo e 2,5% para cima.\n",
    "\n",
    "Quando o interesse for analisar apenas um lado da distribuição, devemos alterar o valor do percentil, como no código abaixo."
   ]
  },
  {
   "cell_type": "code",
   "execution_count": null,
   "metadata": {
    "colab": {
     "base_uri": "https://localhost:8080/",
     "height": 378
    },
    "id": "Xgp4n7GO_Pyp",
    "outputId": "57fba090-6736-477d-c51c-a09964fe248e"
   },
   "outputs": [],
   "source": [
    "# normalizando apenas para deixar mais simétrico\n",
    "data = (x - x.mean()) / x.std()\n",
    "plt.hist(data, bins=15, rwidth=0.95)\n",
    "\n",
    "# calculando percentis para um intervalo de 95% de confiança (5% de significância)\n",
    "li = np.percentile(data, 5)\n",
    "\n",
    "# plotando\n",
    "plt.fill_between([li, 5], 4, 2000, color='grey', alpha=0.8)\n",
    "plt.ylim(top=2000)\n",
    "plt.xlim(right=4)\n",
    "plt.show()"
   ]
  },
  {
   "cell_type": "markdown",
   "metadata": {
    "id": "4LJFSYwGFPBl"
   },
   "source": [
    "Nesse caso, temos 5% dos dados à esquerda e o restante a direita. Note que o nível de significância se manteve constante, porém o valor de corte se alterou."
   ]
  },
  {
   "cell_type": "markdown",
   "metadata": {
    "id": "vGCB7Ct36xnF"
   },
   "source": [
    "## Exercício 3"
   ]
  },
  {
   "cell_type": "markdown",
   "metadata": {
    "id": "-uCwiIOygNNi"
   },
   "source": [
    "Neste exercício iremos realizar todas as etapas de um teste de hipóteses. Utilizaremos teste de permutação, porém a metodologia é bem semelhante nos outros casos também, e nos ajuda a mantermos uma linha de raciocínio muito clara e objetiva.\n",
    "\n",
    "\n",
    "**Exercício:** Utilizaremos um novo conjunto de dados da NBA. Desejamos testar se há uma diferença significativa na altura dos jogadores dos times Cleveland Cavaliers e Golden State Warriors na temporada 2017-18, a um nível de significância de 5%.\n",
    "\n",
    "**Raciocínio:** \n",
    "- 1 - Definir as hipóteses nula e alternativa.\n",
    "- 2 - Encontrar a estatística de teste.\n",
    "- 3 - Resampling/Shuffle de acordo com a hipótese nula.\n",
    "- 4 - Encontrar os valores crítios/calcular o p-valor.\n",
    "- 5 - Concluir (rejeitar ou não a hipótese)."
   ]
  },
  {
   "cell_type": "code",
   "execution_count": 21,
   "metadata": {
    "colab": {
     "base_uri": "https://localhost:8080/",
     "height": 309
    },
    "id": "ADF-tlzK60yX",
    "outputId": "d597bc92-6aa0-4a3b-be81-396a4e30220e"
   },
   "outputs": [],
   "source": [
    "# preparação do dataset já está pronta\n",
    "data = pd.read_csv('https://raw.githubusercontent.com/pedroharaujo/ICD_Docencia/master/all_seasons.csv', index_col=0)\n",
    "df = data[(data['team_abbreviation'].isin(['GSW', 'CLE'])) & (data['season'] == '2017-18')]\n",
    "df.head()"
   ]
  },
  {
   "cell_type": "markdown",
   "metadata": {
    "id": "Z-ZdKsRisz7n"
   },
   "source": [
    "1 - Definir as hipóteses!\n",
    "\n",
    "$$H_0: \\mu_{CLE} = \\mu_{GSW}$$\n",
    "\n",
    "$$H_1: \\mu_{CLE} \\neq \\mu_{GSW}$$\n",
    "\n",
    "Ou ainda\n",
    "\n",
    "$$H_0: \\mu_{CLE} - \\mu_{GSW} = 0$$\n",
    "\n",
    "$$H_1: \\mu_{CLE} - \\mu_{GSW} \\neq 0$$\n",
    "\n",
    "Note que como estamos testando a hipótese alternativa como DIFERENTE, o teste é bilateral. Logo, deveremos dividir o nível de significância em duas regiões cada uma com metade do valor."
   ]
  },
  {
   "cell_type": "markdown",
   "metadata": {
    "id": "YOWsagqou_J2"
   },
   "source": [
    "**2 - Encontre a estatística de teste**\n",
    "\n",
    "Altere a função abaixo para que retorne a estatística de teste."
   ]
  },
  {
   "cell_type": "code",
   "execution_count": 22,
   "metadata": {
    "id": "Zcq1OVmWwOKn"
   },
   "outputs": [],
   "source": [
    "def t_obs2(data):\n",
    "  # deve retornar o valor da estatística de teste\n",
    "  # YOUR CODE HERE!!\n",
    "\n",
    "  h_gsw = data.query('team_abbreviation == \"GSW\"')['player_height'].mean()\n",
    "  h_cle = data.query('team_abbreviation == \"CLE\"')['player_height'].mean()\n",
    "\n",
    "  return h_cle - h_gsw"
   ]
  },
  {
   "cell_type": "code",
   "execution_count": 23,
   "metadata": {
    "id": "T-NFRmQhvx5C"
   },
   "outputs": [],
   "source": [
    "result = t_obs2(df)\n",
    "assert_equal(round(result, 2), -1.43)"
   ]
  },
  {
   "cell_type": "markdown",
   "metadata": {
    "id": "IG10gfQ8u-XA"
   },
   "source": [
    "3 - Resampling/Shuffle\n",
    "\n",
    "Sempre de acordo com a hipótese nula! Ou seja, se estamos querendo testar se a média de pontos entre os times é igual, devemos remover o fator TIME da equação para podermos comparar.\n",
    "\n",
    "Como já fizemos isso anteriormente, essa função já será dada aqui. Note que atribuímos uma semente diferente de acordo com o valor de $i$ no *loop*, de forma a deixar o experimento replicável."
   ]
  },
  {
   "cell_type": "code",
   "execution_count": 24,
   "metadata": {
    "id": "0yNd92_Ju-vU"
   },
   "outputs": [],
   "source": [
    "def shuffling(data):\n",
    "  N = 5000\n",
    "  filtro = data['team_abbreviation'] == 'GSW'\n",
    "  t_obs = data[filtro]['player_height'].mean() - data[~filtro]['player_height'].mean()\n",
    "  diffs = np.zeros(N)\n",
    "  for i in range(N):\n",
    "    np.random.seed(i)\n",
    "    np.random.shuffle(filtro.values)\n",
    "    diffs[i] = data[filtro]['player_height'].mean() - data[~filtro]['player_height'].mean()\n",
    "  return diffs\n",
    "\n",
    "diffs = shuffling(df)"
   ]
  },
  {
   "cell_type": "markdown",
   "metadata": {
    "id": "QUyGMcswyStG"
   },
   "source": [
    "**4 - Encontrar valores críticos/Calcular o p-valor**\n",
    "\n",
    "**a)** Altere a função abaixo para que calcule os valores críticos."
   ]
  },
  {
   "cell_type": "code",
   "execution_count": 25,
   "metadata": {
    "id": "rphmacfvyFGE"
   },
   "outputs": [],
   "source": [
    "def critical_values(diffs):\n",
    "  # deve retornar uma tupla com os valores criticos\n",
    "  # exemplo: (critico_inferior, critico_superior)\n",
    "  return np.percentile(diffs, 2.5), np.percentile(diffs, 97.5)"
   ]
  },
  {
   "cell_type": "code",
   "execution_count": 26,
   "metadata": {
    "id": "wN6De7Qiy7ee"
   },
   "outputs": [],
   "source": [
    "(c_inf, c_sup) = critical_values(diffs)\n",
    "assert_equal(round(c_inf, 2), -4.43)\n",
    "assert_equal(round(c_sup, 2), 4.2)"
   ]
  },
  {
   "cell_type": "markdown",
   "metadata": {
    "id": "h8tHO51AziU5"
   },
   "source": [
    "**b)** Calcule o p-valor.\n",
    "\n",
    "Lembrete: o p-valor consiste na área a cima (ou abaixo, a depender do sinal) da estatística de teste. Consiste na probabilidade de valores superiores (ou inferiores) ao da estatística de teste.\n",
    "\n",
    "Altere a função abaixo para retornar o p-valor, com base na estatística de teste."
   ]
  },
  {
   "cell_type": "code",
   "execution_count": 27,
   "metadata": {
    "id": "wgkiccKU6GZm"
   },
   "outputs": [],
   "source": [
    "def p_value(t_obs, diffs):\n",
    "  # deve retornar o p-valor ou seja,\n",
    "  # a probabilidade de termos uma diferença maior que a estatística de teste\n",
    "  return sum(diffs < t_obs)/len(diffs)"
   ]
  },
  {
   "cell_type": "code",
   "execution_count": 28,
   "metadata": {
    "id": "CNpgma-J6ch7"
   },
   "outputs": [],
   "source": [
    "result = t_obs2(df)\n",
    "foo = p_value(result, diffs)\n",
    "assert_equal(foo, 0.2578)"
   ]
  },
  {
   "cell_type": "markdown",
   "metadata": {
    "id": "_Fds0KxN4695"
   },
   "source": [
    "**5 - Conclusão**\n",
    "\n",
    "Altere a função a seguir para retornar o resultado do teste. \n",
    "\n",
    "Retorne `True` caso rejeite a hipótese nula e `False` caso não rejeite."
   ]
  },
  {
   "cell_type": "code",
   "execution_count": 29,
   "metadata": {
    "id": "40k8NcQ04s0h"
   },
   "outputs": [],
   "source": [
    "def resposta2(diffs, t_obs):\n",
    "  # voce pode escolher como quer fazer\n",
    "  # pode ser com base no p-valor calculado\n",
    "  # ou com base nos limites calculados e na estatística de teste\n",
    "  # porém, sua entrada deve ser o vetor diffs e a estatística de teste calculados anteriormente\n",
    "  return p_value(t_obs, diffs) < 0.05"
   ]
  },
  {
   "cell_type": "code",
   "execution_count": 30,
   "metadata": {
    "id": "jv9aaWWd5ZG-"
   },
   "outputs": [],
   "source": [
    "assert_equal(resposta2(diffs, result), False)"
   ]
  },
  {
   "cell_type": "code",
   "execution_count": null,
   "metadata": {},
   "outputs": [],
   "source": []
  },
  {
   "cell_type": "code",
   "execution_count": null,
   "metadata": {},
   "outputs": [],
   "source": []
  }
 ],
 "metadata": {
  "colab": {
   "collapsed_sections": [
    "ZDztiE2FnbnW",
    "Ng4RU3O4Fpbb",
    "dtFs7P-4cE2N",
    "DKoEh6wS8CtB"
   ],
   "name": "sol.ipynb",
   "provenance": []
  },
  "kernelspec": {
   "display_name": "Python 3 (ipykernel)",
   "language": "python",
   "name": "python3"
  },
  "language_info": {
   "codemirror_mode": {
    "name": "ipython",
    "version": 3
   },
   "file_extension": ".py",
   "mimetype": "text/x-python",
   "name": "python",
   "nbconvert_exporter": "python",
   "pygments_lexer": "ipython3",
   "version": "3.11.3"
  },
  "vscode": {
   "interpreter": {
    "hash": "190605ead3d59fdd7149d57090309db6515571225da4d448ac9f06d043bf74ec"
   }
  }
 },
 "nbformat": 4,
 "nbformat_minor": 1
}
