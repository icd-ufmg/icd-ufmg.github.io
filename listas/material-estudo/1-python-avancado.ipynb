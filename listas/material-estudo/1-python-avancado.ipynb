{
  "cells": [
    {
      "cell_type": "markdown",
      "metadata": {
        "id": "4LTmVEDQHqkO"
      },
      "source": [
        "# Python Não Tão Básico\n",
        "\n",
        "Aqui mostraremos alguns recursos mais avançados do Python que são úteis para processar e analisar dados."
      ]
    },
    {
      "cell_type": "markdown",
      "metadata": {
        "id": "3rj7L1SCHqkR"
      },
      "source": [
        "## Ordenação\n",
        "\n",
        "Todas as listas em Python tem um método `sort` que a ordena. Se você não quiser alterar a sua lista, você pode usar a função `sorted`, que retorna uma lista nova:"
      ]
    },
    {
      "cell_type": "code",
      "execution_count": null,
      "metadata": {
        "id": "zFO9D7PPHqkR",
        "outputId": "53777d9b-760d-4bda-ec4c-182cf94de164"
      },
      "outputs": [
        {
          "name": "stdout",
          "output_type": "stream",
          "text": [
            "[4, 1, 2, 3] -> [1, 2, 3, 4]\n",
            "[1, 2, 3, 4]\n"
          ]
        }
      ],
      "source": [
        "x = [4,1,2,3]\n",
        "y = sorted(x)\n",
        "print(x, '->', y)\n",
        "x.sort()\n",
        "print(x)"
      ]
    },
    {
      "cell_type": "markdown",
      "metadata": {
        "id": "awpLiODwHqkS"
      },
      "source": [
        "Por padrão, os métodos `sort` e `sorted` ordenam uma lista do menor elemento para o maior a partir de comparações ingênuas dos elementos entre si."
      ]
    },
    {
      "cell_type": "markdown",
      "metadata": {
        "id": "HOyJKbgbHqkS"
      },
      "source": [
        "Se você quiser que os elementos sejam ordenados do maior para o menor, você pode especificar o parâmetro `reverse = True`. E em vez de comparar os próprios elementos, você pode comparar os resultados de uma função que você especifica a partir do parâmetro `key`:"
      ]
    },
    {
      "cell_type": "code",
      "execution_count": null,
      "metadata": {
        "id": "QteklqDmHqkT",
        "outputId": "6d8aee54-9fff-436c-a22f-82ac680cb5e8"
      },
      "outputs": [
        {
          "name": "stdout",
          "output_type": "stream",
          "text": [
            "[-4, 3, -2, 1]\n"
          ]
        }
      ],
      "source": [
        "# ordena a lista pelo valor absoluto dos elementos, do maior para o menor\n",
        "x = sorted([-4,1,-2,3], key=abs, reverse=True)\n",
        "print(x)"
      ]
    },
    {
      "cell_type": "markdown",
      "metadata": {
        "id": "X7rY_lsWHqkT"
      },
      "source": [
        "Outro exemplo, para ordenar listas de tuplas:"
      ]
    },
    {
      "cell_type": "code",
      "execution_count": null,
      "metadata": {
        "id": "hTFnpIY8HqkT",
        "outputId": "585b0e32-3d53-4c57-a537-19a5225c9182"
      },
      "outputs": [
        {
          "name": "stdout",
          "output_type": "stream",
          "text": [
            "[('rose', 3), ('course', 2), ('suppose', 1)]\n"
          ]
        }
      ],
      "source": [
        "word_counts = [('suppose', 1), ('rose', 3), ('course', 2)]\n",
        "\n",
        "# ordena as palavras e contagens da maior para a menor\n",
        "wc = sorted(word_counts,\n",
        "            key=lambda wcs: wcs[1],\n",
        "            reverse=True)\n",
        "\n",
        "print(wc)"
      ]
    },
    {
      "cell_type": "markdown",
      "metadata": {
        "id": "PXngF26yHqkU"
      },
      "source": [
        "## Formação de listas\n",
        "\n",
        "Frequentemente, você quer transformar uma lista em outra lista, escolhendo apenas determinados elementos, ou modificando elementos, ou ambos. A maneira pythônica de fazer isso é através de operadores de formação de listas (*list comprehensions*):"
      ]
    },
    {
      "cell_type": "code",
      "execution_count": null,
      "metadata": {
        "id": "h8ngafGOHqkU",
        "outputId": "99341b0b-08cd-46f1-990e-216e54da918b"
      },
      "outputs": [
        {
          "name": "stdout",
          "output_type": "stream",
          "text": [
            "[0, 2, 4]\n",
            "[0, 1, 4, 9, 16]\n",
            "[0, 4, 16]\n"
          ]
        }
      ],
      "source": [
        "even_numbers = [x for x in range(5) if x % 2 == 0]\n",
        "print(even_numbers)\n",
        "\n",
        "squares = [x * x for x in range(5)]\n",
        "print(squares)\n",
        "\n",
        "even_squares = [x * x for x in even_numbers]\n",
        "print(even_squares)"
      ]
    },
    {
      "cell_type": "markdown",
      "metadata": {
        "id": "OnTPT4PQHqkU"
      },
      "source": [
        "Você pode também transformar listas em dicionários ou conjuntos:"
      ]
    },
    {
      "cell_type": "code",
      "execution_count": null,
      "metadata": {
        "id": "Qolyg2lxHqkV",
        "outputId": "b48d3c05-1b0e-40f1-b819-373b0b2a3fcc"
      },
      "outputs": [
        {
          "name": "stdout",
          "output_type": "stream",
          "text": [
            "{0: 0, 1: 1, 2: 4, 3: 9, 4: 16}\n",
            "{1}\n"
          ]
        }
      ],
      "source": [
        "square_dict = { x : x * x for x in range(5) }\n",
        "print(square_dict)\n",
        "\n",
        "square_set = { x * x for x in [1, -1] }\n",
        "print(square_set)"
      ]
    },
    {
      "cell_type": "markdown",
      "metadata": {
        "id": "1o1J4awhHqkV"
      },
      "source": [
        "Se você não precisa dos valores da lista, pode-se usar o *underscore* `_` como a variável:"
      ]
    },
    {
      "cell_type": "code",
      "execution_count": null,
      "metadata": {
        "id": "uEmoEkBAHqkV",
        "outputId": "e57c7f43-8a94-4d38-db04-56ac2a9b5e3f"
      },
      "outputs": [
        {
          "name": "stdout",
          "output_type": "stream",
          "text": [
            "[0, 0, 0]\n"
          ]
        }
      ],
      "source": [
        "zeroes = [0 for _ in even_numbers] #mesmo tamanho de even_numbers\n",
        "print(zeroes)"
      ]
    },
    {
      "cell_type": "markdown",
      "metadata": {
        "id": "3yr01AayHqkV"
      },
      "source": [
        "A formação de uma lista pode incluir múltiplos `for`s:"
      ]
    },
    {
      "cell_type": "code",
      "execution_count": null,
      "metadata": {
        "id": "YLqt-MbGHqkV",
        "outputId": "bd7853ab-25ca-40a6-962a-bac406919d76"
      },
      "outputs": [
        {
          "name": "stdout",
          "output_type": "stream",
          "text": [
            "[(0, 0), (0, 1), (0, 2), (1, 0), (1, 1), (1, 2), (2, 0), (2, 1), (2, 2)]\n"
          ]
        }
      ],
      "source": [
        "pairs = [(x, y)\n",
        "         for x in range(3)\n",
        "         for y in range(3)]\n",
        "print(pairs)"
      ]
    },
    {
      "cell_type": "markdown",
      "metadata": {
        "id": "o38qS0_xHqkW"
      },
      "source": [
        "Os `for`s posteriores podem usar os resultados dos `for`s anteriores:"
      ]
    },
    {
      "cell_type": "code",
      "execution_count": null,
      "metadata": {
        "scrolled": true,
        "id": "qoFIpiOVHqkW",
        "outputId": "899ebfdd-7032-44cc-fe98-65699e98b68d"
      },
      "outputs": [
        {
          "name": "stdout",
          "output_type": "stream",
          "text": [
            "[(0, 1), (0, 2), (1, 2)]\n"
          ]
        }
      ],
      "source": [
        "#apenas pares em que x < y:\n",
        "increasing_pairs = [(x, y)\n",
        "                    for x in range(3)\n",
        "                    for y in range(x + 1, 3)]\n",
        "print(increasing_pairs)"
      ]
    },
    {
      "cell_type": "markdown",
      "metadata": {
        "id": "rT1NCvTCHqkW"
      },
      "source": [
        "Usaremos muito operações de formação de listas ao longo do curso."
      ]
    },
    {
      "cell_type": "markdown",
      "metadata": {
        "id": "o9SIMWwCHqkW"
      },
      "source": [
        "## Geradores e Iteradores\n",
        "\n",
        "Um problema com as listas é que elas podem facilmente crescer muito. O comando `range(1000000)` cria uma lista real de 1 milhão de elementos. Se você só precisa de lidar com um elemento de cada vez, isso pode ser uma enorme fonte de ineficiência (ou falta de memória). Ou então, se você potencialmente só precisa dos primeiros valores da lista, então uma lista muito grande é um enorme desperdício."
      ]
    },
    {
      "cell_type": "markdown",
      "metadata": {
        "id": "zhAnw3_wHqkW"
      },
      "source": [
        "Um gerador (ou *generator*) é algo que você pode iterar sobre ( geralmente usando `for`), mas cujos valores são produzidos apenas conforme necessário (preguiçosamente)."
      ]
    },
    {
      "cell_type": "markdown",
      "metadata": {
        "id": "mUg726cLHqkX"
      },
      "source": [
        "Uma maneira de criar geradores é com funções e o operador de `yield`:"
      ]
    },
    {
      "cell_type": "code",
      "execution_count": null,
      "metadata": {
        "id": "s2svQJWyHqkX"
      },
      "outputs": [],
      "source": [
        "def lazy_range(n):\n",
        "    \"\"\"a lazy version of range\"\"\"\n",
        "    i = 0\n",
        "    while i < n:\n",
        "        yield i\n",
        "        i += 1"
      ]
    },
    {
      "cell_type": "markdown",
      "metadata": {
        "id": "GRqipYkrHqkX"
      },
      "source": [
        "O loop seguinte vai consumir os valores lançados (*yielded*) pela função `lazy_range` um de cada vez até que não haja mais elementos para serem lançados:"
      ]
    },
    {
      "cell_type": "code",
      "execution_count": null,
      "metadata": {
        "id": "n48PVdxRHqkX",
        "outputId": "38fb855b-5daa-4816-d28d-da51608ec94a"
      },
      "outputs": [
        {
          "name": "stdout",
          "output_type": "stream",
          "text": [
            "what should I do with 0 ?\n",
            "what should I do with 1 ?\n",
            "what should I do with 2 ?\n",
            "what should I do with 3 ?\n",
            "what should I do with 4 ?\n",
            "what should I do with 5 ?\n",
            "what should I do with 6 ?\n",
            "what should I do with 7 ?\n",
            "what should I do with 8 ?\n",
            "what should I do with 9 ?\n"
          ]
        }
      ],
      "source": [
        "def do_something_with(value):\n",
        "    print('what should I do with', value, '?')\n",
        "\n",
        "for i in lazy_range(10):\n",
        "    do_something_with(i)"
      ]
    },
    {
      "cell_type": "markdown",
      "metadata": {
        "id": "Hfe5PLT0HqkX"
      },
      "source": [
        "Na verdade, Python 2 tem uma função `lazy_range` chamada `xrange`. Para a nossa sorte, a função `range` do Python 3 já é preguiçosa.\n",
        "\n",
        "Geradores são tão poderosos que você pode criar até uma sequência infinita de números:"
      ]
    },
    {
      "cell_type": "code",
      "execution_count": null,
      "metadata": {
        "id": "tuZcP2iXHqkX"
      },
      "outputs": [],
      "source": [
        "def natural_numbers():\n",
        "    \"\"\"returns 1, 2, 3, ...\"\"\"\n",
        "    n = 1\n",
        "    while True:\n",
        "        yield n\n",
        "        n += 1"
      ]
    },
    {
      "cell_type": "markdown",
      "metadata": {
        "id": "K2keRa_gHqkY"
      },
      "source": [
        "O Python 3 já oferece alguns iteradores preguiçosos para produzir loops eficientes. O iterador `count(start, step)` produz números a partir de um valor inicial `start` e com um passo `step` definido como parâmetro (o valor padrão do passo é `1`):"
      ]
    },
    {
      "cell_type": "code",
      "execution_count": null,
      "metadata": {
        "id": "3o5Mv0YbHqkY",
        "outputId": "0ac2d37c-1bf1-474e-f19f-162b728ce7ec"
      },
      "outputs": [
        {
          "name": "stdout",
          "output_type": "stream",
          "text": [
            "count(10) com parada aleatória:\n",
            "10 \n",
            "count(1,2) com parada aleatória:\n",
            "1 3 "
          ]
        }
      ],
      "source": [
        "from random import random\n",
        "from itertools import count\n",
        "\n",
        "print('count(10) com parada aleatória:')\n",
        "for i in count(10):\n",
        "    if random() < 0.8:\n",
        "        print(i, end=\" \")\n",
        "    else:\n",
        "        break\n",
        "\n",
        "print('\\ncount(1,2) com parada aleatória:')\n",
        "for i in count(1, 2):\n",
        "    if random() < 0.8:\n",
        "        print(i, end=\" \")\n",
        "    else:\n",
        "        break"
      ]
    },
    {
      "cell_type": "markdown",
      "metadata": {
        "id": "r78WViRLHqkY"
      },
      "source": [
        "Outros iteradores preguiçosos interessantes são o `cycle` e o `repeat:"
      ]
    },
    {
      "cell_type": "code",
      "execution_count": null,
      "metadata": {
        "id": "mM8BgNpZHqkY",
        "outputId": "3fa5cfc1-3c9d-4fca-8f44-a8c0dec9928b"
      },
      "outputs": [
        {
          "name": "stdout",
          "output_type": "stream",
          "text": [
            "cycle('ABCD') com parada aleatória:\n",
            "A B C D A B C \n",
            "repeat(10,3):\n",
            "10 10 10 "
          ]
        }
      ],
      "source": [
        "from itertools import repeat, cycle\n",
        "print(\"cycle('ABCD') com parada aleatória:\")\n",
        "for letter in cycle('ABCD'):\n",
        "    if random() < 0.95:\n",
        "        print(letter, end=\" \")\n",
        "    else:\n",
        "        break\n",
        "\n",
        "print(\"\\nrepeat(10,3):\")\n",
        "for i in repeat(10,3):\n",
        "    print(i, end=\" \")"
      ]
    },
    {
      "cell_type": "markdown",
      "metadata": {
        "id": "cchJ1vSUHqkZ"
      },
      "source": [
        "Você pode usar a função `islice` para fazer com que os iteradores acima gerem sequências finitas."
      ]
    },
    {
      "cell_type": "code",
      "execution_count": null,
      "metadata": {
        "id": "NOgKSpG1HqkZ",
        "outputId": "97e6148d-776e-4cc5-a913-e5c5378cc571"
      },
      "outputs": [
        {
          "name": "stdout",
          "output_type": "stream",
          "text": [
            "Interrompe a geração de count(10) quando 2 números forem gerados:\n",
            "10 11 \n",
            "Interrompe a geração count(1,3) quando 10 números forem gerados:\n",
            "1 4 7 10 13 16 19 22 25 28 "
          ]
        }
      ],
      "source": [
        "from itertools import count, islice\n",
        "\n",
        "print(\"Interrompe a geração de count(10) quando 2 números forem gerados:\")\n",
        "for number in islice(count(10), 2):\n",
        "    print(number, end=\" \")\n",
        "\n",
        "print(\"\\nInterrompe a geração count(1,3) quando 10 números forem gerados:\")\n",
        "for number in islice(count(1, 3), 10):\n",
        "    print(number, end=\" \")\n",
        "\n",
        "\n"
      ]
    },
    {
      "cell_type": "markdown",
      "metadata": {
        "id": "e0dbXYCbHqka"
      },
      "source": [
        "Os iteradores acima podem ser usado, por exemplo, em um programa que gera números primos grandes:"
      ]
    },
    {
      "cell_type": "code",
      "execution_count": null,
      "metadata": {
        "id": "-e9V5YrlHqka",
        "outputId": "04923eed-9184-4c48-ef4c-a500a97d6017"
      },
      "outputs": [
        {
          "ename": "KeyboardInterrupt",
          "evalue": "",
          "output_type": "error",
          "traceback": [
            "\u001b[1;31m---------------------------------------------------------------------------\u001b[0m",
            "\u001b[1;31mKeyboardInterrupt\u001b[0m                         Traceback (most recent call last)",
            "\u001b[1;32m<ipython-input-16-7aca98a21bd4>\u001b[0m in \u001b[0;36m<module>\u001b[1;34m()\u001b[0m\n\u001b[0;32m     11\u001b[0m \u001b[0mmaiorPrimo\u001b[0m \u001b[1;33m=\u001b[0m \u001b[1;36m1\u001b[0m\u001b[1;33m\u001b[0m\u001b[0m\n\u001b[0;32m     12\u001b[0m \u001b[1;32mfor\u001b[0m \u001b[0mi\u001b[0m \u001b[1;32min\u001b[0m \u001b[0mcount\u001b[0m\u001b[1;33m(\u001b[0m\u001b[1;36m1\u001b[0m\u001b[1;33m)\u001b[0m\u001b[1;33m:\u001b[0m\u001b[1;33m\u001b[0m\u001b[0m\n\u001b[1;32m---> 13\u001b[1;33m     \u001b[1;32mif\u001b[0m\u001b[1;33m(\u001b[0m\u001b[0misPrime\u001b[0m\u001b[1;33m(\u001b[0m\u001b[0mi\u001b[0m\u001b[1;33m)\u001b[0m \u001b[1;32mand\u001b[0m \u001b[0mi\u001b[0m \u001b[1;33m>\u001b[0m \u001b[1;36m500000\u001b[0m\u001b[1;33m)\u001b[0m\u001b[1;33m:\u001b[0m\u001b[1;33m\u001b[0m\u001b[0m\n\u001b[0m\u001b[0;32m     14\u001b[0m         \u001b[0mmaiorPrimo\u001b[0m \u001b[1;33m=\u001b[0m \u001b[0mi\u001b[0m\u001b[1;33m\u001b[0m\u001b[0m\n",
            "\u001b[1;32m<ipython-input-16-7aca98a21bd4>\u001b[0m in \u001b[0;36misPrime\u001b[1;34m(n)\u001b[0m\n\u001b[0;32m      5\u001b[0m     \u001b[1;32mif\u001b[0m \u001b[0mn\u001b[0m \u001b[1;33m<\u001b[0m \u001b[1;36m2\u001b[0m\u001b[1;33m:\u001b[0m \u001b[1;32mreturn\u001b[0m \u001b[1;32mFalse\u001b[0m\u001b[1;33m\u001b[0m\u001b[0m\n\u001b[0;32m      6\u001b[0m     \u001b[1;32mfor\u001b[0m \u001b[0mnumber\u001b[0m \u001b[1;32min\u001b[0m \u001b[0mislice\u001b[0m\u001b[1;33m(\u001b[0m\u001b[0mcount\u001b[0m\u001b[1;33m(\u001b[0m\u001b[1;36m2\u001b[0m\u001b[1;33m)\u001b[0m\u001b[1;33m,\u001b[0m \u001b[0mint\u001b[0m\u001b[1;33m(\u001b[0m\u001b[0msqrt\u001b[0m\u001b[1;33m(\u001b[0m\u001b[0mn\u001b[0m\u001b[1;33m)\u001b[0m\u001b[1;33m-\u001b[0m\u001b[1;36m1\u001b[0m\u001b[1;33m)\u001b[0m\u001b[1;33m)\u001b[0m\u001b[1;33m:\u001b[0m\u001b[1;33m\u001b[0m\u001b[0m\n\u001b[1;32m----> 7\u001b[1;33m         \u001b[1;32mif\u001b[0m \u001b[1;32mnot\u001b[0m \u001b[0mn\u001b[0m\u001b[1;33m%\u001b[0m\u001b[0mnumber\u001b[0m\u001b[1;33m:\u001b[0m\u001b[1;33m\u001b[0m\u001b[0m\n\u001b[0m\u001b[0;32m      8\u001b[0m             \u001b[1;32mreturn\u001b[0m \u001b[1;32mFalse\u001b[0m\u001b[1;33m\u001b[0m\u001b[0m\n\u001b[0;32m      9\u001b[0m     \u001b[1;32mreturn\u001b[0m \u001b[1;32mTrue\u001b[0m\u001b[1;33m\u001b[0m\u001b[0m\n",
            "\u001b[1;31mKeyboardInterrupt\u001b[0m: "
          ]
        }
      ],
      "source": [
        "from itertools import count, islice\n",
        "from math import sqrt;\n",
        "\n",
        "def isPrime(n):\n",
        "    if n < 2: return False\n",
        "    for number in islice(count(2), int(sqrt(n)-1)):\n",
        "        if not n%number:\n",
        "            return False\n",
        "    return True\n",
        "\n",
        "maiorPrimo = 1\n",
        "for i in count(1):\n",
        "    if(isPrime(i) and i > 500000):\n",
        "        maiorPrimo = i"
      ]
    },
    {
      "cell_type": "markdown",
      "metadata": {
        "id": "pW-yAJ5AHqka"
      },
      "source": [
        "Execute a célula anterior e a interrompa quando achar que deve. Depois execute a célula abaixo:"
      ]
    },
    {
      "cell_type": "code",
      "execution_count": null,
      "metadata": {
        "id": "qITwSFQMHqka",
        "outputId": "9da53488-25ad-4662-b0b9-d1486a341f3e"
      },
      "outputs": [
        {
          "name": "stdout",
          "output_type": "stream",
          "text": [
            "15745039\n"
          ]
        }
      ],
      "source": [
        "print(maiorPrimo)"
      ]
    },
    {
      "cell_type": "markdown",
      "metadata": {
        "id": "9lg0CIvVHqka"
      },
      "source": [
        "**O outro lado de construir geradores preguiçosos é que você só pode iterar através deles uma única vez. Se precisar de iterar através deles várias vezes, você precisará recriar o gerador a cada vez ou usar uma lista.**\n",
        "\n",
        "Uma segunda maneira de criar geradores é através do uso de formadores `for` agrupados em parênteses:"
      ]
    },
    {
      "cell_type": "code",
      "execution_count": null,
      "metadata": {
        "id": "Crm5glNTHqkb",
        "outputId": "4c01dd62-561c-4853-b5e5-58ba89c65773"
      },
      "outputs": [
        {
          "name": "stdout",
          "output_type": "stream",
          "text": [
            "0 2 4 6 8 10 12 14 16 18 "
          ]
        }
      ],
      "source": [
        "lazy_evens_below_20 = (i for i in range(20) if i % 2 == 0)\n",
        "for n in lazy_evens_below_20:\n",
        "    print(n, end=\" \")"
      ]
    },
    {
      "cell_type": "markdown",
      "metadata": {
        "id": "5agWr9e_Hqkb"
      },
      "source": [
        "Lembre-se também de que todo `dict` possui um método `items()` que retorna uma lista de seus pares de `(chave, valor)`. No Python 3, este método é preguiçoso."
      ]
    },
    {
      "cell_type": "markdown",
      "metadata": {
        "id": "zSOzmjmWHqkb"
      },
      "source": [
        "## Aleatoriedade\n",
        "\n",
        "À medida que aprendemos ciência dos dados, a gente precisará, com muita frequência, gerar números aleatórios. Isso pode ser feito com o seguinte módulo:"
      ]
    },
    {
      "cell_type": "code",
      "execution_count": null,
      "metadata": {
        "id": "jb0Oxl-FHqkb",
        "outputId": "f300728e-0665-410b-89d1-e7560e065887"
      },
      "outputs": [
        {
          "name": "stdout",
          "output_type": "stream",
          "text": [
            "[0.5245205292440019, 0.9149919135304775, 0.3538377534477207, 0.20229886768855243]\n"
          ]
        }
      ],
      "source": [
        "import random\n",
        "\n",
        "four_uniform_randoms = [random.random() for _ in range(4)]\n",
        "print(four_uniform_randoms)"
      ]
    },
    {
      "cell_type": "markdown",
      "metadata": {
        "id": "ehXS61J8Hqkc"
      },
      "source": [
        "A função `random.random()` produz números uniformemente distribuídos entre 0 e 1. Usaremos muito essa função ao longo do curso.\n",
        "\n",
        "O módulo `random`, na verdade, produz números pseudo-aleatórios, ou seja, eles dependem de um estado interno (ou semente) que você pode alterar usando `random.seed`. Isso serve para podermos reproduzir (ou repetir) os resultados gerados a partir de códigos que processam sequências de números aleatórios."
      ]
    },
    {
      "cell_type": "code",
      "execution_count": null,
      "metadata": {
        "id": "vPr7_aOMHqkc",
        "outputId": "f887e73e-d7fd-4618-b39a-b19a7d4dbea0"
      },
      "outputs": [
        {
          "name": "stdout",
          "output_type": "stream",
          "text": [
            "primeiro número:  0.5714025946899135\n",
            "segundo número:  0.5714025946899135\n"
          ]
        }
      ],
      "source": [
        "random.seed(10) # atribui 10 à semente\n",
        "print('primeiro número: ', random.random())\n",
        "random.seed(10) # atribui 10 à semente novamente\n",
        "print('segundo número: ', random.random())"
      ]
    },
    {
      "cell_type": "markdown",
      "metadata": {
        "id": "odWgp6b2Hqkc"
      },
      "source": [
        "Iremos usar `random.randrange` as vezes. Essa função recebe 1 ou 2 argumentos e retorna um elemento escolhido aleatoriamente entre o `range()` correspondente:"
      ]
    },
    {
      "cell_type": "code",
      "execution_count": null,
      "metadata": {
        "id": "EhjS7AvUHqkc",
        "outputId": "bc3544ac-7e49-403f-d425-ecee4909ea6e"
      },
      "outputs": [
        {
          "name": "stdout",
          "output_type": "stream",
          "text": [
            "6 45\n"
          ]
        }
      ],
      "source": [
        "a = random.randrange(10) # range(10) = 0, 1, ..., 9\n",
        "b = random.randrange(30, 60) # range(3, 6) = 30, 31, ..., 60\n",
        "print(a,b)"
      ]
    },
    {
      "cell_type": "markdown",
      "metadata": {
        "id": "Lz1tKzAVHqkd"
      },
      "source": [
        "Existem outros poucos métodos que nós acharemos conveniente usar, como o `random.shuffle`, que rearranja os elementos de uma lista de forma aleatória:"
      ]
    },
    {
      "cell_type": "code",
      "execution_count": null,
      "metadata": {
        "id": "KB1OTlMnHqkd",
        "outputId": "b90f9ae5-7e80-4632-83d6-281f7dd88ef0"
      },
      "outputs": [
        {
          "name": "stdout",
          "output_type": "stream",
          "text": [
            "[4, 5, 8, 1, 2, 6, 7, 3, 0, 9]\n"
          ]
        }
      ],
      "source": [
        "up_to_ten = list(range(10))\n",
        "random.shuffle(up_to_ten)\n",
        "print(up_to_ten)"
      ]
    },
    {
      "cell_type": "markdown",
      "metadata": {
        "id": "CEW-84-gHqkd"
      },
      "source": [
        "Se você precisa de um elemento aleatório de uma lista você pode usar `random.choice`:"
      ]
    },
    {
      "cell_type": "code",
      "execution_count": null,
      "metadata": {
        "id": "o_jo1-V4Hqkd",
        "outputId": "9120799d-dacb-4780-9249-96bb18b5f4ad"
      },
      "outputs": [
        {
          "name": "stdout",
          "output_type": "stream",
          "text": [
            "Bob\n"
          ]
        }
      ],
      "source": [
        "my_best_friend = random.choice([\"Alice\", \"Bob\", \"Charlie\"])\n",
        "print(my_best_friend)"
      ]
    },
    {
      "cell_type": "markdown",
      "metadata": {
        "id": "fC1ulzYYHqke"
      },
      "source": [
        "Se você precisar escolher uma amostra aleatória de elementos sem reposição, você pode usar `random.sample`:"
      ]
    },
    {
      "cell_type": "code",
      "execution_count": null,
      "metadata": {
        "id": "ay17iIH1Hqke",
        "outputId": "6bc873ca-3a96-45e7-d6b0-13c03e451347"
      },
      "outputs": [
        {
          "name": "stdout",
          "output_type": "stream",
          "text": [
            "[4, 15, 47, 23, 2, 26]\n"
          ]
        }
      ],
      "source": [
        "lottery_numbers = list(range(60))\n",
        "winning_numbers = random.sample(lottery_numbers, 6)\n",
        "print(winning_numbers)"
      ]
    },
    {
      "cell_type": "markdown",
      "metadata": {
        "id": "hfoNjs-nHqke"
      },
      "source": [
        "Para escolher uma amostra de $k$ elementos com reposição você pode fazer uma chamada para `random.choices` passando $k$ como parâmetro:"
      ]
    },
    {
      "cell_type": "code",
      "execution_count": null,
      "metadata": {
        "id": "JdONQMfEHqke",
        "outputId": "107934e1-41c1-46cf-d81c-c7da5d712369"
      },
      "outputs": [
        {
          "name": "stdout",
          "output_type": "stream",
          "text": [
            "[2, 1, 1, 0]\n"
          ]
        }
      ],
      "source": [
        "four_with_replacement = random.choices(list(range(3)), k=4)\n",
        "print(four_with_replacement)"
      ]
    },
    {
      "cell_type": "markdown",
      "metadata": {
        "id": "YUzwnhCqHqkf"
      },
      "source": [
        "Essa função também suporta pesos para cada elemento."
      ]
    },
    {
      "cell_type": "markdown",
      "metadata": {
        "id": "LDs8EItFHqkf"
      },
      "source": [
        "## Expressões Regulares\n",
        "\n",
        "Expressões regulares fornecem uma maneira de pesquisar em textos. Elas são incrivelmente úteis, mas também bastante complicadas, tanto que há livros inteiros escritos sobre elas. Vamos explicar seus detalhes nas poucas vezes em que as encontrarmos.\n",
        "\n",
        "Aqui estão alguns exemplos de como usá-las em Python:"
      ]
    },
    {
      "cell_type": "code",
      "execution_count": null,
      "metadata": {
        "id": "HydwyZ69Hqkf"
      },
      "outputs": [],
      "source": [
        "import re\n",
        "\n",
        "print([\n",
        "    re.match(\"a\", \"gato\"), # 'gato' não começa com 'a'\n",
        "    re.search(\"c\", \"dog\"), # 'dog' não tem 'c'\n",
        "    re.split(\"[ab]\", \"carbs\"), # usa 'a' e 'b' como separadores de \"carbs\"\n",
        "    re.sub(\"[0-9]\", \"-\", \"R2D2\") # substitui os dígitos por '-'\n",
        "    ])\n"
      ]
    },
    {
      "cell_type": "markdown",
      "metadata": {
        "id": "fGc9akEAHqkf"
      },
      "source": [
        "## Programação Orientada a Objetos\n",
        "\n",
        "Como muitas linguagens, o Python permite que você defina classes que encapsulem dados e as funções que operam neles. Usaremos elas algumas vezes para tornar nosso código mais limpo e simples. É provavelmente mais simples explicá-las construindo um exemplo altamente anotado."
      ]
    },
    {
      "cell_type": "markdown",
      "metadata": {
        "id": "7-wJUqvGHqkf"
      },
      "source": [
        "Imagine que não tivéssemos o objeto `set` interno do Python. Então poderíamos querer criar a nossa própria classe `Conjunto`."
      ]
    },
    {
      "cell_type": "markdown",
      "metadata": {
        "id": "NZIsnuONHqkg"
      },
      "source": [
        "Qual comportamento que a nossa classe `Conjunto` deveria ter? Dada uma instância de `Conjunto`, precisamos adicionar itens a ela, remover itens dela e verificar se ela contém um determinado valor. Vamos implementar todas essas funcionalidades como funções da classe, o que significa que vamos acessá-las com um ponto depois de um objeto `Conjunto`:"
      ]
    },
    {
      "cell_type": "code",
      "execution_count": null,
      "metadata": {
        "id": "XBAtMf_tHqkg"
      },
      "outputs": [],
      "source": [
        "# por convenção, daremos nomes no estilo PascalCase\n",
        "class Conjunto:\n",
        "    # essas são as funções da classe\n",
        "    # todas devem ter como primeiro parâmetro o \"self\" (outra convenção),\n",
        "    # que refere-se ao Set particular que está sendo usado\n",
        "\n",
        "    def __init__(self, values=None):\n",
        "        \"\"\"Este é o construtor\n",
        "        Ele é chamado quando você cria um novo Conjunto\n",
        "        Você deve usá-lo da seguinte maneira:\n",
        "        s1 = Conjunto() # conjunto vazio\n",
        "        s2 = Conjunto([1,2,2,3]) # inicia com valores\"\"\"\n",
        "        self.dict = {} # cada instância de Conjunto tem seu próprio dicionário 'dict'\n",
        "        # o dict será usado para registrar se um valor já é membro do conjunto\n",
        "        if values is not None:\n",
        "            for value in values:\n",
        "                self.add(value)\n",
        "\n",
        "    def __repr__(self):\n",
        "        \"\"\"essa é a representação textual (string) do objeto Conjunto\n",
        "        quando você o digitar no prompt do Python ou o enviar para str()\"\"\"\n",
        "        return \"Conjunto: \" + str(self.dict.keys())\n",
        "\n",
        "    # representaremos associação de um valor ao conjunto definindo-o como chave no self.dict do valor True\n",
        "    def add(self, value):\n",
        "        self.dict[value] = True\n",
        "\n",
        "\n",
        "    # o valor está no conjunto se é uma chave no dicionário\n",
        "    def contains(self, value):\n",
        "        return value in self.dict\n",
        "\n",
        "    def remove(self, value):\n",
        "        del self.dict[value]"
      ]
    },
    {
      "cell_type": "markdown",
      "metadata": {
        "id": "-z7yr4xzHqkg"
      },
      "source": [
        "Podemos usar a classe `Conjunto` da seguinte maneira:"
      ]
    },
    {
      "cell_type": "code",
      "execution_count": null,
      "metadata": {
        "id": "14wETOOwHqkg"
      },
      "outputs": [],
      "source": [
        "s = Conjunto([1,2,3])\n",
        "s.add(4)\n",
        "\n",
        "print(s.contains(4))\n",
        "\n",
        "s.remove(3)\n",
        "print(s.contains(3))"
      ]
    },
    {
      "cell_type": "markdown",
      "metadata": {
        "id": "1mNA7lc2Hqkg"
      },
      "source": [
        "## Ferramentas Funcionais\n",
        "\n",
        "Às vezes precisamos de uma função complicada, que requer muitos parâmetros, mas sempre a usamos variando apenas um ou dois parâmetros. Assim, podemos criar novas funções, mais simples, a partir de funções existentes, mais complexas. Como um exemplo simples, imagine que temos uma função de dois parâmetros:"
      ]
    },
    {
      "cell_type": "code",
      "execution_count": null,
      "metadata": {
        "id": "ooeONANNHqkg"
      },
      "outputs": [],
      "source": [
        "def exp(base, power):\n",
        "    return base ** power"
      ]
    },
    {
      "cell_type": "markdown",
      "metadata": {
        "id": "mNVWzCtZHqkh"
      },
      "source": [
        "e queremos usá-la para criar uma função de um parâmetro `dois_elevado_a`, cuja entrada é uma potência e cuja saída é o resultado de `exp(2, power)`.\n",
        "\n",
        "Podemos, claro, fazer isso com `def`, mas às vezes isso pode ficar complicado:"
      ]
    },
    {
      "cell_type": "code",
      "execution_count": null,
      "metadata": {
        "id": "f4m0T5q0Hqkh"
      },
      "outputs": [],
      "source": [
        "def dois_elevado_a(power):\n",
        "    return exp(2, power)"
      ]
    },
    {
      "cell_type": "markdown",
      "metadata": {
        "id": "mZPTMa36Hqkh"
      },
      "source": [
        "Uma abordagem diferent é usar `functools.partial`:"
      ]
    },
    {
      "cell_type": "code",
      "execution_count": null,
      "metadata": {
        "id": "WyS97gHoHqkh"
      },
      "outputs": [],
      "source": [
        "from functools import partial\n",
        "\n",
        "dois_elevado_a = partial(exp, 2) # é agora uma função de um parâmetro\n",
        "print(dois_elevado_a(3))"
      ]
    },
    {
      "cell_type": "markdown",
      "metadata": {
        "id": "3VjZuODmHqkh"
      },
      "source": [
        "Você pode também usar `partial` para preencher argumentos se você especificar os seus nomes:"
      ]
    },
    {
      "cell_type": "code",
      "execution_count": null,
      "metadata": {
        "id": "85y-pvExHqki"
      },
      "outputs": [],
      "source": [
        "quadrado_de = partial(exp, power=2)\n",
        "print(quadrado_de(4))"
      ]
    },
    {
      "cell_type": "markdown",
      "metadata": {
        "id": "IF-JhEc6Hqki"
      },
      "source": [
        "Começa a ficar confuso se você carregar argumentos no meio da função, então vamos tentar evitar isso.\n",
        "\n",
        "Também usaremos ocasionalmente `map`, `reduce` e `filter`, que fornecem alternativas funcionais para listas:"
      ]
    },
    {
      "cell_type": "code",
      "execution_count": null,
      "metadata": {
        "id": "dfJ0OoSUHqki"
      },
      "outputs": [],
      "source": [
        "def double(x):\n",
        "    return 2 * x\n",
        "\n",
        "xs = [1, 2, 3, 4]\n",
        "twice_xs = [double(x) for x in xs]\n",
        "print('1: ', twice_xs)\n",
        "\n",
        "twice_xs = list(map(double, xs)) # same as above\n",
        "print('2: ', twice_xs)\n",
        "\n",
        "list_doubler = partial(map, double) # função que duplica os itens de uma lista\n",
        "twice_xs = list(list_doubler(xs))\n",
        "print('3: ', twice_xs)"
      ]
    },
    {
      "cell_type": "markdown",
      "metadata": {
        "id": "52gvwG5FHqki"
      },
      "source": [
        "Você pode usar também `map` com funções de múltiplos argumentos se você prover múltiplas listas:"
      ]
    },
    {
      "cell_type": "code",
      "execution_count": null,
      "metadata": {
        "id": "A8IkNwIoHqki"
      },
      "outputs": [],
      "source": [
        "def multiply(x, y): return x * y\n",
        "\n",
        "products = list(map(multiply, [1, 2], [4, 5]))\n",
        "\n",
        "print(products)"
      ]
    },
    {
      "cell_type": "markdown",
      "metadata": {
        "id": "DQwfYDPBHqkj"
      },
      "source": [
        "De forma similar, `filter` faz o trabalho do `if` em listas:"
      ]
    },
    {
      "cell_type": "code",
      "execution_count": null,
      "metadata": {
        "id": "GrUj7vQeHqkj"
      },
      "outputs": [],
      "source": [
        "def is_even(x):\n",
        "    \"\"\"True if x is even, False if x is odd\"\"\"\n",
        "    return x % 2 == 0\n",
        "\n",
        "x_evens = [x for x in xs if is_even(x)]\n",
        "print('1: ', x_evens)\n",
        "\n",
        "x_evens = list(filter(is_even, xs))\n",
        "print('2: ', x_evens)\n",
        "\n",
        "list_evener = partial(filter, is_even)\n",
        "x_evens = list(list_evener(xs))\n",
        "print('3: ', x_evens)"
      ]
    },
    {
      "cell_type": "markdown",
      "metadata": {
        "id": "WfzYBBycHqkj"
      },
      "source": [
        "Por fim, `reduce` combina os dois primeiros elementos de uma lista, e depois o resultado disso com o terceiro da lista, e depois o resultado disso com o quarto, e assim por diante, produzindo um único resultado:"
      ]
    },
    {
      "cell_type": "code",
      "execution_count": null,
      "metadata": {
        "id": "uZs5S4yaHqkj"
      },
      "outputs": [],
      "source": [
        "from functools import reduce\n",
        "\n",
        "x_product = reduce(multiply, xs)\n",
        "print('1: ', x_product)\n",
        "\n",
        "list_product = partial(reduce, multiply) # função que reduz uma lista\n",
        "x_product = list_product(xs)\n",
        "print('2: ', x_product)"
      ]
    },
    {
      "cell_type": "markdown",
      "metadata": {
        "id": "XM0tNbOcHqkj"
      },
      "source": [
        "*Observação importante*: `reduce` foi removido das funções internas do Python 3. É necessário usar, então, `functools.reduce` se você realmente precisar. No entanto, 99% das vezes um loop `for` explícito é mais legível."
      ]
    },
    {
      "cell_type": "markdown",
      "metadata": {
        "id": "1XZ0mGLxHqkj"
      },
      "source": [
        "## Enumerar\n",
        "\n",
        "Muitas vezes você vai precisar iterar sobre uma lista e usar tanto o seus valores quanto os seus índices:"
      ]
    },
    {
      "cell_type": "code",
      "execution_count": null,
      "metadata": {
        "id": "GXMXd72tHqkj"
      },
      "outputs": [],
      "source": [
        "def do_something(pos, word):\n",
        "    if pos%10==0:\n",
        "        print(word, end=\" \")\n",
        "\n",
        "lyric = \"\"\"Rumours know that rebellion will break out\n",
        "Bonnie Prince Charles is in the highlands to claim his\n",
        "crown no doubt\n",
        "He raised his Standart at Glenfinnen calling to our pride\n",
        "The Jacobites are gathering I'll be at their side\n",
        "Armed and ready stand\n",
        "My rights I must defend\n",
        "Steel is in my hand\n",
        "The clan's are marching `gainst the law\n",
        "Bagpipers play the tunes of war\n",
        "Death or glory I will find\n",
        "Rebellion on my mind\n",
        "The town of Edinburgh fell soon in our hands\n",
        "Defeated the English at the Battle of Prestopans\"\"\""
      ]
    },
    {
      "cell_type": "code",
      "execution_count": null,
      "metadata": {
        "id": "2xYVlq9CHqkj"
      },
      "outputs": [],
      "source": [
        "words = lyric.split()\n",
        "\n",
        "# não é pythônico\n",
        "for i in range(len(words)):\n",
        "    word = words[i]\n",
        "    do_something(i, word)\n",
        "\n",
        "print('\\n')\n",
        "\n",
        "# não é pythônico\n",
        "i = 0\n",
        "for word in words:\n",
        "    do_something(i, word)\n",
        "    i += 1"
      ]
    },
    {
      "cell_type": "markdown",
      "metadata": {
        "id": "aEEyFxt9Hqkj"
      },
      "source": [
        "A solução pythônica é enumerar (ou `enumerate`), que produz tuplas `(index, element)`:"
      ]
    },
    {
      "cell_type": "code",
      "execution_count": null,
      "metadata": {
        "id": "QgaGHv8KHqkk"
      },
      "outputs": [],
      "source": [
        "for i, word in enumerate(words):\n",
        "    do_something(i, word)"
      ]
    },
    {
      "cell_type": "markdown",
      "metadata": {
        "id": "YNVae2qiHqkk"
      },
      "source": [
        "Similarmente, se quisermos somente os índices:"
      ]
    },
    {
      "cell_type": "code",
      "execution_count": null,
      "metadata": {
        "id": "IUYEEIfSHqkk"
      },
      "outputs": [],
      "source": [
        "from random import random\n",
        "\n",
        "def do_stuff(idx):\n",
        "    if random() < 0.5:\n",
        "        print(words[idx], end=\" \")\n",
        "\n",
        "for i in range(len(words)): do_stuff(i) # não é pythônico\n",
        "\n",
        "print(\"\\n\")\n",
        "\n",
        "for i, _ in enumerate(words): do_stuff(i) # pythônico\n"
      ]
    },
    {
      "cell_type": "markdown",
      "metadata": {
        "id": "o2excU7fHqkk"
      },
      "source": [
        "Usaremos muito isso!"
      ]
    },
    {
      "cell_type": "markdown",
      "metadata": {
        "id": "poaBqJmkHqkk"
      },
      "source": [
        "## zip e desempacotamento de argumentos\n",
        "\n",
        "Frequentemente precisaremos empacotar (`zip`) duas ou mais listas juntas. A função `zip` transforma múltiplas listas em uma lista simples de tuplas dos elementos correspondentes:"
      ]
    },
    {
      "cell_type": "code",
      "execution_count": null,
      "metadata": {
        "id": "aw_q1jejHqkk"
      },
      "outputs": [],
      "source": [
        "list1 = ['a', 'b', 'c']\n",
        "list2 = [1, 2, 3]\n",
        "list3 = list(zip(list1, list2))\n",
        "print(list3)"
      ]
    },
    {
      "cell_type": "markdown",
      "metadata": {
        "id": "o2r-q61EHqkl"
      },
      "source": [
        "Se as listas têm tamanhos diferentes, `zip` para assim que a primeira lista terminar.\n",
        "\n",
        "Você pode também descompactar (*unzip*) uma lista usando um truque um tanto quanto estranho:"
      ]
    },
    {
      "cell_type": "code",
      "execution_count": null,
      "metadata": {
        "id": "qQpAn50rHqkl"
      },
      "outputs": [],
      "source": [
        "letters, numbers = zip(*list3)\n",
        "print(letters, numbers)"
      ]
    },
    {
      "cell_type": "markdown",
      "metadata": {
        "id": "gNc0qfwnHqkl"
      },
      "source": [
        "O asterisco executa o que chamamos de desempacotamento de argumentos (ou *argument unpacking*), que usa os elementos de `list3` como argumentos individuais para o `zip`. É a mesma coisa que fazer:"
      ]
    },
    {
      "cell_type": "code",
      "execution_count": null,
      "metadata": {
        "id": "3-CmHgDbHqkl"
      },
      "outputs": [],
      "source": [
        "letters, numbers = zip(('a', 1), ('b', 2), ('c', 3))\n",
        "print(letters, numbers)"
      ]
    },
    {
      "cell_type": "markdown",
      "metadata": {
        "id": "P-X4JRFNHqkl"
      },
      "source": [
        "Você pode usar desempacotamento de argumentos com qualquer função:"
      ]
    },
    {
      "cell_type": "code",
      "execution_count": null,
      "metadata": {
        "id": "kLkCVW2fHqkm"
      },
      "outputs": [],
      "source": [
        "def add(a, b): return a + b\n",
        "\n",
        "print(add(1, 2))\n",
        "\n",
        "# add([1, 2]) #TypeError\n",
        "\n",
        "print(add(*[1, 2]))\n"
      ]
    },
    {
      "cell_type": "markdown",
      "metadata": {
        "id": "T_7zQNLqHqkm"
      },
      "source": [
        "É raro acharmos isso útil, mas quando o fazemos é um truque legal."
      ]
    },
    {
      "cell_type": "markdown",
      "metadata": {
        "id": "je26GpL6Hqkm"
      },
      "source": [
        "## args e kwargs\n",
        "\n",
        "Digamos que queremos criar uma função de alta ordem que tome como entrada alguma função `f` e retorne uma nova função que, para qualquer entrada, retorne duas vezes o valor de `f`:"
      ]
    },
    {
      "cell_type": "code",
      "execution_count": null,
      "metadata": {
        "id": "LBaD-93EHqkm"
      },
      "outputs": [],
      "source": [
        "def doubler(f):\n",
        "    def g(x):\n",
        "        return 2 * f(x)\n",
        "    return g"
      ]
    },
    {
      "cell_type": "markdown",
      "metadata": {
        "id": "usGIO5_jHqkm"
      },
      "source": [
        "Isso funciona em alguns casos:"
      ]
    },
    {
      "cell_type": "code",
      "execution_count": null,
      "metadata": {
        "id": "a_Ha8NKLHqkn"
      },
      "outputs": [],
      "source": [
        "def soma1(x):\n",
        "    return x + 1\n",
        "\n",
        "g = doubler(soma1)\n",
        "print(g(3)) # 8 (== ( 3 + 1) * 2)\n",
        "print(g(-1)) # 0 (== (-1 + 1) * 2)"
      ]
    },
    {
      "cell_type": "markdown",
      "metadata": {
        "id": "4FY_vwrTHqkn"
      },
      "source": [
        "Mas não funciona com funções que levam mais de um único argumento:"
      ]
    },
    {
      "cell_type": "code",
      "execution_count": null,
      "metadata": {
        "id": "Y7CghqS7Hqkn"
      },
      "outputs": [],
      "source": [
        "def soma(x, y):\n",
        "    return x + y\n",
        "\n",
        "g = doubler(soma)\n",
        "print(g(1, 2))"
      ]
    },
    {
      "cell_type": "markdown",
      "metadata": {
        "id": "p_MO-S72Hqkn"
      },
      "source": [
        "O que precisamos é uma maneira de especificar uma função que aceita argumentos arbitrários. Podemos fazer isso com argumento de desempacotamento e um pouco de mágica:"
      ]
    },
    {
      "cell_type": "code",
      "execution_count": null,
      "metadata": {
        "id": "V7kInLbOHqko"
      },
      "outputs": [],
      "source": [
        "def magic(*args, **kwargs):\n",
        "    print(\"unnamed args:\", args)\n",
        "    print(\"keyword args:\", kwargs)\n",
        "\n",
        "magic(1, 2, key=\"word\", key2=\"word2\")"
      ]
    },
    {
      "cell_type": "markdown",
      "metadata": {
        "id": "QCf35LMEHqko"
      },
      "source": [
        "Ou seja, quando definimos uma função como essa, `args` é uma tupla de seus argumentos sem nome e `kwargs` é um dict de seus argumentos nomeados. Ele funciona de outra maneira também, se você quiser usar uma lista (ou tupla) e dicionário para fornecer argumentos para uma função:"
      ]
    },
    {
      "cell_type": "code",
      "execution_count": null,
      "metadata": {
        "id": "bURCjO-THqko",
        "outputId": "ba5b5f7d-4d9e-49b5-cfa0-91585eac8a36"
      },
      "outputs": [
        {
          "name": "stdout",
          "output_type": "stream",
          "text": [
            "6\n"
          ]
        }
      ],
      "source": [
        "def other_way_magic(x=0, y=0, w=0, z=0):\n",
        "    return x + y + z + w\n",
        "\n",
        "x_y_list = [1, 2]\n",
        "z_dict = { \"z\" : 3 }\n",
        "print(other_way_magic(*x_y_list, **z_dict))"
      ]
    },
    {
      "cell_type": "markdown",
      "metadata": {
        "id": "NgnSmvG5Hqko"
      },
      "source": [
        "\n",
        "\n",
        "O comando `**z_dict` descompacta o dicionário que contem a chave `z` e que é o nome do argumento da função other_way_magic. Se o dicionário tiver chaves diferentes dos argumentos da função, então o nosso truque não funcionará.\n",
        "\n",
        "Você poderia fazer todo tipo de truques estranhos com isso; Vamos usá-lo apenas para produzir funções de ordem superior cujas entradas podem aceitar argumentos arbitrários:"
      ]
    },
    {
      "cell_type": "code",
      "execution_count": null,
      "metadata": {
        "id": "Og1ndd7dHqkp"
      },
      "outputs": [],
      "source": [
        "def doubler_correct(f):\n",
        "    \"\"\"works no matter what kind of inputs f expects\"\"\"\n",
        "    def g(*args, **kwargs):\n",
        "        \"\"\"whatever arguments g is supplied, pass them through to f\"\"\"\n",
        "        return 2 * f(*args, **kwargs)\n",
        "    return g\n",
        "\n",
        "g = doubler_correct(soma)\n",
        "print(g(1, 2))"
      ]
    },
    {
      "cell_type": "markdown",
      "metadata": {
        "id": "bGH4Jf8_Hqkp"
      },
      "source": [
        "## Para explorar\n",
        "\n",
        "Não há escassez de tutoriais em Python no mundo. O [oficial](https://docs.python.org/3/tutorial/) não é um mau lugar para começar.\n",
        "\n",
        "O [tutorial oficial do IPython](http://ipython.org/ipython-doc/2/interactive/tutorial.html) não é tão bom. Pode ser melhor assistir a [vídeos e apresentações](http://ipython.org/videos.html). Como alternativa, há o capítulo [*Python for Data Analysis*](http://shop.oreilly.com/product/0636920023784.do) do Wes McKinney (O’Reilly) que é muito bom!"
      ]
    },
    {
      "cell_type": "code",
      "execution_count": null,
      "metadata": {
        "id": "XGMKnbOLHqkp"
      },
      "outputs": [],
      "source": []
    }
  ],
  "metadata": {
    "celltoolbar": "Slideshow",
    "kernelspec": {
      "display_name": "Python 3",
      "language": "python",
      "name": "python3"
    },
    "language_info": {
      "codemirror_mode": {
        "name": "ipython",
        "version": 3
      },
      "file_extension": ".py",
      "mimetype": "text/x-python",
      "name": "python",
      "nbconvert_exporter": "python",
      "pygments_lexer": "ipython3",
      "version": "3.6.4"
    },
    "colab": {
      "provenance": []
    }
  },
  "nbformat": 4,
  "nbformat_minor": 0
}