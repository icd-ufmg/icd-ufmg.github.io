{
 "cells": [
  {
   "cell_type": "markdown",
   "metadata": {
    "nbgrader": {
     "grade": false,
     "grade_id": "cellc-a00",
     "locked": true,
     "schema_version": 1,
     "solution": false
    }
   },
   "source": [
    "# Lista 00 - Revisão Python e Numpy\n",
    "\n",
    "## Principalmente útil para quem não fez a versão nova de ALC!!!"
   ]
  },
  {
   "cell_type": "markdown",
   "metadata": {
    "nbgrader": {
     "grade": false,
     "grade_id": "cell1c-a00",
     "locked": true,
     "schema_version": 1,
     "solution": false
    }
   },
   "source": [
    "# Exercício 01:\n",
    "\n",
    "Crie uma função que, dado dois textos, retorne uma __lista__ (que pode ser vazia) em ordem lexicográfica com as palavras que ocorrem em ambos. A função não deve ser case sensitive, nesse caso, transforme todo o texto reescrevendo as palavras em letra minúscula. Para testar sua função, você pode utilizar os dois poemas abaixo, cuja saída esperada é: ['and', 'are', 'is', 'you'] \n",
    "\n",
    "_The rose is a rose,  \n",
    "And was always a rose.  \n",
    "But the theory now goes  \n",
    "That the apple’s a rose,  \n",
    "And the pear is, and so’s  \n",
    "The plum, I suppose.  \n",
    "The dear only knows  \n",
    "What will next prove a rose.  \n",
    "You, of course, are a rose –  \n",
    "But were always a rose._  \n",
    "\n",
    "_Roses are red,  \n",
    "Violets are blue,  \n",
    "sugar is sweet,  \n",
    "And so are you._  \n",
    "\n",
    "\n",
    "\n",
    "__Dicas:__  \n",
    "1. não se preocupe em remover a pontuação do texto.  \n",
    "1. a função sorted(lista) ordena em ordem crescente (ou lexicográfica) uma lista qualquer.  \n",
    "1. a função string.lower() tranforma todos os caracteres da string em letra minúscula.  \n",
    "1. use `re.sub(r'[^\\w]','',word.lower())` para tirar a pontuação de uma palavra: 'you.' -> 'you'\n",
    "\n",
    "__TADs__\n",
    "1. Python contém um tipo `set` que guarda elementos únicos.\n",
    "1. A função `sorted` ordena dados"
   ]
  },
  {
   "cell_type": "code",
   "execution_count": 1,
   "metadata": {
    "nbgrader": {
     "grade": false,
     "grade_id": "cell1-a00",
     "locked": false,
     "schema_version": 1,
     "solution": true
    }
   },
   "outputs": [],
   "source": [
    "#Exemplo:\n",
    "poem1 = \"\"\"The rose is a rose,\n",
    "And was always a rose.\n",
    "But the theory now goes\n",
    "That the apple’s a rose,\n",
    "And the pear is, and so’s\n",
    "The plum, I suppose.\n",
    "The dear only knows\n",
    "What will next prove a rose.\n",
    "You, of course, are a rose –\n",
    "But were always a rose.\"\"\"\n",
    "\n",
    "poem2 = \"\"\"Roses are red,\n",
    "Violets are blue,\n",
    "sugar is sweet,\n",
    "And so are you.\"\"\"\n",
    "\n",
    "import re\n",
    "\n",
    "def common_words(text1, text2):\n",
    "    \n",
    "    ### BEGIN SOLUTION\n",
    "    document1 = set(re.sub(r'[^\\w]','',word.lower()) for word in text1.split())\n",
    "    document2 = set(re.sub(r'[^\\w]','',word.lower()) for word in text2.split())\n",
    "    \n",
    "    common_list = document1.intersection(document2)\n",
    "            \n",
    "    return list(sorted(common_list))\n",
    "    ### END SOLUTION\n"
   ]
  },
  {
   "cell_type": "code",
   "execution_count": 2,
   "metadata": {
    "nbgrader": {
     "grade": true,
     "grade_id": "cell1t1-a00",
     "locked": true,
     "points": 1,
     "schema_version": 1,
     "solution": false
    }
   },
   "outputs": [],
   "source": [
    "from numpy.testing import *\n",
    "\"\"\"Check that common_words returns the correct output for several inputs\"\"\"\n",
    "\n",
    "poem1 = \"\"\"The rose is a rose,\n",
    "And was always a rose.\n",
    "But the theory now goes\n",
    "That the apple’s a rose,\n",
    "And the pear is, and so’s\n",
    "The plum, I suppose.\n",
    "The dear only knows\n",
    "What will next prove a rose.\n",
    "You, of course, are a rose –\n",
    "But were always a rose.\"\"\"\n",
    "\n",
    "poem2 = \"\"\"Roses are red,\n",
    "Violets are blue,\n",
    "sugar is sweet,\n",
    "And so are you.\"\"\"\n",
    "\n",
    "assert_equal(common_words(poem1, poem2), ['and', 'are', 'is', 'you'])"
   ]
  },
  {
   "cell_type": "code",
   "execution_count": 3,
   "metadata": {
    "nbgrader": {
     "grade": true,
     "grade_id": "cell1t2-a00",
     "locked": true,
     "points": 1,
     "schema_version": 1,
     "solution": false
    }
   },
   "outputs": [],
   "source": [
    "### BEGIN HIDDEN TESTS\n",
    "t1 = \"\"\"Python is an interpreted high level programming language for general purpose programming. \n",
    "Created by Guido van Rossum and first released in 1991.\"\"\"\n",
    "\n",
    "t2 = \"\"\"Java is a general purpose computer programming language that is concurrent, class based, object oriented, and specifically designed to have as few implementation dependencies as possible. \n",
    "Java was originally developed by James Gosling at Sun Microsystems and released in 1995 as a core component of Sun Microsystems' Java platform.\"\"\"\n",
    "\n",
    "t3 = \"\"\"Ei você\n",
    "Preste atenção no que eu vou dizer\n",
    "Não vais ficar sozinho\n",
    "Sou o guerreiro\n",
    "Que vai te defender\n",
    "\n",
    "Contra toda maldição\n",
    "Não havendo solução\n",
    "Prá sua segurança\n",
    "Não temo entrar em ação\n",
    "\n",
    "A paz na terra\n",
    "E em todos os planetas\n",
    "É como um sonho\n",
    "Que não pode acabar\n",
    "\n",
    "JASPION!\n",
    "Pela liberdade sou\n",
    "JASPION!\n",
    "Pela igualdade sou\n",
    "Eu juro, eu juro, eu juro\n",
    "Não vou falhar\n",
    "JASPION!\"\"\"\n",
    "\n",
    "t4 = \"\"\"Meu pensamento cheio de esperança\n",
    "Minha coragem é grande pra ir em frente\n",
    "\n",
    "Vem comigo conhecer (comigo conhecer)\n",
    "A força que é o saber\n",
    "\n",
    "Nessa aventura você não vai se arrepender\n",
    "Com a fúria de um vulcão,mas tendo paz no coração\n",
    "Deixo o destino em suas mãos\n",
    "\n",
    "Jaspion!\n",
    "Pela liberdade...\n",
    "Jaspion!\n",
    "Pela igualdade...\n",
    "Jaspion!\n",
    "Pela liberdade...\n",
    "Jaspion!\n",
    "Pela igualdade...\n",
    "\n",
    "Neste mundo...\n",
    "Jaspion!\"\"\"\n",
    "\n",
    "assert_array_equal(common_words(t1, t2), ['and', 'by', 'general', 'in', 'is', 'language', 'programming', 'purpose', 'released'])\n",
    "assert_array_equal(common_words(t3, t4), ['a', 'em', 'igualdade', 'jaspion', 'liberdade', 'no', 'não', 'o', 'paz', 'pela', 'que', 'um', 'vai', 'você', 'é'])\n",
    "assert_array_equal(common_words(t1, t3), [])\n",
    "assert_array_equal(common_words(t2, t4), ['a'])\n",
    "### END HIDDEN TESTS"
   ]
  },
  {
   "cell_type": "markdown",
   "metadata": {
    "nbgrader": {
     "grade": false,
     "grade_id": "cell2c-a00",
     "locked": true,
     "schema_version": 1,
     "solution": false
    }
   },
   "source": [
    "# Exercício 02:\n",
    "\n",
    "Crie uma função que, dado uma lista de tuplas representando pares de palavras com sua respectiva traduação e uma frase, retorne a frase traduzida. As palavras que não possuem uma tradução devem ser impressas como aparecem na frase de entrada. Para testar sua função, você pode utilizar a entrada abaixo, cuja saída esperada é: o cara tossiu.\n",
    "\n",
    "Lista de tuplas: [(\"galaxy\", \"cara tossiu\"), (\"kagayaku\", \"canalha do\"), (\"atsuki\", \"alto que\"), (\"yuushi\", \"util\")]  \n",
    "Frase: \"o galaxy\"\n",
    "\n",
    "\n",
    "__Observação:__  \n",
    "Esse problema, conhecido como O Fantástico Jaspion! foi adaptado de https://br.spoj.com/problems/JASPION/.\n",
    "\n",
    "__TADs__\n",
    "1. Python contém um tipo `dict/{}` que é um mapa: `chave --> valor`.\n",
    "1. A função `sorted` ordena dados"
   ]
  },
  {
   "cell_type": "code",
   "execution_count": 4,
   "metadata": {
    "nbgrader": {
     "grade": false,
     "grade_id": "cell2-a00",
     "locked": false,
     "schema_version": 1,
     "solution": true
    }
   },
   "outputs": [],
   "source": [
    "#Exemplo:\n",
    "lista_de_tuplas = [(\"galaxy\", \"cara tossiu\"), (\"kagayaku\", \"canalha do\"), (\"atsuki\", \"alto que\"), (\"yuushi\", \"util\")]\n",
    "frase = \"o galaxy\"\n",
    "\n",
    "\n",
    "def jaspion(tuples_list, sentence):\n",
    "\n",
    "    ### BEGIN SOLUTION\n",
    "    #dict_jaspion = dict(tuples_list)\n",
    "    dict_jaspion = {}\n",
    "    for t in tuples_list:\n",
    "        dict_jaspion[t[0]] = t[1]\n",
    "        \n",
    "    sentence_list = sentence.split()\n",
    "    for i in range(len(sentence_list)):\n",
    "        if sentence_list[i] in dict_jaspion:\n",
    "            sentence_list[i] = dict_jaspion[sentence_list[i]]\n",
    "    \n",
    "    return (\" \".join(sentence_list))\n",
    "    ### END SOLUTION\n"
   ]
  },
  {
   "cell_type": "code",
   "execution_count": 5,
   "metadata": {
    "nbgrader": {
     "grade": true,
     "grade_id": "cell2t1-a00",
     "locked": true,
     "points": 1,
     "schema_version": 1,
     "solution": false
    }
   },
   "outputs": [],
   "source": [
    "\"\"\"Check that jaspion returns the correct output for several inputs\"\"\"\n",
    "\n",
    "tl1 = [(\"galaxy\", \"cara tossiu\"), (\"kagayaku\", \"canalha do\"), (\"atsuki\", \"alto que\"), (\"yuushi\", \"util\")]\n",
    "s1 = \"o galaxy\"\n",
    "\n",
    "assert_equal(jaspion(tl1, s1), \"o cara tossiu\")"
   ]
  },
  {
   "cell_type": "code",
   "execution_count": 6,
   "metadata": {
    "nbgrader": {
     "grade": true,
     "grade_id": "cell2t2-a00",
     "locked": true,
     "points": 1,
     "schema_version": 1,
     "solution": false
    }
   },
   "outputs": [],
   "source": [
    "### BEGIN HIDDEN TESTS\n",
    "tl2 = [(\"Now\", \"Agora\"), (\"I\", \"eu\"), (\"know\", \"sei\"), (\"my\", \"o\"), (\"ABCs.\", \"ABC.\"), (\"letters\", \"letras\"), (\"from\", \"de\"), (\"to\", \"a\")]\n",
    "\n",
    "s2 = \"o kagayaku atsuki yuushi\"\n",
    "s3 = \"python\"\n",
    "s4 = s1 + \", \" + s2\n",
    "s5 = \"A, B, C, D, E, F, G, H, I, J, K, L, M, N, O, P, Q, R, S, T, U, V, W, X, Y, Z.\"\n",
    "s6 = \"Now I know my ABCs. 26 letters from A to Z.\"\n",
    "\n",
    "assert_equal(jaspion(tl1, s2), \"o canalha do alto que util\")\n",
    "assert_equal(jaspion(tl1, s3), \"python\")\n",
    "assert_equal(jaspion(tl1, s4), \"o galaxy, o canalha do alto que util\")\n",
    "assert_equal(jaspion(tl1, s5), s5)\n",
    "assert_equal(jaspion(tl1, s6), s6)\n",
    "assert_equal(jaspion(tl2, s1), s1)\n",
    "assert_equal(jaspion(tl2, s5), s5)\n",
    "assert_equal(jaspion(tl2, s6), \"Agora eu sei o ABC. 26 letras de A a Z.\")\n",
    "\n",
    "### END HIDDEN TESTS"
   ]
  },
  {
   "cell_type": "markdown",
   "metadata": {
    "nbgrader": {
     "grade": false,
     "grade_id": "cell-f1b759af54c18ce6",
     "locked": true,
     "schema_version": 1,
     "solution": false
    }
   },
   "source": [
    "# Exercício 03:\n",
    "\n",
    "Crie uma função que, dado duas listas sendo uma com nomes e outras com números, retorne uma __lista__ com os nomes associados aos números ordenados em ordem decrescente. Caso mais de um nome esteja associado a um mesmo número, eles devem ser ordenados em ordem lexicográfica. Por exemplo, dado uma lista com o nome de alguns jogadores e outra lista com os salários desses jogadores, a lista com o nome dos jogadores deve ser ordenada de forma que os primeiros jogadores sejam aqueles que possuem os maiores salários. No exemplo dado, a saída esperada é: ['Messi', 'Cristiano Ronaldo', 'Neymar', 'Bale', 'Piqué', 'Kroos', 'Sergio Ramos', 'Ibrahimovic', 'Griezmann', 'Suarez', 'Iniesta', 'Lavezzi', 'Sanchez', 'Benzema', 'Muller', 'Cavani', 'Lewandowski', 'Oscar', 'Pogba', 'Neuer']\n",
    "\n",
    "\n",
    "__Dicas:__  \n",
    "não se esqueça de manter a relação existente entre o nome e o número, ou seja, o nome que ocupa a primeira posição da lista está associado ao número da primeira posição da outra lista. \n",
    "\n",
    "__Funções:__\n",
    "1. sorted(dados) ordena uma lista de valores.\n",
    "   Exemplo, `list(sorted([3, 2, 1]))` retorna `[1, 2, 3]`\n",
    "1. `zip(lista1, lista2)`, um join de duas listas.\n",
    "   Exemplo, `zip(['b', 'a'], [1, 2])` retorna `[('b', 1), ('a', 2)]`\n",
    "1. `list(sorted([('b', 1), ('a', 2)]))` --> `[('a', 2), ('b', 1)]`"
   ]
  },
  {
   "cell_type": "code",
   "execution_count": 7,
   "metadata": {
    "nbgrader": {
     "grade": false,
     "grade_id": "cell-0c77467a22e9621e",
     "locked": false,
     "schema_version": 1,
     "solution": true
    }
   },
   "outputs": [],
   "source": [
    "#Exemplo:\n",
    "player = [\"Neymar\", \"Piqué\", \"Benzema\", \"Neuer\", \"Iniesta\", \"Sergio Ramos\", \"Messi\", \"Oscar\", \"Griezmann\", \"Cavani\", \"Bale\", \"Pogba\", \"Cristiano Ronaldo\", \"Sanchez\", \"Kroos\", \"Lewandowski\", \"Lavezzi\", \"Ibrahimovic\", \"Muller\", \"Suarez\"]\n",
    "player_salary = [81.5, 29, 23.5, 20.8, 25.5, 27.5, 126, 22.2, 26, 22.5, 44, 22, 96, 23.55, 28.2, 22.2, 25.3, 26.8, 23, 26]\n",
    "\n",
    "\n",
    "def sort_lists(list1, list2):\n",
    "    \n",
    "    ### BEGIN SOLUTION\n",
    "    tuples_list = list(zip(list1, list2))\n",
    "    tl_sorted = sorted(sorted(tuples_list, key=lambda tl_sorted: tl_sorted[0]), key = lambda tl_sorted : tl_sorted[1], reverse=True)\n",
    "    names, numbers = zip(*tl_sorted)\n",
    "    \n",
    "    return (list(names))\n",
    "    ### END SOLUTION"
   ]
  },
  {
   "cell_type": "code",
   "execution_count": 8,
   "metadata": {
    "nbgrader": {
     "grade": true,
     "grade_id": "cell-82d1e69f4a30f889",
     "locked": true,
     "points": 1,
     "schema_version": 1,
     "solution": false
    }
   },
   "outputs": [],
   "source": [
    "\"\"\"Check that sort_lists returns the correct output for several inputs\"\"\"\n",
    "\n",
    "player = [\"Neymar\", \"Piqué\", \"Benzema\", \"Neuer\", \"Iniesta\", \"Sergio Ramos\", \"Messi\", \"Oscar\", \"Griezmann\", \"Cavani\", \"Bale\", \"Pogba\", \"Cristiano Ronaldo\", \"Sanchez\", \"Kroos\", \"Lewandowski\", \"Lavezzi\", \"Ibrahimovic\", \"Muller\", \"Suarez\"]\n",
    "player_salary = [81.5, 29, 23.5, 20.8, 25.5, 27.5, 126, 22.2, 26, 22.5, 44, 22, 96, 23.55, 28.2, 22.2, 25.3, 26.8, 23, 26]\n",
    "\n",
    "assert_equal(sort_lists(player, player_salary), ['Messi', 'Cristiano Ronaldo', 'Neymar', 'Bale', 'Piqué', 'Kroos', 'Sergio Ramos', 'Ibrahimovic', 'Griezmann', 'Suarez', 'Iniesta', 'Lavezzi', 'Sanchez', 'Benzema', 'Muller', 'Cavani', 'Lewandowski', 'Oscar', 'Pogba', 'Neuer'])"
   ]
  },
  {
   "cell_type": "code",
   "execution_count": 9,
   "metadata": {
    "nbgrader": {
     "grade": true,
     "grade_id": "cell-df6952de2c0dcfc3",
     "locked": true,
     "points": 1,
     "schema_version": 1,
     "solution": false
    }
   },
   "outputs": [],
   "source": [
    "### BEGIN HIDDEN TESTS\n",
    "coach1 = [\"Conte\", \"Allegri\", \"Klopp\", \"Valverde\", \"Ancelotti\", \"Guardiola\", \"Zidane\", \"Simeone\", \"Lippi\", \"Mourinho\"]\n",
    "coach1_salary = [13, 13.5, 14, 15, 17, 20, 21, 22, 23, 26]\n",
    "\n",
    "coach2 = [\"Pochettino\", \"Stojkovic\", \"Koeman\", \"Spalletti\", \"Manzano\", \"Cannavaro\", \"Wenger\", \"Pellegrini\", \"Jardim\", \"Heynckes\"]\n",
    "coach2_salary = [6.5, 7, 7, 7.2, 8, 10, 10.5, 10.5, 11, 12]\n",
    "\n",
    "students = [\"Marcos\", \"Carol\", \"Niander\"]\n",
    "students_salary = [1500, 1500, 1500]\n",
    "\n",
    "assert_equal(sort_lists(coach1, coach1_salary), ['Mourinho', 'Lippi', 'Simeone', 'Zidane', 'Guardiola', 'Ancelotti', 'Valverde', 'Klopp', 'Allegri', 'Conte'])\n",
    "assert_equal(sort_lists(coach2, coach2_salary), ['Heynckes', 'Jardim', 'Pellegrini', 'Wenger', 'Cannavaro', 'Manzano', 'Spalletti', 'Koeman', 'Stojkovic', 'Pochettino'])\n",
    "assert_equal(sort_lists(students, students_salary), ['Carol', 'Marcos', 'Niander'])\n",
    "### END HIDDEN TESTS"
   ]
  },
  {
   "cell_type": "markdown",
   "metadata": {
    "nbgrader": {
     "grade": false,
     "grade_id": "cell-3dc563b8935b8021",
     "locked": true,
     "schema_version": 1,
     "solution": false
    }
   },
   "source": [
    "# Exercício 04:\n",
    "\n",
    "Vamos aprender um pouco de numpy. Caso necessite, leia a documentação em http://numpy.org. Inicialmente, crie uma função que recebe duas listas de numéros, converte as duas para um vetor numpy usando `np.array` e retorna o produto interno das duas listas. \n",
    "\n",
    "\n",
    "__Dicas:__  \n",
    "1. Tente fazer um código sem nenhum **for**! Ou seja, numpy permite operações em vetores e matrizes, onde: `np.array([1, 2]) + np.array([2, 2]) = np.array([3, 4])`.\n",
    "\n",
    "__Funções:__\n",
    "1. `np.sum(array)` soma os elementos do array."
   ]
  },
  {
   "cell_type": "code",
   "execution_count": 10,
   "metadata": {
    "nbgrader": {
     "grade": false,
     "grade_id": "cell-81d5bf780d85f0e1",
     "locked": false,
     "schema_version": 1,
     "solution": true
    }
   },
   "outputs": [],
   "source": [
    "import numpy as np\n",
    "\n",
    "#Exemplo:\n",
    "x1 = [2, 4, 8]\n",
    "x2 = [10, 100, 1000]\n",
    "\n",
    "\n",
    "def inner(x1, x2):\n",
    "    \n",
    "    ### BEGIN SOLUTION\n",
    "    x1 = np.array(x1)\n",
    "    x2 = np.array(x2)\n",
    "    return (x1 * x2).sum()\n",
    "    ### END SOLUTION"
   ]
  },
  {
   "cell_type": "code",
   "execution_count": 11,
   "metadata": {
    "nbgrader": {
     "grade": true,
     "grade_id": "cell-fa0332fa64ee56dc",
     "locked": true,
     "points": 1,
     "schema_version": 1,
     "solution": false
    }
   },
   "outputs": [],
   "source": [
    "x1 = [2, 4, 8]\n",
    "x2 = [10, 100, 1000]\n",
    "assert_equal(20 + 400 + 8000, inner(x1, x2))"
   ]
  },
  {
   "cell_type": "code",
   "execution_count": 12,
   "metadata": {
    "nbgrader": {
     "grade": true,
     "grade_id": "cell-45249f4339f07aa8",
     "locked": true,
     "points": 1,
     "schema_version": 1,
     "solution": false
    }
   },
   "outputs": [],
   "source": [
    "### BEGIN HIDDEN TESTS\n",
    "for _ in range(10):\n",
    "    x1 = np.random.randint(1, 10, 5)\n",
    "    x2 = np.random.randint(1, 10, 5)\n",
    "    assert_equal(sum(x1 * x2), inner(x1, x2))\n",
    "### END HIDDEN TESTS"
   ]
  },
  {
   "cell_type": "markdown",
   "metadata": {
    "nbgrader": {
     "grade": false,
     "grade_id": "cell-eba66e5ff4db20f9",
     "locked": true,
     "schema_version": 1,
     "solution": false
    }
   },
   "source": [
    "# Exercício 05:\n",
    "\n",
    "Por fim, implemente uma função utilizando numpy que recebe duas matrizes, multiplica as duas e retorne o valor médio das células da multiplicação. Por exemplo, ao multiplicar:\n",
    "\n",
    "```\n",
    "[1 2]\n",
    "[3 4] \n",
    "\n",
    "com \n",
    "\n",
    "[2 1]\n",
    "[1 2]\n",
    "\n",
    "temos\n",
    "\n",
    "[4  5 ]\n",
    "[10 11]\n",
    "\n",
    "onde a média de [4, 5, 10, 11] é\n",
    "\n",
    "7.5, sua resposta final!\n",
    "```\n",
    "\n",
    "\n",
    "__Dicas:__  \n",
    "1. Use o operador @ para multiplicar matrizes!"
   ]
  },
  {
   "cell_type": "code",
   "execution_count": 13,
   "metadata": {
    "nbgrader": {
     "grade": false,
     "grade_id": "cell-284de1851443c7cf",
     "locked": false,
     "schema_version": 1,
     "solution": true
    }
   },
   "outputs": [],
   "source": [
    "def medmult(X, Y):\n",
    "    \n",
    "    ### BEGIN SOLUTION\n",
    "    return (X @ Y).mean()\n",
    "    ### END SOLUTION"
   ]
  },
  {
   "cell_type": "code",
   "execution_count": 14,
   "metadata": {
    "nbgrader": {
     "grade": true,
     "grade_id": "cell-b91c763e84aeda96",
     "locked": true,
     "points": 1,
     "schema_version": 1,
     "solution": false
    }
   },
   "outputs": [],
   "source": [
    "X = np.array([1, 2, 3, 4]).reshape(2, 2)\n",
    "Y = np.array([2, 1, 1, 2]).reshape(2, 2)\n",
    "assert_equal(7.5, medmult(X, Y))"
   ]
  },
  {
   "cell_type": "code",
   "execution_count": 15,
   "metadata": {
    "nbgrader": {
     "grade": true,
     "grade_id": "cell-16fd7395e0e257d4",
     "locked": true,
     "points": 1,
     "schema_version": 1,
     "solution": false
    }
   },
   "outputs": [],
   "source": [
    "### BEGIN HIDDEN TESTS\n",
    "for _ in range(10):\n",
    "    X = np.random.randint(1, 10, 9).reshape(3, 3)\n",
    "    Y = np.random.randint(1, 10, 6).reshape(3, 2)\n",
    "    \n",
    "    assert_equal((X @ Y).mean(), medmult(X, Y))\n",
    "### END HIDDEN TESTS"
   ]
  },
  {
   "cell_type": "code",
   "execution_count": null,
   "metadata": {},
   "outputs": [],
   "source": []
  }
 ],
 "metadata": {
  "celltoolbar": "Create Assignment",
  "kernelspec": {
   "display_name": "Python 3",
   "language": "python",
   "name": "python3"
  },
  "language_info": {
   "codemirror_mode": {
    "name": "ipython",
    "version": 3
   },
   "file_extension": ".py",
   "mimetype": "text/x-python",
   "name": "python",
   "nbconvert_exporter": "python",
   "pygments_lexer": "ipython3",
   "version": "3.7.3"
  }
 },
 "nbformat": 4,
 "nbformat_minor": 2
}
