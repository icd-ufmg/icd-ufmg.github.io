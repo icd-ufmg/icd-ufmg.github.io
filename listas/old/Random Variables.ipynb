{
 "cells": [
  {
   "cell_type": "markdown",
   "metadata": {},
   "source": [
    "# Variáveis aleatórias"
   ]
  },
  {
   "cell_type": "code",
   "execution_count": 1,
   "metadata": {},
   "outputs": [],
   "source": [
    "# importando numpy\n",
    "import numpy as np"
   ]
  },
  {
   "cell_type": "code",
   "execution_count": 2,
   "metadata": {},
   "outputs": [
    {
     "name": "stdout",
     "output_type": "stream",
     "text": [
      " media da primeira amostra de tamanho 10:  0.5724652491335662\n",
      " media da segunda amostra de tamanho 10:  0.5955420940958442\n"
     ]
    }
   ],
   "source": [
    "# Exemplo muito simples:\n",
    "# gerando amostras de tamanho n uma v.a. contínua com valores no intervalo (0,1) e com densidade f(x)=2x\n",
    "# Valor teórico: E(X) = 2/3 =  0.66666...\n",
    "\n",
    "n = 10\n",
    "# usando o método da acumulada inversa de Stan Ulam para gerar a amostra (veremos este método mais a frente)\n",
    "np.random.seed(41)\n",
    "x = np.sqrt(np.random.uniform(size=10))\n",
    "print(\" media da primeira amostra de tamanho 10: \", np.mean(x))\n",
    "# outra amostra\n",
    "x = np.sqrt(np.random.uniform(size=10))\n",
    "print(\" media da segunda amostra de tamanho 10: \", np.mean(x))"
   ]
  },
  {
   "cell_type": "code",
   "execution_count": 3,
   "metadata": {},
   "outputs": [
    {
     "name": "stdout",
     "output_type": "stream",
     "text": [
      " media da primeira amostra de tamanho 100:  0.6580747740090558\n",
      " media da segunda amostra de tamanho 100:  0.6634369387206351\n"
     ]
    }
   ],
   "source": [
    "# aumentando tamanho da amostra para n=100\n",
    "x1 = np.sqrt(np.random.uniform(size=100))\n",
    "print(\" media da primeira amostra de tamanho 100: \", np.mean(x1))\n",
    "# outra amostra\n",
    "x2 = np.sqrt(np.random.uniform(size=100))\n",
    "print(\" media da segunda amostra de tamanho 100: \", np.mean(x2))"
   ]
  },
  {
   "cell_type": "code",
   "execution_count": 4,
   "metadata": {},
   "outputs": [
    {
     "data": {
      "image/png": "[encoded data removed]",
      "text/plain": [
       "<Figure size 432x288 with 2 Axes>"
      ]
     },
     "metadata": {
      "needs_background": "light"
     },
     "output_type": "display_data"
    }
   ],
   "source": [
    "import matplotlib.pyplot as plt\n",
    "grid = np.arange(0, 1, 0.01)\n",
    "\n",
    "plt.subplot(121) # array 1 x 2 de subplots, vamos desenhar no plot 1\n",
    "plt.hist(x1, density = True);\n",
    "plt.plot(grid, 2*grid);\n",
    "plt.subplot(122)\n",
    "plt.hist(x2, density = True);\n",
    "plt.plot(grid, 2*grid);\n",
    "plt.show()"
   ]
  },
  {
   "cell_type": "code",
   "execution_count": 5,
   "metadata": {},
   "outputs": [
    {
     "name": "stdout",
     "output_type": "stream",
     "text": [
      " media da primeira amostra de tamanho 3000:  0.663600272164174\n",
      " media da segunda amostra de tamanho 3000:  0.6675051492597331\n"
     ]
    }
   ],
   "source": [
    "# aumentando tamanho da amostra para n=3000\n",
    "x1 = np.sqrt(np.random.uniform(size=3000))\n",
    "print(\" media da primeira amostra de tamanho 3000: \", np.mean(x1))\n",
    "# outra amostra\n",
    "x2 = np.sqrt(np.random.uniform(size=3000))\n",
    "print(\" media da segunda amostra de tamanho 3000: \", np.mean(x2))"
   ]
  },
  {
   "cell_type": "code",
   "execution_count": 6,
   "metadata": {},
   "outputs": [
    {
     "data": {
      "image/png": "[encoded data removed]",
      "text/plain": [
       "<Figure size 432x288 with 2 Axes>"
      ]
     },
     "metadata": {
      "needs_background": "light"
     },
     "output_type": "display_data"
    }
   ],
   "source": [
    "plt.subplot(121) # array 1 x 2 de subplots, vamos desenhar no plot 1\n",
    "plt.hist(x1, density = True, bins=20);\n",
    "plt.plot(grid, 2*grid);\n",
    "plt.subplot(122)\n",
    "plt.hist(x2, density = True, bins=20);\n",
    "plt.plot(grid, 2*grid);\n",
    "plt.show()"
   ]
  },
  {
   "cell_type": "markdown",
   "metadata": {},
   "source": [
    "# Variáveis aleatórias com scipy"
   ]
  },
  {
   "cell_type": "code",
   "execution_count": 7,
   "metadata": {},
   "outputs": [
    {
     "name": "stdout",
     "output_type": "stream",
     "text": [
      "['alpha', 'anglit', 'arcsine', 'argus', 'beta', 'betaprime', 'bradford', 'burr', 'burr12', 'cauchy', 'chi', 'chi2', 'cosine', 'crystalball', 'dgamma', 'dweibull', 'erlang', 'expon', 'exponnorm', 'exponpow', 'exponweib', 'f', 'fatiguelife', 'fisk', 'foldcauchy', 'foldnorm', 'frechet_l', 'frechet_r', 'gamma', 'gausshyper', 'genexpon', 'genextreme', 'gengamma', 'genhalflogistic', 'genlogistic', 'gennorm', 'genpareto', 'gilbrat', 'gompertz', 'gumbel_l', 'gumbel_r', 'halfcauchy', 'halfgennorm', 'halflogistic', 'halfnorm', 'hypsecant', 'invgamma', 'invgauss', 'invweibull', 'johnsonsb', 'johnsonsu', 'kappa3', 'kappa4', 'ksone', 'kstwobign', 'laplace', 'levy', 'levy_l', 'levy_stable', 'loggamma', 'logistic', 'loglaplace', 'lognorm', 'lomax', 'maxwell', 'mielke', 'moyal', 'nakagami', 'ncf', 'nct', 'ncx2', 'norm', 'norminvgauss', 'pareto', 'pearson3', 'powerlaw', 'powerlognorm', 'powernorm', 'rayleigh', 'rdist', 'recipinvgauss', 'reciprocal', 'rice', 'semicircular', 'skewnorm', 't', 'trapz', 'triang', 'truncexpon', 'truncnorm', 'tukeylambda', 'uniform', 'vonmises', 'vonmises_line', 'wald', 'weibull_max', 'weibull_min', 'wrapcauchy']\n"
     ]
    }
   ],
   "source": [
    "# scipy.stats é um pacote com muitas ferramentas para análise estatística\n",
    "# Em particular, ele possui muitas distribuições para variáveis aleatórias discretas e contínuas.\n",
    "\n",
    "# importando o pacote stats de scipy\n",
    "import scipy.stats as stats\n",
    "\n",
    "dist_continu = [d for d in dir(stats) if \n",
    "                isinstance(getattr(stats, d), stats.rv_continuous)]\n",
    "print(dist_continu)"
   ]
  },
  {
   "cell_type": "code",
   "execution_count": null,
   "metadata": {},
   "outputs": [],
   "source": [
    "# Os principais métodos para VAs contínuas são: \n",
    "#\n",
    "# rvs: Random Variates\n",
    "# pdf: Probability Density Function\n",
    "# cdf: Cumulative Distribution Function\n",
    "# ppf: Percent Point Function (Inverse of CDF)\n",
    "# stats: Return mean, variance, skewness, or kurtosis"
   ]
  },
  {
   "cell_type": "markdown",
   "metadata": {},
   "source": [
    "## Distribuição uniforme "
   ]
  },
  {
   "cell_type": "code",
   "execution_count": 40,
   "metadata": {},
   "outputs": [
    {
     "data": {
      "image/png": "[encoded data removed]",
      "text/plain": [
       "<Figure size 432x288 with 1 Axes>"
      ]
     },
     "metadata": {
      "needs_background": "light"
     },
     "output_type": "display_data"
    }
   ],
   "source": [
    "# Por exemplo, a uniforme U(0,1)\n",
    "amostra = stats.uniform.rvs(size=500)         # amostra aleatória de U(0,1)\n",
    "plt.hist(amostra, density = True, bins=20);   # histograma dos dados da amostra (com área total = 1)\n",
    "x = np.linspace(0, 1, 200)                             # grid regular de valores no intervalo (0,1)\n",
    "plt.plot(x, stats.uniform.pdf(x), label=\"densidade\");  # plot da densidade da U(0,1) no pontos do grid\n",
    "plt.legend();"
   ]
  },
  {
   "cell_type": "code",
   "execution_count": 41,
   "metadata": {},
   "outputs": [
    {
     "name": "stdout",
     "output_type": "stream",
     "text": [
      "P(X <= 0.75) =  0.75\n",
      "P(X >= 0.75) = P(X > 0.75) = 1 - P(X <= 0.75) =  0.25\n",
      "P(0.20 <= X <= 0.75) =  0.5\n",
      "E(X) =  0.5\n",
      "Media aritmetica de 1a amostra com 100 elementos: 100.3339338589838\n",
      "Media de 2a amostra: 100.5043485843447\n"
     ]
    }
   ],
   "source": [
    "# Algumas probabilidades com a U(0,1)\n",
    "\n",
    "print(\"P(X <= 0.75) = \", stats.uniform.cdf(0.75)) \n",
    "print(\"P(X >= 0.75) = P(X > 0.75) = 1 - P(X <= 0.75) = \", 1 - stats.uniform.cdf(0.75)) \n",
    "print(\"P(0.20 <= X <= 0.75) = \", stats.uniform.cdf(0.75) - stats.uniform.cdf(0.25)) \n",
    "\n",
    "m = stats.uniform.stats(moments='m')   # Obtendo o valor teórico E(X) \n",
    "print(\"E(X) = \", m)\n",
    "\n",
    "# Médias aritméticas de amostras tem um valor próximo mas não igual a E(X)\n",
    "print(\"Media aritmetica de 1a amostra com 100 elementos:\", np.mean(stats.uniform.rvs(100)))\n",
    "print(\"Media de 2a amostra:\", np.mean(stats.uniform.rvs(100)))"
   ]
  },
  {
   "cell_type": "code",
   "execution_count": 37,
   "metadata": {},
   "outputs": [
    {
     "name": "stdout",
     "output_type": "stream",
     "text": [
      "[32.94195201 34.41666671 31.43128454 33.88754912 31.15702345 34.71080036\n",
      " 31.21690435 30.59418414 33.89746524 34.93532891]\n"
     ]
    }
   ],
   "source": [
    "# Uma distribuição uniforme mais genérica: U(a, b) = U(loc, loc+scale)\n",
    "print(stats.uniform.rvs(size=10, loc=30, scale=5)) "
   ]
  },
  {
   "cell_type": "markdown",
   "metadata": {},
   "source": [
    "## Voltar aos slides neste ponto "
   ]
  },
  {
   "cell_type": "markdown",
   "metadata": {},
   "source": [
    "## Distribuição gaussiana ou normal N($\\mu, \\sigma^2$)"
   ]
  },
  {
   "cell_type": "code",
   "execution_count": 43,
   "metadata": {},
   "outputs": [
    {
     "data": {
      "image/png": "[encoded data removed]",
      "text/plain": [
       "<Figure size 432x288 with 1 Axes>"
      ]
     },
     "metadata": {
      "needs_background": "light"
     },
     "output_type": "display_data"
    }
   ],
   "source": [
    "# A distribuição gaussiana é conhecida como \"norm\"\n",
    "# A N(mu, sigma^2) pode ser especificada usando os parâmetros loc=mu e scale=sigma \n",
    "# (note que, no scipy, nós usamos **sigma** (desvio-padrão) como parâmetro. \n",
    "# Não usamos o tradicional sigma^2 = variância)\n",
    "\n",
    "# Seja X uma v.a. com distribuicao N(mu=50, sigma^2 = 10^2)\n",
    "# plot da sua função densidade f(x)\n",
    "x = np.linspace(10, 90, 200)\n",
    "plt.plot(x, stats.norm.pdf(x, loc=50, scale=10));"
   ]
  },
  {
   "cell_type": "code",
   "execution_count": 44,
   "metadata": {},
   "outputs": [
    {
     "name": "stdout",
     "output_type": "stream",
     "text": [
      "[32.13464123 56.72462875 69.58143985 40.24316148 56.4644707  54.24825177\n",
      " 51.09052882]\n"
     ]
    }
   ],
   "source": [
    "# Gerando 7 valores aleatórios de uma N(mu=50, sigma^2 = 10^2)\n",
    "\n",
    "amostra = stats.norm.rvs(size=7, loc=50, scale=10) \n",
    "print(amostra)"
   ]
  },
  {
   "cell_type": "code",
   "execution_count": 52,
   "metadata": {},
   "outputs": [
    {
     "name": "stdout",
     "output_type": "stream",
     "text": [
      "Valor esperado da N(50, 10^2) é E(X) =  50.0\n",
      "média aritmética de amostra é igual a : 51.49816037044064 , diferente de E(X).\n",
      "Media de 2a amostra: 49.65320750172545 diferente da anterior e também de E(X).\n"
     ]
    }
   ],
   "source": [
    "# Veja que a média aritmética da amostra **não é** igual ao valor esperado E(X)=50\n",
    "# Obtendo o valor teórico E(X) \n",
    "m = stats.norm.stats(moments='m', loc=50, scale=10)    \n",
    "print(\"Valor esperado da N(50, 10^2) é E(X) = \", m)\n",
    "\n",
    "print(\"média aritmética de amostra é igual a :\", np.mean(amostra), \", diferente de E(X).\")\n",
    "# Média aritmética de uma SEGUNDA amostra da MESMA distribuição, com o mesmo E(X)=50\n",
    "amostra2 = stats.norm.rvs(size=7, loc=50, scale=10) \n",
    "print(\"Media de 2a amostra:\", np.mean(amostra2), \"diferente da anterior e também de E(X).\")"
   ]
  },
  {
   "cell_type": "code",
   "execution_count": 14,
   "metadata": {},
   "outputs": [
    {
     "data": {
      "image/png": "[encoded data removed]",
      "text/plain": [
       "<Figure size 432x288 with 1 Axes>"
      ]
     },
     "metadata": {
      "needs_background": "light"
     },
     "output_type": "display_data"
    }
   ],
   "source": [
    "# Gerando n=2000 valores aleatórios de uma N(mu=50, sigma^2 = 10^2)\n",
    "# histograma com sobreposição da função densidade: são parecidos.\n",
    "\n",
    "amostra = stats.norm.rvs(size=2000, loc=50, scale=10) \n",
    "plt.hist(amostra, density = True, bins=20);\n",
    "x = np.linspace(10, 90, 200)\n",
    "plt.plot(x, stats.norm.pdf(x, loc=50, scale=10));"
   ]
  },
  {
   "cell_type": "code",
   "execution_count": 20,
   "metadata": {},
   "outputs": [
    {
     "name": "stdout",
     "output_type": "stream",
     "text": [
      "P(X <= 65) =  0.9331927987311419\n",
      "P(X > 65) =  0.06680720126885809\n",
      "P(45 < X < 65) =  0.624655260005155\n"
     ]
    }
   ],
   "source": [
    "# Obtenha P(X <= 65)\n",
    "p1 = stats.norm.cdf(65, loc=50, scale=10)\n",
    "print(\"P(X <= 65) = \", p1)\n",
    "\n",
    "# Obtenha P(X > 65) \n",
    "# Mas isto é apenas 1 - P(X <= 65)\n",
    "print(\"P(X > 65) = \", 1-p1)\n",
    "\n",
    "# Obtenha P(45 < X < 65) \n",
    "# É igual a P(X < 65) - P(X < 45)\n",
    "p2 = stats.norm.cdf(65, loc=50, scale=10) - stats.norm.cdf(45, loc=50, scale=10)\n",
    "print(\"P(45 < X < 65) = \", p2)\n",
    "\n",
    "# Obs: no caso de v.a.'s contínuas, P(X <= 65) = P(X < 65) + P(X=65) = P(X < 65) + 0 \n",
    "# Isto é, P(X = 65) = 0"
   ]
  },
  {
   "cell_type": "markdown",
   "metadata": {},
   "source": [
    "Eu gosto de passar explicitamente os parâmetros size, loc e scale.\n",
    "\n",
    "Se os uso implicitamente, às vezes, o que eu acho que estou passando como size pode ser interpretado como loc. "
   ]
  },
  {
   "cell_type": "code",
   "execution_count": 27,
   "metadata": {},
   "outputs": [
    {
     "name": "stdout",
     "output_type": "stream",
     "text": [
      "densidade da N(0,1) em  [30, 40, 50, 60, 70]  é igual a  [0.02275013 0.15865525 0.5        0.84134475 0.97724987]\n",
      "densidade da N(mu,1) em  [30, 40, 50, 60, 70]  é igual a  [0.03593032 0.18406013 0.5        0.81593987 0.96406968]  com mu= [48, 49, 50, 51, 52]\n",
      "densidade da N(mu,sigma^2) em  [30, 40, 50, 60, 70]  é igual a  [0.0668072  0.20662669 0.5        0.79337331 0.9331928 ]\n",
      "Usamos mu= [48, 49, 50, 51, 52]  e sigma= [12, 11, 10, 11, 12]\n"
     ]
    }
   ],
   "source": [
    "# Podemos vetorizar estas operações passando os parâmetros como vetores\n",
    "\n",
    "# Por exemplo, vamos calcular o valor da densidade da N(50, 10^2) em 5 pontos \n",
    "x = [30, 40, 50, 60, 70]\n",
    "d1 = stats.norm.cdf(x, loc=50, scale=10)\n",
    "print(\"densidade da N(0,1) em \", x, \" é igual a \", d1)\n",
    "\n",
    "# Podemos vetorizar o parâmetro loc também\n",
    "mu = [48, 49, 50, 51, 52]\n",
    "d2 = stats.norm.cdf(x, loc=mu, scale=10)\n",
    "print(\"densidade da N(mu,1) em \", x, \" é igual a \", d2, \" com mu=\", mu)\n",
    "\n",
    "# Vetorizando o parâmetro scale também\n",
    "sigma = [12, 11, 10, 11, 12]\n",
    "d3 = stats.norm.cdf(x, loc=mu, scale=sigma)\n",
    "print(\"densidade da N(mu,sigma^2) em \", x, \" é igual a \", d3)\n",
    "print(\"Usamos mu=\", mu, \" e sigma=\", sigma)"
   ]
  },
  {
   "cell_type": "code",
   "execution_count": 55,
   "metadata": {},
   "outputs": [
    {
     "name": "stdout",
     "output_type": "stream",
     "text": [
      "[-10.80776308  -5.44934353   0.05412437   4.75930147  10.21896477]\n"
     ]
    }
   ],
   "source": [
    "# Gerando 5 valores aleatórios de uma N(mu, sigma^2 = 10^2) com mu variando\n",
    "\n",
    "x = stats.norm.rvs(size=5, loc=[-10, -5, 0, 5, 10], scale=1) \n",
    "print(x)"
   ]
  },
  {
   "cell_type": "code",
   "execution_count": 30,
   "metadata": {},
   "outputs": [
    {
     "name": "stdout",
     "output_type": "stream",
     "text": [
      "Primeira amostra =  [-0.66464149  0.55641924  0.72051335 -0.18769995  0.42404559]\n",
      "Segunda amostra =  [-0.10178074 -1.70823872  0.1195981  -1.17676251  0.43637665]\n"
     ]
    }
   ],
   "source": [
    "# Ao chamar a função rvs para gerar números aleatórios uma segunda vez, os números gerados serão diferentes da \n",
    "# primeira geração. \n",
    "print(\"Primeira amostra = \", stats.norm.rvs(size=5))\n",
    "print(\"Segunda amostra = \", stats.norm.rvs(size=5))"
   ]
  },
  {
   "cell_type": "code",
   "execution_count": 33,
   "metadata": {},
   "outputs": [
    {
     "name": "stdout",
     "output_type": "stream",
     "text": [
      "Primeira amostra =  [-0.98912135 -0.36778665  1.28792526  0.19397442  0.9202309 ]\n",
      "Segunda amostra =  [-0.98912135 -0.36778665  1.28792526  0.19397442  0.9202309 ]\n"
     ]
    }
   ],
   "source": [
    "# Os valores sucessivos gerados podem ser considerados independentes, \n",
    "# sem que um valor gerado possa ser usado para predizer o próximo.\n",
    "\n",
    "# Para que você possa repetir exatamente a mesma análise ou para garantir que outras pessoas gerem os mesmos \n",
    "# números aleatórios, devemos fixar explicitamente a semente a ser usada pelo python.\n",
    "\n",
    "from numpy.random import default_rng\n",
    "rng = default_rng(123)\n",
    "print(\"Primeira amostra = \", stats.norm.rvs(size=5, random_state=rng))\n",
    "rng = default_rng(123)\n",
    "print(\"Segunda amostra = \", stats.norm.rvs(size=5, random_state=rng))"
   ]
  },
  {
   "cell_type": "markdown",
   "metadata": {},
   "source": [
    "## Variância, desvio-padrão e função de distribuição acumulada\n",
    "\n",
    "Voltar aos slides neste ponto e retornar mais tarde. "
   ]
  },
  {
   "cell_type": "code",
   "execution_count": 23,
   "metadata": {},
   "outputs": [
    {
     "name": "stdout",
     "output_type": "stream",
     "text": [
      "Valor x tal que P(N(50, 10^2) <= x) = 0.23 é:  42.61153150814786\n"
     ]
    }
   ],
   "source": [
    "# Outra operação importante é ppf: Percent Point Function (Inverse of CDF)\n",
    "# Dada uma probabilidade, tal como 0.23, ela retorna o valor x tala que P(X <= x) = 0.23\n",
    "\n",
    "print(\"Valor x tal que P(N(50, 10^2) <= x) = 0.23 é: \", stats.norm.ppf(0.23, loc=50, scale=10)) "
   ]
  },
  {
   "cell_type": "code",
   "execution_count": null,
   "metadata": {},
   "outputs": [],
   "source": [
    "# todas distribuições possuem funções de help\n",
    "print(stats.norm.__doc__)"
   ]
  },
  {
   "cell_type": "code",
   "execution_count": 35,
   "metadata": {},
   "outputs": [
    {
     "name": "stdout",
     "output_type": "stream",
     "text": [
      "Primeira amostra =  [10.68925062  7.14077921  5.1037734   6.27413413  5.90861196  7.3993105\n",
      "  6.43053806  8.47597217  6.05105815  8.67791324  6.07596416  6.10605047\n",
      "  5.47769598  7.02763825  5.1053202   8.3966334  10.52448456  8.47109964\n",
      "  6.17256391  6.730462    8.7946476   6.69947357  6.30695051  5.2042113\n",
      "  7.5928735   5.23528546  7.49020655  7.43114519  5.59584635  5.3059702\n",
      "  6.28360554  8.45215176  7.92174541  7.04784736  6.37085685  6.47478215\n",
      "  5.79904596  8.29937663  8.20292412  6.20274379  5.79454812  7.31544961\n",
      "  8.28904067  5.70281487  6.62200878  5.47611899  6.70617303  6.03269703\n",
      "  6.26359783 12.60518557]\n"
     ]
    }
   ],
   "source": [
    "# Outras distribuições contínuas\n",
    "\n",
    "x = stats.expon.rvs(size=500, loc=5, scale=3)\n",
    "print(\"Primeira amostra = \", x)\n"
   ]
  },
  {
   "cell_type": "code",
   "execution_count": null,
   "metadata": {},
   "outputs": [],
   "source": [
    "dist_discrete = [d for d in dir(stats) if \n",
    "                 isinstance(getattr(stats, d), stats.rv_discrete)]\n",
    "print(dist_discrete)"
   ]
  },
  {
   "cell_type": "code",
   "execution_count": null,
   "metadata": {},
   "outputs": [],
   "source": [
    "print(\"V(X) = \", v)                 \n",
    "print(\"DP(X) = \", np.sqrt(v))"
   ]
  },
  {
   "cell_type": "code",
   "execution_count": null,
   "metadata": {},
   "outputs": [],
   "source": [
    "# Ajustar os dados a uma distribuição\n",
    "# Usa o método de máxima verossimilhança \n",
    "\n"
   ]
  }
 ],
 "metadata": {
  "kernelspec": {
   "display_name": "Python 3",
   "language": "python",
   "name": "python3"
  },
  "language_info": {
   "codemirror_mode": {
    "name": "ipython",
    "version": 3
   },
   "file_extension": ".py",
   "mimetype": "text/x-python",
   "name": "python",
   "nbconvert_exporter": "python",
   "pygments_lexer": "ipython3",
   "version": "3.7.4"
  }
 },
 "nbformat": 4,
 "nbformat_minor": 4
}
