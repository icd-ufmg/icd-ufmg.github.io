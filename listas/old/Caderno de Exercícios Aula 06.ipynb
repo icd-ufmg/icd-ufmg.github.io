{
 "cells": [
  {
   "cell_type": "markdown",
   "id": "33135adb",
   "metadata": {},
   "source": [
    "# Usiminas: Residência em Ciência de Dados\n",
    "\n",
    "**Disciplina:** Probabilidade e Análise de Dados com Python\n",
    "\n",
    "**Professores:** Flávio Figueiredo e Pedro Melo\n",
    "\n",
    "**Aula 6:** Análise exploratória de dados e visualizações com Seaborn e Plotly "
   ]
  },
  {
   "cell_type": "markdown",
   "id": "05562f73",
   "metadata": {},
   "source": [
    "Na aula de hoje, vimos como construir diversos tipos de visualizações utilizando as bibliotecas `seaborn`e `plotly`. Aqui, colocaremos em prática o que aprendemos para gerar e analisar visualizações com essas ferramentas."
   ]
  },
  {
   "cell_type": "code",
   "execution_count": 10,
   "id": "5233003b",
   "metadata": {},
   "outputs": [],
   "source": [
    "import pandas as pd\n",
    "import matplotlib.pyplot as plt\n",
    "import seaborn as sns\n",
    "import plotly.express as px"
   ]
  },
  {
   "cell_type": "markdown",
   "id": "722237ff",
   "metadata": {},
   "source": [
    "### Questão 1 - Reconstrua o gráfico de pontos mostrado abaixo.\n",
    "\n",
    "![img1](https://github.com/fccarvalho2/Viz/blob/main/graph.png?raw=true)\n",
    "\n",
    "**Informações adicionais:** Para este plot, utilizaremos somente os diamantes da melhor classe de cores (D) do conjunto de dados \"Diamonds\", que já está incluindo na bibloteca `seaborn`. Você precisará utilizar as funções da biblioteca `pandas` para selecionar as linhas que atendem a este critério. Lembre-se de escolher dimensões apropriadas para sua figura."
   ]
  },
  {
   "cell_type": "code",
   "execution_count": null,
   "id": "323c1795",
   "metadata": {},
   "outputs": [],
   "source": [
    "#Importando e visualizando o conjunto de dados\n",
    "diamonds = sns.load_dataset('diamonds')\n",
    "diamonds"
   ]
  },
  {
   "cell_type": "code",
   "execution_count": null,
   "id": "b4586048",
   "metadata": {},
   "outputs": [],
   "source": []
  },
  {
   "cell_type": "markdown",
   "id": "e6c85fc7",
   "metadata": {},
   "source": [
    "**Pergunta:** Analisando a figura, qual par de variáveis (dentre as mostradas) parece estar mais fortemente associado?"
   ]
  },
  {
   "cell_type": "markdown",
   "id": "d5a08e00",
   "metadata": {},
   "source": [
    "**Resposta:** "
   ]
  },
  {
   "cell_type": "markdown",
   "id": "ca3cd29d",
   "metadata": {},
   "source": [
    "### Questão 2 - Reconstrua o violin plot a seguir.\n",
    "\n",
    "\n",
    "![violin plot](https://github.com/fccarvalho2/Viz/blob/main/graph2.png?raw=true)\n",
    "\n",
    "**Informações adicionais:** Para este plot, utilizaremos o conjunto de dados \"tips\" em sua totalidade. Este _dataset_ já está incluindo por padrão na bibloteca `seaborn` e pode ser importado como um dataframe `pandas` utilizando o comando `sns.load_dataset('tips')`."
   ]
  },
  {
   "cell_type": "code",
   "execution_count": null,
   "id": "15af535a",
   "metadata": {},
   "outputs": [],
   "source": [
    "#Importando e visualizando o conjunto de dados\n",
    "tips = sns.load_dataset('tips')\n",
    "tips"
   ]
  },
  {
   "cell_type": "code",
   "execution_count": null,
   "id": "9da0e654",
   "metadata": {},
   "outputs": [],
   "source": []
  },
  {
   "cell_type": "markdown",
   "id": "f6b8963d",
   "metadata": {},
   "source": [
    "Analisando a visualização construída, podemos obter as respostas para algumas perguntas, incluindo, mas não limitando-se a:\n",
    "\n",
    "1. Fumantes (_smoker_=_Yes_) tendem a pagar melhores gorgetas?\n",
    "2. Em qual dia da semana as gorgetas são melhores?\n",
    "3. Em qual dia da semana se observou a maior gorgeta? \n",
    "\n",
    "Com base nisso, modifique a visualização acima para responder às seguintes perguntas:\n",
    "\n",
    "1. Há uma diferença significativa no total das contas (_total_bill_) pagos por homens e mulheres?\n",
    "2. Os clientes tendem a gastar mais no almoço ou no jantar?"
   ]
  },
  {
   "cell_type": "code",
   "execution_count": null,
   "id": "717da43e",
   "metadata": {},
   "outputs": [],
   "source": []
  },
  {
   "cell_type": "markdown",
   "id": "4c946c2a",
   "metadata": {},
   "source": [
    "### Questão 3 - Construa um  mapa de calor utilizando o conjunto de dados _diamonds_.\n",
    "\n",
    "**Informações adicionais:** Conjunto de dados muito grandes podem dificultar a criação de visualizações efetivas. Este é o caso do conjunto diamonds, que possui mais de 53 mil entradas. Para situações como esta, a análise de informações estatísticas (como as correlações) dos dados é muito importante durante a etapa de análise exploratória dos dados, e nos ajuda a criar visualizações mais eficientes. Utilizando as bibliotecas `pandas` e `seaborn`, constura um mapa de calor representando as correlações entre as diversas variáveis numéricas deste conjunto de dados.\n"
   ]
  },
  {
   "cell_type": "code",
   "execution_count": null,
   "id": "51ef101d",
   "metadata": {},
   "outputs": [],
   "source": []
  },
  {
   "cell_type": "markdown",
   "id": "05637c38",
   "metadata": {},
   "source": [
    "**a)** Construa agora uma matriz de _scatterplots_. Qual destas visualizações lhe parece mais efetiva?"
   ]
  },
  {
   "cell_type": "code",
   "execution_count": null,
   "id": "e40e5528",
   "metadata": {},
   "outputs": [],
   "source": []
  },
  {
   "cell_type": "markdown",
   "id": "e83efe9b",
   "metadata": {},
   "source": [
    "###  Questão 4 [Desafio] - Construindo animações com Plotly\n",
    "\n",
    "O Gapminder é uma instituição sem afiliações políticas, econômicas ou religiosas, que tem como o objetivo utilizar dados reais para combater a desinformação sistemática sobre diversos aspectos globais importantes como a pobreza e desigualdades sociais. No [site da organização](https://www.gapminder.org/) são disponibilizados diversos recursos como visualizações criativas, quizes, conjuntos de dados de grande utilidade pública, dentre outros.\n",
    "\n",
    "Uma das visualizações mais famosas criadas e divulgadas pelo Gapminder é o [Bubble chart animado](https://www.gapminder.org/tools/#$chart-type=bubbles&url=v1) que mostra como a renda e a expectativa de vida mudaram ao redor do mundo desde desde o final do século XVIII.\n",
    "\n",
    "Apesar de bastante impactante e visualmente atraente, esta visualização de aparência complexa é mais fácil de se construir do que inicialmente podemos imaginar. Por isso, propomos aqui o desafio de reconstruir a animação utilizando os dados do gapminder e a biblioteca `plotly`. \n",
    "\n",
    "Observação: No gráfico mostrado no Gapminder, o eixo x está em escala logaritmica. Podemos conseguir resultados similares utilizando o parâmetro `log_x=True` na chamada de nossa função. Para ajustar o tamanho do eixo y, podemos usar ` range_y=[15,90]`."
   ]
  },
  {
   "cell_type": "code",
   "execution_count": null,
   "id": "0891707a",
   "metadata": {},
   "outputs": [],
   "source": [
    "#Importando e visualizando o conjunto de dados\n",
    "gapminder = px.data.gapminder()\n",
    "gapminder"
   ]
  },
  {
   "cell_type": "code",
   "execution_count": null,
   "id": "47c83b8c",
   "metadata": {},
   "outputs": [],
   "source": []
  }
 ],
 "metadata": {
  "kernelspec": {
   "display_name": "Python 3 (ipykernel)",
   "language": "python",
   "name": "python3"
  },
  "language_info": {
   "codemirror_mode": {
    "name": "ipython",
    "version": 3
   },
   "file_extension": ".py",
   "mimetype": "text/x-python",
   "name": "python",
   "nbconvert_exporter": "python",
   "pygments_lexer": "ipython3",
   "version": "3.11.3"
  }
 },
 "nbformat": 4,
 "nbformat_minor": 5
}
