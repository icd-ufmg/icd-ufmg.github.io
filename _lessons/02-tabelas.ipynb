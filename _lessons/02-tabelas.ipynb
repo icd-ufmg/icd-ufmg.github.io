{
 "cells": [
  {
   "cell_type": "markdown",
   "metadata": {},
   "source": [
    "---\n",
    "layout: page\n",
    "title: Tabelas e Tipos de Dados\n",
    "nav_order: 2\n",
    "---\n",
    "\n",
    "[<img src=\"./colab_favicon_small.png\" style=\"float: right;\">](https://colab.research.google.com/github/icd-ufmg/icd-ufmg.github.io/blob/master/_lessons/02-tabelas.ipynb)\n",
    "\n",
    "\n",
    "# Tabelas e Tipos de Dados\n",
    "\n",
    "{: .no_toc .mb-2 }\n",
    "\n",
    "Aprendendo como criar e manipular tabelas.\n",
    "{: .fs-6 .fw-300 }\n",
    "\n",
    "{: .no_toc .text-delta }\n",
    "Resultados Esperados\n",
    "\n",
    "1. Aprender o básico de Pandas\n",
    "1. Entender diferentes tipos de dados\n",
    "1. Básico de filtros e seleções\n",
    "1. Aplicação de filtros básicos para gerar insights nos dados de dados tabulares\n",
    "\n",
    "\n",
    "\n",
    "---\n",
    "**Sumário**\n",
    "1. TOC\n",
    "{:toc}\n",
    "---"
   ]
  },
  {
   "cell_type": "markdown",
   "metadata": {
    "nbpresent": {
     "id": "281b08e7-8d51-41ef-8023-df18b64fa53f"
    }
   },
   "source": [
    "## Introdução\n",
    "\n",
    "Neste notebook vamos explorar um pouco de dados tabulares, ou seja, tabelas. Tabelas de dados representam um dos tipos de dados mais comuns para o cientista de dados. Pense nas inúmeras tabelas Excell que você já trabalhou com.\n",
    "\n",
    "A principal biblioteca para leitura de dados tabulares em Python se chama **pandas**. A mesma é bastante poderosa implementando uma série de operações de bancos de dados (e.g., groupby e join). Nossa discussão será focada em algumas das funções principais do pandas que vamos explorar no curso. Existe uma série ampla de funcionalidades que a biblioteca (além de outras) vai trazer. \n",
    "\n",
    "Caso necessite de algo além da aula, busque na documentação da biblioteca. Por fim, durante esta aula, também vamos aprender um pouco de bash."
   ]
  },
  {
   "cell_type": "markdown",
   "metadata": {},
   "source": [
    "### Imports básicos\n",
    "\n",
    "A maioria dos nossos notebooks vai iniciar com os imports abaixo.\n",
    "1. pandas: dados tabulates\n",
    "1. matplotlib: gráficos e plots\n",
    "\n",
    "A chamada `plt.ion` habilita gráficos do matplotlib no notebook diretamente. Caso necesse salvar alguma figura, chame `plt.savefig` após seu plot."
   ]
  },
  {
   "cell_type": "code",
   "execution_count": 1,
   "metadata": {
    "execution": {
     "iopub.execute_input": "2022-04-04T15:48:45.734943Z",
     "iopub.status.busy": "2022-04-04T15:48:45.733007Z",
     "iopub.status.idle": "2022-04-04T15:48:47.387957Z",
     "shell.execute_reply": "2022-04-04T15:48:47.388817Z"
    },
    "nbpresent": {
     "id": "f728b9cb-d511-4dfc-9f60-48a88225ad04"
    }
   },
   "outputs": [
    {
     "data": {
      "text/plain": [
       "<matplotlib.pyplot._IonContext at 0x7f4ae2db2350>"
      ]
     },
     "execution_count": 1,
     "metadata": {},
     "output_type": "execute_result"
    }
   ],
   "source": [
    "import pandas as pd\n",
    "import matplotlib.pyplot as plt\n",
    "import numpy as np\n",
    "\n",
    "plt.ion()"
   ]
  },
  {
   "cell_type": "markdown",
   "metadata": {
    "nbpresent": {
     "id": "2d9947f5-eee2-46d1-859f-5b265d61a040"
    }
   },
   "source": [
    "## Series\n",
    "\n",
    "Existem dois tipos base de dados em pandas. O primeiro, Series, representa uma coluna de dados. Um combinação de Series vira um DataFrame (mais abaixo). Diferente de um vetor `numpy`, a Series de panda captura uma coluna de dados (ou vetor) indexado. Isto é, podemos nomear cada um dos valores."
   ]
  },
  {
   "cell_type": "code",
   "execution_count": 2,
   "metadata": {
    "execution": {
     "iopub.execute_input": "2022-04-04T15:48:47.397185Z",
     "iopub.status.busy": "2022-04-04T15:48:47.396188Z",
     "iopub.status.idle": "2022-04-04T15:48:47.399775Z",
     "shell.execute_reply": "2022-04-04T15:48:47.398962Z"
    },
    "nbpresent": {
     "id": "c3d596cc-eef4-411d-a730-c078e965fbe1"
    }
   },
   "outputs": [],
   "source": [
    "data = pd.Series([0.25, 0.5, 0.75, 1.0],\n",
    "                 index=['a', 'b', 'c', 'd'])"
   ]
  },
  {
   "cell_type": "code",
   "execution_count": 3,
   "metadata": {
    "execution": {
     "iopub.execute_input": "2022-04-04T15:48:47.408993Z",
     "iopub.status.busy": "2022-04-04T15:48:47.407789Z",
     "iopub.status.idle": "2022-04-04T15:48:47.413216Z",
     "shell.execute_reply": "2022-04-04T15:48:47.412272Z"
    },
    "nbpresent": {
     "id": "7b3d41ef-4ff4-42ae-869d-44d29bb014f5"
    }
   },
   "outputs": [
    {
     "data": {
      "text/plain": [
       "a    0.25\n",
       "b    0.50\n",
       "c    0.75\n",
       "d    1.00\n",
       "dtype: float64"
      ]
     },
     "execution_count": 3,
     "metadata": {},
     "output_type": "execute_result"
    }
   ],
   "source": [
    "data"
   ]
  },
  {
   "cell_type": "markdown",
   "metadata": {
    "nbpresent": {
     "id": "8ceaf0bc-e01e-491e-8e6c-6bf8ffd31048"
    }
   },
   "source": [
    "Note que podemos usar como um vetor"
   ]
  },
  {
   "cell_type": "code",
   "execution_count": 4,
   "metadata": {
    "execution": {
     "iopub.execute_input": "2022-04-04T15:48:47.420453Z",
     "iopub.status.busy": "2022-04-04T15:48:47.419250Z",
     "iopub.status.idle": "2022-04-04T15:48:47.423746Z",
     "shell.execute_reply": "2022-04-04T15:48:47.424549Z"
    },
    "nbpresent": {
     "id": "c2e7b304-2eb7-42bb-8ff6-a8d2fa2c2f18"
    }
   },
   "outputs": [
    {
     "data": {
      "text/plain": [
       "0.25"
      ]
     },
     "execution_count": 4,
     "metadata": {},
     "output_type": "execute_result"
    }
   ],
   "source": [
    "data[0]"
   ]
  },
  {
   "cell_type": "markdown",
   "metadata": {
    "nbpresent": {
     "id": "4c6cb61b-cf85-476c-aa29-837df3e72bcc"
    }
   },
   "source": [
    "Porém o índice nos ajuda. Para um exemplo trivial como este não será tão interessante, mas vamos usar o mesmo."
   ]
  },
  {
   "cell_type": "code",
   "execution_count": 5,
   "metadata": {
    "execution": {
     "iopub.execute_input": "2022-04-04T15:48:47.432230Z",
     "iopub.status.busy": "2022-04-04T15:48:47.431012Z",
     "iopub.status.idle": "2022-04-04T15:48:47.436148Z",
     "shell.execute_reply": "2022-04-04T15:48:47.435322Z"
    },
    "nbpresent": {
     "id": "c73d59ab-79f2-47c0-bd24-522102c02f38"
    }
   },
   "outputs": [
    {
     "data": {
      "text/plain": [
       "Index(['a', 'b', 'c', 'd'], dtype='object')"
      ]
     },
     "execution_count": 5,
     "metadata": {},
     "output_type": "execute_result"
    }
   ],
   "source": [
    "data.index"
   ]
  },
  {
   "cell_type": "markdown",
   "metadata": {
    "nbpresent": {
     "id": "794fa89c-57f8-4953-ad08-286c071c7ed6"
    }
   },
   "source": [
    "Com .loc acessamos uma linha do índice com base no nome. Então:\n",
    "\n",
    "1. `series.loc[objeto_python]` - valor com o devido nome.\n",
    "1. `series.iloc[int]` - i-ésimo elemento da Series."
   ]
  },
  {
   "cell_type": "code",
   "execution_count": 6,
   "metadata": {
    "execution": {
     "iopub.execute_input": "2022-04-04T15:48:47.443910Z",
     "iopub.status.busy": "2022-04-04T15:48:47.442670Z",
     "iopub.status.idle": "2022-04-04T15:48:47.446840Z",
     "shell.execute_reply": "2022-04-04T15:48:47.447651Z"
    },
    "nbpresent": {
     "id": "81c775e5-722f-49c3-8501-be1e38998f2a"
    }
   },
   "outputs": [
    {
     "data": {
      "text/plain": [
       "0.25"
      ]
     },
     "execution_count": 6,
     "metadata": {},
     "output_type": "execute_result"
    }
   ],
   "source": [
    "data.loc['a']"
   ]
  },
  {
   "cell_type": "code",
   "execution_count": 7,
   "metadata": {
    "execution": {
     "iopub.execute_input": "2022-04-04T15:48:47.455332Z",
     "iopub.status.busy": "2022-04-04T15:48:47.454048Z",
     "iopub.status.idle": "2022-04-04T15:48:47.458262Z",
     "shell.execute_reply": "2022-04-04T15:48:47.459078Z"
    },
    "nbpresent": {
     "id": "aab3ee6a-012d-4507-8905-10dbdc0cb54a"
    }
   },
   "outputs": [
    {
     "data": {
      "text/plain": [
       "0.5"
      ]
     },
     "execution_count": 7,
     "metadata": {},
     "output_type": "execute_result"
    }
   ],
   "source": [
    "data.loc['b']"
   ]
  },
  {
   "cell_type": "markdown",
   "metadata": {
    "nbpresent": {
     "id": "bbd57e13-0521-4be9-8091-364df0ac62f8"
    }
   },
   "source": [
    "Com `iloc` acessamos por número da linha, estilho um vetor."
   ]
  },
  {
   "cell_type": "code",
   "execution_count": 8,
   "metadata": {
    "execution": {
     "iopub.execute_input": "2022-04-04T15:48:47.466567Z",
     "iopub.status.busy": "2022-04-04T15:48:47.465438Z",
     "iopub.status.idle": "2022-04-04T15:48:47.469710Z",
     "shell.execute_reply": "2022-04-04T15:48:47.470516Z"
    },
    "nbpresent": {
     "id": "26fb3753-3d24-4f6c-9fc8-d0901166e8c3"
    }
   },
   "outputs": [
    {
     "data": {
      "text/plain": [
       "0.25"
      ]
     },
     "execution_count": 8,
     "metadata": {},
     "output_type": "execute_result"
    }
   ],
   "source": [
    "data.iloc[0]"
   ]
  },
  {
   "cell_type": "code",
   "execution_count": 9,
   "metadata": {
    "execution": {
     "iopub.execute_input": "2022-04-04T15:48:47.478252Z",
     "iopub.status.busy": "2022-04-04T15:48:47.477064Z",
     "iopub.status.idle": "2022-04-04T15:48:47.481378Z",
     "shell.execute_reply": "2022-04-04T15:48:47.482230Z"
    }
   },
   "outputs": [
    {
     "data": {
      "text/plain": [
       "0.25"
      ]
     },
     "execution_count": 9,
     "metadata": {},
     "output_type": "execute_result"
    }
   ],
   "source": [
    "data[0]"
   ]
  },
  {
   "cell_type": "markdown",
   "metadata": {
    "nbpresent": {
     "id": "535f30eb-11f6-4ec2-8c1c-a3f608040590"
    }
   },
   "source": [
    "## Data Frames\n",
    "\n",
    "Ao combinar várias Series com um índice comum, criamos um **DataFrame**. Não é tão comum gerar os mesmos na mão como estamos fazendo, geralmente carregamos DataFrames de arquivos `.csv`, `.json` ou até de sistemas de bancos de dados `mariadb`. De qualquer forma, use os exemplos abaixo para entender a estrutura de um dataframe."
   ]
  },
  {
   "cell_type": "markdown",
   "metadata": {
    "nbpresent": {
     "id": "48859c3b-b935-4cf0-b631-a7455e10bc51"
    }
   },
   "source": [
    "Lembre-se que {}/dict é um dicionário (ou mapa) em Python. Podemos criar uma série a partir de um dicionário\n",
    "index->value"
   ]
  },
  {
   "cell_type": "code",
   "execution_count": 10,
   "metadata": {
    "execution": {
     "iopub.execute_input": "2022-04-04T15:48:47.489519Z",
     "iopub.status.busy": "2022-04-04T15:48:47.488164Z",
     "iopub.status.idle": "2022-04-04T15:48:47.492006Z",
     "shell.execute_reply": "2022-04-04T15:48:47.491146Z"
    },
    "nbpresent": {
     "id": "4819490a-d68f-4bb4-8ebe-2a0fa0169007"
    }
   },
   "outputs": [],
   "source": [
    "area_dict = {'California': 423967,\n",
    "             'Texas': 695662,\n",
    "             'New York': 141297,\n",
    "             'Florida': 170312,\n",
    "             'Illinois': 149995}"
   ]
  },
  {
   "cell_type": "markdown",
   "metadata": {},
   "source": [
    "A linha abaixo pega todas as chaves."
   ]
  },
  {
   "cell_type": "code",
   "execution_count": 11,
   "metadata": {
    "execution": {
     "iopub.execute_input": "2022-04-04T15:48:47.499063Z",
     "iopub.status.busy": "2022-04-04T15:48:47.498002Z",
     "iopub.status.idle": "2022-04-04T15:48:47.501818Z",
     "shell.execute_reply": "2022-04-04T15:48:47.502631Z"
    },
    "nbpresent": {
     "id": "fc0c5efb-aabe-4775-bbf1-6b0c1188d88c"
    }
   },
   "outputs": [
    {
     "data": {
      "text/plain": [
       "['California', 'Texas', 'New York', 'Florida', 'Illinois']"
      ]
     },
     "execution_count": 11,
     "metadata": {},
     "output_type": "execute_result"
    }
   ],
   "source": [
    "list(area_dict.keys())"
   ]
  },
  {
   "cell_type": "markdown",
   "metadata": {},
   "source": [
    "Agora todas as colunas"
   ]
  },
  {
   "cell_type": "code",
   "execution_count": 12,
   "metadata": {
    "execution": {
     "iopub.execute_input": "2022-04-04T15:48:47.509972Z",
     "iopub.status.busy": "2022-04-04T15:48:47.508797Z",
     "iopub.status.idle": "2022-04-04T15:48:47.514061Z",
     "shell.execute_reply": "2022-04-04T15:48:47.513247Z"
    },
    "nbpresent": {
     "id": "273238d4-1c32-40ff-86d9-db97914e5cef"
    }
   },
   "outputs": [
    {
     "data": {
      "text/plain": [
       "[423967, 695662, 141297, 170312, 149995]"
      ]
     },
     "execution_count": 12,
     "metadata": {},
     "output_type": "execute_result"
    }
   ],
   "source": [
    "list(area_dict.values())"
   ]
  },
  {
   "cell_type": "markdown",
   "metadata": {},
   "source": [
    "Acessando um valor."
   ]
  },
  {
   "cell_type": "code",
   "execution_count": 13,
   "metadata": {
    "execution": {
     "iopub.execute_input": "2022-04-04T15:48:47.521469Z",
     "iopub.status.busy": "2022-04-04T15:48:47.520270Z",
     "iopub.status.idle": "2022-04-04T15:48:47.524626Z",
     "shell.execute_reply": "2022-04-04T15:48:47.525460Z"
    },
    "nbpresent": {
     "id": "821ee6cc-5bae-4a95-9d2d-680b62c67656"
    }
   },
   "outputs": [
    {
     "data": {
      "text/plain": [
       "423967"
      ]
     },
     "execution_count": 13,
     "metadata": {},
     "output_type": "execute_result"
    }
   ],
   "source": [
    "area_dict['California']"
   ]
  },
  {
   "cell_type": "markdown",
   "metadata": {},
   "source": [
    "Podemos criar a série a partir do dicionário, cada chave vira um elemento do índice. Os valores viram os dados do vetor."
   ]
  },
  {
   "cell_type": "code",
   "execution_count": 14,
   "metadata": {
    "execution": {
     "iopub.execute_input": "2022-04-04T15:48:47.534788Z",
     "iopub.status.busy": "2022-04-04T15:48:47.533492Z",
     "iopub.status.idle": "2022-04-04T15:48:47.537966Z",
     "shell.execute_reply": "2022-04-04T15:48:47.538801Z"
    },
    "nbpresent": {
     "id": "d334e569-7d7c-41e8-a13a-b4fcbd17ac38"
    }
   },
   "outputs": [
    {
     "data": {
      "text/plain": [
       "California    423967\n",
       "Texas         695662\n",
       "New York      141297\n",
       "Florida       170312\n",
       "Illinois      149995\n",
       "dtype: int64"
      ]
     },
     "execution_count": 14,
     "metadata": {},
     "output_type": "execute_result"
    }
   ],
   "source": [
    "area = pd.Series(area_dict)\n",
    "area"
   ]
  },
  {
   "cell_type": "markdown",
   "metadata": {},
   "source": [
    "Agora, vamos criar outro dicionário com a população dos estados."
   ]
  },
  {
   "cell_type": "code",
   "execution_count": 15,
   "metadata": {
    "execution": {
     "iopub.execute_input": "2022-04-04T15:48:47.549062Z",
     "iopub.status.busy": "2022-04-04T15:48:47.547864Z",
     "iopub.status.idle": "2022-04-04T15:48:47.552272Z",
     "shell.execute_reply": "2022-04-04T15:48:47.553082Z"
    },
    "nbpresent": {
     "id": "bea202bd-cf07-47bf-a691-908c3f5021b0"
    }
   },
   "outputs": [
    {
     "data": {
      "text/plain": [
       "California    38332521\n",
       "Texas         26448193\n",
       "New York      19651127\n",
       "Florida       19552860\n",
       "Illinois      12882135\n",
       "dtype: int64"
      ]
     },
     "execution_count": 15,
     "metadata": {},
     "output_type": "execute_result"
    }
   ],
   "source": [
    "pop_dict = {'California': 38332521,\n",
    "            'Texas': 26448193,\n",
    "            'New York': 19651127,\n",
    "            'Florida': 19552860,\n",
    "            'Illinois': 12882135}\n",
    "pop = pd.Series(pop_dict)\n",
    "pop"
   ]
  },
  {
   "cell_type": "markdown",
   "metadata": {},
   "source": [
    "Por fim, observe que o DataFrame é uma combinação de Series. Cada uma das Series vira uma coluna da tabela de dados."
   ]
  },
  {
   "cell_type": "code",
   "execution_count": 16,
   "metadata": {
    "execution": {
     "iopub.execute_input": "2022-04-04T15:48:47.562412Z",
     "iopub.status.busy": "2022-04-04T15:48:47.560820Z",
     "iopub.status.idle": "2022-04-04T15:48:47.571578Z",
     "shell.execute_reply": "2022-04-04T15:48:47.570576Z"
    },
    "nbpresent": {
     "id": "c8584641-280b-45c5-aaa0-64ce682ee68c"
    }
   },
   "outputs": [
    {
     "data": {
      "text/html": [
       "<div>\n",
       "<style scoped>\n",
       "    .dataframe tbody tr th:only-of-type {\n",
       "        vertical-align: middle;\n",
       "    }\n",
       "\n",
       "    .dataframe tbody tr th {\n",
       "        vertical-align: top;\n",
       "    }\n",
       "\n",
       "    .dataframe thead th {\n",
       "        text-align: right;\n",
       "    }\n",
       "</style>\n",
       "<table border=\"1\" class=\"dataframe\">\n",
       "  <thead>\n",
       "    <tr style=\"text-align: right;\">\n",
       "      <th></th>\n",
       "      <th>area</th>\n",
       "      <th>pop</th>\n",
       "    </tr>\n",
       "  </thead>\n",
       "  <tbody>\n",
       "    <tr>\n",
       "      <th>California</th>\n",
       "      <td>423967</td>\n",
       "      <td>38332521</td>\n",
       "    </tr>\n",
       "    <tr>\n",
       "      <th>Texas</th>\n",
       "      <td>695662</td>\n",
       "      <td>26448193</td>\n",
       "    </tr>\n",
       "    <tr>\n",
       "      <th>New York</th>\n",
       "      <td>141297</td>\n",
       "      <td>19651127</td>\n",
       "    </tr>\n",
       "    <tr>\n",
       "      <th>Florida</th>\n",
       "      <td>170312</td>\n",
       "      <td>19552860</td>\n",
       "    </tr>\n",
       "    <tr>\n",
       "      <th>Illinois</th>\n",
       "      <td>149995</td>\n",
       "      <td>12882135</td>\n",
       "    </tr>\n",
       "  </tbody>\n",
       "</table>\n",
       "</div>"
      ],
      "text/plain": [
       "              area       pop\n",
       "California  423967  38332521\n",
       "Texas       695662  26448193\n",
       "New York    141297  19651127\n",
       "Florida     170312  19552860\n",
       "Illinois    149995  12882135"
      ]
     },
     "execution_count": 16,
     "metadata": {},
     "output_type": "execute_result"
    }
   ],
   "source": [
    "data = pd.DataFrame({'area':area, 'pop':pop})\n",
    "data"
   ]
  },
  {
   "cell_type": "markdown",
   "metadata": {
    "nbpresent": {
     "id": "9ef67fb9-7846-485d-93bd-61a50518a69c"
    }
   },
   "source": [
    "Agora o use de `.loc e .iloc` deve ficar mais claro, observe os exemplos abaixo."
   ]
  },
  {
   "cell_type": "code",
   "execution_count": 17,
   "metadata": {
    "execution": {
     "iopub.execute_input": "2022-04-04T15:48:47.580613Z",
     "iopub.status.busy": "2022-04-04T15:48:47.579466Z",
     "iopub.status.idle": "2022-04-04T15:48:47.583792Z",
     "shell.execute_reply": "2022-04-04T15:48:47.584611Z"
    },
    "nbpresent": {
     "id": "74f13915-7408-410f-8c33-a2f06f497cff"
    }
   },
   "outputs": [
    {
     "data": {
      "text/plain": [
       "area      423967\n",
       "pop     38332521\n",
       "Name: California, dtype: int64"
      ]
     },
     "execution_count": 17,
     "metadata": {},
     "output_type": "execute_result"
    }
   ],
   "source": [
    "data.loc['California']"
   ]
  },
  {
   "cell_type": "code",
   "execution_count": 18,
   "metadata": {
    "execution": {
     "iopub.execute_input": "2022-04-04T15:48:47.596780Z",
     "iopub.status.busy": "2022-04-04T15:48:47.595715Z",
     "iopub.status.idle": "2022-04-04T15:48:47.599484Z",
     "shell.execute_reply": "2022-04-04T15:48:47.600293Z"
    },
    "nbpresent": {
     "id": "2939af0d-d982-422b-9ca5-9ce8733a97fa"
    }
   },
   "outputs": [
    {
     "data": {
      "text/html": [
       "<div>\n",
       "<style scoped>\n",
       "    .dataframe tbody tr th:only-of-type {\n",
       "        vertical-align: middle;\n",
       "    }\n",
       "\n",
       "    .dataframe tbody tr th {\n",
       "        vertical-align: top;\n",
       "    }\n",
       "\n",
       "    .dataframe thead th {\n",
       "        text-align: right;\n",
       "    }\n",
       "</style>\n",
       "<table border=\"1\" class=\"dataframe\">\n",
       "  <thead>\n",
       "    <tr style=\"text-align: right;\">\n",
       "      <th></th>\n",
       "      <th>area</th>\n",
       "      <th>pop</th>\n",
       "    </tr>\n",
       "  </thead>\n",
       "  <tbody>\n",
       "    <tr>\n",
       "      <th>California</th>\n",
       "      <td>423967</td>\n",
       "      <td>38332521</td>\n",
       "    </tr>\n",
       "    <tr>\n",
       "      <th>Texas</th>\n",
       "      <td>695662</td>\n",
       "      <td>26448193</td>\n",
       "    </tr>\n",
       "  </tbody>\n",
       "</table>\n",
       "</div>"
      ],
      "text/plain": [
       "              area       pop\n",
       "California  423967  38332521\n",
       "Texas       695662  26448193"
      ]
     },
     "execution_count": 18,
     "metadata": {},
     "output_type": "execute_result"
    }
   ],
   "source": [
    "data.loc[['California', 'Texas']]"
   ]
  },
  {
   "cell_type": "markdown",
   "metadata": {
    "nbpresent": {
     "id": "5cf6301d-e73e-4b9d-8001-3917fa204cda"
    }
   },
   "source": [
    "Note que o uso de `iloc` retorna a i-ésima linha. O problema é que nem sempre nos dataframes esta ordem vai fazer sentido. O `iloc` acaba sendo mais interessante para iteração (e.g., passar por todas as linhas.)"
   ]
  },
  {
   "cell_type": "code",
   "execution_count": 19,
   "metadata": {
    "execution": {
     "iopub.execute_input": "2022-04-04T15:48:47.608794Z",
     "iopub.status.busy": "2022-04-04T15:48:47.607608Z",
     "iopub.status.idle": "2022-04-04T15:48:47.611964Z",
     "shell.execute_reply": "2022-04-04T15:48:47.612779Z"
    },
    "nbpresent": {
     "id": "e162f31e-7333-4d24-ba6f-f7b1ade15f64"
    }
   },
   "outputs": [
    {
     "data": {
      "text/plain": [
       "area      423967\n",
       "pop     38332521\n",
       "Name: California, dtype: int64"
      ]
     },
     "execution_count": 19,
     "metadata": {},
     "output_type": "execute_result"
    }
   ],
   "source": [
    "data.iloc[0]"
   ]
  },
  {
   "cell_type": "markdown",
   "metadata": {},
   "source": [
    "## Slicing"
   ]
  },
  {
   "cell_type": "markdown",
   "metadata": {
    "nbpresent": {
     "id": "40e298d6-64d2-4f9f-b0d3-b63a49021f8d"
    }
   },
   "source": [
    "Agora, podemos realizar slicing no DataFrame. Slicing é uma operação Python que retorna sub-listas/sub-vetores. Caso não conheça, tente executar o exemplo abaixo:\n",
    "\n",
    "```python\n",
    "l = []\n",
    "l = [7, 1, 3, 5, 9]\n",
    "print(l[0])\n",
    "print(l[1])\n",
    "print(l[2])\n",
    "\n",
    "# Agora, l[bg:ed] retorna uma sublista iniciando em bg e terminando em ed-1\n",
    "print(l[1:4])\n",
    "```"
   ]
  },
  {
   "cell_type": "code",
   "execution_count": 20,
   "metadata": {
    "execution": {
     "iopub.execute_input": "2022-04-04T15:48:47.620597Z",
     "iopub.status.busy": "2022-04-04T15:48:47.619465Z",
     "iopub.status.idle": "2022-04-04T15:48:47.623849Z",
     "shell.execute_reply": "2022-04-04T15:48:47.624681Z"
    },
    "nbpresent": {
     "id": "c437559f-c3e2-43a1-bad7-114ad740b307"
    }
   },
   "outputs": [
    {
     "name": "stdout",
     "output_type": "stream",
     "text": [
      "7\n",
      "1\n",
      "3\n",
      "[1, 3, 5]\n"
     ]
    }
   ],
   "source": [
    "l = []\n",
    "l = [7, 1, 3, 5, 9]\n",
    "print(l[0])\n",
    "print(l[1])\n",
    "print(l[2])\n",
    "\n",
    "# Agora, l[bg:ed] retorna uma sublista iniciando em bg e terminando em ed-1\n",
    "print(l[1:4])"
   ]
  },
  {
   "cell_type": "markdown",
   "metadata": {
    "nbpresent": {
     "id": "d134f795-0d39-491f-a131-1f7c8065357a"
    }
   },
   "source": [
    "Voltando para o nosso **dataframe**, podemos realizar o slicing usando o `.iloc`."
   ]
  },
  {
   "cell_type": "code",
   "execution_count": 21,
   "metadata": {
    "execution": {
     "iopub.execute_input": "2022-04-04T15:48:47.635612Z",
     "iopub.status.busy": "2022-04-04T15:48:47.634273Z",
     "iopub.status.idle": "2022-04-04T15:48:47.638693Z",
     "shell.execute_reply": "2022-04-04T15:48:47.639554Z"
    },
    "nbpresent": {
     "id": "c5364751-f977-49f9-abea-995c4d3a020e"
    }
   },
   "outputs": [
    {
     "data": {
      "text/html": [
       "<div>\n",
       "<style scoped>\n",
       "    .dataframe tbody tr th:only-of-type {\n",
       "        vertical-align: middle;\n",
       "    }\n",
       "\n",
       "    .dataframe tbody tr th {\n",
       "        vertical-align: top;\n",
       "    }\n",
       "\n",
       "    .dataframe thead th {\n",
       "        text-align: right;\n",
       "    }\n",
       "</style>\n",
       "<table border=\"1\" class=\"dataframe\">\n",
       "  <thead>\n",
       "    <tr style=\"text-align: right;\">\n",
       "      <th></th>\n",
       "      <th>area</th>\n",
       "      <th>pop</th>\n",
       "    </tr>\n",
       "  </thead>\n",
       "  <tbody>\n",
       "    <tr>\n",
       "      <th>New York</th>\n",
       "      <td>141297</td>\n",
       "      <td>19651127</td>\n",
       "    </tr>\n",
       "    <tr>\n",
       "      <th>Florida</th>\n",
       "      <td>170312</td>\n",
       "      <td>19552860</td>\n",
       "    </tr>\n",
       "  </tbody>\n",
       "</table>\n",
       "</div>"
      ],
      "text/plain": [
       "            area       pop\n",
       "New York  141297  19651127\n",
       "Florida   170312  19552860"
      ]
     },
     "execution_count": 21,
     "metadata": {},
     "output_type": "execute_result"
    }
   ],
   "source": [
    "data.iloc[2:4]"
   ]
  },
  {
   "cell_type": "markdown",
   "metadata": {},
   "source": [
    "## Modificando DataFrames"
   ]
  },
  {
   "cell_type": "markdown",
   "metadata": {
    "nbpresent": {
     "id": "f817ab90-2490-4a01-997f-3b0aca08e9d3"
    }
   },
   "source": [
    "Series e DataFrames são objetos mutáveis em Python. Podemos adicionar novas colunas em DataFrama facilmente da mesma forma que adicionamos novos valores em um mapa. Por fim, podemos também mudar o valor de linhas específicas e adicionar novas linhas."
   ]
  },
  {
   "cell_type": "code",
   "execution_count": 22,
   "metadata": {
    "execution": {
     "iopub.execute_input": "2022-04-04T15:48:47.650537Z",
     "iopub.status.busy": "2022-04-04T15:48:47.649209Z",
     "iopub.status.idle": "2022-04-04T15:48:47.653502Z",
     "shell.execute_reply": "2022-04-04T15:48:47.654314Z"
    },
    "nbpresent": {
     "id": "72be68c8-bc78-45f1-ba7b-07fc41c879cc"
    }
   },
   "outputs": [
    {
     "data": {
      "text/plain": [
       "area       6.956620e+05\n",
       "pop        2.644819e+07\n",
       "density    3.801874e+01\n",
       "Name: Texas, dtype: float64"
      ]
     },
     "execution_count": 22,
     "metadata": {},
     "output_type": "execute_result"
    }
   ],
   "source": [
    "data['density'] = data['pop'] / data['area']\n",
    "data.loc['Texas']"
   ]
  },
  {
   "cell_type": "code",
   "execution_count": 23,
   "metadata": {
    "execution": {
     "iopub.execute_input": "2022-04-04T15:48:47.660781Z",
     "iopub.status.busy": "2022-04-04T15:48:47.659535Z",
     "iopub.status.idle": "2022-04-04T15:48:47.662320Z",
     "shell.execute_reply": "2022-04-04T15:48:47.663134Z"
    },
    "nbpresent": {
     "id": "ebffed91-754a-4f9e-8244-925b82ceb0b5"
    }
   },
   "outputs": [],
   "source": [
    "df = data"
   ]
  },
  {
   "cell_type": "code",
   "execution_count": 24,
   "metadata": {
    "execution": {
     "iopub.execute_input": "2022-04-04T15:48:47.670745Z",
     "iopub.status.busy": "2022-04-04T15:48:47.669574Z",
     "iopub.status.idle": "2022-04-04T15:48:47.674067Z",
     "shell.execute_reply": "2022-04-04T15:48:47.674909Z"
    },
    "nbpresent": {
     "id": "0e4bd1fc-469e-4d0d-99cc-31150c704320"
    }
   },
   "outputs": [
    {
     "data": {
      "text/plain": [
       "Index(['California', 'Texas', 'New York', 'Florida', 'Illinois'], dtype='object')"
      ]
     },
     "execution_count": 24,
     "metadata": {},
     "output_type": "execute_result"
    }
   ],
   "source": [
    "df.index"
   ]
  },
  {
   "cell_type": "markdown",
   "metadata": {
    "nbpresent": {
     "id": "a2d80015-4f7f-4656-85d1-0f6e3b583bd2"
    }
   },
   "source": [
    "## Arquivos\n",
    "\n",
    "Antes de explorar DataFrames em arquivos, vamos ver como um notebook na é um shell bastante poderoso. Ao usar uma exclamação (!) no notebook Jupyter, conseguimos executar comandos do shell do sistema. Em particular, aqui estamos executando o comando ls para indentificar os dados da pasta atual.\n",
    "\n",
    "Tudo que executamos com `!` é um comando do terminal do unix. Então, este notebook só deve executar as linhas abaixo em um `Mac` ou `Linux`."
   ]
  },
  {
   "cell_type": "code",
   "execution_count": 25,
   "metadata": {
    "execution": {
     "iopub.execute_input": "2022-04-04T15:48:47.685884Z",
     "iopub.status.busy": "2022-04-04T15:48:47.684837Z",
     "iopub.status.idle": "2022-04-04T15:48:47.802462Z",
     "shell.execute_reply": "2022-04-04T15:48:47.803756Z"
    },
    "nbpresent": {
     "id": "a7786b9d-bca3-4c08-bf7c-d63e4d154c15"
    }
   },
   "outputs": [
    {
     "name": "stdout",
     "output_type": "stream",
     "text": [
      "01-causalidade.md     12-causalidade.ipynb\r\n",
      "02-tabelas\t      12-causalidade.md\r\n",
      "02-tabelas.ipynb      13-poder\r\n",
      "02-tabelas.md\t      13-poder_files\r\n",
      "03-viz\t\t      13-poder.ipynb\r\n",
      "03-viz_files\t      13-poder.md\r\n",
      "03-viz.ipynb\t      14-correlacao\r\n",
      "03-viz.md\t      14-correlacao_files\r\n",
      "04-stat\t\t      14-correlacao.ipynb\r\n",
      "04-stat_files\t      14-correlacao.md\r\n",
      "04-stat.ipynb\t      15-linear\r\n",
      "04-stat.md\t      15-linear_files\r\n",
      "05-prob\t\t      15-linear.ipynb\r\n",
      "05-prob_files\t      15-linear.md\r\n",
      "05-prob.ipynb\t      16-vero\r\n",
      "05-prob.md\t      16-vero_files\r\n",
      "06-risco\t      16-vero.ipynb\r\n",
      "06-risco_files\t      16-vero.md\r\n",
      "06-risco.ipynb\t      17-gradiente\r\n",
      "06-risco.md\t      17-gradiente_files\r\n",
      "07-tcl\t\t      17-gradiente.ipynb\r\n",
      "07-tcl_files\t      17-gradiente.md\r\n",
      "07-tcl.ipynb\t      18-multipla\r\n",
      "07-tcl.md\t      18-multipla_files\r\n",
      "08-amostragem\t      18-multipla.ipynb\r\n",
      "08-amostragem_files   18-multipla.md\r\n",
      "08-amostragem.ipynb   26b-tutorial-sklearn-classification.ipynb\r\n",
      "08-amostragem.md      26-tutorial-sklearn-regressao.ipynb\r\n",
      "09-ics\t\t      27-revisao\r\n",
      "09-ics_files\t      27-revisao_files\r\n",
      "09-ics.ipynb\t      27-revisao.ipynb\r\n",
      "09-ics.md\t      27-revisao.md\r\n",
      "10-ab\t\t      baby.csv\r\n",
      "10-ab_files\t      capital.json\r\n",
      "10-ab.ipynb\t      colab_favicon.ico\r\n",
      "10-ab.md\t      colab_favicon.png\r\n",
      "11-hipoteses\t      colab_favicon_small.png\r\n",
      "11-hipoteses_files    compile_all.sh\r\n",
      "11-hipoteses.ipynb    compile_notebook.sh\r\n",
      "11-hipoteses.md       dom-casmurro.txt\r\n",
      "12-causalidade\t      f2.png\r\n",
      "12-causalidade_files  f.png\r\n"
     ]
    }
   ],
   "source": [
    "!ls ."
   ]
  },
  {
   "cell_type": "markdown",
   "metadata": {
    "nbpresent": {
     "id": "f827cf11-7c6d-4fa0-a35e-f076d858b8c5"
    }
   },
   "source": [
    "Com a opção -lha, mostramos meta-dados dos arquivos como o owner, tamanho e permissões. Note que todos os arquivos são .csv, isto é comma separated."
   ]
  },
  {
   "cell_type": "code",
   "execution_count": 26,
   "metadata": {
    "execution": {
     "iopub.execute_input": "2022-04-04T15:48:47.818344Z",
     "iopub.status.busy": "2022-04-04T15:48:47.813362Z",
     "iopub.status.idle": "2022-04-04T15:48:47.949014Z",
     "shell.execute_reply": "2022-04-04T15:48:47.947484Z"
    },
    "nbpresent": {
     "id": "1ea707fc-9aec-4472-a04f-165d82f136d7"
    }
   },
   "outputs": [
    {
     "name": "stdout",
     "output_type": "stream",
     "text": [
      "total 160M\r\n",
      "drwxr-xr-x 38 flaviovdf flaviovdf 4.0K Apr  4 12:47 .\r\n",
      "drwxr-xr-x  9 flaviovdf flaviovdf 4.0K Apr  4 12:41 ..\r\n",
      "-rw-r--r--  1 flaviovdf flaviovdf  618 Apr  4 12:01 01-causalidade.md\r\n",
      "drwxr-xr-x  2 flaviovdf flaviovdf 4.0K Apr  4 12:01 02-tabelas\r\n",
      "-rw-r--r--  1 flaviovdf flaviovdf  99K Apr  4 12:47 02-tabelas.ipynb\r\n",
      "-rw-r--r--  1 flaviovdf flaviovdf  49K Apr  4 12:38 02-tabelas.md\r\n",
      "drwxr-xr-x  3 flaviovdf flaviovdf 4.0K Apr  4 12:01 03-viz\r\n",
      "drwxr-xr-x  2 flaviovdf flaviovdf 4.0K Apr  4 12:01 03-viz_files\r\n",
      "-rw-r--r--  1 flaviovdf flaviovdf 759K Apr  4 12:01 03-viz.ipynb\r\n",
      "-rw-r--r--  1 flaviovdf flaviovdf  39K Apr  4 12:01 03-viz.md\r\n",
      "drwxr-xr-x  3 flaviovdf flaviovdf 4.0K Apr  4 12:01 04-stat\r\n",
      "drwxr-xr-x  2 flaviovdf flaviovdf 4.0K Apr  4 12:01 04-stat_files\r\n",
      "-rw-r--r--  1 flaviovdf flaviovdf 360K Apr  4 12:01 04-stat.ipynb\r\n",
      "-rw-r--r--  1 flaviovdf flaviovdf  26K Apr  4 12:01 04-stat.md\r\n",
      "drwxr-xr-x  3 flaviovdf flaviovdf 4.0K Apr  4 12:01 05-prob\r\n",
      "drwxr-xr-x  2 flaviovdf flaviovdf 4.0K Apr  4 12:01 05-prob_files\r\n",
      "-rw-r--r--  1 flaviovdf flaviovdf 892K Apr  4 12:01 05-prob.ipynb\r\n",
      "-rw-r--r--  1 flaviovdf flaviovdf  35K Apr  4 12:01 05-prob.md\r\n",
      "drwxr-xr-x  3 flaviovdf flaviovdf 4.0K Apr  4 12:01 06-risco\r\n",
      "drwxr-xr-x  2 flaviovdf flaviovdf 4.0K Apr  4 12:01 06-risco_files\r\n",
      "-rw-r--r--  1 flaviovdf flaviovdf 291K Apr  4 12:01 06-risco.ipynb\r\n",
      "-rw-r--r--  1 flaviovdf flaviovdf  15K Apr  4 12:01 06-risco.md\r\n",
      "drwxr-xr-x  3 flaviovdf flaviovdf 4.0K Apr  4 12:01 07-tcl\r\n",
      "drwxr-xr-x  2 flaviovdf flaviovdf 4.0K Apr  4 12:01 07-tcl_files\r\n",
      "-rw-r--r--  1 flaviovdf flaviovdf 445K Apr  4 12:01 07-tcl.ipynb\r\n",
      "-rw-r--r--  1 flaviovdf flaviovdf  14K Apr  4 12:01 07-tcl.md\r\n",
      "drwxr-xr-x  3 flaviovdf flaviovdf 4.0K Apr  4 12:01 08-amostragem\r\n",
      "drwxr-xr-x  2 flaviovdf flaviovdf 4.0K Apr  4 12:01 08-amostragem_files\r\n",
      "-rw-r--r--  1 flaviovdf flaviovdf 232K Apr  4 12:01 08-amostragem.ipynb\r\n",
      "-rw-r--r--  1 flaviovdf flaviovdf 117K Apr  4 12:01 08-amostragem.md\r\n",
      "drwxr-xr-x  3 flaviovdf flaviovdf 4.0K Apr  4 12:01 09-ics\r\n",
      "drwxr-xr-x  2 flaviovdf flaviovdf 4.0K Apr  4 12:01 09-ics_files\r\n",
      "-rw-r--r--  1 flaviovdf flaviovdf 692K Apr  4 12:01 09-ics.ipynb\r\n",
      "-rw-r--r--  1 flaviovdf flaviovdf  91K Apr  4 12:01 09-ics.md\r\n",
      "drwxr-xr-x  3 flaviovdf flaviovdf 4.0K Apr  4 12:01 10-ab\r\n",
      "drwxr-xr-x  2 flaviovdf flaviovdf 4.0K Apr  4 12:01 10-ab_files\r\n",
      "-rw-r--r--  1 flaviovdf flaviovdf 172K Apr  4 12:01 10-ab.ipynb\r\n",
      "-rw-r--r--  1 flaviovdf flaviovdf  17K Apr  4 12:01 10-ab.md\r\n",
      "drwxr-xr-x  3 flaviovdf flaviovdf 4.0K Apr  4 12:01 11-hipoteses\r\n",
      "drwxr-xr-x  2 flaviovdf flaviovdf 4.0K Apr  4 12:01 11-hipoteses_files\r\n",
      "-rw-r--r--  1 flaviovdf flaviovdf 301K Apr  4 12:01 11-hipoteses.ipynb\r\n",
      "-rw-r--r--  1 flaviovdf flaviovdf  94K Apr  4 12:01 11-hipoteses.md\r\n",
      "drwxr-xr-x  3 flaviovdf flaviovdf 4.0K Apr  4 12:01 12-causalidade\r\n",
      "drwxr-xr-x  2 flaviovdf flaviovdf 4.0K Apr  4 12:01 12-causalidade_files\r\n",
      "-rw-r--r--  1 flaviovdf flaviovdf  52K Apr  4 12:01 12-causalidade.ipynb\r\n",
      "-rw-r--r--  1 flaviovdf flaviovdf 9.6K Apr  4 12:01 12-causalidade.md\r\n",
      "drwxr-xr-x  3 flaviovdf flaviovdf 4.0K Apr  4 12:01 13-poder\r\n",
      "drwxr-xr-x  2 flaviovdf flaviovdf 4.0K Apr  4 12:01 13-poder_files\r\n",
      "-rw-r--r--  1 flaviovdf flaviovdf 837K Apr  4 12:01 13-poder.ipynb\r\n",
      "-rw-r--r--  1 flaviovdf flaviovdf  25K Apr  4 12:01 13-poder.md\r\n",
      "drwxr-xr-x  3 flaviovdf flaviovdf 4.0K Apr  4 12:01 14-correlacao\r\n",
      "drwxr-xr-x  2 flaviovdf flaviovdf 4.0K Apr  4 12:01 14-correlacao_files\r\n",
      "-rw-r--r--  1 flaviovdf flaviovdf 1.8M Apr  4 12:01 14-correlacao.ipynb\r\n",
      "-rw-r--r--  1 flaviovdf flaviovdf  39K Apr  4 12:01 14-correlacao.md\r\n",
      "drwxr-xr-x  3 flaviovdf flaviovdf 4.0K Apr  4 12:01 15-linear\r\n",
      "drwxr-xr-x  2 flaviovdf flaviovdf 4.0K Apr  4 12:01 15-linear_files\r\n",
      "-rw-r--r--  1 flaviovdf flaviovdf 992K Apr  4 12:01 15-linear.ipynb\r\n",
      "-rw-r--r--  1 flaviovdf flaviovdf  25K Apr  4 12:01 15-linear.md\r\n",
      "drwxr-xr-x  3 flaviovdf flaviovdf 4.0K Apr  4 12:01 16-vero\r\n",
      "drwxr-xr-x  2 flaviovdf flaviovdf 4.0K Apr  4 12:01 16-vero_files\r\n",
      "-rw-r--r--  1 flaviovdf flaviovdf 1.0M Apr  4 12:01 16-vero.ipynb\r\n",
      "-rw-r--r--  1 flaviovdf flaviovdf  30K Apr  4 12:01 16-vero.md\r\n",
      "drwxr-xr-x  3 flaviovdf flaviovdf 4.0K Apr  4 12:01 17-gradiente\r\n",
      "drwxr-xr-x  2 flaviovdf flaviovdf 4.0K Apr  4 12:01 17-gradiente_files\r\n",
      "-rw-r--r--  1 flaviovdf flaviovdf 731K Apr  4 12:01 17-gradiente.ipynb\r\n",
      "-rw-r--r--  1 flaviovdf flaviovdf  58K Apr  4 12:01 17-gradiente.md\r\n",
      "drwxr-xr-x  3 flaviovdf flaviovdf 4.0K Apr  4 12:01 18-multipla\r\n",
      "drwxr-xr-x  2 flaviovdf flaviovdf 4.0K Apr  4 12:01 18-multipla_files\r\n",
      "-rw-r--r--  1 flaviovdf flaviovdf 671K Apr  4 12:01 18-multipla.ipynb\r\n",
      "-rw-r--r--  1 flaviovdf flaviovdf 136K Apr  4 12:01 18-multipla.md\r\n",
      "-rw-r--r--  1 flaviovdf flaviovdf  47K Apr  4 12:01 26b-tutorial-sklearn-classification.ipynb\r\n",
      "-rw-r--r--  1 flaviovdf flaviovdf 203K Apr  4 12:01 26-tutorial-sklearn-regressao.ipynb\r\n",
      "drwxr-xr-x  3 flaviovdf flaviovdf 4.0K Apr  4 12:01 27-revisao\r\n",
      "drwxr-xr-x  2 flaviovdf flaviovdf 4.0K Apr  4 12:01 27-revisao_files\r\n",
      "-rw-r--r--  1 flaviovdf flaviovdf  63K Apr  4 12:01 27-revisao.ipynb\r\n",
      "-rw-r--r--  1 flaviovdf flaviovdf  17K Apr  4 12:01 27-revisao.md\r\n",
      "-rw-r--r--  1 flaviovdf flaviovdf 148M Apr  4 12:41 baby.csv\r\n",
      "-rw-r--r--  1 flaviovdf flaviovdf 172K Apr  4 12:01 capital.json\r\n",
      "-rw-r--r--  1 flaviovdf flaviovdf  72K Apr  4 12:01 colab_favicon.ico\r\n",
      "-rw-r--r--  1 flaviovdf flaviovdf 7.8K Apr  4 12:01 colab_favicon.png\r\n",
      "-rw-r--r--  1 flaviovdf flaviovdf 2.2K Apr  4 12:01 colab_favicon_small.png\r\n",
      "-rw-r--r--  1 flaviovdf flaviovdf   85 Apr  4 12:01 compile_all.sh\r\n",
      "-rw-r--r--  1 flaviovdf flaviovdf 1.1K Apr  4 12:01 compile_notebook.sh\r\n",
      "-rw-r--r--  1 flaviovdf flaviovdf 401K Apr  4 12:01 dom-casmurro.txt\r\n",
      "-rw-r--r--  1 flaviovdf flaviovdf 125K Apr  4 12:01 f2.png\r\n",
      "-rw-r--r--  1 flaviovdf flaviovdf  57K Apr  4 12:01 f.png\r\n",
      "drwxr-xr-x  2 flaviovdf flaviovdf 4.0K Apr  4 12:01 .ipynb_checkpoints\r\n",
      "-rw-r--r--  1 flaviovdf flaviovdf  29K Apr  4 12:01 .nbgrader.log\r\n"
     ]
    }
   ],
   "source": [
    "!ls -lha ."
   ]
  },
  {
   "cell_type": "markdown",
   "metadata": {
    "nbpresent": {
     "id": "77309cb0-b872-4ae3-8b48-33161d9fd5b6"
    }
   },
   "source": [
    "Vamos identificar qual a cara de um csv. O programa `head` imprime as primeiras `n` linhas de um arquivo."
   ]
  },
  {
   "cell_type": "code",
   "execution_count": 27,
   "metadata": {
    "execution": {
     "iopub.execute_input": "2022-04-04T15:48:47.960203Z",
     "iopub.status.busy": "2022-04-04T15:48:47.958788Z",
     "iopub.status.idle": "2022-04-04T15:48:48.087363Z",
     "shell.execute_reply": "2022-04-04T15:48:48.085825Z"
    },
    "nbpresent": {
     "id": "284f8e21-fdf5-4aaf-82e7-6e3a5eaad400"
    }
   },
   "outputs": [
    {
     "name": "stdout",
     "output_type": "stream",
     "text": [
      "Id,Name,Year,Gender,State,Count\r\n",
      "1,Mary,1910,F,AK,14\r\n",
      "2,Annie,1910,F,AK,12\r\n",
      "3,Anna,1910,F,AK,10\r\n",
      "4,Margaret,1910,F,AK,8\r\n",
      "5,Helen,1910,F,AK,7\r\n",
      "6,Elsie,1910,F,AK,6\r\n",
      "7,Lucy,1910,F,AK,6\r\n",
      "8,Dorothy,1910,F,AK,5\r\n",
      "9,Mary,1911,F,AK,12\r\n"
     ]
    }
   ],
   "source": [
    "! head baby.csv"
   ]
  },
  {
   "cell_type": "markdown",
   "metadata": {},
   "source": [
    "Observe como o comando `head` nos ajuda a entender o arquivo `.csv`. Sabemos quais colunas e qual o separador do mesmo."
   ]
  },
  {
   "cell_type": "markdown",
   "metadata": {},
   "source": [
    "## Baby Names\n",
    "\n",
    "É bem mais comum fazer uso de DataFrames que já existem em arquivos. Note que o trabalho do cientista de dados nem sempre vai ter tais arquivos prontos. Em várias ocasiões, você vai ter que coletar e organizar os mesmos. Limpeza e coleta de dados é uma parte fundamental do seu trabalho. Durante a matéria, boa parte dos notebooks já vão ter dados prontos."
   ]
  },
  {
   "cell_type": "code",
   "execution_count": 28,
   "metadata": {
    "execution": {
     "iopub.execute_input": "2022-04-04T15:48:48.099254Z",
     "iopub.status.busy": "2022-04-04T15:48:48.097805Z",
     "iopub.status.idle": "2022-04-04T15:49:04.231780Z",
     "shell.execute_reply": "2022-04-04T15:49:04.232599Z"
    }
   },
   "outputs": [
    {
     "data": {
      "text/html": [
       "<div>\n",
       "<style scoped>\n",
       "    .dataframe tbody tr th:only-of-type {\n",
       "        vertical-align: middle;\n",
       "    }\n",
       "\n",
       "    .dataframe tbody tr th {\n",
       "        vertical-align: top;\n",
       "    }\n",
       "\n",
       "    .dataframe thead th {\n",
       "        text-align: right;\n",
       "    }\n",
       "</style>\n",
       "<table border=\"1\" class=\"dataframe\">\n",
       "  <thead>\n",
       "    <tr style=\"text-align: right;\">\n",
       "      <th></th>\n",
       "      <th>Name</th>\n",
       "      <th>Year</th>\n",
       "      <th>Gender</th>\n",
       "      <th>State</th>\n",
       "      <th>Count</th>\n",
       "    </tr>\n",
       "  </thead>\n",
       "  <tbody>\n",
       "    <tr>\n",
       "      <th>0</th>\n",
       "      <td>Mary</td>\n",
       "      <td>1910</td>\n",
       "      <td>F</td>\n",
       "      <td>AK</td>\n",
       "      <td>14</td>\n",
       "    </tr>\n",
       "    <tr>\n",
       "      <th>1</th>\n",
       "      <td>Annie</td>\n",
       "      <td>1910</td>\n",
       "      <td>F</td>\n",
       "      <td>AK</td>\n",
       "      <td>12</td>\n",
       "    </tr>\n",
       "    <tr>\n",
       "      <th>2</th>\n",
       "      <td>Anna</td>\n",
       "      <td>1910</td>\n",
       "      <td>F</td>\n",
       "      <td>AK</td>\n",
       "      <td>10</td>\n",
       "    </tr>\n",
       "    <tr>\n",
       "      <th>3</th>\n",
       "      <td>Margaret</td>\n",
       "      <td>1910</td>\n",
       "      <td>F</td>\n",
       "      <td>AK</td>\n",
       "      <td>8</td>\n",
       "    </tr>\n",
       "    <tr>\n",
       "      <th>4</th>\n",
       "      <td>Helen</td>\n",
       "      <td>1910</td>\n",
       "      <td>F</td>\n",
       "      <td>AK</td>\n",
       "      <td>7</td>\n",
       "    </tr>\n",
       "    <tr>\n",
       "      <th>...</th>\n",
       "      <td>...</td>\n",
       "      <td>...</td>\n",
       "      <td>...</td>\n",
       "      <td>...</td>\n",
       "      <td>...</td>\n",
       "    </tr>\n",
       "    <tr>\n",
       "      <th>5647421</th>\n",
       "      <td>Seth</td>\n",
       "      <td>2014</td>\n",
       "      <td>M</td>\n",
       "      <td>WY</td>\n",
       "      <td>5</td>\n",
       "    </tr>\n",
       "    <tr>\n",
       "      <th>5647422</th>\n",
       "      <td>Spencer</td>\n",
       "      <td>2014</td>\n",
       "      <td>M</td>\n",
       "      <td>WY</td>\n",
       "      <td>5</td>\n",
       "    </tr>\n",
       "    <tr>\n",
       "      <th>5647423</th>\n",
       "      <td>Tyce</td>\n",
       "      <td>2014</td>\n",
       "      <td>M</td>\n",
       "      <td>WY</td>\n",
       "      <td>5</td>\n",
       "    </tr>\n",
       "    <tr>\n",
       "      <th>5647424</th>\n",
       "      <td>Victor</td>\n",
       "      <td>2014</td>\n",
       "      <td>M</td>\n",
       "      <td>WY</td>\n",
       "      <td>5</td>\n",
       "    </tr>\n",
       "    <tr>\n",
       "      <th>5647425</th>\n",
       "      <td>Waylon</td>\n",
       "      <td>2014</td>\n",
       "      <td>M</td>\n",
       "      <td>WY</td>\n",
       "      <td>5</td>\n",
       "    </tr>\n",
       "  </tbody>\n",
       "</table>\n",
       "<p>5647426 rows × 5 columns</p>\n",
       "</div>"
      ],
      "text/plain": [
       "             Name  Year Gender State  Count\n",
       "0            Mary  1910      F    AK     14\n",
       "1           Annie  1910      F    AK     12\n",
       "2            Anna  1910      F    AK     10\n",
       "3        Margaret  1910      F    AK      8\n",
       "4           Helen  1910      F    AK      7\n",
       "...           ...   ...    ...   ...    ...\n",
       "5647421      Seth  2014      M    WY      5\n",
       "5647422   Spencer  2014      M    WY      5\n",
       "5647423      Tyce  2014      M    WY      5\n",
       "5647424    Victor  2014      M    WY      5\n",
       "5647425    Waylon  2014      M    WY      5\n",
       "\n",
       "[5647426 rows x 5 columns]"
      ]
     },
     "execution_count": 28,
     "metadata": {},
     "output_type": "execute_result"
    }
   ],
   "source": [
    "df = pd.read_csv('https://media.githubusercontent.com/media/icd-ufmg/material/master/aulas/03-Tabelas-e-Tipos-de-Dados/baby.csv')\n",
    "df = df.drop('Id', axis='columns') # remove a coluna id, serve de nada\n",
    "df"
   ]
  },
  {
   "cell_type": "markdown",
   "metadata": {},
   "source": [
    "O método `head` do notebook retorna as primeiras `n` linhas do mesmo. Use tal método para entender seus dados. **Sempre olhe para seus dados.** Note como as linhas abaixo usa o `loc` e `iloc` para entender um pouco a estrutura dos mesmos."
   ]
  },
  {
   "cell_type": "code",
   "execution_count": 29,
   "metadata": {
    "execution": {
     "iopub.execute_input": "2022-04-04T15:49:04.246321Z",
     "iopub.status.busy": "2022-04-04T15:49:04.245225Z",
     "iopub.status.idle": "2022-04-04T15:49:04.249127Z",
     "shell.execute_reply": "2022-04-04T15:49:04.249938Z"
    }
   },
   "outputs": [
    {
     "data": {
      "text/html": [
       "<div>\n",
       "<style scoped>\n",
       "    .dataframe tbody tr th:only-of-type {\n",
       "        vertical-align: middle;\n",
       "    }\n",
       "\n",
       "    .dataframe tbody tr th {\n",
       "        vertical-align: top;\n",
       "    }\n",
       "\n",
       "    .dataframe thead th {\n",
       "        text-align: right;\n",
       "    }\n",
       "</style>\n",
       "<table border=\"1\" class=\"dataframe\">\n",
       "  <thead>\n",
       "    <tr style=\"text-align: right;\">\n",
       "      <th></th>\n",
       "      <th>Name</th>\n",
       "      <th>Year</th>\n",
       "      <th>Gender</th>\n",
       "      <th>State</th>\n",
       "      <th>Count</th>\n",
       "    </tr>\n",
       "  </thead>\n",
       "  <tbody>\n",
       "    <tr>\n",
       "      <th>0</th>\n",
       "      <td>Mary</td>\n",
       "      <td>1910</td>\n",
       "      <td>F</td>\n",
       "      <td>AK</td>\n",
       "      <td>14</td>\n",
       "    </tr>\n",
       "    <tr>\n",
       "      <th>1</th>\n",
       "      <td>Annie</td>\n",
       "      <td>1910</td>\n",
       "      <td>F</td>\n",
       "      <td>AK</td>\n",
       "      <td>12</td>\n",
       "    </tr>\n",
       "    <tr>\n",
       "      <th>2</th>\n",
       "      <td>Anna</td>\n",
       "      <td>1910</td>\n",
       "      <td>F</td>\n",
       "      <td>AK</td>\n",
       "      <td>10</td>\n",
       "    </tr>\n",
       "    <tr>\n",
       "      <th>3</th>\n",
       "      <td>Margaret</td>\n",
       "      <td>1910</td>\n",
       "      <td>F</td>\n",
       "      <td>AK</td>\n",
       "      <td>8</td>\n",
       "    </tr>\n",
       "    <tr>\n",
       "      <th>4</th>\n",
       "      <td>Helen</td>\n",
       "      <td>1910</td>\n",
       "      <td>F</td>\n",
       "      <td>AK</td>\n",
       "      <td>7</td>\n",
       "    </tr>\n",
       "  </tbody>\n",
       "</table>\n",
       "</div>"
      ],
      "text/plain": [
       "       Name  Year Gender State  Count\n",
       "0      Mary  1910      F    AK     14\n",
       "1     Annie  1910      F    AK     12\n",
       "2      Anna  1910      F    AK     10\n",
       "3  Margaret  1910      F    AK      8\n",
       "4     Helen  1910      F    AK      7"
      ]
     },
     "execution_count": 29,
     "metadata": {},
     "output_type": "execute_result"
    }
   ],
   "source": [
    "df.head()"
   ]
  },
  {
   "cell_type": "markdown",
   "metadata": {},
   "source": [
    "O método `head` do notebook retorna as primeiras `n` linhas do mesmo. Use tal método para entender seus dados. **Sempre olhe para seus dados.** Note como as linhas abaixo usa o `loc` e `iloc` para entender um pouco a estrutura dos mesmos."
   ]
  },
  {
   "cell_type": "code",
   "execution_count": 30,
   "metadata": {
    "execution": {
     "iopub.execute_input": "2022-04-04T15:49:04.263730Z",
     "iopub.status.busy": "2022-04-04T15:49:04.262635Z",
     "iopub.status.idle": "2022-04-04T15:49:04.266705Z",
     "shell.execute_reply": "2022-04-04T15:49:04.267606Z"
    }
   },
   "outputs": [
    {
     "data": {
      "text/html": [
       "<div>\n",
       "<style scoped>\n",
       "    .dataframe tbody tr th:only-of-type {\n",
       "        vertical-align: middle;\n",
       "    }\n",
       "\n",
       "    .dataframe tbody tr th {\n",
       "        vertical-align: top;\n",
       "    }\n",
       "\n",
       "    .dataframe thead th {\n",
       "        text-align: right;\n",
       "    }\n",
       "</style>\n",
       "<table border=\"1\" class=\"dataframe\">\n",
       "  <thead>\n",
       "    <tr style=\"text-align: right;\">\n",
       "      <th></th>\n",
       "      <th>Name</th>\n",
       "      <th>Year</th>\n",
       "      <th>Gender</th>\n",
       "      <th>State</th>\n",
       "      <th>Count</th>\n",
       "    </tr>\n",
       "  </thead>\n",
       "  <tbody>\n",
       "    <tr>\n",
       "      <th>0</th>\n",
       "      <td>Mary</td>\n",
       "      <td>1910</td>\n",
       "      <td>F</td>\n",
       "      <td>AK</td>\n",
       "      <td>14</td>\n",
       "    </tr>\n",
       "    <tr>\n",
       "      <th>1</th>\n",
       "      <td>Annie</td>\n",
       "      <td>1910</td>\n",
       "      <td>F</td>\n",
       "      <td>AK</td>\n",
       "      <td>12</td>\n",
       "    </tr>\n",
       "    <tr>\n",
       "      <th>2</th>\n",
       "      <td>Anna</td>\n",
       "      <td>1910</td>\n",
       "      <td>F</td>\n",
       "      <td>AK</td>\n",
       "      <td>10</td>\n",
       "    </tr>\n",
       "    <tr>\n",
       "      <th>3</th>\n",
       "      <td>Margaret</td>\n",
       "      <td>1910</td>\n",
       "      <td>F</td>\n",
       "      <td>AK</td>\n",
       "      <td>8</td>\n",
       "    </tr>\n",
       "    <tr>\n",
       "      <th>4</th>\n",
       "      <td>Helen</td>\n",
       "      <td>1910</td>\n",
       "      <td>F</td>\n",
       "      <td>AK</td>\n",
       "      <td>7</td>\n",
       "    </tr>\n",
       "    <tr>\n",
       "      <th>5</th>\n",
       "      <td>Elsie</td>\n",
       "      <td>1910</td>\n",
       "      <td>F</td>\n",
       "      <td>AK</td>\n",
       "      <td>6</td>\n",
       "    </tr>\n",
       "  </tbody>\n",
       "</table>\n",
       "</div>"
      ],
      "text/plain": [
       "       Name  Year Gender State  Count\n",
       "0      Mary  1910      F    AK     14\n",
       "1     Annie  1910      F    AK     12\n",
       "2      Anna  1910      F    AK     10\n",
       "3  Margaret  1910      F    AK      8\n",
       "4     Helen  1910      F    AK      7\n",
       "5     Elsie  1910      F    AK      6"
      ]
     },
     "execution_count": 30,
     "metadata": {},
     "output_type": "execute_result"
    }
   ],
   "source": [
    "df.head(6)"
   ]
  },
  {
   "cell_type": "code",
   "execution_count": 31,
   "metadata": {
    "execution": {
     "iopub.execute_input": "2022-04-04T15:49:04.281293Z",
     "iopub.status.busy": "2022-04-04T15:49:04.280122Z",
     "iopub.status.idle": "2022-04-04T15:49:04.286733Z",
     "shell.execute_reply": "2022-04-04T15:49:04.285432Z"
    }
   },
   "outputs": [
    {
     "data": {
      "text/html": [
       "<div>\n",
       "<style scoped>\n",
       "    .dataframe tbody tr th:only-of-type {\n",
       "        vertical-align: middle;\n",
       "    }\n",
       "\n",
       "    .dataframe tbody tr th {\n",
       "        vertical-align: top;\n",
       "    }\n",
       "\n",
       "    .dataframe thead th {\n",
       "        text-align: right;\n",
       "    }\n",
       "</style>\n",
       "<table border=\"1\" class=\"dataframe\">\n",
       "  <thead>\n",
       "    <tr style=\"text-align: right;\">\n",
       "      <th></th>\n",
       "      <th>Name</th>\n",
       "      <th>Year</th>\n",
       "      <th>Gender</th>\n",
       "      <th>State</th>\n",
       "      <th>Count</th>\n",
       "    </tr>\n",
       "  </thead>\n",
       "  <tbody>\n",
       "    <tr>\n",
       "      <th>10</th>\n",
       "      <td>Ruth</td>\n",
       "      <td>1911</td>\n",
       "      <td>F</td>\n",
       "      <td>AK</td>\n",
       "      <td>7</td>\n",
       "    </tr>\n",
       "    <tr>\n",
       "      <th>11</th>\n",
       "      <td>Annie</td>\n",
       "      <td>1911</td>\n",
       "      <td>F</td>\n",
       "      <td>AK</td>\n",
       "      <td>6</td>\n",
       "    </tr>\n",
       "    <tr>\n",
       "      <th>12</th>\n",
       "      <td>Elizabeth</td>\n",
       "      <td>1911</td>\n",
       "      <td>F</td>\n",
       "      <td>AK</td>\n",
       "      <td>6</td>\n",
       "    </tr>\n",
       "    <tr>\n",
       "      <th>13</th>\n",
       "      <td>Helen</td>\n",
       "      <td>1911</td>\n",
       "      <td>F</td>\n",
       "      <td>AK</td>\n",
       "      <td>6</td>\n",
       "    </tr>\n",
       "    <tr>\n",
       "      <th>14</th>\n",
       "      <td>Mary</td>\n",
       "      <td>1912</td>\n",
       "      <td>F</td>\n",
       "      <td>AK</td>\n",
       "      <td>9</td>\n",
       "    </tr>\n",
       "  </tbody>\n",
       "</table>\n",
       "</div>"
      ],
      "text/plain": [
       "         Name  Year Gender State  Count\n",
       "10       Ruth  1911      F    AK      7\n",
       "11      Annie  1911      F    AK      6\n",
       "12  Elizabeth  1911      F    AK      6\n",
       "13      Helen  1911      F    AK      6\n",
       "14       Mary  1912      F    AK      9"
      ]
     },
     "execution_count": 31,
     "metadata": {},
     "output_type": "execute_result"
    }
   ],
   "source": [
    "df[10:15]"
   ]
  },
  {
   "cell_type": "code",
   "execution_count": 32,
   "metadata": {
    "execution": {
     "iopub.execute_input": "2022-04-04T15:49:04.300334Z",
     "iopub.status.busy": "2022-04-04T15:49:04.299006Z",
     "iopub.status.idle": "2022-04-04T15:49:04.303147Z",
     "shell.execute_reply": "2022-04-04T15:49:04.303947Z"
    }
   },
   "outputs": [
    {
     "data": {
      "text/html": [
       "<div>\n",
       "<style scoped>\n",
       "    .dataframe tbody tr th:only-of-type {\n",
       "        vertical-align: middle;\n",
       "    }\n",
       "\n",
       "    .dataframe tbody tr th {\n",
       "        vertical-align: top;\n",
       "    }\n",
       "\n",
       "    .dataframe thead th {\n",
       "        text-align: right;\n",
       "    }\n",
       "</style>\n",
       "<table border=\"1\" class=\"dataframe\">\n",
       "  <thead>\n",
       "    <tr style=\"text-align: right;\">\n",
       "      <th></th>\n",
       "      <th>Name</th>\n",
       "      <th>Year</th>\n",
       "      <th>Gender</th>\n",
       "      <th>State</th>\n",
       "      <th>Count</th>\n",
       "    </tr>\n",
       "  </thead>\n",
       "  <tbody>\n",
       "    <tr>\n",
       "      <th>0</th>\n",
       "      <td>Mary</td>\n",
       "      <td>1910</td>\n",
       "      <td>F</td>\n",
       "      <td>AK</td>\n",
       "      <td>14</td>\n",
       "    </tr>\n",
       "    <tr>\n",
       "      <th>1</th>\n",
       "      <td>Annie</td>\n",
       "      <td>1910</td>\n",
       "      <td>F</td>\n",
       "      <td>AK</td>\n",
       "      <td>12</td>\n",
       "    </tr>\n",
       "    <tr>\n",
       "      <th>2</th>\n",
       "      <td>Anna</td>\n",
       "      <td>1910</td>\n",
       "      <td>F</td>\n",
       "      <td>AK</td>\n",
       "      <td>10</td>\n",
       "    </tr>\n",
       "    <tr>\n",
       "      <th>3</th>\n",
       "      <td>Margaret</td>\n",
       "      <td>1910</td>\n",
       "      <td>F</td>\n",
       "      <td>AK</td>\n",
       "      <td>8</td>\n",
       "    </tr>\n",
       "    <tr>\n",
       "      <th>4</th>\n",
       "      <td>Helen</td>\n",
       "      <td>1910</td>\n",
       "      <td>F</td>\n",
       "      <td>AK</td>\n",
       "      <td>7</td>\n",
       "    </tr>\n",
       "    <tr>\n",
       "      <th>5</th>\n",
       "      <td>Elsie</td>\n",
       "      <td>1910</td>\n",
       "      <td>F</td>\n",
       "      <td>AK</td>\n",
       "      <td>6</td>\n",
       "    </tr>\n",
       "  </tbody>\n",
       "</table>\n",
       "</div>"
      ],
      "text/plain": [
       "       Name  Year Gender State  Count\n",
       "0      Mary  1910      F    AK     14\n",
       "1     Annie  1910      F    AK     12\n",
       "2      Anna  1910      F    AK     10\n",
       "3  Margaret  1910      F    AK      8\n",
       "4     Helen  1910      F    AK      7\n",
       "5     Elsie  1910      F    AK      6"
      ]
     },
     "execution_count": 32,
     "metadata": {},
     "output_type": "execute_result"
    }
   ],
   "source": [
    "df.iloc[0:6]"
   ]
  },
  {
   "cell_type": "code",
   "execution_count": 33,
   "metadata": {
    "execution": {
     "iopub.execute_input": "2022-04-04T15:49:04.441660Z",
     "iopub.status.busy": "2022-04-04T15:49:04.440272Z",
     "iopub.status.idle": "2022-04-04T15:49:04.444813Z",
     "shell.execute_reply": "2022-04-04T15:49:04.445669Z"
    }
   },
   "outputs": [
    {
     "data": {
      "text/html": [
       "<div>\n",
       "<style scoped>\n",
       "    .dataframe tbody tr th:only-of-type {\n",
       "        vertical-align: middle;\n",
       "    }\n",
       "\n",
       "    .dataframe tbody tr th {\n",
       "        vertical-align: top;\n",
       "    }\n",
       "\n",
       "    .dataframe thead th {\n",
       "        text-align: right;\n",
       "    }\n",
       "</style>\n",
       "<table border=\"1\" class=\"dataframe\">\n",
       "  <thead>\n",
       "    <tr style=\"text-align: right;\">\n",
       "      <th></th>\n",
       "      <th>Name</th>\n",
       "      <th>Gender</th>\n",
       "    </tr>\n",
       "  </thead>\n",
       "  <tbody>\n",
       "    <tr>\n",
       "      <th>0</th>\n",
       "      <td>Mary</td>\n",
       "      <td>F</td>\n",
       "    </tr>\n",
       "    <tr>\n",
       "      <th>1</th>\n",
       "      <td>Annie</td>\n",
       "      <td>F</td>\n",
       "    </tr>\n",
       "    <tr>\n",
       "      <th>2</th>\n",
       "      <td>Anna</td>\n",
       "      <td>F</td>\n",
       "    </tr>\n",
       "    <tr>\n",
       "      <th>3</th>\n",
       "      <td>Margaret</td>\n",
       "      <td>F</td>\n",
       "    </tr>\n",
       "    <tr>\n",
       "      <th>4</th>\n",
       "      <td>Helen</td>\n",
       "      <td>F</td>\n",
       "    </tr>\n",
       "    <tr>\n",
       "      <th>5</th>\n",
       "      <td>Elsie</td>\n",
       "      <td>F</td>\n",
       "    </tr>\n",
       "  </tbody>\n",
       "</table>\n",
       "</div>"
      ],
      "text/plain": [
       "       Name Gender\n",
       "0      Mary      F\n",
       "1     Annie      F\n",
       "2      Anna      F\n",
       "3  Margaret      F\n",
       "4     Helen      F\n",
       "5     Elsie      F"
      ]
     },
     "execution_count": 33,
     "metadata": {},
     "output_type": "execute_result"
    }
   ],
   "source": [
    "df[['Name', 'Gender']].head(6)"
   ]
  },
  {
   "cell_type": "markdown",
   "metadata": {},
   "source": [
    "## Groupby\n",
    "\n",
    "Vamos responder algumas perguntas com a função groupby. Lembrando a ideia é separar os dados com base em valores comuns, ou seja, agrupar por nomes e realizar alguma operação. O comando abaixo agrupa todos os recem-náscidos por nome. Imagine a mesma fazendo uma operação equivalente ao laço abaixo:\n",
    "\n",
    "```python\n",
    "buckets = {}                    # Mapa de dados\n",
    "names = set(df['Name'])         # Conjunto de nomes únicos\n",
    "for idx, row in df.iterrows():  # Para cada linha dos dados\n",
    "    name = row['Name']\n",
    "    if name not in buckets:\n",
    "        buckets[name] = []      # Uma lista para cada nome\n",
    "    buckets[name].append(row)   # Separa a linha para cada nome\n",
    "```\n",
    "\n",
    "O código acima é bastante lento!!! O groupby é optimizado. Com base na linha abaixo, o mesmo nem retorna nehum resultado ainda. Apenas um objeto onde podemos fazer agregações."
   ]
  },
  {
   "cell_type": "code",
   "execution_count": 34,
   "metadata": {
    "execution": {
     "iopub.execute_input": "2022-04-04T15:49:04.453893Z",
     "iopub.status.busy": "2022-04-04T15:49:04.452761Z",
     "iopub.status.idle": "2022-04-04T15:49:04.457078Z",
     "shell.execute_reply": "2022-04-04T15:49:04.457885Z"
    }
   },
   "outputs": [
    {
     "data": {
      "text/plain": [
       "pandas.core.groupby.generic.DataFrameGroupBy"
      ]
     },
     "execution_count": 34,
     "metadata": {},
     "output_type": "execute_result"
    }
   ],
   "source": [
    "gb = df.groupby('Name')\n",
    "type(gb)"
   ]
  },
  {
   "cell_type": "markdown",
   "metadata": {},
   "source": [
    "Agora posso agregar todos os nomes com alguma operação. Por exemplo, posso somar a quantidade de vezes que cada nome ocorre. Em python, seria o seguinte código.\n",
    "\n",
    "```python\n",
    "sum_ = {}                       # Mapa de dados\n",
    "for name in buckets:            # Para cada nomee\n",
    "    sum_[name] = 0\n",
    "    for row in buckets[name]:   # Para cada linha com aquele nome, aggregate (some)\n",
    "        sum_[name] += row['Count']\n",
    "```"
   ]
  },
  {
   "cell_type": "markdown",
   "metadata": {},
   "source": [
    "Observe o resultado da agregação abaixo. Qual o problema com a coluna `Year`??"
   ]
  },
  {
   "cell_type": "code",
   "execution_count": 35,
   "metadata": {
    "execution": {
     "iopub.execute_input": "2022-04-04T15:49:04.774803Z",
     "iopub.status.busy": "2022-04-04T15:49:04.531422Z",
     "iopub.status.idle": "2022-04-04T15:49:05.516118Z",
     "shell.execute_reply": "2022-04-04T15:49:05.516933Z"
    }
   },
   "outputs": [
    {
     "data": {
      "text/html": [
       "<div>\n",
       "<style scoped>\n",
       "    .dataframe tbody tr th:only-of-type {\n",
       "        vertical-align: middle;\n",
       "    }\n",
       "\n",
       "    .dataframe tbody tr th {\n",
       "        vertical-align: top;\n",
       "    }\n",
       "\n",
       "    .dataframe thead th {\n",
       "        text-align: right;\n",
       "    }\n",
       "</style>\n",
       "<table border=\"1\" class=\"dataframe\">\n",
       "  <thead>\n",
       "    <tr style=\"text-align: right;\">\n",
       "      <th></th>\n",
       "      <th>Year</th>\n",
       "      <th>Count</th>\n",
       "    </tr>\n",
       "    <tr>\n",
       "      <th>Name</th>\n",
       "      <th></th>\n",
       "      <th></th>\n",
       "    </tr>\n",
       "  </thead>\n",
       "  <tbody>\n",
       "    <tr>\n",
       "      <th>Aaban</th>\n",
       "      <td>2013.500000</td>\n",
       "      <td>6.000000</td>\n",
       "    </tr>\n",
       "    <tr>\n",
       "      <th>Aadan</th>\n",
       "      <td>2009.750000</td>\n",
       "      <td>5.750000</td>\n",
       "    </tr>\n",
       "    <tr>\n",
       "      <th>Aadarsh</th>\n",
       "      <td>2009.000000</td>\n",
       "      <td>5.000000</td>\n",
       "    </tr>\n",
       "    <tr>\n",
       "      <th>Aaden</th>\n",
       "      <td>2010.015306</td>\n",
       "      <td>17.479592</td>\n",
       "    </tr>\n",
       "    <tr>\n",
       "      <th>Aadhav</th>\n",
       "      <td>2014.000000</td>\n",
       "      <td>6.000000</td>\n",
       "    </tr>\n",
       "    <tr>\n",
       "      <th>...</th>\n",
       "      <td>...</td>\n",
       "      <td>...</td>\n",
       "    </tr>\n",
       "    <tr>\n",
       "      <th>Zyrah</th>\n",
       "      <td>2012.000000</td>\n",
       "      <td>5.500000</td>\n",
       "    </tr>\n",
       "    <tr>\n",
       "      <th>Zyren</th>\n",
       "      <td>2013.000000</td>\n",
       "      <td>6.000000</td>\n",
       "    </tr>\n",
       "    <tr>\n",
       "      <th>Zyria</th>\n",
       "      <td>2006.714286</td>\n",
       "      <td>5.785714</td>\n",
       "    </tr>\n",
       "    <tr>\n",
       "      <th>Zyriah</th>\n",
       "      <td>2009.666667</td>\n",
       "      <td>6.444444</td>\n",
       "    </tr>\n",
       "    <tr>\n",
       "      <th>Zyshonne</th>\n",
       "      <td>1998.000000</td>\n",
       "      <td>5.000000</td>\n",
       "    </tr>\n",
       "  </tbody>\n",
       "</table>\n",
       "<p>30274 rows × 2 columns</p>\n",
       "</div>"
      ],
      "text/plain": [
       "                 Year      Count\n",
       "Name                            \n",
       "Aaban     2013.500000   6.000000\n",
       "Aadan     2009.750000   5.750000\n",
       "Aadarsh   2009.000000   5.000000\n",
       "Aaden     2010.015306  17.479592\n",
       "Aadhav    2014.000000   6.000000\n",
       "...               ...        ...\n",
       "Zyrah     2012.000000   5.500000\n",
       "Zyren     2013.000000   6.000000\n",
       "Zyria     2006.714286   5.785714\n",
       "Zyriah    2009.666667   6.444444\n",
       "Zyshonne  1998.000000   5.000000\n",
       "\n",
       "[30274 rows x 2 columns]"
      ]
     },
     "execution_count": 35,
     "metadata": {},
     "output_type": "execute_result"
    }
   ],
   "source": [
    "gb.mean()"
   ]
  },
  {
   "cell_type": "markdown",
   "metadata": {},
   "source": [
    "Não faz tanto sentido somar o ano, embora seja um número aqui representa uma categoria. Vamos somar as contagens apenas."
   ]
  },
  {
   "cell_type": "code",
   "execution_count": 36,
   "metadata": {
    "execution": {
     "iopub.execute_input": "2022-04-04T15:49:05.525221Z",
     "iopub.status.busy": "2022-04-04T15:49:05.523853Z",
     "iopub.status.idle": "2022-04-04T15:49:05.729234Z",
     "shell.execute_reply": "2022-04-04T15:49:05.730049Z"
    }
   },
   "outputs": [
    {
     "data": {
      "text/plain": [
       "Name\n",
       "Zyshonne          5\n",
       "Makenlee          5\n",
       "Makenlie          5\n",
       "Makinlee          5\n",
       "Makua             5\n",
       "             ...   \n",
       "William     3839236\n",
       "Michael     4312975\n",
       "Robert      4725713\n",
       "John        4845414\n",
       "James       4957166\n",
       "Name: Count, Length: 30274, dtype: int64"
      ]
     },
     "execution_count": 36,
     "metadata": {},
     "output_type": "execute_result"
    }
   ],
   "source": [
    "gb.sum()['Count'].sort_values()"
   ]
  },
  {
   "cell_type": "markdown",
   "metadata": {},
   "source": [
    "E ordenar..."
   ]
  },
  {
   "cell_type": "code",
   "execution_count": 37,
   "metadata": {
    "execution": {
     "iopub.execute_input": "2022-04-04T15:49:05.740737Z",
     "iopub.status.busy": "2022-04-04T15:49:05.739359Z",
     "iopub.status.idle": "2022-04-04T15:49:05.946168Z",
     "shell.execute_reply": "2022-04-04T15:49:05.945198Z"
    }
   },
   "outputs": [
    {
     "data": {
      "text/plain": [
       "Name\n",
       "Zyshonne          5\n",
       "Makenlee          5\n",
       "Makenlie          5\n",
       "Makinlee          5\n",
       "Makua             5\n",
       "             ...   \n",
       "William     3839236\n",
       "Michael     4312975\n",
       "Robert      4725713\n",
       "John        4845414\n",
       "James       4957166\n",
       "Name: Count, Length: 30274, dtype: int64"
      ]
     },
     "execution_count": 37,
     "metadata": {},
     "output_type": "execute_result"
    }
   ],
   "source": [
    "gb.sum()['Count'].sort_values()"
   ]
  },
  {
   "cell_type": "markdown",
   "metadata": {},
   "source": [
    "É comum, embora mais chato de ler, fazer tudo em uma única chamada. Isto é uma prática que vem do mundo SQL. A chamada abaixo seria o mesmo de:\n",
    "\n",
    "```sql\n",
    "SELECT Name, SUM(Count)\n",
    "FROM baby_table\n",
    "GROUPBY Name\n",
    "ORDERBY SUM(Count)\n",
    "```"
   ]
  },
  {
   "cell_type": "code",
   "execution_count": 38,
   "metadata": {
    "execution": {
     "iopub.execute_input": "2022-04-04T15:49:06.390542Z",
     "iopub.status.busy": "2022-04-04T15:49:06.032260Z",
     "iopub.status.idle": "2022-04-04T15:49:07.096605Z",
     "shell.execute_reply": "2022-04-04T15:49:07.095798Z"
    }
   },
   "outputs": [
    {
     "data": {
      "text/html": [
       "<div>\n",
       "<style scoped>\n",
       "    .dataframe tbody tr th:only-of-type {\n",
       "        vertical-align: middle;\n",
       "    }\n",
       "\n",
       "    .dataframe tbody tr th {\n",
       "        vertical-align: top;\n",
       "    }\n",
       "\n",
       "    .dataframe thead th {\n",
       "        text-align: right;\n",
       "    }\n",
       "</style>\n",
       "<table border=\"1\" class=\"dataframe\">\n",
       "  <thead>\n",
       "    <tr style=\"text-align: right;\">\n",
       "      <th></th>\n",
       "      <th>Count</th>\n",
       "    </tr>\n",
       "    <tr>\n",
       "      <th>Name</th>\n",
       "      <th></th>\n",
       "    </tr>\n",
       "  </thead>\n",
       "  <tbody>\n",
       "    <tr>\n",
       "      <th>Zyshonne</th>\n",
       "      <td>5</td>\n",
       "    </tr>\n",
       "    <tr>\n",
       "      <th>Makenlee</th>\n",
       "      <td>5</td>\n",
       "    </tr>\n",
       "    <tr>\n",
       "      <th>Makenlie</th>\n",
       "      <td>5</td>\n",
       "    </tr>\n",
       "    <tr>\n",
       "      <th>Makinlee</th>\n",
       "      <td>5</td>\n",
       "    </tr>\n",
       "    <tr>\n",
       "      <th>Makua</th>\n",
       "      <td>5</td>\n",
       "    </tr>\n",
       "    <tr>\n",
       "      <th>...</th>\n",
       "      <td>...</td>\n",
       "    </tr>\n",
       "    <tr>\n",
       "      <th>William</th>\n",
       "      <td>3839236</td>\n",
       "    </tr>\n",
       "    <tr>\n",
       "      <th>Michael</th>\n",
       "      <td>4312975</td>\n",
       "    </tr>\n",
       "    <tr>\n",
       "      <th>Robert</th>\n",
       "      <td>4725713</td>\n",
       "    </tr>\n",
       "    <tr>\n",
       "      <th>John</th>\n",
       "      <td>4845414</td>\n",
       "    </tr>\n",
       "    <tr>\n",
       "      <th>James</th>\n",
       "      <td>4957166</td>\n",
       "    </tr>\n",
       "  </tbody>\n",
       "</table>\n",
       "<p>30274 rows × 1 columns</p>\n",
       "</div>"
      ],
      "text/plain": [
       "            Count\n",
       "Name             \n",
       "Zyshonne        5\n",
       "Makenlee        5\n",
       "Makenlie        5\n",
       "Makinlee        5\n",
       "Makua           5\n",
       "...           ...\n",
       "William   3839236\n",
       "Michael   4312975\n",
       "Robert    4725713\n",
       "John      4845414\n",
       "James     4957166\n",
       "\n",
       "[30274 rows x 1 columns]"
      ]
     },
     "execution_count": 38,
     "metadata": {},
     "output_type": "execute_result"
    }
   ],
   "source": [
    "(df[['Name', 'Count']].\n",
    " groupby('Name').\n",
    " sum().\n",
    " sort_values(by='Count')\n",
    ")"
   ]
  },
  {
   "cell_type": "code",
   "execution_count": 39,
   "metadata": {
    "execution": {
     "iopub.execute_input": "2022-04-04T15:49:07.412188Z",
     "iopub.status.busy": "2022-04-04T15:49:07.411100Z",
     "iopub.status.idle": "2022-04-04T15:49:08.909306Z",
     "shell.execute_reply": "2022-04-04T15:49:08.908328Z"
    }
   },
   "outputs": [
    {
     "data": {
      "text/html": [
       "<div>\n",
       "<style scoped>\n",
       "    .dataframe tbody tr th:only-of-type {\n",
       "        vertical-align: middle;\n",
       "    }\n",
       "\n",
       "    .dataframe tbody tr th {\n",
       "        vertical-align: top;\n",
       "    }\n",
       "\n",
       "    .dataframe thead th {\n",
       "        text-align: right;\n",
       "    }\n",
       "</style>\n",
       "<table border=\"1\" class=\"dataframe\">\n",
       "  <thead>\n",
       "    <tr style=\"text-align: right;\">\n",
       "      <th></th>\n",
       "      <th></th>\n",
       "      <th>Count</th>\n",
       "    </tr>\n",
       "    <tr>\n",
       "      <th>Name</th>\n",
       "      <th>Year</th>\n",
       "      <th></th>\n",
       "    </tr>\n",
       "  </thead>\n",
       "  <tbody>\n",
       "    <tr>\n",
       "      <th rowspan=\"2\" valign=\"top\">Aaban</th>\n",
       "      <th>2013</th>\n",
       "      <td>6</td>\n",
       "    </tr>\n",
       "    <tr>\n",
       "      <th>2014</th>\n",
       "      <td>6</td>\n",
       "    </tr>\n",
       "    <tr>\n",
       "      <th rowspan=\"3\" valign=\"top\">Aadan</th>\n",
       "      <th>2008</th>\n",
       "      <td>12</td>\n",
       "    </tr>\n",
       "    <tr>\n",
       "      <th>2009</th>\n",
       "      <td>6</td>\n",
       "    </tr>\n",
       "    <tr>\n",
       "      <th>2014</th>\n",
       "      <td>5</td>\n",
       "    </tr>\n",
       "    <tr>\n",
       "      <th>...</th>\n",
       "      <th>...</th>\n",
       "      <td>...</td>\n",
       "    </tr>\n",
       "    <tr>\n",
       "      <th rowspan=\"4\" valign=\"top\">Zyriah</th>\n",
       "      <th>2011</th>\n",
       "      <td>6</td>\n",
       "    </tr>\n",
       "    <tr>\n",
       "      <th>2012</th>\n",
       "      <td>5</td>\n",
       "    </tr>\n",
       "    <tr>\n",
       "      <th>2013</th>\n",
       "      <td>7</td>\n",
       "    </tr>\n",
       "    <tr>\n",
       "      <th>2014</th>\n",
       "      <td>6</td>\n",
       "    </tr>\n",
       "    <tr>\n",
       "      <th>Zyshonne</th>\n",
       "      <th>1998</th>\n",
       "      <td>5</td>\n",
       "    </tr>\n",
       "  </tbody>\n",
       "</table>\n",
       "<p>548154 rows × 1 columns</p>\n",
       "</div>"
      ],
      "text/plain": [
       "               Count\n",
       "Name     Year       \n",
       "Aaban    2013      6\n",
       "         2014      6\n",
       "Aadan    2008     12\n",
       "         2009      6\n",
       "         2014      5\n",
       "...              ...\n",
       "Zyriah   2011      6\n",
       "         2012      5\n",
       "         2013      7\n",
       "         2014      6\n",
       "Zyshonne 1998      5\n",
       "\n",
       "[548154 rows x 1 columns]"
      ]
     },
     "execution_count": 39,
     "metadata": {},
     "output_type": "execute_result"
    }
   ],
   "source": [
    "(df.\n",
    " groupby(['Name', 'Year']).\n",
    " sum()\n",
    ")"
   ]
  },
  {
   "cell_type": "markdown",
   "metadata": {
    "nbpresent": {
     "id": "a37a4b78-0c0c-4eb0-a83c-13d296b13324"
    }
   },
   "source": [
    "## NBA Salaries e Indexação Booleana\n",
    "\n",
    "Por fim, vamos explorar alguns dados da NBA para entender a indexação booleana. Vamos carregar os dados da mesma forma que carregamos os dados dos nomes de crianças."
   ]
  },
  {
   "cell_type": "code",
   "execution_count": 40,
   "metadata": {
    "execution": {
     "iopub.execute_input": "2022-04-04T15:49:08.926462Z",
     "iopub.status.busy": "2022-04-04T15:49:08.915205Z",
     "iopub.status.idle": "2022-04-04T15:49:09.111714Z",
     "shell.execute_reply": "2022-04-04T15:49:09.112771Z"
    },
    "nbpresent": {
     "id": "0459916a-5f52-4b09-be98-4be9a74c44d7"
    }
   },
   "outputs": [
    {
     "data": {
      "text/html": [
       "<div>\n",
       "<style scoped>\n",
       "    .dataframe tbody tr th:only-of-type {\n",
       "        vertical-align: middle;\n",
       "    }\n",
       "\n",
       "    .dataframe tbody tr th {\n",
       "        vertical-align: top;\n",
       "    }\n",
       "\n",
       "    .dataframe thead th {\n",
       "        text-align: right;\n",
       "    }\n",
       "</style>\n",
       "<table border=\"1\" class=\"dataframe\">\n",
       "  <thead>\n",
       "    <tr style=\"text-align: right;\">\n",
       "      <th></th>\n",
       "      <th>PLAYER</th>\n",
       "      <th>POSITION</th>\n",
       "      <th>TEAM</th>\n",
       "      <th>SALARY</th>\n",
       "    </tr>\n",
       "  </thead>\n",
       "  <tbody>\n",
       "    <tr>\n",
       "      <th>0</th>\n",
       "      <td>Paul Millsap</td>\n",
       "      <td>PF</td>\n",
       "      <td>Atlanta Hawks</td>\n",
       "      <td>18.671659</td>\n",
       "    </tr>\n",
       "    <tr>\n",
       "      <th>1</th>\n",
       "      <td>Al Horford</td>\n",
       "      <td>C</td>\n",
       "      <td>Atlanta Hawks</td>\n",
       "      <td>12.000000</td>\n",
       "    </tr>\n",
       "    <tr>\n",
       "      <th>2</th>\n",
       "      <td>Tiago Splitter</td>\n",
       "      <td>C</td>\n",
       "      <td>Atlanta Hawks</td>\n",
       "      <td>9.756250</td>\n",
       "    </tr>\n",
       "    <tr>\n",
       "      <th>3</th>\n",
       "      <td>Jeff Teague</td>\n",
       "      <td>PG</td>\n",
       "      <td>Atlanta Hawks</td>\n",
       "      <td>8.000000</td>\n",
       "    </tr>\n",
       "    <tr>\n",
       "      <th>4</th>\n",
       "      <td>Kyle Korver</td>\n",
       "      <td>SG</td>\n",
       "      <td>Atlanta Hawks</td>\n",
       "      <td>5.746479</td>\n",
       "    </tr>\n",
       "  </tbody>\n",
       "</table>\n",
       "</div>"
      ],
      "text/plain": [
       "           PLAYER POSITION           TEAM     SALARY\n",
       "0    Paul Millsap       PF  Atlanta Hawks  18.671659\n",
       "1      Al Horford        C  Atlanta Hawks  12.000000\n",
       "2  Tiago Splitter        C  Atlanta Hawks   9.756250\n",
       "3     Jeff Teague       PG  Atlanta Hawks   8.000000\n",
       "4     Kyle Korver       SG  Atlanta Hawks   5.746479"
      ]
     },
     "execution_count": 40,
     "metadata": {},
     "output_type": "execute_result"
    }
   ],
   "source": [
    "df = pd.read_csv('https://media.githubusercontent.com/media/icd-ufmg/material/master/aulas/03-Tabelas-e-Tipos-de-Dados/nba_salaries.csv')\n",
    "df.head()"
   ]
  },
  {
   "cell_type": "markdown",
   "metadata": {},
   "source": [
    "Por fim, vamos indexar nosso DataFrame por booleanos. A linha abaixo pega um vetor de booleanos onde o nome do time é `Houston Rockets`."
   ]
  },
  {
   "cell_type": "code",
   "execution_count": 41,
   "metadata": {
    "execution": {
     "iopub.execute_input": "2022-04-04T15:49:09.123626Z",
     "iopub.status.busy": "2022-04-04T15:49:09.122458Z",
     "iopub.status.idle": "2022-04-04T15:49:09.126881Z",
     "shell.execute_reply": "2022-04-04T15:49:09.127685Z"
    }
   },
   "outputs": [
    {
     "data": {
      "text/plain": [
       "0      False\n",
       "1      False\n",
       "2      False\n",
       "3      False\n",
       "4      False\n",
       "       ...  \n",
       "412    False\n",
       "413    False\n",
       "414    False\n",
       "415    False\n",
       "416    False\n",
       "Name: TEAM, Length: 417, dtype: bool"
      ]
     },
     "execution_count": 41,
     "metadata": {},
     "output_type": "execute_result"
    }
   ],
   "source": [
    "df['TEAM'] == 'Houston Rockets'"
   ]
  },
  {
   "cell_type": "markdown",
   "metadata": {},
   "source": [
    "Podemos usar tal vetor para filtrar nosso DataFrame. A linha abaixo é o mesmo de um:\n",
    "\n",
    "```sql\n",
    "SELECT *\n",
    "FROM table\n",
    "WHERE TEAM = 'Houston Rockets'\n",
    "```"
   ]
  },
  {
   "cell_type": "code",
   "execution_count": 42,
   "metadata": {
    "execution": {
     "iopub.execute_input": "2022-04-04T15:49:09.143255Z",
     "iopub.status.busy": "2022-04-04T15:49:09.139619Z",
     "iopub.status.idle": "2022-04-04T15:49:09.148602Z",
     "shell.execute_reply": "2022-04-04T15:49:09.147624Z"
    }
   },
   "outputs": [
    {
     "data": {
      "text/html": [
       "<div>\n",
       "<style scoped>\n",
       "    .dataframe tbody tr th:only-of-type {\n",
       "        vertical-align: middle;\n",
       "    }\n",
       "\n",
       "    .dataframe tbody tr th {\n",
       "        vertical-align: top;\n",
       "    }\n",
       "\n",
       "    .dataframe thead th {\n",
       "        text-align: right;\n",
       "    }\n",
       "</style>\n",
       "<table border=\"1\" class=\"dataframe\">\n",
       "  <thead>\n",
       "    <tr style=\"text-align: right;\">\n",
       "      <th></th>\n",
       "      <th>PLAYER</th>\n",
       "      <th>POSITION</th>\n",
       "      <th>TEAM</th>\n",
       "      <th>SALARY</th>\n",
       "    </tr>\n",
       "  </thead>\n",
       "  <tbody>\n",
       "    <tr>\n",
       "      <th>131</th>\n",
       "      <td>Dwight Howard</td>\n",
       "      <td>C</td>\n",
       "      <td>Houston Rockets</td>\n",
       "      <td>22.359364</td>\n",
       "    </tr>\n",
       "    <tr>\n",
       "      <th>132</th>\n",
       "      <td>James Harden</td>\n",
       "      <td>SG</td>\n",
       "      <td>Houston Rockets</td>\n",
       "      <td>15.756438</td>\n",
       "    </tr>\n",
       "    <tr>\n",
       "      <th>133</th>\n",
       "      <td>Ty Lawson</td>\n",
       "      <td>PG</td>\n",
       "      <td>Houston Rockets</td>\n",
       "      <td>12.404495</td>\n",
       "    </tr>\n",
       "    <tr>\n",
       "      <th>134</th>\n",
       "      <td>Corey Brewer</td>\n",
       "      <td>SG</td>\n",
       "      <td>Houston Rockets</td>\n",
       "      <td>8.229375</td>\n",
       "    </tr>\n",
       "    <tr>\n",
       "      <th>135</th>\n",
       "      <td>Trevor Ariza</td>\n",
       "      <td>SF</td>\n",
       "      <td>Houston Rockets</td>\n",
       "      <td>8.193030</td>\n",
       "    </tr>\n",
       "    <tr>\n",
       "      <th>136</th>\n",
       "      <td>Patrick Beverley</td>\n",
       "      <td>PG</td>\n",
       "      <td>Houston Rockets</td>\n",
       "      <td>6.486486</td>\n",
       "    </tr>\n",
       "    <tr>\n",
       "      <th>137</th>\n",
       "      <td>K.J. McDaniels</td>\n",
       "      <td>SG</td>\n",
       "      <td>Houston Rockets</td>\n",
       "      <td>3.189794</td>\n",
       "    </tr>\n",
       "    <tr>\n",
       "      <th>138</th>\n",
       "      <td>Terrence Jones</td>\n",
       "      <td>PF</td>\n",
       "      <td>Houston Rockets</td>\n",
       "      <td>2.489530</td>\n",
       "    </tr>\n",
       "    <tr>\n",
       "      <th>139</th>\n",
       "      <td>Donatas Motiejunas</td>\n",
       "      <td>PF</td>\n",
       "      <td>Houston Rockets</td>\n",
       "      <td>2.288205</td>\n",
       "    </tr>\n",
       "    <tr>\n",
       "      <th>140</th>\n",
       "      <td>Sam Dekker</td>\n",
       "      <td>SF</td>\n",
       "      <td>Houston Rockets</td>\n",
       "      <td>1.646400</td>\n",
       "    </tr>\n",
       "    <tr>\n",
       "      <th>141</th>\n",
       "      <td>Clint Capela</td>\n",
       "      <td>PF</td>\n",
       "      <td>Houston Rockets</td>\n",
       "      <td>1.242720</td>\n",
       "    </tr>\n",
       "    <tr>\n",
       "      <th>142</th>\n",
       "      <td>Montrezl Harrell</td>\n",
       "      <td>PF</td>\n",
       "      <td>Houston Rockets</td>\n",
       "      <td>1.000000</td>\n",
       "    </tr>\n",
       "  </tbody>\n",
       "</table>\n",
       "</div>"
      ],
      "text/plain": [
       "                 PLAYER POSITION             TEAM     SALARY\n",
       "131       Dwight Howard        C  Houston Rockets  22.359364\n",
       "132        James Harden       SG  Houston Rockets  15.756438\n",
       "133           Ty Lawson       PG  Houston Rockets  12.404495\n",
       "134        Corey Brewer       SG  Houston Rockets   8.229375\n",
       "135        Trevor Ariza       SF  Houston Rockets   8.193030\n",
       "136    Patrick Beverley       PG  Houston Rockets   6.486486\n",
       "137      K.J. McDaniels       SG  Houston Rockets   3.189794\n",
       "138      Terrence Jones       PF  Houston Rockets   2.489530\n",
       "139  Donatas Motiejunas       PF  Houston Rockets   2.288205\n",
       "140          Sam Dekker       SF  Houston Rockets   1.646400\n",
       "141        Clint Capela       PF  Houston Rockets   1.242720\n",
       "142    Montrezl Harrell       PF  Houston Rockets   1.000000"
      ]
     },
     "execution_count": 42,
     "metadata": {},
     "output_type": "execute_result"
    }
   ],
   "source": [
    "filtro = df['TEAM'] == 'Houston Rockets'\n",
    "df[filtro]"
   ]
  },
  {
   "cell_type": "markdown",
   "metadata": {},
   "source": [
    "Assim como pegar os salários maior do que um certo valor!"
   ]
  },
  {
   "cell_type": "code",
   "execution_count": 43,
   "metadata": {
    "execution": {
     "iopub.execute_input": "2022-04-04T15:49:09.163704Z",
     "iopub.status.busy": "2022-04-04T15:49:09.162612Z",
     "iopub.status.idle": "2022-04-04T15:49:09.166551Z",
     "shell.execute_reply": "2022-04-04T15:49:09.167356Z"
    }
   },
   "outputs": [
    {
     "data": {
      "text/html": [
       "<div>\n",
       "<style scoped>\n",
       "    .dataframe tbody tr th:only-of-type {\n",
       "        vertical-align: middle;\n",
       "    }\n",
       "\n",
       "    .dataframe tbody tr th {\n",
       "        vertical-align: top;\n",
       "    }\n",
       "\n",
       "    .dataframe thead th {\n",
       "        text-align: right;\n",
       "    }\n",
       "</style>\n",
       "<table border=\"1\" class=\"dataframe\">\n",
       "  <thead>\n",
       "    <tr style=\"text-align: right;\">\n",
       "      <th></th>\n",
       "      <th>PLAYER</th>\n",
       "      <th>POSITION</th>\n",
       "      <th>TEAM</th>\n",
       "      <th>SALARY</th>\n",
       "    </tr>\n",
       "  </thead>\n",
       "  <tbody>\n",
       "    <tr>\n",
       "      <th>29</th>\n",
       "      <td>Joe Johnson</td>\n",
       "      <td>SF</td>\n",
       "      <td>Brooklyn Nets</td>\n",
       "      <td>24.894863</td>\n",
       "    </tr>\n",
       "    <tr>\n",
       "      <th>60</th>\n",
       "      <td>Derrick Rose</td>\n",
       "      <td>PG</td>\n",
       "      <td>Chicago Bulls</td>\n",
       "      <td>20.093064</td>\n",
       "    </tr>\n",
       "    <tr>\n",
       "      <th>72</th>\n",
       "      <td>LeBron James</td>\n",
       "      <td>SF</td>\n",
       "      <td>Cleveland Cavaliers</td>\n",
       "      <td>22.970500</td>\n",
       "    </tr>\n",
       "    <tr>\n",
       "      <th>131</th>\n",
       "      <td>Dwight Howard</td>\n",
       "      <td>C</td>\n",
       "      <td>Houston Rockets</td>\n",
       "      <td>22.359364</td>\n",
       "    </tr>\n",
       "    <tr>\n",
       "      <th>156</th>\n",
       "      <td>Chris Paul</td>\n",
       "      <td>PG</td>\n",
       "      <td>Los Angeles Clippers</td>\n",
       "      <td>21.468695</td>\n",
       "    </tr>\n",
       "    <tr>\n",
       "      <th>169</th>\n",
       "      <td>Kobe Bryant</td>\n",
       "      <td>SF</td>\n",
       "      <td>Los Angeles Lakers</td>\n",
       "      <td>25.000000</td>\n",
       "    </tr>\n",
       "    <tr>\n",
       "      <th>201</th>\n",
       "      <td>Chris Bosh</td>\n",
       "      <td>PF</td>\n",
       "      <td>Miami Heat</td>\n",
       "      <td>22.192730</td>\n",
       "    </tr>\n",
       "    <tr>\n",
       "      <th>255</th>\n",
       "      <td>Carmelo Anthony</td>\n",
       "      <td>SF</td>\n",
       "      <td>New York Knicks</td>\n",
       "      <td>22.875000</td>\n",
       "    </tr>\n",
       "    <tr>\n",
       "      <th>268</th>\n",
       "      <td>Kevin Durant</td>\n",
       "      <td>SF</td>\n",
       "      <td>Oklahoma City Thunder</td>\n",
       "      <td>20.158622</td>\n",
       "    </tr>\n",
       "  </tbody>\n",
       "</table>\n",
       "</div>"
      ],
      "text/plain": [
       "              PLAYER POSITION                   TEAM     SALARY\n",
       "29       Joe Johnson       SF          Brooklyn Nets  24.894863\n",
       "60      Derrick Rose       PG          Chicago Bulls  20.093064\n",
       "72      LeBron James       SF    Cleveland Cavaliers  22.970500\n",
       "131    Dwight Howard        C        Houston Rockets  22.359364\n",
       "156       Chris Paul       PG   Los Angeles Clippers  21.468695\n",
       "169      Kobe Bryant       SF     Los Angeles Lakers  25.000000\n",
       "201       Chris Bosh       PF             Miami Heat  22.192730\n",
       "255  Carmelo Anthony       SF        New York Knicks  22.875000\n",
       "268     Kevin Durant       SF  Oklahoma City Thunder  20.158622"
      ]
     },
     "execution_count": 43,
     "metadata": {},
     "output_type": "execute_result"
    }
   ],
   "source": [
    "df[df['SALARY'] > 20]"
   ]
  },
  {
   "cell_type": "markdown",
   "metadata": {
    "nbpresent": {
     "id": "306c1a7d-c13d-404d-8a4a-ef6cd3724fe1"
    }
   },
   "source": [
    "## Exercícios\n",
    "\n",
    "Abaixo temos algumas chamadas em pandas. Tente explicar cada uma delas."
   ]
  },
  {
   "cell_type": "code",
   "execution_count": 44,
   "metadata": {
    "execution": {
     "iopub.execute_input": "2022-04-04T15:49:09.181599Z",
     "iopub.status.busy": "2022-04-04T15:49:09.180405Z",
     "iopub.status.idle": "2022-04-04T15:49:09.185913Z",
     "shell.execute_reply": "2022-04-04T15:49:09.185065Z"
    },
    "nbpresent": {
     "id": "7d261655-e859-46bc-a71f-986adb55c3a0"
    }
   },
   "outputs": [
    {
     "data": {
      "text/html": [
       "<div>\n",
       "<style scoped>\n",
       "    .dataframe tbody tr th:only-of-type {\n",
       "        vertical-align: middle;\n",
       "    }\n",
       "\n",
       "    .dataframe tbody tr th {\n",
       "        vertical-align: top;\n",
       "    }\n",
       "\n",
       "    .dataframe thead th {\n",
       "        text-align: right;\n",
       "    }\n",
       "</style>\n",
       "<table border=\"1\" class=\"dataframe\">\n",
       "  <thead>\n",
       "    <tr style=\"text-align: right;\">\n",
       "      <th></th>\n",
       "      <th>SALARY</th>\n",
       "    </tr>\n",
       "    <tr>\n",
       "      <th>POSITION</th>\n",
       "      <th></th>\n",
       "    </tr>\n",
       "  </thead>\n",
       "  <tbody>\n",
       "    <tr>\n",
       "      <th>C</th>\n",
       "      <td>6.082913</td>\n",
       "    </tr>\n",
       "    <tr>\n",
       "      <th>PF</th>\n",
       "      <td>4.951344</td>\n",
       "    </tr>\n",
       "    <tr>\n",
       "      <th>PG</th>\n",
       "      <td>5.165487</td>\n",
       "    </tr>\n",
       "    <tr>\n",
       "      <th>SF</th>\n",
       "      <td>5.532675</td>\n",
       "    </tr>\n",
       "    <tr>\n",
       "      <th>SG</th>\n",
       "      <td>3.988195</td>\n",
       "    </tr>\n",
       "  </tbody>\n",
       "</table>\n",
       "</div>"
      ],
      "text/plain": [
       "            SALARY\n",
       "POSITION          \n",
       "C         6.082913\n",
       "PF        4.951344\n",
       "PG        5.165487\n",
       "SF        5.532675\n",
       "SG        3.988195"
      ]
     },
     "execution_count": 44,
     "metadata": {},
     "output_type": "execute_result"
    }
   ],
   "source": [
    "(df[['POSITION', 'SALARY']].\n",
    " groupby('POSITION').\n",
    " mean()\n",
    ")"
   ]
  },
  {
   "cell_type": "code",
   "execution_count": 45,
   "metadata": {
    "execution": {
     "iopub.execute_input": "2022-04-04T15:49:09.202986Z",
     "iopub.status.busy": "2022-04-04T15:49:09.201509Z",
     "iopub.status.idle": "2022-04-04T15:49:09.207646Z",
     "shell.execute_reply": "2022-04-04T15:49:09.206841Z"
    },
    "nbpresent": {
     "id": "6652661c-3ba2-4932-ba72-81baaa71b957"
    }
   },
   "outputs": [
    {
     "data": {
      "text/html": [
       "<div>\n",
       "<style scoped>\n",
       "    .dataframe tbody tr th:only-of-type {\n",
       "        vertical-align: middle;\n",
       "    }\n",
       "\n",
       "    .dataframe tbody tr th {\n",
       "        vertical-align: top;\n",
       "    }\n",
       "\n",
       "    .dataframe thead th {\n",
       "        text-align: right;\n",
       "    }\n",
       "</style>\n",
       "<table border=\"1\" class=\"dataframe\">\n",
       "  <thead>\n",
       "    <tr style=\"text-align: right;\">\n",
       "      <th></th>\n",
       "      <th>SALARY</th>\n",
       "    </tr>\n",
       "    <tr>\n",
       "      <th>TEAM</th>\n",
       "      <th></th>\n",
       "    </tr>\n",
       "  </thead>\n",
       "  <tbody>\n",
       "    <tr>\n",
       "      <th>Phoenix Suns</th>\n",
       "      <td>2.971813</td>\n",
       "    </tr>\n",
       "    <tr>\n",
       "      <th>Utah Jazz</th>\n",
       "      <td>3.095993</td>\n",
       "    </tr>\n",
       "    <tr>\n",
       "      <th>Portland Trail Blazers</th>\n",
       "      <td>3.246206</td>\n",
       "    </tr>\n",
       "    <tr>\n",
       "      <th>Philadelphia 76ers</th>\n",
       "      <td>3.267796</td>\n",
       "    </tr>\n",
       "    <tr>\n",
       "      <th>Boston Celtics</th>\n",
       "      <td>3.352367</td>\n",
       "    </tr>\n",
       "    <tr>\n",
       "      <th>Milwaukee Bucks</th>\n",
       "      <td>4.019873</td>\n",
       "    </tr>\n",
       "    <tr>\n",
       "      <th>Detroit Pistons</th>\n",
       "      <td>4.221176</td>\n",
       "    </tr>\n",
       "    <tr>\n",
       "      <th>Toronto Raptors</th>\n",
       "      <td>4.392507</td>\n",
       "    </tr>\n",
       "    <tr>\n",
       "      <th>Brooklyn Nets</th>\n",
       "      <td>4.408229</td>\n",
       "    </tr>\n",
       "    <tr>\n",
       "      <th>Denver Nuggets</th>\n",
       "      <td>4.459243</td>\n",
       "    </tr>\n",
       "    <tr>\n",
       "      <th>Memphis Grizzlies</th>\n",
       "      <td>4.466497</td>\n",
       "    </tr>\n",
       "    <tr>\n",
       "      <th>Charlotte Hornets</th>\n",
       "      <td>4.672355</td>\n",
       "    </tr>\n",
       "    <tr>\n",
       "      <th>Indiana Pacers</th>\n",
       "      <td>4.822694</td>\n",
       "    </tr>\n",
       "    <tr>\n",
       "      <th>Atlanta Hawks</th>\n",
       "      <td>4.969507</td>\n",
       "    </tr>\n",
       "    <tr>\n",
       "      <th>New Orleans Pelicans</th>\n",
       "      <td>5.032163</td>\n",
       "    </tr>\n",
       "    <tr>\n",
       "      <th>Minnesota Timberwolves</th>\n",
       "      <td>5.065186</td>\n",
       "    </tr>\n",
       "    <tr>\n",
       "      <th>Los Angeles Clippers</th>\n",
       "      <td>5.082624</td>\n",
       "    </tr>\n",
       "    <tr>\n",
       "      <th>Washington Wizards</th>\n",
       "      <td>5.296912</td>\n",
       "    </tr>\n",
       "    <tr>\n",
       "      <th>New York Knicks</th>\n",
       "      <td>5.338846</td>\n",
       "    </tr>\n",
       "    <tr>\n",
       "      <th>Orlando Magic</th>\n",
       "      <td>5.544567</td>\n",
       "    </tr>\n",
       "    <tr>\n",
       "      <th>Dallas Mavericks</th>\n",
       "      <td>5.978414</td>\n",
       "    </tr>\n",
       "    <tr>\n",
       "      <th>Oklahoma City Thunder</th>\n",
       "      <td>6.052010</td>\n",
       "    </tr>\n",
       "    <tr>\n",
       "      <th>Sacramento Kings</th>\n",
       "      <td>6.216808</td>\n",
       "    </tr>\n",
       "    <tr>\n",
       "      <th>Los Angeles Lakers</th>\n",
       "      <td>6.237086</td>\n",
       "    </tr>\n",
       "    <tr>\n",
       "      <th>San Antonio Spurs</th>\n",
       "      <td>6.511698</td>\n",
       "    </tr>\n",
       "    <tr>\n",
       "      <th>Chicago Bulls</th>\n",
       "      <td>6.568407</td>\n",
       "    </tr>\n",
       "    <tr>\n",
       "      <th>Golden State Warriors</th>\n",
       "      <td>6.720367</td>\n",
       "    </tr>\n",
       "    <tr>\n",
       "      <th>Miami Heat</th>\n",
       "      <td>6.794056</td>\n",
       "    </tr>\n",
       "    <tr>\n",
       "      <th>Houston Rockets</th>\n",
       "      <td>7.107153</td>\n",
       "    </tr>\n",
       "    <tr>\n",
       "      <th>Cleveland Cavaliers</th>\n",
       "      <td>10.231241</td>\n",
       "    </tr>\n",
       "  </tbody>\n",
       "</table>\n",
       "</div>"
      ],
      "text/plain": [
       "                           SALARY\n",
       "TEAM                             \n",
       "Phoenix Suns             2.971813\n",
       "Utah Jazz                3.095993\n",
       "Portland Trail Blazers   3.246206\n",
       "Philadelphia 76ers       3.267796\n",
       "Boston Celtics           3.352367\n",
       "Milwaukee Bucks          4.019873\n",
       "Detroit Pistons          4.221176\n",
       "Toronto Raptors          4.392507\n",
       "Brooklyn Nets            4.408229\n",
       "Denver Nuggets           4.459243\n",
       "Memphis Grizzlies        4.466497\n",
       "Charlotte Hornets        4.672355\n",
       "Indiana Pacers           4.822694\n",
       "Atlanta Hawks            4.969507\n",
       "New Orleans Pelicans     5.032163\n",
       "Minnesota Timberwolves   5.065186\n",
       "Los Angeles Clippers     5.082624\n",
       "Washington Wizards       5.296912\n",
       "New York Knicks          5.338846\n",
       "Orlando Magic            5.544567\n",
       "Dallas Mavericks         5.978414\n",
       "Oklahoma City Thunder    6.052010\n",
       "Sacramento Kings         6.216808\n",
       "Los Angeles Lakers       6.237086\n",
       "San Antonio Spurs        6.511698\n",
       "Chicago Bulls            6.568407\n",
       "Golden State Warriors    6.720367\n",
       "Miami Heat               6.794056\n",
       "Houston Rockets          7.107153\n",
       "Cleveland Cavaliers     10.231241"
      ]
     },
     "execution_count": 45,
     "metadata": {},
     "output_type": "execute_result"
    }
   ],
   "source": [
    "(df[['TEAM', 'SALARY']].\n",
    " groupby('TEAM').\n",
    " mean().\n",
    " sort_values('SALARY')\n",
    ")"
   ]
  }
 ],
 "metadata": {
  "kernelspec": {
   "display_name": "Python 3 (ipykernel)",
   "language": "python",
   "name": "python3"
  },
  "language_info": {
   "codemirror_mode": {
    "name": "ipython",
    "version": 3
   },
   "file_extension": ".py",
   "mimetype": "text/x-python",
   "name": "python",
   "nbconvert_exporter": "python",
   "pygments_lexer": "ipython3",
   "version": "3.10.2"
  }
 },
 "nbformat": 4,
 "nbformat_minor": 2
}
