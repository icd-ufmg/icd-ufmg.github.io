{
 "cells": [
  {
   "cell_type": "markdown",
   "metadata": {},
   "source": [
    "---\n",
    "layout: page\n",
    "title: Estatística Básica\n",
    "nav_order: 4\n",
    "has_toc: true\n",
    "---\n",
    "\n",
    "[<img src=\"./colab_favicon_small.png\" style=\"float: right;\">](https://colab.research.google.com/github/icd-ufmg/icd-ufmg.github.io/blob/master/_lessons/04-stat.ipynb)\n",
    "\n",
    "\n",
    "# Estatística Básica\n",
    "{: .no_toc .mb-2 }\n",
    "\n",
    "Um breve resumo de alguns comandos python.\n",
    "{: .fs-6 .fw-300 }\n",
    "\n",
    "{: .no_toc .text-delta }\n",
    "Resultado Esperado\n",
    "\n",
    "1. Entendimento de médias, medianas, desvio padrão e quartis.\n",
    "1. Entendimento de propriedades das médias\n",
    "1. Entender como sumarizar dados.\n",
    "1. Mais importante, entender as falácias de sumarização de dados.\n",
    "\n",
    "---\n",
    "**Sumário**\n",
    "1. TOC\n",
    "{:toc}\n",
    "---"
   ]
  },
  {
   "cell_type": "code",
   "execution_count": 1,
   "metadata": {
    "execution": {
     "iopub.execute_input": "2021-02-03T20:49:04.372950Z",
     "iopub.status.busy": "2021-02-03T20:49:04.371820Z",
     "iopub.status.idle": "2021-02-03T20:49:05.162576Z",
     "shell.execute_reply": "2021-02-03T20:49:05.163935Z"
    }
   },
   "outputs": [],
   "source": [
    "# -*- coding: utf8\n",
    "\n",
    "import numpy as np\n",
    "import matplotlib.pyplot as plt\n",
    "import pandas as pd"
   ]
  },
  {
   "cell_type": "code",
   "execution_count": 2,
   "metadata": {
    "execution": {
     "iopub.execute_input": "2021-02-03T20:49:05.172879Z",
     "iopub.status.busy": "2021-02-03T20:49:05.171982Z",
     "iopub.status.idle": "2021-02-03T20:49:05.176749Z",
     "shell.execute_reply": "2021-02-03T20:49:05.176060Z"
    }
   },
   "outputs": [],
   "source": [
    "plt.style.use('seaborn-colorblind')\n",
    "\n",
    "plt.rcParams['figure.figsize']  = (16, 10)\n",
    "plt.rcParams['axes.labelsize']  = 20\n",
    "plt.rcParams['axes.titlesize']  = 20\n",
    "plt.rcParams['legend.fontsize'] = 20\n",
    "plt.rcParams['xtick.labelsize'] = 20\n",
    "plt.rcParams['ytick.labelsize'] = 20\n",
    "plt.rcParams['lines.linewidth'] = 4"
   ]
  },
  {
   "cell_type": "code",
   "execution_count": 3,
   "metadata": {
    "execution": {
     "iopub.execute_input": "2021-02-03T20:49:05.181009Z",
     "iopub.status.busy": "2021-02-03T20:49:05.180035Z",
     "iopub.status.idle": "2021-02-03T20:49:05.184565Z",
     "shell.execute_reply": "2021-02-03T20:49:05.187896Z"
    }
   },
   "outputs": [],
   "source": [
    "plt.ion()"
   ]
  },
  {
   "cell_type": "code",
   "execution_count": 4,
   "metadata": {
    "execution": {
     "iopub.execute_input": "2021-02-03T20:49:05.194908Z",
     "iopub.status.busy": "2021-02-03T20:49:05.194115Z",
     "iopub.status.idle": "2021-02-03T20:49:05.199099Z",
     "shell.execute_reply": "2021-02-03T20:49:05.199845Z"
    }
   },
   "outputs": [],
   "source": [
    "def despine(ax=None):\n",
    "    if ax is None:\n",
    "        ax = plt.gca()\n",
    "    # Hide the right and top spines\n",
    "    ax.spines['right'].set_visible(False)\n",
    "    ax.spines['top'].set_visible(False)\n",
    "\n",
    "    # Only show ticks on the left and bottom spines\n",
    "    ax.yaxis.set_ticks_position('left')\n",
    "    ax.xaxis.set_ticks_position('bottom')"
   ]
  },
  {
   "cell_type": "markdown",
   "metadata": {},
   "source": [
    "\n",
    "## Introdução\n",
    "\n",
    "As estatísticas referem-se à matemática e técnicas com as quais entendemos os dados. É um campo rico e enorme, mais adequado a uma prateleira (ou sala) em uma biblioteca do que a uma aula de um curso. De qualquer forma, nosso curso de ICD tem um viés estatístico. Portanto, vamos iniciar do mais básico que é a sumarização de bases de dados com médias, medianas e desvios.\n",
    "\n",
    "## Descrevendo uma coluna bem comportada dados\n",
    "\n",
    "Vamos lembrar um pouco de histogramas e falar sobre CDF empírica. Para tal, vamos entender a duração das músicas sa Billboard. Na tabela abaixo, temos as músicas mais populares (semanalmente) de 2000 até 2018. Vamos focar apenas no id único (spotify id) das mesmas. Como algumas músicas ocorrem mais de uma vez, vamos também filtrar as duplicatas.\n",
    "\n",
    "**Sempre visualize seus dados**. Como primeira abordagem, plote seus dados. Duas ideias inicias: PDF e CDF!\n",
    "\n",
    "Observe que aqui indico um `na_values`, para falar de missing data (aula passada). Além do mais, faço um `dropna`."
   ]
  },
  {
   "cell_type": "markdown",
   "metadata": {},
   "source": [
    "#### Histogramas"
   ]
  },
  {
   "cell_type": "code",
   "execution_count": 5,
   "metadata": {
    "execution": {
     "iopub.execute_input": "2021-02-03T20:49:05.206984Z",
     "iopub.status.busy": "2021-02-03T20:49:05.206523Z",
     "iopub.status.idle": "2021-02-03T20:49:10.708712Z",
     "shell.execute_reply": "2021-02-03T20:49:10.709227Z"
    }
   },
   "outputs": [
    {
     "data": {
      "text/html": [
       "<div>\n",
       "<style scoped>\n",
       "    .dataframe tbody tr th:only-of-type {\n",
       "        vertical-align: middle;\n",
       "    }\n",
       "\n",
       "    .dataframe tbody tr th {\n",
       "        vertical-align: top;\n",
       "    }\n",
       "\n",
       "    .dataframe thead th {\n",
       "        text-align: right;\n",
       "    }\n",
       "</style>\n",
       "<table border=\"1\" class=\"dataframe\">\n",
       "  <thead>\n",
       "    <tr style=\"text-align: right;\">\n",
       "      <th></th>\n",
       "      <th>date</th>\n",
       "      <th>artist</th>\n",
       "      <th>title</th>\n",
       "      <th>duration_ms</th>\n",
       "      <th>spotify_id</th>\n",
       "      <th>lyrics</th>\n",
       "    </tr>\n",
       "  </thead>\n",
       "  <tbody>\n",
       "    <tr>\n",
       "      <th>1</th>\n",
       "      <td>6/21/18</td>\n",
       "      <td>Juice WRLD</td>\n",
       "      <td>All Girls Are The Same</td>\n",
       "      <td>165820.0</td>\n",
       "      <td>0XySogm94T51XF5F2jumXm</td>\n",
       "      <td>They're rotting my brain, love\\nThese hoes are...</td>\n",
       "    </tr>\n",
       "    <tr>\n",
       "      <th>2</th>\n",
       "      <td>6/21/18</td>\n",
       "      <td>Kanye West</td>\n",
       "      <td>All Mine</td>\n",
       "      <td>145507.0</td>\n",
       "      <td>3qnoOm4fwZPBS116f5hpgF</td>\n",
       "      <td>Yeah, you supermodel thick\\nDamn, that ass bus...</td>\n",
       "    </tr>\n",
       "    <tr>\n",
       "      <th>5</th>\n",
       "      <td>6/21/18</td>\n",
       "      <td>Selena Gomez</td>\n",
       "      <td>Back To You</td>\n",
       "      <td>207905.0</td>\n",
       "      <td>4hQ6UGyWQIGJmHSo0J88JW</td>\n",
       "      <td>Took you like a shot\\nThought that I could cha...</td>\n",
       "    </tr>\n",
       "    <tr>\n",
       "      <th>7</th>\n",
       "      <td>6/21/18</td>\n",
       "      <td>Cardi B</td>\n",
       "      <td>Be Careful</td>\n",
       "      <td>210787.0</td>\n",
       "      <td>2Yl4OmDby9iitgNWZPwxkd</td>\n",
       "      <td>Yeah\\nBe careful, be careful, be careful with ...</td>\n",
       "    </tr>\n",
       "    <tr>\n",
       "      <th>8</th>\n",
       "      <td>6/21/18</td>\n",
       "      <td>Luke Combs</td>\n",
       "      <td>Beautiful Crazy</td>\n",
       "      <td>193200.0</td>\n",
       "      <td>4Qx06Fzsepmdz2NGSWfZck</td>\n",
       "      <td>Her day starts with a coffee\\nAnd ends with a ...</td>\n",
       "    </tr>\n",
       "  </tbody>\n",
       "</table>\n",
       "</div>"
      ],
      "text/plain": [
       "      date        artist                   title  duration_ms  \\\n",
       "1  6/21/18    Juice WRLD  All Girls Are The Same     165820.0   \n",
       "2  6/21/18    Kanye West                All Mine     145507.0   \n",
       "5  6/21/18  Selena Gomez             Back To You     207905.0   \n",
       "7  6/21/18       Cardi B              Be Careful     210787.0   \n",
       "8  6/21/18    Luke Combs         Beautiful Crazy     193200.0   \n",
       "\n",
       "               spotify_id                                             lyrics  \n",
       "1  0XySogm94T51XF5F2jumXm  They're rotting my brain, love\\nThese hoes are...  \n",
       "2  3qnoOm4fwZPBS116f5hpgF  Yeah, you supermodel thick\\nDamn, that ass bus...  \n",
       "5  4hQ6UGyWQIGJmHSo0J88JW  Took you like a shot\\nThought that I could cha...  \n",
       "7  2Yl4OmDby9iitgNWZPwxkd  Yeah\\nBe careful, be careful, be careful with ...  \n",
       "8  4Qx06Fzsepmdz2NGSWfZck  Her day starts with a coffee\\nAnd ends with a ...  "
      ]
     },
     "execution_count": 1,
     "metadata": {},
     "output_type": "execute_result"
    }
   ],
   "source": [
    "# 1. Lendo os dados.\n",
    "df = pd.read_csv('https://media.githubusercontent.com/media/icd-ufmg/material/master/aulas/05-Tendencias-Centrais/billboard_2000_2018_spotify_lyrics.csv',\n",
    "                 encoding='iso-8859-1', na_values='unknown')\n",
    "# 2. Removendo na\n",
    "df = df[['date', 'artist', 'title', 'duration_ms', 'spotify_id', 'lyrics']]\n",
    "df = df.dropna()\n",
    "df.head()"
   ]
  },
  {
   "cell_type": "markdown",
   "metadata": {},
   "source": [
    "Vamos observar quantas músicas temos!"
   ]
  },
  {
   "cell_type": "code",
   "execution_count": 6,
   "metadata": {
    "execution": {
     "iopub.execute_input": "2021-02-03T20:49:10.715376Z",
     "iopub.status.busy": "2021-02-03T20:49:10.714546Z",
     "iopub.status.idle": "2021-02-03T20:49:10.717694Z",
     "shell.execute_reply": "2021-02-03T20:49:10.718503Z"
    }
   },
   "outputs": [
    {
     "data": {
      "text/plain": [
       "(7193,)"
      ]
     },
     "execution_count": 1,
     "metadata": {},
     "output_type": "execute_result"
    }
   ],
   "source": [
    "dur = df['duration_ms']\n",
    "dur.shape"
   ]
  },
  {
   "cell_type": "markdown",
   "metadata": {},
   "source": [
    "Remover duplicatas, uma músicas pode aparecer mais de uma vez na base!"
   ]
  },
  {
   "cell_type": "code",
   "execution_count": 7,
   "metadata": {
    "execution": {
     "iopub.execute_input": "2021-02-03T20:49:10.722680Z",
     "iopub.status.busy": "2021-02-03T20:49:10.722166Z",
     "iopub.status.idle": "2021-02-03T20:49:10.730169Z",
     "shell.execute_reply": "2021-02-03T20:49:10.729771Z"
    }
   },
   "outputs": [
    {
     "data": {
      "text/plain": [
       "(5387,)"
      ]
     },
     "execution_count": 1,
     "metadata": {},
     "output_type": "execute_result"
    }
   ],
   "source": [
    "dur = dur.drop_duplicates()\n",
    "dur.shape"
   ]
  },
  {
   "cell_type": "markdown",
   "metadata": {},
   "source": [
    "Converter a duração para minutos."
   ]
  },
  {
   "cell_type": "code",
   "execution_count": 8,
   "metadata": {
    "execution": {
     "iopub.execute_input": "2021-02-03T20:49:10.735553Z",
     "iopub.status.busy": "2021-02-03T20:49:10.735071Z",
     "iopub.status.idle": "2021-02-03T20:49:10.738537Z",
     "shell.execute_reply": "2021-02-03T20:49:10.739261Z"
    }
   },
   "outputs": [],
   "source": [
    "data = dur / (1000 * 60)"
   ]
  },
  {
   "cell_type": "markdown",
   "metadata": {},
   "source": [
    "Agora, o histograma!!!"
   ]
  },
  {
   "cell_type": "code",
   "execution_count": 9,
   "metadata": {
    "execution": {
     "iopub.execute_input": "2021-02-03T20:49:10.761444Z",
     "iopub.status.busy": "2021-02-03T20:49:10.752639Z",
     "iopub.status.idle": "2021-02-03T20:49:11.086744Z",
     "shell.execute_reply": "2021-02-03T20:49:11.086005Z"
    }
   },
   "outputs": [
    {
     "data": {
      "image/png": "[encoded data removed]",
      "text/plain": [
       "<Figure size 1152x720 with 1 Axes>"
      ]
     },
     "metadata": {
      "needs_background": "light"
     },
     "output_type": "display_data"
    }
   ],
   "source": [
    "plt.hist(data, bins=20, edgecolor='k')\n",
    "plt.xlabel('Duração em minutos')\n",
    "plt.ylabel('Frequência.')\n",
    "despine(plt.gca())\n",
    "plt.show()"
   ]
  },
  {
   "cell_type": "markdown",
   "metadata": {},
   "source": [
    "#### CDFs"
   ]
  },
  {
   "cell_type": "markdown",
   "metadata": {},
   "source": [
    "Vamos fazer um código simples para montar uma CDF. A função de nome CDF (em inglês de Cumulative Distribution Function) é igual à probabilidade de que a variável aleatória X assuma um valor inferior ou igual a determinado x. Note que, via de regra, para cada x, a função CDF assumirá um valor diferente. Para estimar uma CDF de forma empírica, realizamos os seguintes passos:\n",
    "\n",
    "1. Ordene os dados `x = np.sort(data)`\n",
    "1. Conte quantos pontos menor do que `x[i]` existem para cada `i`\n",
    "    1. Para isto, vamos montar um vetor `y = np.arange(len(data))`. y é um contagem cumulativa.\n",
    "    1. Note que y conta quantos pontos existe até um ponto i, i.e., `y[i] = #pts < x[i]`.\n",
    "1. Normalize `y`"
   ]
  },
  {
   "cell_type": "code",
   "execution_count": 10,
   "metadata": {
    "execution": {
     "iopub.execute_input": "2021-02-03T20:49:11.098255Z",
     "iopub.status.busy": "2021-02-03T20:49:11.097463Z",
     "iopub.status.idle": "2021-02-03T20:49:11.101976Z",
     "shell.execute_reply": "2021-02-03T20:49:11.102656Z"
    }
   },
   "outputs": [],
   "source": [
    "def ecdf(data):\n",
    "    x = np.sort(data)\n",
    "    count = np.arange(len(data))\n",
    "    y = count.cumsum()\n",
    "    y = y / y.max()\n",
    "    return x, y"
   ]
  },
  {
   "cell_type": "code",
   "execution_count": 11,
   "metadata": {
    "execution": {
     "iopub.execute_input": "2021-02-03T20:49:11.108665Z",
     "iopub.status.busy": "2021-02-03T20:49:11.107846Z",
     "iopub.status.idle": "2021-02-03T20:49:11.646709Z",
     "shell.execute_reply": "2021-02-03T20:49:11.647231Z"
    }
   },
   "outputs": [
    {
     "data": {
      "image/png": "[encoded data removed]",
      "text/plain": [
       "<Figure size 1152x720 with 1 Axes>"
      ]
     },
     "metadata": {
      "needs_background": "light"
     },
     "output_type": "display_data"
    }
   ],
   "source": [
    "x, y = ecdf(data)\n",
    "plt.plot(x, y)\n",
    "plt.xlabel('Duração em minutos')\n",
    "plt.ylabel('$P(X \\leq x)$')\n",
    "despine()\n",
    "plt.show()"
   ]
  },
  {
   "cell_type": "markdown",
   "metadata": {},
   "source": [
    "A biblioteca **statsmodels** tem a mesma função. É o maior import que faço na minha vida."
   ]
  },
  {
   "cell_type": "code",
   "execution_count": 12,
   "metadata": {
    "execution": {
     "iopub.execute_input": "2021-02-03T20:49:11.654982Z",
     "iopub.status.busy": "2021-02-03T20:49:11.654504Z",
     "iopub.status.idle": "2021-02-03T20:49:12.222566Z",
     "shell.execute_reply": "2021-02-03T20:49:12.221992Z"
    }
   },
   "outputs": [
    {
     "data": {
      "image/png": "[encoded data removed]",
      "text/plain": [
       "<Figure size 1152x720 with 1 Axes>"
      ]
     },
     "metadata": {
      "needs_background": "light"
     },
     "output_type": "display_data"
    }
   ],
   "source": [
    "from statsmodels.distributions.empirical_distribution import ECDF\n",
    "ecdf = ECDF(data)\n",
    "x = ecdf.x\n",
    "y = ecdf.y\n",
    "plt.plot(x, y)\n",
    "plt.xlabel('Duração em minutos')\n",
    "plt.ylabel('$P(X \\leq x)$')\n",
    "despine()\n",
    "plt.show()"
   ]
  },
  {
   "cell_type": "markdown",
   "metadata": {},
   "source": [
    "## Tendências Centrais\n",
    "\n",
    "Agora, vamos sumarizar os dados das músicas. Uma descrição óbvia de qualquer conjunto $x_1, x_2, ..., x_n$ de dados é simplesmente os dados em si:"
   ]
  },
  {
   "cell_type": "code",
   "execution_count": 13,
   "metadata": {
    "execution": {
     "iopub.execute_input": "2021-02-03T20:49:12.229696Z",
     "iopub.status.busy": "2021-02-03T20:49:12.228983Z",
     "iopub.status.idle": "2021-02-03T20:49:12.231996Z",
     "shell.execute_reply": "2021-02-03T20:49:12.232704Z"
    }
   },
   "outputs": [
    {
     "data": {
      "text/plain": [
       "1    2.763667\n",
       "2    2.425117\n",
       "5    3.465083\n",
       "7    3.513117\n",
       "8    3.220000\n",
       "Name: duration_ms, dtype: float64"
      ]
     },
     "execution_count": 1,
     "metadata": {},
     "output_type": "execute_result"
    }
   ],
   "source": [
    "data.head()"
   ]
  },
  {
   "cell_type": "markdown",
   "metadata": {},
   "source": [
    "Para um conjunto de dados pequeno o suficiente, isso pode até ser a melhor descrição. Mas, para um conjunto de dados maior, isso é difícil e provavelmente opaco (temos alguns milhares de números). Por esse motivo, usamos estatísticas para destilar e comunicar características relevantes dos nossos dados."
   ]
  },
  {
   "cell_type": "markdown",
   "metadata": {},
   "source": [
    "Infelizmente, este gráfico ainda é muito difícil de explicar em conversas informais. Então você pode começar a gerar algumas estatísticas. Provavelmente, a estatística mais simples é o número de pontos de dados:"
   ]
  },
  {
   "cell_type": "code",
   "execution_count": 14,
   "metadata": {
    "execution": {
     "iopub.execute_input": "2021-02-03T20:49:12.237627Z",
     "iopub.status.busy": "2021-02-03T20:49:12.236898Z",
     "iopub.status.idle": "2021-02-03T20:49:12.239380Z",
     "shell.execute_reply": "2021-02-03T20:49:12.240067Z"
    }
   },
   "outputs": [
    {
     "name": "stdout",
     "output_type": "stream",
     "text": [
      "numero de pontos: 5387\n"
     ]
    }
   ],
   "source": [
    "num_points = len(data)\n",
    "print(\"numero de pontos:\", num_points)"
   ]
  },
  {
   "cell_type": "markdown",
   "metadata": {},
   "source": [
    "Um vetor numpy tem diferentes atributos para pegar a dimensão."
   ]
  },
  {
   "cell_type": "code",
   "execution_count": 15,
   "metadata": {
    "execution": {
     "iopub.execute_input": "2021-02-03T20:49:12.245621Z",
     "iopub.status.busy": "2021-02-03T20:49:12.244930Z",
     "iopub.status.idle": "2021-02-03T20:49:12.247410Z",
     "shell.execute_reply": "2021-02-03T20:49:12.248139Z"
    }
   },
   "outputs": [
    {
     "data": {
      "text/plain": [
       "5387"
      ]
     },
     "execution_count": 1,
     "metadata": {},
     "output_type": "execute_result"
    }
   ],
   "source": [
    "data.size"
   ]
  },
  {
   "cell_type": "code",
   "execution_count": 16,
   "metadata": {
    "execution": {
     "iopub.execute_input": "2021-02-03T20:49:12.253029Z",
     "iopub.status.busy": "2021-02-03T20:49:12.252305Z",
     "iopub.status.idle": "2021-02-03T20:49:12.255927Z",
     "shell.execute_reply": "2021-02-03T20:49:12.256625Z"
    }
   },
   "outputs": [
    {
     "data": {
      "text/plain": [
       "(5387,)"
      ]
     },
     "execution_count": 1,
     "metadata": {},
     "output_type": "execute_result"
    }
   ],
   "source": [
    "# Shape indica o tamanho para cada dimensão, em uma matriz teríamos dois valores.\n",
    "data.shape "
   ]
  },
  {
   "cell_type": "code",
   "execution_count": 17,
   "metadata": {
    "execution": {
     "iopub.execute_input": "2021-02-03T20:49:12.260392Z",
     "iopub.status.busy": "2021-02-03T20:49:12.259753Z",
     "iopub.status.idle": "2021-02-03T20:49:12.262828Z",
     "shell.execute_reply": "2021-02-03T20:49:12.263412Z"
    }
   },
   "outputs": [
    {
     "data": {
      "text/plain": [
       "(7193, 6)"
      ]
     },
     "execution_count": 1,
     "metadata": {},
     "output_type": "execute_result"
    }
   ],
   "source": [
    "# note como os dados originais tem 5 colunas\n",
    "df.shape"
   ]
  },
  {
   "cell_type": "markdown",
   "metadata": {},
   "source": [
    "Você provavelmente também está interessado no maior e menor valor:"
   ]
  },
  {
   "cell_type": "code",
   "execution_count": 18,
   "metadata": {
    "execution": {
     "iopub.execute_input": "2021-02-03T20:49:12.268330Z",
     "iopub.status.busy": "2021-02-03T20:49:12.267744Z",
     "iopub.status.idle": "2021-02-03T20:49:12.270709Z",
     "shell.execute_reply": "2021-02-03T20:49:12.271270Z"
    }
   },
   "outputs": [
    {
     "name": "stdout",
     "output_type": "stream",
     "text": [
      "maximo:  12.026333333333334 \n",
      "minimo:  0.6177833333333334\n"
     ]
    }
   ],
   "source": [
    "largest_value = max(data) \n",
    "smallest_value = min(data)\n",
    "print(\"maximo: \", largest_value, \"\\nminimo: \", smallest_value)"
   ]
  },
  {
   "cell_type": "markdown",
   "metadata": {},
   "source": [
    "Ou, usando numpy / pandas"
   ]
  },
  {
   "cell_type": "code",
   "execution_count": 19,
   "metadata": {
    "execution": {
     "iopub.execute_input": "2021-02-03T20:49:12.274964Z",
     "iopub.status.busy": "2021-02-03T20:49:12.274298Z",
     "iopub.status.idle": "2021-02-03T20:49:12.277870Z",
     "shell.execute_reply": "2021-02-03T20:49:12.278368Z"
    }
   },
   "outputs": [
    {
     "data": {
      "text/plain": [
       "12.026333333333334"
      ]
     },
     "execution_count": 1,
     "metadata": {},
     "output_type": "execute_result"
    }
   ],
   "source": [
    "data.max()"
   ]
  },
  {
   "cell_type": "code",
   "execution_count": 20,
   "metadata": {
    "execution": {
     "iopub.execute_input": "2021-02-03T20:49:12.283172Z",
     "iopub.status.busy": "2021-02-03T20:49:12.282529Z",
     "iopub.status.idle": "2021-02-03T20:49:12.285889Z",
     "shell.execute_reply": "2021-02-03T20:49:12.286372Z"
    }
   },
   "outputs": [
    {
     "data": {
      "text/plain": [
       "0.6177833333333334"
      ]
     },
     "execution_count": 1,
     "metadata": {},
     "output_type": "execute_result"
    }
   ],
   "source": [
    "data.min()"
   ]
  },
  {
   "cell_type": "code",
   "execution_count": 21,
   "metadata": {
    "execution": {
     "iopub.execute_input": "2021-02-03T20:49:12.290577Z",
     "iopub.status.busy": "2021-02-03T20:49:12.289807Z",
     "iopub.status.idle": "2021-02-03T20:49:12.292687Z",
     "shell.execute_reply": "2021-02-03T20:49:12.293434Z"
    }
   },
   "outputs": [
    {
     "data": {
      "text/plain": [
       "0.6177833333333334"
      ]
     },
     "execution_count": 1,
     "metadata": {},
     "output_type": "execute_result"
    }
   ],
   "source": [
    "np.min(data)"
   ]
  },
  {
   "cell_type": "markdown",
   "metadata": {},
   "source": [
    "Esses são apenas casos especiais quando queremos saber os valores em posições específicas:"
   ]
  },
  {
   "cell_type": "code",
   "execution_count": 22,
   "metadata": {
    "execution": {
     "iopub.execute_input": "2021-02-03T20:49:12.297931Z",
     "iopub.status.busy": "2021-02-03T20:49:12.297177Z",
     "iopub.status.idle": "2021-02-03T20:49:12.300514Z",
     "shell.execute_reply": "2021-02-03T20:49:12.301223Z"
    }
   },
   "outputs": [
    {
     "name": "stdout",
     "output_type": "stream",
     "text": [
      "menor valor:  0.6177833333333334\n",
      "segundo menor valor:  0.75\n",
      "segundo maior valor:  11.474216666666667\n"
     ]
    }
   ],
   "source": [
    "sorted_values = np.sort(data)\n",
    "smallest_value = sorted_values[0] \n",
    "second_smallest_value = sorted_values[1] \n",
    "second_largest_value = sorted_values[-2] \n",
    "print(\"menor valor: \", smallest_value)\n",
    "print(\"segundo menor valor: \", second_smallest_value)\n",
    "print(\"segundo maior valor: \", second_largest_value)"
   ]
  },
  {
   "cell_type": "markdown",
   "metadata": {},
   "source": [
    "Olhando os top 20 valores"
   ]
  },
  {
   "cell_type": "code",
   "execution_count": 23,
   "metadata": {
    "execution": {
     "iopub.execute_input": "2021-02-03T20:49:12.305689Z",
     "iopub.status.busy": "2021-02-03T20:49:12.304965Z",
     "iopub.status.idle": "2021-02-03T20:49:12.307441Z",
     "shell.execute_reply": "2021-02-03T20:49:12.308116Z"
    }
   },
   "outputs": [
    {
     "data": {
      "text/plain": [
       "array([ 7.45733333,  7.46821667,  7.47621667,  7.5608    ,  7.67621667,\n",
       "        7.69736667,  7.93778333,  8.03933333,  8.06911667,  8.22333333,\n",
       "        8.38181667,  8.42955   ,  8.67978333,  8.83755   ,  8.93333333,\n",
       "        9.12888333,  9.36      ,  9.96555   , 11.47421667, 12.02633333])"
      ]
     },
     "execution_count": 1,
     "metadata": {},
     "output_type": "execute_result"
    }
   ],
   "source": [
    "sorted_values[-20:]"
   ]
  },
  {
   "cell_type": "markdown",
   "metadata": {},
   "source": [
    "### Média\n",
    "\n",
    "Normalmente, queremos saber onde nossos dados estão centralizados. Para chegar em tal resultado, usamos a média (a soma dos dados dividida pelo número de elementos. A mesma está definida abaixo."
   ]
  },
  {
   "cell_type": "markdown",
   "metadata": {},
   "source": [
    "$${\\bar {x}}={\\frac {1}{n}}\\left(\\sum _{i=1}^{n}{x_{i}}\\right)={\\frac {x_{1}+x_{2}+\\cdots +x_{n}}{n}}$$ "
   ]
  },
  {
   "cell_type": "markdown",
   "metadata": {},
   "source": [
    "Um código simples para o cálculo da média seria:"
   ]
  },
  {
   "cell_type": "code",
   "execution_count": 24,
   "metadata": {
    "execution": {
     "iopub.execute_input": "2021-02-03T20:49:12.312693Z",
     "iopub.status.busy": "2021-02-03T20:49:12.312138Z",
     "iopub.status.idle": "2021-02-03T20:49:12.314835Z",
     "shell.execute_reply": "2021-02-03T20:49:12.315291Z"
    }
   },
   "outputs": [
    {
     "name": "stdout",
     "output_type": "stream",
     "text": [
      "media:  3.8836518470391788\n"
     ]
    }
   ],
   "source": [
    "def mean(x):\n",
    "    return sum(x) / len(x)\n",
    "\n",
    "print(\"media: \", mean(data))"
   ]
  },
  {
   "cell_type": "markdown",
   "metadata": {},
   "source": [
    "Ou de forma equivalente, podemos usar x.mean() caso x seja um vetor `numpy`."
   ]
  },
  {
   "cell_type": "code",
   "execution_count": 25,
   "metadata": {
    "execution": {
     "iopub.execute_input": "2021-02-03T20:49:12.319390Z",
     "iopub.status.busy": "2021-02-03T20:49:12.318481Z",
     "iopub.status.idle": "2021-02-03T20:49:12.321984Z",
     "shell.execute_reply": "2021-02-03T20:49:12.322708Z"
    }
   },
   "outputs": [
    {
     "data": {
      "text/plain": [
       "3.883651847039168"
      ]
     },
     "execution_count": 1,
     "metadata": {},
     "output_type": "execute_result"
    }
   ],
   "source": [
    "data.mean()"
   ]
  },
  {
   "cell_type": "markdown",
   "metadata": {},
   "source": [
    "Ou ainda"
   ]
  },
  {
   "cell_type": "code",
   "execution_count": 26,
   "metadata": {
    "execution": {
     "iopub.execute_input": "2021-02-03T20:49:12.326638Z",
     "iopub.status.busy": "2021-02-03T20:49:12.325881Z",
     "iopub.status.idle": "2021-02-03T20:49:12.328884Z",
     "shell.execute_reply": "2021-02-03T20:49:12.329356Z"
    }
   },
   "outputs": [
    {
     "data": {
      "text/plain": [
       "3.883651847039168"
      ]
     },
     "execution_count": 1,
     "metadata": {},
     "output_type": "execute_result"
    }
   ],
   "source": [
    "np.mean(data)"
   ]
  },
  {
   "cell_type": "code",
   "execution_count": 27,
   "metadata": {
    "execution": {
     "iopub.execute_input": "2021-02-03T20:49:12.352348Z",
     "iopub.status.busy": "2021-02-03T20:49:12.349693Z",
     "iopub.status.idle": "2021-02-03T20:49:12.554410Z",
     "shell.execute_reply": "2021-02-03T20:49:12.554891Z"
    }
   },
   "outputs": [
    {
     "data": {
      "image/png": "[encoded data removed]",
      "text/plain": [
       "<Figure size 1152x720 with 1 Axes>"
      ]
     },
     "metadata": {
      "needs_background": "light"
     },
     "output_type": "display_data"
    }
   ],
   "source": [
    "plt.hist(data, bins=20, label='PDF', edgecolor='k')\n",
    "plt.vlines(data.mean(), 0, 1900, label='Mean', edgecolor='k')\n",
    "plt.xlabel('Duração em minutos')\n",
    "plt.ylabel('P(X = x)')\n",
    "plt.legend()\n",
    "despine()\n",
    "plt.show()"
   ]
  },
  {
   "cell_type": "markdown",
   "metadata": {},
   "source": [
    "### Mediana\n",
    "\n",
    "Se você tiver dois pontos de dados (ou *data points*), a média é simplesmente o ponto intermediário entre eles. À medida que você adiciona mais pontos, a média muda, mas sempre depende do valor de cada ponto.\n",
    "\n",
    "Às vezes, também estaremos interessados na mediana, que é o valor intermediário (se o número de pontos de dados for ímpar) ou a média dos dois valores intermediários (se o número de pontos de dados for par).\n",
    "\n",
    "Por exemplo, se temos cinco pontos de dados em um vetor ordenado `x`, a mediana é `x[5 // 2]`  ou `x[2]`. Se tivermos seis pontos de dados, calculamos a média entre `x[2]` (o terceiro ponto) e `x[3]` (o quarto ponto).\n",
    "\n",
    "Observe que, ao contrário da média, a mediana não depende de todos os valores dos seus dados. Por exemplo, se você tornar o maior ponto maior (ou o menor ponto menor), os pontos do meio permanecem inalterados, o que significa que a mediana também.\n",
    "\n",
    "A função mediana é um pouco mais complicada do que você poderia esperar, principalmente por causa do caso \"par\":"
   ]
  },
  {
   "cell_type": "code",
   "execution_count": 28,
   "metadata": {
    "execution": {
     "iopub.execute_input": "2021-02-03T20:49:12.560643Z",
     "iopub.status.busy": "2021-02-03T20:49:12.560171Z",
     "iopub.status.idle": "2021-02-03T20:49:12.563396Z",
     "shell.execute_reply": "2021-02-03T20:49:12.564089Z"
    }
   },
   "outputs": [],
   "source": [
    "def median(v):\n",
    "    \"\"\"encontra o valor mais intermediario de v\"\"\"\n",
    "    n = len(v)\n",
    "    sorted_v = list(sorted(v))\n",
    "    midpoint = n // 2 # // eh a divisao inteira\n",
    "    \n",
    "    if n % 2 == 1:\n",
    "        # se impar, retorna o valor do meio\n",
    "        return sorted_v[midpoint]\n",
    "    else:\n",
    "        # se par, retorna a media dos dois valores intermediarios\n",
    "        lo = midpoint - 1\n",
    "        hi = midpoint\n",
    "        return (sorted_v[lo] + sorted_v[hi]) / 2"
   ]
  },
  {
   "cell_type": "code",
   "execution_count": 29,
   "metadata": {
    "execution": {
     "iopub.execute_input": "2021-02-03T20:49:12.568300Z",
     "iopub.status.busy": "2021-02-03T20:49:12.567604Z",
     "iopub.status.idle": "2021-02-03T20:49:12.570842Z",
     "shell.execute_reply": "2021-02-03T20:49:12.571561Z"
    }
   },
   "outputs": [],
   "source": [
    "def median_v2(v):\n",
    "    n = len(v)\n",
    "    sorted_v = sorted(v)\n",
    "    return (sorted_v[math.floor((n-1)/2)] + sorted_v[math.ceil((n-1)/2)])/2"
   ]
  },
  {
   "cell_type": "code",
   "execution_count": 30,
   "metadata": {
    "execution": {
     "iopub.execute_input": "2021-02-03T20:49:12.577689Z",
     "iopub.status.busy": "2021-02-03T20:49:12.576920Z",
     "iopub.status.idle": "2021-02-03T20:49:12.579370Z",
     "shell.execute_reply": "2021-02-03T20:49:12.580067Z"
    }
   },
   "outputs": [
    {
     "name": "stdout",
     "output_type": "stream",
     "text": [
      "mediana de a =  2.5\n",
      "mediana de b =  7\n",
      "mediana da duração das músicas: 3.79545\n"
     ]
    }
   ],
   "source": [
    "a = [1, 2, 3, 4]\n",
    "b = [5, 6, 7, 8, 9]\n",
    "print(\"mediana de a = \", median(a))\n",
    "print(\"mediana de b = \", median(b))\n",
    "\n",
    "print(\"mediana da duração das músicas:\", median(data))"
   ]
  },
  {
   "cell_type": "markdown",
   "metadata": {},
   "source": [
    "Novamente, no âmbito da matéria é esperado que você entenda os códigos acima. Existem forma de encontrar medianas até mais rápido, usando o algoritmo quickselect. Na prática, podemos fazer uso do `median` do numpy."
   ]
  },
  {
   "cell_type": "code",
   "execution_count": 31,
   "metadata": {
    "execution": {
     "iopub.execute_input": "2021-02-03T20:49:12.583998Z",
     "iopub.status.busy": "2021-02-03T20:49:12.583398Z",
     "iopub.status.idle": "2021-02-03T20:49:12.586223Z",
     "shell.execute_reply": "2021-02-03T20:49:12.586692Z"
    }
   },
   "outputs": [
    {
     "data": {
      "text/plain": [
       "2.5"
      ]
     },
     "execution_count": 1,
     "metadata": {},
     "output_type": "execute_result"
    }
   ],
   "source": [
    "np.median(a)"
   ]
  },
  {
   "cell_type": "code",
   "execution_count": 32,
   "metadata": {
    "execution": {
     "iopub.execute_input": "2021-02-03T20:49:12.611257Z",
     "iopub.status.busy": "2021-02-03T20:49:12.610237Z",
     "iopub.status.idle": "2021-02-03T20:49:12.806267Z",
     "shell.execute_reply": "2021-02-03T20:49:12.806934Z"
    }
   },
   "outputs": [
    {
     "data": {
      "image/png": "[encoded data removed]",
      "text/plain": [
       "<Figure size 1152x720 with 1 Axes>"
      ]
     },
     "metadata": {
      "needs_background": "light"
     },
     "output_type": "display_data"
    }
   ],
   "source": [
    "plt.hist(data, bins=20, label='Freq.', edgecolor='k')\n",
    "plt.vlines(data.mean(), 0, 1900, label='Mean', edgecolor='k')\n",
    "plt.vlines(data.median(), 0, 1900, linestyles='--', label='Median', color='red')\n",
    "plt.xlabel('Duração em minutos')\n",
    "plt.ylabel('Freq')\n",
    "plt.legend()\n",
    "despine()\n",
    "plt.show()"
   ]
  },
  {
   "cell_type": "markdown",
   "metadata": {},
   "source": [
    "### Boxplot\n",
    "\n",
    "Vamos agora observar o boxplot das durações. Um boxplot representa a variação de dados observados de uma variável numérica por meio de quartis.\n",
    "\n",
    "1. primeiro quartil (designado por Q1/4) = quartil inferior = é o valor aos 25% da amostra ordenada = 25º percentil\n",
    "1. segundo quartil (designado por Q2/4) = mediana = é o valor até ao qual se encontra 50% da amostra ordenada = 50º percentil, ou 5º decil.\n",
    "1. terceiro quartil (designado por Q3/4) = quartil superior = valor a partir do qual se encontram 25% dos valores mais elevados = valor aos 75% da amostra ordenada = 75º percentil"
   ]
  },
  {
   "cell_type": "code",
   "execution_count": 33,
   "metadata": {
    "execution": {
     "iopub.execute_input": "2021-02-03T20:49:12.822104Z",
     "iopub.status.busy": "2021-02-03T20:49:12.821345Z",
     "iopub.status.idle": "2021-02-03T20:49:12.894643Z",
     "shell.execute_reply": "2021-02-03T20:49:12.895310Z"
    }
   },
   "outputs": [
    {
     "name": "stderr",
     "output_type": "stream",
     "text": [
      "<ipython-input-1-61fb73fbad47>:4: UserWarning: FixedFormatter should only be used together with FixedLocator\n",
      "  ax.set_yticklabels(['Duração'])\n"
     ]
    },
    {
     "data": {
      "image/png": "[encoded data removed]",
      "text/plain": [
       "<Figure size 1152x720 with 1 Axes>"
      ]
     },
     "metadata": {
      "needs_background": "light"
     },
     "output_type": "display_data"
    }
   ],
   "source": [
    "# com whis=[5, 95] eu mostro P(X < x) = 5% e P(X > x) = 95%\n",
    "plt.boxplot([data], sym='', vert=True, whis=[5, 95])\n",
    "ax = plt.gca()\n",
    "ax.set_yticklabels(['Duração'])\n",
    "plt.show()"
   ]
  },
  {
   "cell_type": "markdown",
   "metadata": {},
   "source": [
    "Claramente, a média é mais simples de calcular e varia suavemente conforme nossos dados são alterados. Se tivermos `n` pontos de dados e um deles aumentar em alguma quantidade pequena `e`, então necessariamente a média aumentará em `e/n`. (Isso torna a média passível de todo tipo de truque de cálculo.) No entanto, para encontrar a mediana, temos que ordenar nossos dados. E alterar um dos nossos pontos de dados em uma pequena quantidade `e` pode aumentar a mediana por `e`, por algum número menor que `e` ou não a modificar de qualquer forma (dependendo do resto dos dados).\n",
    "\n",
    "**Observação:** Existem, de fato, truques não óbvios para calcular eficientemente medianas sem ordenar os dados. No entanto, tais truques estão além do escopo deste curso, portanto, vamos ordernar os dados quando precisarmos calcular a mediana.\n",
    "\n",
    "Ao mesmo tempo, a média é muito sensível a valores discrepantes (*outliers*) em nossos dados. Se a música mais longa fosse de mais de 1h (https://www.youtube.com/watch?v=10SnNfxjAI8), a média seria afetada. Em contraprtida, a mediana permaneceria a mesma. Se os valores discrepantes forem, provavelmente, dados incorretos (ou, de outro modo, não representativos de qualquer fenômeno que estamos tentando entender), a média poderá, às vezes, nos fornecer uma imagem enganosa. Por exemplo, a história é frequentemente contada que em meados da década de 1980, a graduação da Universidade da Carolina do Norte com a maior média de salário inicial era a geografia. A razão disso? A estrela da NBA (e *outlier*) Michael Jordan formou-se em geografia."
   ]
  },
  {
   "cell_type": "code",
   "execution_count": 34,
   "metadata": {
    "execution": {
     "iopub.execute_input": "2021-02-03T20:49:12.900049Z",
     "iopub.status.busy": "2021-02-03T20:49:12.899277Z",
     "iopub.status.idle": "2021-02-03T20:49:12.902465Z",
     "shell.execute_reply": "2021-02-03T20:49:12.903166Z"
    }
   },
   "outputs": [
    {
     "name": "stdout",
     "output_type": "stream",
     "text": [
      "3.883651847039168 5.738721696362286\n"
     ]
    }
   ],
   "source": [
    "data_new = data.copy()\n",
    "# Vamos supor uma música gigantesca!\n",
    "data_new = data_new.append(pd.Series([9999]))\n",
    "print(data.mean(), data_new.mean())"
   ]
  },
  {
   "cell_type": "markdown",
   "metadata": {},
   "source": [
    "Observe como a mediana se mantém!"
   ]
  },
  {
   "cell_type": "code",
   "execution_count": 35,
   "metadata": {
    "execution": {
     "iopub.execute_input": "2021-02-03T20:49:12.907342Z",
     "iopub.status.busy": "2021-02-03T20:49:12.906576Z",
     "iopub.status.idle": "2021-02-03T20:49:12.909510Z",
     "shell.execute_reply": "2021-02-03T20:49:12.910217Z"
    }
   },
   "outputs": [
    {
     "name": "stdout",
     "output_type": "stream",
     "text": [
      "3.79545 3.7955\n"
     ]
    }
   ],
   "source": [
    "print(data.median(), data_new.median())"
   ]
  },
  {
   "cell_type": "markdown",
   "metadata": {},
   "source": [
    "Uma generalização da mediana é o quantil, que representa o menor valor maior que um certo percentual dos dados (A mediana representa o valor maior que 50% dos dados.)"
   ]
  },
  {
   "cell_type": "code",
   "execution_count": 36,
   "metadata": {
    "execution": {
     "iopub.execute_input": "2021-02-03T20:49:12.920077Z",
     "iopub.status.busy": "2021-02-03T20:49:12.919315Z",
     "iopub.status.idle": "2021-02-03T20:49:12.921765Z",
     "shell.execute_reply": "2021-02-03T20:49:12.922465Z"
    }
   },
   "outputs": [
    {
     "name": "stdout",
     "output_type": "stream",
     "text": [
      "quantil 10:  3.0353333333333334\n",
      "quantil 25:  3.38755\n",
      "quantil 75:  4.283333333333333\n",
      "quantil 90:  4.819333333333334\n"
     ]
    }
   ],
   "source": [
    "def quantile(x, p):\n",
    "    \"\"\"retorna o pth-percentil em x\"\"\"\n",
    "    p_index = int(p * len(x))\n",
    "    return sorted(x)[p_index]\n",
    "\n",
    "\n",
    "print(\"quantil 10: \", quantile(data, 0.10))\n",
    "print(\"quantil 25: \", quantile(data,0.25))\n",
    "print(\"quantil 75: \", quantile(data,0.75))\n",
    "print(\"quantil 90: \", quantile(data,0.90))"
   ]
  },
  {
   "cell_type": "markdown",
   "metadata": {},
   "source": [
    "Outra medida para tendência central dos dados é a moda, que é(são) o(s) valor(es) mais comum(ns):"
   ]
  },
  {
   "cell_type": "code",
   "execution_count": 37,
   "metadata": {
    "execution": {
     "iopub.execute_input": "2021-02-03T20:49:12.926429Z",
     "iopub.status.busy": "2021-02-03T20:49:12.925909Z",
     "iopub.status.idle": "2021-02-03T20:49:12.928147Z",
     "shell.execute_reply": "2021-02-03T20:49:12.928623Z"
    }
   },
   "outputs": [],
   "source": [
    "def mode(x):\n",
    "    \"\"\"retorna uma lista, pois os dados podem ter mais de uma moda\"\"\"\n",
    "    x = np.asanyarray(x)\n",
    "    unique, counts = np.unique(x, return_counts=True)\n",
    "    max_count = counts.max()\n",
    "    return unique[counts == max_count]"
   ]
  },
  {
   "cell_type": "code",
   "execution_count": 38,
   "metadata": {
    "execution": {
     "iopub.execute_input": "2021-02-03T20:49:12.933544Z",
     "iopub.status.busy": "2021-02-03T20:49:12.931914Z",
     "iopub.status.idle": "2021-02-03T20:49:12.935207Z",
     "shell.execute_reply": "2021-02-03T20:49:12.935669Z"
    }
   },
   "outputs": [
    {
     "name": "stdout",
     "output_type": "stream",
     "text": [
      "moda de a:  [4]\n"
     ]
    }
   ],
   "source": [
    "a = [1, 2, 3, 4, 2, 4, 4]\n",
    "print(\"moda de a: \", mode(a))"
   ]
  },
  {
   "cell_type": "markdown",
   "metadata": {},
   "source": [
    "Observe que para casos contínuos como as músicas a moda faz pouco sentido. Temos que arredondar os mesmos."
   ]
  },
  {
   "cell_type": "code",
   "execution_count": 39,
   "metadata": {
    "execution": {
     "iopub.execute_input": "2021-02-03T20:49:12.939283Z",
     "iopub.status.busy": "2021-02-03T20:49:12.938797Z",
     "iopub.status.idle": "2021-02-03T20:49:12.944634Z",
     "shell.execute_reply": "2021-02-03T20:49:12.944151Z"
    }
   },
   "outputs": [
    {
     "name": "stdout",
     "output_type": "stream",
     "text": [
      "moda das músicas em minutos truncadas:  [4.]\n"
     ]
    }
   ],
   "source": [
    "print(\"moda das músicas em minutos truncadas: \",\n",
    "      mode(np.round(data, 0)))"
   ]
  },
  {
   "cell_type": "markdown",
   "metadata": {},
   "source": [
    "### Transformadas\n",
    "\n",
    "Quando usarmos esses descritores para descrever dados, devemos ter muito cuidado. Considere, por exemplo, dados que possuem uma \"cauda pesada\", como uma amostra da [distribuição de Pareto](https://en.wikipedia.org/wiki/Pareto_distribution). Um bom exemplo de dados deste tipo é a frequência de palavras nas letras de cada música.\n",
    "Vamos construir uma nova série com tal informação!\n",
    "\n",
    "Note que temos que ter cuidado com os dados.\n",
    "1. Músicas se repetem na billboard.\n",
    "2. Temos que limpar acentos e pontuação. Para tal, expressões regulares são úteis."
   ]
  },
  {
   "cell_type": "code",
   "execution_count": 40,
   "metadata": {
    "execution": {
     "iopub.execute_input": "2021-02-03T20:49:12.954233Z",
     "iopub.status.busy": "2021-02-03T20:49:12.953788Z",
     "iopub.status.idle": "2021-02-03T20:49:13.941603Z",
     "shell.execute_reply": "2021-02-03T20:49:13.940770Z"
    }
   },
   "outputs": [
    {
     "data": {
      "text/plain": [
       "fit          160\n",
       "monte          7\n",
       "didnt        675\n",
       "another      833\n",
       "who         1476\n",
       "put         1551\n",
       "secret       104\n",
       "ceilin        20\n",
       "these       1331\n",
       "colorado       7\n",
       "ran          152\n",
       "time        2871\n",
       "day         1457\n",
       "runnin       254\n",
       "think       1851\n",
       "girls        679\n",
       "winnin        37\n",
       "ima          513\n",
       "before       956\n",
       "broke        369\n",
       "dtype: int64"
      ]
     },
     "execution_count": 1,
     "metadata": {},
     "output_type": "execute_result"
    }
   ],
   "source": [
    "from collections import Counter\n",
    "\n",
    "import re\n",
    "\n",
    "counter = Counter()\n",
    "for row in df['lyrics'].unique(): # Com unique eu filtro letras iguais.\n",
    "    # o código re.sub(r'[^\\w\\s]', '', row.lower()) tira todos os acentos!\n",
    "    words = re.sub(r'[^\\w\\s]', '', row.lower()).strip().split()\n",
    "    counter.update(set(words))\n",
    "\n",
    "palavras = pd.Series(counter)\n",
    "palavras.head(20)"
   ]
  },
  {
   "cell_type": "markdown",
   "metadata": {},
   "source": [
    "Agora vamos plotar o histograma dos dados:"
   ]
  },
  {
   "cell_type": "code",
   "execution_count": 41,
   "metadata": {
    "execution": {
     "iopub.execute_input": "2021-02-03T20:49:13.969529Z",
     "iopub.status.busy": "2021-02-03T20:49:13.966336Z",
     "iopub.status.idle": "2021-02-03T20:49:14.461753Z",
     "shell.execute_reply": "2021-02-03T20:49:14.462312Z"
    }
   },
   "outputs": [
    {
     "data": {
      "image/png": "[encoded data removed]",
      "text/plain": [
       "<Figure size 1152x720 with 1 Axes>"
      ]
     },
     "metadata": {
      "needs_background": "light"
     },
     "output_type": "display_data"
    }
   ],
   "source": [
    "plt.hist(palavras, bins=100, edgecolor='k')\n",
    "plt.xlabel('Popularidade da palavra')\n",
    "plt.ylabel('Freq.')\n",
    "despine()\n",
    "plt.show()"
   ]
  },
  {
   "cell_type": "code",
   "execution_count": 42,
   "metadata": {
    "execution": {
     "iopub.execute_input": "2021-02-03T20:49:14.478736Z",
     "iopub.status.busy": "2021-02-03T20:49:14.466314Z",
     "iopub.status.idle": "2021-02-03T20:49:15.316061Z",
     "shell.execute_reply": "2021-02-03T20:49:15.316453Z"
    },
    "scrolled": true
   },
   "outputs": [
    {
     "data": {
      "image/png": "[encoded data removed]",
      "text/plain": [
       "<Figure size 1152x720 with 1 Axes>"
      ]
     },
     "metadata": {
      "needs_background": "light"
     },
     "output_type": "display_data"
    }
   ],
   "source": [
    "bins = np.logspace(np.log10(palavras.min()), np.log10(palavras.max()))\n",
    "plt.hist(palavras, bins=bins, edgecolor='k')\n",
    "ax = plt.gca()\n",
    "ax.set_yscale('log')\n",
    "ax.set_xscale('log')\n",
    "plt.xlabel('Popularidade da palavra')\n",
    "plt.ylabel('Freq.')\n",
    "despine()\n",
    "plt.show()"
   ]
  },
  {
   "cell_type": "markdown",
   "metadata": {},
   "source": [
    "Observe que a grande maioria dos valores é menor que $10$, mas existe uma quantidade significativa de valores na casa das centenas e até dos milhares. \n",
    "\n",
    "Nesse caso, qual é o melhor descritor para esses dados?"
   ]
  },
  {
   "cell_type": "code",
   "execution_count": 43,
   "metadata": {
    "execution": {
     "iopub.execute_input": "2021-02-03T20:49:15.333827Z",
     "iopub.status.busy": "2021-02-03T20:49:15.332974Z",
     "iopub.status.idle": "2021-02-03T20:49:15.337006Z",
     "shell.execute_reply": "2021-02-03T20:49:15.337488Z"
    },
    "scrolled": true
   },
   "outputs": [
    {
     "name": "stdout",
     "output_type": "stream",
     "text": [
      "22.376421549730146 1.0 6528 [1]\n"
     ]
    }
   ],
   "source": [
    "print(mean(palavras),\n",
    "      median(palavras),\n",
    "      max(palavras),\n",
    "      mode(palavras))"
   ]
  },
  {
   "cell_type": "markdown",
   "metadata": {},
   "source": [
    "Ao que parece, todos eles são importantes."
   ]
  },
  {
   "cell_type": "markdown",
   "metadata": {},
   "source": [
    "### Variância e Desvio Padrão\n",
    "\n",
    "Dispersão refere-se a medidas de como se espalham nossos dados. Normalmente, são estatísticas para as quais valores próximos de zero significam que os dados não se espalham de forma alguma e para as quais grandes valores (seja lá o que isso signifique) significam que os dados estão muito dispersos. Por exemplo, uma medida muito simples é o intervalo (ou *range*), que é apenas a diferença entre os elementos maiores e menores:"
   ]
  },
  {
   "cell_type": "code",
   "execution_count": 44,
   "metadata": {
    "execution": {
     "iopub.execute_input": "2021-02-03T20:49:15.341410Z",
     "iopub.status.busy": "2021-02-03T20:49:15.340701Z",
     "iopub.status.idle": "2021-02-03T20:49:15.342965Z",
     "shell.execute_reply": "2021-02-03T20:49:15.343561Z"
    }
   },
   "outputs": [],
   "source": [
    "# \"range\" já significa algo em Python, então vamos usar outro nome\n",
    "def data_range(x):\n",
    "    return max(x) - min(x)"
   ]
  },
  {
   "cell_type": "code",
   "execution_count": 45,
   "metadata": {
    "execution": {
     "iopub.execute_input": "2021-02-03T20:49:15.347978Z",
     "iopub.status.busy": "2021-02-03T20:49:15.347432Z",
     "iopub.status.idle": "2021-02-03T20:49:15.350453Z",
     "shell.execute_reply": "2021-02-03T20:49:15.350857Z"
    }
   },
   "outputs": [
    {
     "name": "stdout",
     "output_type": "stream",
     "text": [
      "range:  11.40855\n"
     ]
    }
   ],
   "source": [
    "print(\"range: \", data_range(data))"
   ]
  },
  {
   "cell_type": "markdown",
   "metadata": {},
   "source": [
    "O intervalo é zero precisamente quando `max` e `min` são iguais, o que só pode acontecer se os elementos de `x` forem todos iguais, o que significa que os dados são tão similares (ou não dispersos) quanto possível. Por outro lado, se o intervalo for grande, o `max` é muito maior que o `min` e os dados estão mais espalhados.\n",
    "\n",
    "Como a mediana, o intervalo não depende realmente de todo o conjunto de dados. Um conjunto de dados cujos pontos são todos 0 ou 100 tem o mesmo intervalo que um conjunto de dados cujos valores são 0, 100 e muitos 50s. Mas parece que o primeiro conjunto de dados \"deveria\" estar mais espalhado, certo?\n",
    "\n",
    "Uma medida mais complexa de dispersão é a variância $s^2$. Quando a variância da população é estimada usando $n$ amostras aleatórias $x_1, x_2, ..., x_n$ a fórmula seguinte é um estimador não enviesado:\n",
    "\n",
    "$$s^{2}={\\frac {1}{n-1}}\\sum _{i=1}^{n}\\left(x_{i}-\\overline {x}\\right)^{2}$$"
   ]
  },
  {
   "cell_type": "markdown",
   "metadata": {},
   "source": [
    "O código abaixo faz o mesmo:"
   ]
  },
  {
   "cell_type": "code",
   "execution_count": 46,
   "metadata": {
    "execution": {
     "iopub.execute_input": "2021-02-03T20:49:15.357406Z",
     "iopub.status.busy": "2021-02-03T20:49:15.356889Z",
     "iopub.status.idle": "2021-02-03T20:49:15.361858Z",
     "shell.execute_reply": "2021-02-03T20:49:15.361060Z"
    }
   },
   "outputs": [
    {
     "name": "stdout",
     "output_type": "stream",
     "text": [
      "variancia:  0.6377261715977038\n"
     ]
    }
   ],
   "source": [
    "def de_mean(x):\n",
    "    \"\"\"translada x subtraindo sua média (então o resultado tem média 0)\"\"\"\n",
    "    x_bar = mean(x)\n",
    "    return [x_i - x_bar for x_i in x]\n",
    "\n",
    "def variance(x):\n",
    "    \"\"\"assume que x tem pelo menos dois elementos\"\"\"\n",
    "    n = len(x)\n",
    "    deviations = de_mean(x)\n",
    "    deviations = np.array(deviations) #vamos usar numpy muito de agora em diante\n",
    "    return np.sum(deviations ** 2) / (n-1)\n",
    "    #voce pode usar a funcao que implementamos anteriormente:\n",
    "    #return sum_of_squares(deviations) / (n - 1)\n",
    "\n",
    "print(\"variancia: \", variance(data))"
   ]
  },
  {
   "cell_type": "markdown",
   "metadata": {},
   "source": [
    "A primeira observação é o uso do módulo `numpy`. A partir de agora vamos usar muito esse módulo, que contém diversas operações sobre listas, que são implementadas de forma eficiente.\n",
    "\n",
    "Na aula passada, implementamos a função `sum_of_squares`. Para fazer a mesma coisa, e de forma mais rápida, podemos usar a função `sum` do `numpy` e o operador `**` para elevar todos os elementos de uma lista a uma dada potência, nesse caso, `2`. Note que antes de usar executar essas operações, é necessário converter a lista para um *array* do `numpy`.\n",
    "\n",
    "Segundo, parece que a variância é quase o desvio médio da média, exceto pelo fato de estarmos dividindo por `n-1` em vez de `n`. De fato, quando estamos lidando com uma amostra de uma população maior, $\\overline {x}$ é apenas uma estimativa da média real, o que significa que, em média $\\left(x_{i}-\\overline {x}\\right)^{2}$ é uma subestimativa do desvio ao quadrado de $x_i$ em relação à média. Por isso que nós dividimos por `n-1` ao invés de `n`. Para mais informações, consulte o [Wikipedia](https://en.wikipedia.org/wiki/Unbiased_estimation_of_standard_deviation).\n",
    "\n",
    "Agora, quaisquer que sejam as unidades em que nossos dados estão (por exemplo, \"# de amigos\"), todas as nossas medidas de tendência central estão nessa mesma unidade. O intervalo será similarmente nessa mesma unidade. A variância, por outro lado, tem unidades que são o quadrado das unidades originais (por exemplo, \" # de amigos ao quadrado\"). Como pode ser difícil entender essa medida, muitas vezes olhamos para o desvio padrão $s = \\sqrt{s^2}$:"
   ]
  },
  {
   "cell_type": "code",
   "execution_count": 47,
   "metadata": {
    "execution": {
     "iopub.execute_input": "2021-02-03T20:49:15.365955Z",
     "iopub.status.busy": "2021-02-03T20:49:15.365474Z",
     "iopub.status.idle": "2021-02-03T20:49:15.369113Z",
     "shell.execute_reply": "2021-02-03T20:49:15.369592Z"
    }
   },
   "outputs": [
    {
     "name": "stdout",
     "output_type": "stream",
     "text": [
      "desvio padrao:  0.7985034684732251\n"
     ]
    }
   ],
   "source": [
    "print(\"desvio padrao: \", np.std(data))"
   ]
  },
  {
   "cell_type": "markdown",
   "metadata": {},
   "source": [
    "Tanto o intervalo quanto o desvio padrão têm o mesmo problema discrepante que vimos anteriormente para a média. Usando o mesmo exemplo, se nosso usuário mais amigável tivesse `2000` amigos, o desvio padrão seria muito maior somente por causa desse usuário. Uma alternativa mais robusta calcula a diferença entre o valor do 75º e do 25º percentil:"
   ]
  },
  {
   "cell_type": "code",
   "execution_count": 48,
   "metadata": {
    "execution": {
     "iopub.execute_input": "2021-02-03T20:49:15.378853Z",
     "iopub.status.busy": "2021-02-03T20:49:15.377942Z",
     "iopub.status.idle": "2021-02-03T20:49:15.383877Z",
     "shell.execute_reply": "2021-02-03T20:49:15.383369Z"
    }
   },
   "outputs": [
    {
     "name": "stdout",
     "output_type": "stream",
     "text": [
      "intervalo interquartil: 0.8957833333333332\n"
     ]
    }
   ],
   "source": [
    "def interquartile_range(x):\n",
    "    return quantile(x, 0.75) - quantile(x, 0.25)\n",
    "\n",
    "print(\"intervalo interquartil:\", interquartile_range(data))"
   ]
  },
  {
   "cell_type": "markdown",
   "metadata": {},
   "source": [
    "Essa medida é muito pouco afetada por *outliers*."
   ]
  },
  {
   "cell_type": "code",
   "execution_count": 49,
   "metadata": {
    "execution": {
     "iopub.execute_input": "2021-02-03T20:49:15.391911Z",
     "iopub.status.busy": "2021-02-03T20:49:15.391253Z",
     "iopub.status.idle": "2021-02-03T20:49:15.403116Z",
     "shell.execute_reply": "2021-02-03T20:49:15.402606Z"
    }
   },
   "outputs": [
    {
     "name": "stdout",
     "output_type": "stream",
     "text": [
      "Dispersão para a duração das músicas:\n",
      "Intervalo: 11.40855\n",
      "Variância: 0.6376077891637707\n",
      "Desvio padrão: 0.7985034684732251\n",
      "IQR: 0.8957833333333332\n"
     ]
    }
   ],
   "source": [
    "print(\"Dispersão para a duração das músicas:\")\n",
    "print(\"Intervalo:\", data_range(data))\n",
    "print(\"Variância:\", np.var(data))\n",
    "print(\"Desvio padrão:\", np.std(data))\n",
    "print(\"IQR:\", interquartile_range(data))"
   ]
  },
  {
   "cell_type": "markdown",
   "metadata": {},
   "source": [
    "Medidas de dispersão para dados com \"cauda pesada\":"
   ]
  },
  {
   "cell_type": "code",
   "execution_count": 50,
   "metadata": {
    "execution": {
     "iopub.execute_input": "2021-02-03T20:49:15.417952Z",
     "iopub.status.busy": "2021-02-03T20:49:15.415878Z",
     "iopub.status.idle": "2021-02-03T20:49:15.436704Z",
     "shell.execute_reply": "2021-02-03T20:49:15.436079Z"
    }
   },
   "outputs": [
    {
     "name": "stdout",
     "output_type": "stream",
     "text": [
      "Dispersão para as palavras:\n",
      "Intervalo: 6527\n",
      "Variância: 35806.28050708675\n",
      "Desvio padrão: 189.22547531209096\n",
      "IQR: 3\n"
     ]
    }
   ],
   "source": [
    "print(\"Dispersão para as palavras:\")\n",
    "print(\"Intervalo:\", data_range(palavras))\n",
    "print(\"Variância:\", np.var(palavras))\n",
    "print(\"Desvio padrão:\", np.std(palavras))\n",
    "print(\"IQR:\", interquartile_range(palavras))"
   ]
  },
  {
   "cell_type": "markdown",
   "metadata": {},
   "source": [
    "Por fim, tudo isto poderia ser feito com uma única chamada pandas!"
   ]
  },
  {
   "cell_type": "code",
   "execution_count": 51,
   "metadata": {
    "execution": {
     "iopub.execute_input": "2021-02-03T20:49:15.446412Z",
     "iopub.status.busy": "2021-02-03T20:49:15.445691Z",
     "iopub.status.idle": "2021-02-03T20:49:15.449227Z",
     "shell.execute_reply": "2021-02-03T20:49:15.450411Z"
    }
   },
   "outputs": [
    {
     "data": {
      "text/plain": [
       "count    5387.000000\n",
       "mean        3.883652\n",
       "std         0.798578\n",
       "min         0.617783\n",
       "25%         3.387775\n",
       "50%         3.795450\n",
       "75%         4.283108\n",
       "max        12.026333\n",
       "Name: duration_ms, dtype: float64"
      ]
     },
     "execution_count": 1,
     "metadata": {},
     "output_type": "execute_result"
    }
   ],
   "source": [
    "data.describe()"
   ]
  },
  {
   "cell_type": "markdown",
   "metadata": {},
   "source": [
    "Por fim, vamos ver uma correlação entre duração e número de palavras! Explique o código abaixo!"
   ]
  },
  {
   "cell_type": "code",
   "execution_count": 52,
   "metadata": {
    "execution": {
     "iopub.execute_input": "2021-02-03T20:49:15.457869Z",
     "iopub.status.busy": "2021-02-03T20:49:15.456877Z",
     "iopub.status.idle": "2021-02-03T20:49:17.191542Z",
     "shell.execute_reply": "2021-02-03T20:49:17.192232Z"
    }
   },
   "outputs": [],
   "source": [
    "letra_e_musica = df[['duration_ms', 'lyrics']].drop_duplicates()\n",
    "letra_e_musica['duration_min'] = letra_e_musica['duration_ms'] / (60 * 1000)\n",
    "\n",
    "x = []\n",
    "y = []\n",
    "for indice, row in letra_e_musica.iterrows():\n",
    "    words = re.sub(r'[^\\w\\s]', '', row['lyrics'].lower()).strip().split()\n",
    "    x.append(len(words))\n",
    "    y.append(row['duration_min'])"
   ]
  },
  {
   "cell_type": "code",
   "execution_count": 53,
   "metadata": {
    "execution": {
     "iopub.execute_input": "2021-02-03T20:49:17.223286Z",
     "iopub.status.busy": "2021-02-03T20:49:17.219547Z",
     "iopub.status.idle": "2021-02-03T20:49:17.520574Z",
     "shell.execute_reply": "2021-02-03T20:49:17.521068Z"
    }
   },
   "outputs": [
    {
     "data": {
      "image/png": "[encoded data removed]",
      "text/plain": [
       "<Figure size 1152x720 with 1 Axes>"
      ]
     },
     "metadata": {
      "needs_background": "light"
     },
     "output_type": "display_data"
    }
   ],
   "source": [
    "plt.scatter(x, y, edgecolor='k', s=80)\n",
    "plt.xlabel('Número de palavras na letra')\n",
    "plt.ylabel('Duração')\n",
    "despine()"
   ]
  }
 ],
 "metadata": {
  "kernelspec": {
   "display_name": "Python 3",
   "language": "python",
   "name": "python3"
  },
  "language_info": {
   "codemirror_mode": {
    "name": "ipython",
    "version": 3
   },
   "file_extension": ".py",
   "mimetype": "text/x-python",
   "name": "python",
   "nbconvert_exporter": "python",
   "pygments_lexer": "ipython3",
   "version": "3.6.12"
  }
 },
 "nbformat": 4,
 "nbformat_minor": 2
}
