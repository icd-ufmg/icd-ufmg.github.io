{
 "cells": [
  {
   "cell_type": "markdown",
   "metadata": {},
   "source": [
    "---\n",
    "layout: page\n",
    "title: Aprendizado na Prática\n",
    "nav_order: 21\n",
    "---\n",
    "\n",
    "[<img src=\"./colab_favicon_small.png\" style=\"float: right;\">](https://colab.research.google.com/github/icd-ufmg/icd-ufmg.github.io/blob/master/_lessons/21-pratica.ipynb)\n",
    "\n",
    "\n",
    "# Aprendizado na Prática\n",
    "\n",
    "{: .no_toc .mb-2 }\n",
    "\n",
    "Fazendo uso a regressão e classicação knn e logística!\n",
    "{: .fs-6 .fw-300 }\n",
    "\n",
    "{: .no_toc .text-delta }\n",
    "Resultados Esperados\n",
    "\n",
    "1. Saber executar o KNN do SKlearn\n",
    "1. Praticar o pipeline completo de ICD\n",
    "\n",
    "---\n",
    "**Sumário**\n",
    "1. TOC\n",
    "{:toc}\n",
    "---"
   ]
  },
  {
   "cell_type": "code",
   "execution_count": 1,
   "metadata": {
    "colab": {
     "base_uri": "https://localhost:8080/",
     "height": 72
    },
    "execution": {
     "iopub.execute_input": "2022-06-29T19:32:25.701031Z",
     "iopub.status.busy": "2022-06-29T19:32:25.692428Z",
     "iopub.status.idle": "2022-06-29T19:32:28.085683Z",
     "shell.execute_reply": "2022-06-29T19:32:28.086576Z"
    },
    "id": "mv0VsFYZMVwi",
    "outputId": "a85a781b-d3bc-45e9-fff9-ecfa1ee8eeb7"
   },
   "outputs": [],
   "source": [
    "# -*- coding: utf8\n",
    "\n",
    "from scipy import stats as ss\n",
    "\n",
    "import seaborn as sns\n",
    "import numpy as np\n",
    "import matplotlib.pyplot as plt\n",
    "import pandas as pd\n",
    "\n",
    "plt.rcParams['figure.figsize']  = (18, 10)\n",
    "plt.rcParams['axes.labelsize']  = 20\n",
    "plt.rcParams['axes.titlesize']  = 20\n",
    "plt.rcParams['legend.fontsize'] = 20\n",
    "plt.rcParams['xtick.labelsize'] = 20\n",
    "plt.rcParams['ytick.labelsize'] = 20\n",
    "plt.rcParams['lines.linewidth'] = 4"
   ]
  },
  {
   "cell_type": "code",
   "execution_count": 2,
   "metadata": {
    "execution": {
     "iopub.execute_input": "2022-06-29T19:32:28.093698Z",
     "iopub.status.busy": "2022-06-29T19:32:28.092680Z",
     "iopub.status.idle": "2022-06-29T19:32:28.095459Z",
     "shell.execute_reply": "2022-06-29T19:32:28.096458Z"
    },
    "id": "Aj7DXFpdMVwz"
   },
   "outputs": [],
   "source": [
    "plt.ion()\n",
    "plt.style.use('seaborn-colorblind')\n",
    "plt.rcParams['figure.figsize']  = (12, 8)"
   ]
  },
  {
   "cell_type": "code",
   "execution_count": 3,
   "metadata": {
    "execution": {
     "iopub.execute_input": "2022-06-29T19:32:28.104638Z",
     "iopub.status.busy": "2022-06-29T19:32:28.103274Z",
     "iopub.status.idle": "2022-06-29T19:32:28.106972Z",
     "shell.execute_reply": "2022-06-29T19:32:28.106142Z"
    },
    "id": "V9muoRgwMVxG"
   },
   "outputs": [],
   "source": [
    "def despine(ax=None):\n",
    "    if ax is None:\n",
    "        ax = plt.gca()\n",
    "    # Hide the right and top spines\n",
    "    ax.spines['right'].set_visible(False)\n",
    "    ax.spines['top'].set_visible(False)\n",
    "\n",
    "    # Only show ticks on the left and bottom spines\n",
    "    ax.yaxis.set_ticks_position('left')\n",
    "    ax.xaxis.set_ticks_position('bottom')"
   ]
  },
  {
   "cell_type": "code",
   "execution_count": 4,
   "metadata": {
    "cellView": "both",
    "execution": {
     "iopub.execute_input": "2022-06-29T19:32:28.118533Z",
     "iopub.status.busy": "2022-06-29T19:32:28.115953Z",
     "iopub.status.idle": "2022-06-29T19:32:40.905626Z",
     "shell.execute_reply": "2022-06-29T19:32:40.907348Z"
    },
    "id": "Gf9mB4kLMg9b"
   },
   "outputs": [],
   "source": [
    "%%capture \n",
    "! wget https://github.com/icd-ufmg/material/raw/master/aulas/23-MLPratica/fashion/train-images-idx3-ubyte.gz -P fashion\n",
    "! wget https://github.com/icd-ufmg/material/raw/master/aulas/23-MLPratica/fashion/t10k-images-idx3-ubyte.gz -P fashion\n",
    "! wget https://github.com/icd-ufmg/material/raw/master/aulas/23-MLPratica/fashion/train-labels-idx1-ubyte.gz -P fashion\n",
    "! wget https://github.com/icd-ufmg/material/raw/master/aulas/23-MLPratica/fashion/t10k-labels-idx1-ubyte.gz -P fashion"
   ]
  },
  {
   "cell_type": "code",
   "execution_count": 5,
   "metadata": {
    "execution": {
     "iopub.execute_input": "2022-06-29T19:32:40.930637Z",
     "iopub.status.busy": "2022-06-29T19:32:40.927741Z",
     "iopub.status.idle": "2022-06-29T19:32:40.935450Z",
     "shell.execute_reply": "2022-06-29T19:32:40.933469Z"
    },
    "id": "4TTO6FgDMVxS"
   },
   "outputs": [],
   "source": [
    "def load_mnist(path, kind='train'):\n",
    "    import os\n",
    "    import gzip\n",
    "    import numpy as np\n",
    "\n",
    "    \"\"\"Load MNIST data from `path`\"\"\"\n",
    "    labels_path = os.path.join(path,\n",
    "                               '%s-labels-idx1-ubyte.gz'\n",
    "                               % kind)\n",
    "    images_path = os.path.join(path,\n",
    "                               '%s-images-idx3-ubyte.gz'\n",
    "                               % kind)\n",
    "\n",
    "    with gzip.open(labels_path, 'rb') as lbpath:\n",
    "        labels = np.frombuffer(lbpath.read(), dtype=np.uint8,\n",
    "                               offset=8)\n",
    "\n",
    "    with gzip.open(images_path, 'rb') as imgpath:\n",
    "        images = np.frombuffer(imgpath.read(), dtype=np.uint8,\n",
    "                               offset=16).reshape(len(labels), 784)\n",
    "\n",
    "    return images, labels"
   ]
  },
  {
   "cell_type": "markdown",
   "metadata": {
    "id": "AihMpqknMVxZ"
   },
   "source": [
    "## Classificação\n",
    "\n",
    "Nesta aula vamos explorar aprendizado de máquina na prática. Em particular, vamos iniciar por algoritmos de classificação na base Fashion MNIST. Depois disso vamos explorar regressão.\n",
    "\n",
    "Acima, temos alguns códigos auxiliares para carregar a base. Nesta, cada ponto é um vetor de 784 posições. Ao redimensionar os mesmos com:\n",
    "\n",
    "```python\n",
    "x.reshape((28, 28))\n",
    "```\n",
    "\n",
    "Temos uma imagem de alguma peça de vestimento. Código para carregar os dados abaixo. Vamos usar apenas 500 instâncias para treino e teste. Lento usar muito mais do que isso no meu computador."
   ]
  },
  {
   "cell_type": "code",
   "execution_count": 6,
   "metadata": {
    "execution": {
     "iopub.execute_input": "2022-06-29T19:32:40.950329Z",
     "iopub.status.busy": "2022-06-29T19:32:40.947378Z",
     "iopub.status.idle": "2022-06-29T19:32:41.649108Z",
     "shell.execute_reply": "2022-06-29T19:32:41.648150Z"
    },
    "id": "PzlSE3wyMVxb"
   },
   "outputs": [],
   "source": [
    "X_train, y_train = load_mnist('fashion', kind='train')\n",
    "X_test, y_test = load_mnist('fashion', kind='t10k')"
   ]
  },
  {
   "cell_type": "code",
   "execution_count": 7,
   "metadata": {
    "execution": {
     "iopub.execute_input": "2022-06-29T19:32:41.656610Z",
     "iopub.status.busy": "2022-06-29T19:32:41.655345Z",
     "iopub.status.idle": "2022-06-29T19:32:41.658186Z",
     "shell.execute_reply": "2022-06-29T19:32:41.659006Z"
    },
    "id": "DK6tS-lPMVxm"
   },
   "outputs": [],
   "source": [
    "X_train = X_train[:500]\n",
    "y_train = y_train[:500]\n",
    "\n",
    "X_test = X_test[:500]\n",
    "y_test = y_test[:500]"
   ]
  },
  {
   "cell_type": "code",
   "execution_count": 8,
   "metadata": {
    "colab": {
     "base_uri": "https://localhost:8080/",
     "height": 52
    },
    "execution": {
     "iopub.execute_input": "2022-06-29T19:32:41.670819Z",
     "iopub.status.busy": "2022-06-29T19:32:41.669534Z",
     "iopub.status.idle": "2022-06-29T19:32:41.675808Z",
     "shell.execute_reply": "2022-06-29T19:32:41.676652Z"
    },
    "id": "nPZnAn2RMVxw",
    "outputId": "6a8a57ec-df90-45c2-e7e5-b179be17aa8f"
   },
   "outputs": [
    {
     "data": {
      "text/plain": [
       "(array([0, 1, 2, 3, 4, 5, 6, 7, 8, 9], dtype=uint8),\n",
       " array([53, 40, 63, 46, 55, 52, 49, 52, 43, 47]))"
      ]
     },
     "execution_count": 8,
     "metadata": {},
     "output_type": "execute_result"
    }
   ],
   "source": [
    "np.unique(y_test, return_counts=True)"
   ]
  },
  {
   "cell_type": "markdown",
   "metadata": {
    "id": "xDtfA7r7MVx2"
   },
   "source": [
    "Observe como cada instância é um vetor. Cada valor é um tom de cinza. 0 == branco; 256 == preto."
   ]
  },
  {
   "cell_type": "code",
   "execution_count": 9,
   "metadata": {
    "colab": {
     "base_uri": "https://localhost:8080/",
     "height": 1000
    },
    "execution": {
     "iopub.execute_input": "2022-06-29T19:32:41.687246Z",
     "iopub.status.busy": "2022-06-29T19:32:41.685855Z",
     "iopub.status.idle": "2022-06-29T19:32:41.690472Z",
     "shell.execute_reply": "2022-06-29T19:32:41.691318Z"
    },
    "id": "pNsvMb0NMVx4",
    "outputId": "7e42e13a-946e-401e-9745-4d8c1f34691b"
   },
   "outputs": [
    {
     "data": {
      "text/plain": [
       "array([  0,   0,   0,   0,   1,   0,   0,   0,   0,  41, 162, 167,  84,\n",
       "        30,  38,  94, 177, 176,  26,   0,   0,   0,   1,   0,   0,   0,\n",
       "         0,   0,   0,   0,   0,   1,   0,   0,  41, 147, 228, 242, 228,\n",
       "       236, 251, 251, 251, 255, 242, 230, 247, 221, 125,   0,   0,   0,\n",
       "         0,   0,   0,   0,   0,   0,   0,   0,   0,  91, 216, 228, 222,\n",
       "       219, 219, 218, 222, 200, 224, 230, 221, 222, 222, 227, 237, 183,\n",
       "         0,   0,   0,   0,   0,   0,   0,   0,   0,   0,   4, 202, 208,\n",
       "       212, 217, 219, 222, 222, 219, 219, 220, 218, 222, 224, 224, 221,\n",
       "       210, 227, 163,   0,   0,   0,   0,   0,   0,   0,   0,   0, 102,\n",
       "       225, 210, 216, 218, 222, 221, 219, 225, 225, 221, 222, 224, 222,\n",
       "       224, 224, 215, 215, 218,  28,   0,   0,   0,   0,   0,   0,   0,\n",
       "         0, 189, 222, 220, 213, 219, 220, 218, 221, 220, 219, 222, 226,\n",
       "       222, 220, 221, 216, 215, 218, 229, 148,   0,   0,   0,   0,   0,\n",
       "         0,   0,  11, 240, 210, 227, 213, 214, 220, 217, 220, 224, 220,\n",
       "       221, 217, 206, 209, 208, 212, 220, 224, 218, 234,   0,   0,   0,\n",
       "         0,   0,   0,   0, 118, 214, 208, 224, 216, 211, 226, 212, 219,\n",
       "       213, 193, 192, 179, 194, 213, 216, 216, 217, 227, 216, 221,  91,\n",
       "         0,   0,   0,   0,   0,   0, 170, 221, 205, 225, 219, 217, 232,\n",
       "       232, 226, 182, 182, 211, 226, 220, 212, 217, 216, 216, 225, 213,\n",
       "       226, 184,   0,   0,   0,   0,   0,   0,   0, 181, 229, 219, 220,\n",
       "       213, 227, 226, 222, 214, 222, 220, 216, 215, 213, 214, 216, 215,\n",
       "       220, 233, 211,   0,   0,   0,   0,   0,   0,   0,   0,   0, 164,\n",
       "       242, 222, 210, 214, 211, 215, 215, 216, 217, 215, 215, 215, 215,\n",
       "       213, 222, 238, 184,   0,   0,   0,   0,   0,   0,   0,   0,   2,\n",
       "         0,   0,  60, 222, 217, 214, 214, 215, 219, 202, 217, 210, 203,\n",
       "       216, 212, 221, 200,  60,   0,   0,   0,   0,   0,   0,   0,   0,\n",
       "         0,   0,   0,   0,   0, 193, 222, 208, 216, 215, 216, 218, 220,\n",
       "       219, 215, 216, 204, 222, 148,   0,   0,   0,   0,   0,   0,   0,\n",
       "         0,   0,   0,   0,   0,   0,   0, 194, 222, 206, 216, 216, 217,\n",
       "       218, 217, 218, 216, 218, 208, 219, 179,   0,   0,   0,   0,   0,\n",
       "         0,   0,   0,   0,   0,   0,   1,   0,   0, 192, 224, 213, 217,\n",
       "       217, 218, 217, 217, 217, 215, 216, 209, 215, 176,   0,   0,   0,\n",
       "         0,   0,   0,   0,   0,   0,   0,   0,   1,   0,   0, 194, 221,\n",
       "       214, 217, 216, 216, 217, 217, 217, 216, 214, 210, 214, 177,   0,\n",
       "         0,   0,   0,   0,   0,   0,   0,   0,   0,   0,   1,   0,   0,\n",
       "       193, 220, 214, 218, 217, 216, 217, 217, 216, 216, 215, 212, 214,\n",
       "       183,   0,   0,   0,   0,   0,   0,   0,   0,   0,   0,   0,   1,\n",
       "         0,   0, 197, 220, 214, 219, 218, 218, 218, 218, 217, 217, 219,\n",
       "       214, 217, 189,   0,   0,   1,   0,   0,   0,   0,   0,   0,   0,\n",
       "         0,   0,   0,   0, 201, 222, 214, 219, 218, 219, 219, 218, 218,\n",
       "       217, 219, 216, 220, 196,   0,   0,   1,   0,   0,   0,   0,   0,\n",
       "         0,   0,   0,   0,   0,   0, 209, 222, 216, 220, 219, 219, 220,\n",
       "       220, 218, 217, 219, 216, 222, 203,   0,   0,   1,   0,   0,   0,\n",
       "         0,   0,   0,   0,   0,   0,   0,   0, 209, 221, 216, 220, 219,\n",
       "       219, 221, 221, 219, 219, 221, 217, 222, 210,   0,   0,   1,   0,\n",
       "         0,   0,   0,   0,   0,   0,   0,   0,   0,   0, 208, 222, 218,\n",
       "       221, 220, 220, 221, 222, 220, 220, 222, 219, 222, 216,   0,   0,\n",
       "         1,   0,   0,   0,   0,   0,   0,   0,   0,   1,   0,   0, 210,\n",
       "       226, 220, 221, 220, 221, 222, 222, 220, 220, 224, 221, 224, 221,\n",
       "         0,   0,   0,   0,   0,   0,   0,   0,   0,   0,   0,   1,   0,\n",
       "         0, 217, 227, 219, 222, 224, 219, 219, 221, 222, 220, 221, 222,\n",
       "       225, 220,   0,   0,   0,   0,   0,   0,   0,   0,   0,   0,   0,\n",
       "         1,   0,   0, 183, 228, 221, 225, 221, 215, 217, 221, 222, 221,\n",
       "       222, 224, 224, 193,   0,   0,   1,   0,   0,   0,   0,   0,   0,\n",
       "         0,   0,   1,   0,   0, 179, 225, 218, 221, 219, 213, 213, 217,\n",
       "       220, 219, 218, 221, 222, 197,   0,   0,   2,   0,   0,   0,   0,\n",
       "         0,   0,   0,   0,   1,   0,   0, 240, 233, 228, 235, 232, 229,\n",
       "       228, 229, 231, 231, 231, 228, 229, 212,   0,   0,   1,   0,   0,\n",
       "         0,   0,   0,   0,   0,   0,   0,   0,   0, 101, 157, 148, 148,\n",
       "       167, 180, 182, 179, 176, 172, 171, 164, 177, 163,   0,   0,   1,\n",
       "         0,   0,   0,   0], dtype=uint8)"
      ]
     },
     "execution_count": 9,
     "metadata": {},
     "output_type": "execute_result"
    }
   ],
   "source": [
    "X_train[10]"
   ]
  },
  {
   "cell_type": "markdown",
   "metadata": {
    "id": "IAH-ugPgMVyB"
   },
   "source": [
    "Ao redimensionar temos uma peça de roupa! Fashion!"
   ]
  },
  {
   "cell_type": "code",
   "execution_count": 10,
   "metadata": {
    "colab": {
     "base_uri": "https://localhost:8080/",
     "height": 35
    },
    "execution": {
     "iopub.execute_input": "2022-06-29T19:32:41.698396Z",
     "iopub.status.busy": "2022-06-29T19:32:41.697365Z",
     "iopub.status.idle": "2022-06-29T19:32:41.701134Z",
     "shell.execute_reply": "2022-06-29T19:32:41.702078Z"
    },
    "id": "wo0oBroaMVyD",
    "outputId": "fb13ae05-9972-4986-99f0-5d0eb864918c"
   },
   "outputs": [
    {
     "name": "stdout",
     "output_type": "stream",
     "text": [
      "(28, 28)\n"
     ]
    }
   ],
   "source": [
    "I = X_train[0].reshape(28, 28)\n",
    "print(I.shape)"
   ]
  },
  {
   "cell_type": "code",
   "execution_count": 11,
   "metadata": {
    "colab": {
     "base_uri": "https://localhost:8080/",
     "height": 509
    },
    "execution": {
     "iopub.execute_input": "2022-06-29T19:32:41.729214Z",
     "iopub.status.busy": "2022-06-29T19:32:41.722569Z",
     "iopub.status.idle": "2022-06-29T19:32:42.178623Z",
     "shell.execute_reply": "2022-06-29T19:32:42.179449Z"
    },
    "id": "eqoDFCh1MVyI",
    "outputId": "9917ff85-3b1f-4fae-d537-78017ee5aa81"
   },
   "outputs": [
    {
     "data": {
      "text/plain": [
       "<matplotlib.image.AxesImage at 0x7fbb626fcfd0>"
      ]
     },
     "execution_count": 11,
     "metadata": {},
     "output_type": "execute_result"
    },
    {
     "data": {
      "image/png": "[encoded data removed]",
      "text/plain": [
       "<Figure size 864x576 with 1 Axes>"
      ]
     },
     "metadata": {
      "needs_background": "light"
     },
     "output_type": "display_data"
    }
   ],
   "source": [
    "plt.imshow(X_train[100].reshape(28, 28))"
   ]
  },
  {
   "cell_type": "code",
   "execution_count": 12,
   "metadata": {
    "colab": {
     "base_uri": "https://localhost:8080/",
     "height": 509
    },
    "execution": {
     "iopub.execute_input": "2022-06-29T19:32:42.206591Z",
     "iopub.status.busy": "2022-06-29T19:32:42.201390Z",
     "iopub.status.idle": "2022-06-29T19:32:42.466864Z",
     "shell.execute_reply": "2022-06-29T19:32:42.467724Z"
    },
    "id": "198-aTpYMVyR",
    "outputId": "8236ca65-9459-4fc3-d5b8-baeaad01db6e"
   },
   "outputs": [
    {
     "data": {
      "text/plain": [
       "<matplotlib.image.AxesImage at 0x7fbb5cf9a0e0>"
      ]
     },
     "execution_count": 12,
     "metadata": {},
     "output_type": "execute_result"
    },
    {
     "data": {
      "image/png": "[encoded data removed]",
      "text/plain": [
       "<Figure size 864x576 with 1 Axes>"
      ]
     },
     "metadata": {
      "needs_background": "light"
     },
     "output_type": "display_data"
    }
   ],
   "source": [
    "plt.imshow(X_train[1].reshape(28, 28))"
   ]
  },
  {
   "cell_type": "code",
   "execution_count": 13,
   "metadata": {
    "colab": {
     "base_uri": "https://localhost:8080/",
     "height": 35
    },
    "execution": {
     "iopub.execute_input": "2022-06-29T19:32:42.475829Z",
     "iopub.status.busy": "2022-06-29T19:32:42.474609Z",
     "iopub.status.idle": "2022-06-29T19:32:42.480016Z",
     "shell.execute_reply": "2022-06-29T19:32:42.479186Z"
    },
    "id": "j3l9cPx9MVyX",
    "outputId": "9f5b5f82-9874-47b3-9adb-98b9b883c75d"
   },
   "outputs": [
    {
     "data": {
      "text/plain": [
       "array([1, 2, 2, 3])"
      ]
     },
     "execution_count": 13,
     "metadata": {},
     "output_type": "execute_result"
    }
   ],
   "source": [
    "M = np.array([[1, 2], [2, 3]])\n",
    "M.flatten()"
   ]
  },
  {
   "cell_type": "markdown",
   "metadata": {
    "id": "PtqTS6Y_MVyh"
   },
   "source": [
    "Temos 10 classes. "
   ]
  },
  {
   "cell_type": "code",
   "execution_count": 14,
   "metadata": {
    "colab": {
     "base_uri": "https://localhost:8080/",
     "height": 35
    },
    "execution": {
     "iopub.execute_input": "2022-06-29T19:32:42.487671Z",
     "iopub.status.busy": "2022-06-29T19:32:42.486249Z",
     "iopub.status.idle": "2022-06-29T19:32:42.490692Z",
     "shell.execute_reply": "2022-06-29T19:32:42.491524Z"
    },
    "id": "oj9RcW8SMVyj",
    "outputId": "686bac52-2892-4ea2-eac3-f664f50782cd"
   },
   "outputs": [
    {
     "data": {
      "text/plain": [
       "10"
      ]
     },
     "execution_count": 14,
     "metadata": {},
     "output_type": "execute_result"
    }
   ],
   "source": [
    "len(set(y_train))"
   ]
  },
  {
   "cell_type": "code",
   "execution_count": 15,
   "metadata": {
    "colab": {
     "base_uri": "https://localhost:8080/",
     "height": 208
    },
    "execution": {
     "iopub.execute_input": "2022-06-29T19:32:42.502390Z",
     "iopub.status.busy": "2022-06-29T19:32:42.501218Z",
     "iopub.status.idle": "2022-06-29T19:32:42.505149Z",
     "shell.execute_reply": "2022-06-29T19:32:42.505914Z"
    },
    "id": "3v4c_HmUMVyo",
    "outputId": "71db3b06-f2e1-4415-f312-9b1da0793cf9"
   },
   "outputs": [
    {
     "data": {
      "text/plain": [
       "0       t-shirt\n",
       "1       trouser\n",
       "2      pullover\n",
       "3         dress\n",
       "4          coat\n",
       "5        sandal\n",
       "6         shirt\n",
       "7       sneaker\n",
       "8           bag\n",
       "9    ankle boot\n",
       "dtype: object"
      ]
     },
     "execution_count": 15,
     "metadata": {},
     "output_type": "execute_result"
    }
   ],
   "source": [
    "text_labels = ['t-shirt', 'trouser', 'pullover', 'dress', 'coat', 'sandal', 'shirt', 'sneaker', 'bag', 'ankle boot']\n",
    "index = np.arange(len(text_labels))\n",
    "labels = pd.Series(text_labels, index=index)\n",
    "labels"
   ]
  },
  {
   "cell_type": "markdown",
   "metadata": {
    "id": "N9EcZH1MMVyz"
   },
   "source": [
    "## Executando o Scikit-Learn\n",
    "\n",
    "Agora, vamos executar o código do sklearn na nossa base. Lembrando que temos que separar a mesma em Treino, Validação e Teste. Para tal, vamos fazer uso da classe `StratifiedKFold`. A mesma serve para realizar n-fold cross validation. A biblioteca sklearn não cria grupos de validação para você, a mesma só usa o conceito de treino/teste. De qualquer forma, validação nada mais é do que um conjunto a mais de teste. Então, vamos fazer 5-fold no nosso treino, separando em treino/validação. Note que NUNCA avaliamos nada no teste, apenas reportamos os números no fim!!"
   ]
  },
  {
   "cell_type": "code",
   "execution_count": 16,
   "metadata": {
    "execution": {
     "iopub.execute_input": "2022-06-29T19:32:42.512607Z",
     "iopub.status.busy": "2022-06-29T19:32:42.511543Z",
     "iopub.status.idle": "2022-06-29T19:32:42.626755Z",
     "shell.execute_reply": "2022-06-29T19:32:42.625545Z"
    },
    "id": "AUod4f2uMVy1"
   },
   "outputs": [],
   "source": [
    "from sklearn.model_selection import StratifiedKFold"
   ]
  },
  {
   "cell_type": "markdown",
   "metadata": {
    "id": "_eL4Xka1MVy6"
   },
   "source": [
    "Ao gerar o split, teremos 20 conjuntos (muito eu sei)."
   ]
  },
  {
   "cell_type": "code",
   "execution_count": 17,
   "metadata": {
    "execution": {
     "iopub.execute_input": "2022-06-29T19:32:42.636544Z",
     "iopub.status.busy": "2022-06-29T19:32:42.635018Z",
     "iopub.status.idle": "2022-06-29T19:32:42.637953Z",
     "shell.execute_reply": "2022-06-29T19:32:42.638739Z"
    },
    "id": "3MvXquW-MVy7"
   },
   "outputs": [],
   "source": [
    "skf = StratifiedKFold(n_splits=20, shuffle=True)"
   ]
  },
  {
   "cell_type": "markdown",
   "metadata": {
    "id": "MT9E6qcdMVy_"
   },
   "source": [
    "Cada passo do laço retorna indices do vetor"
   ]
  },
  {
   "cell_type": "code",
   "execution_count": 18,
   "metadata": {
    "colab": {
     "base_uri": "https://localhost:8080/",
     "height": 384
    },
    "execution": {
     "iopub.execute_input": "2022-06-29T19:32:42.646775Z",
     "iopub.status.busy": "2022-06-29T19:32:42.645244Z",
     "iopub.status.idle": "2022-06-29T19:32:42.665479Z",
     "shell.execute_reply": "2022-06-29T19:32:42.664646Z"
    },
    "id": "hUMs8NCQMVzE",
    "outputId": "13295e84-6351-4545-fd70-0cef5ebede15"
   },
   "outputs": [
    {
     "name": "stdout",
     "output_type": "stream",
     "text": [
      "(array([0, 1, 2, 3, 4, 5, 6, 7, 8, 9], dtype=uint8), array([49, 37, 42, 62, 48, 39, 58, 49, 43, 48]))\n",
      "(array([0, 1, 2, 3, 4, 5, 6, 7, 8, 9], dtype=uint8), array([49, 37, 42, 62, 48, 39, 58, 49, 43, 48]))\n",
      "(array([0, 1, 2, 3, 4, 5, 6, 7, 8, 9], dtype=uint8), array([49, 36, 42, 62, 48, 39, 58, 50, 43, 48]))\n",
      "(array([0, 1, 2, 3, 4, 5, 6, 7, 8, 9], dtype=uint8), array([49, 36, 42, 62, 48, 39, 58, 50, 43, 48]))\n",
      "(array([0, 1, 2, 3, 4, 5, 6, 7, 8, 9], dtype=uint8), array([49, 36, 42, 62, 49, 38, 58, 50, 43, 48]))\n",
      "(array([0, 1, 2, 3, 4, 5, 6, 7, 8, 9], dtype=uint8), array([49, 36, 43, 62, 49, 39, 58, 50, 42, 47]))\n",
      "(array([0, 1, 2, 3, 4, 5, 6, 7, 8, 9], dtype=uint8), array([49, 36, 43, 62, 49, 39, 58, 50, 42, 47]))\n",
      "(array([0, 1, 2, 3, 4, 5, 6, 7, 8, 9], dtype=uint8), array([49, 36, 43, 62, 49, 39, 58, 50, 42, 47]))\n",
      "(array([0, 1, 2, 3, 4, 5, 6, 7, 8, 9], dtype=uint8), array([50, 36, 43, 61, 49, 39, 58, 50, 42, 47]))\n",
      "(array([0, 1, 2, 3, 4, 5, 6, 7, 8, 9], dtype=uint8), array([50, 36, 43, 61, 49, 39, 58, 50, 42, 47]))\n",
      "(array([0, 1, 2, 3, 4, 5, 6, 7, 8, 9], dtype=uint8), array([50, 36, 43, 61, 49, 39, 58, 49, 43, 47]))\n",
      "(array([0, 1, 2, 3, 4, 5, 6, 7, 8, 9], dtype=uint8), array([50, 36, 43, 61, 49, 39, 58, 49, 43, 47]))\n",
      "(array([0, 1, 2, 3, 4, 5, 6, 7, 8, 9], dtype=uint8), array([50, 36, 43, 61, 49, 39, 58, 49, 43, 47]))\n",
      "(array([0, 1, 2, 3, 4, 5, 6, 7, 8, 9], dtype=uint8), array([50, 36, 43, 62, 48, 39, 58, 49, 43, 47]))\n",
      "(array([0, 1, 2, 3, 4, 5, 6, 7, 8, 9], dtype=uint8), array([50, 36, 43, 62, 48, 39, 58, 49, 43, 47]))\n",
      "(array([0, 1, 2, 3, 4, 5, 6, 7, 8, 9], dtype=uint8), array([50, 36, 43, 62, 48, 39, 57, 49, 43, 48]))\n",
      "(array([0, 1, 2, 3, 4, 5, 6, 7, 8, 9], dtype=uint8), array([49, 36, 43, 62, 48, 39, 58, 49, 43, 48]))\n",
      "(array([0, 1, 2, 3, 4, 5, 6, 7, 8, 9], dtype=uint8), array([49, 36, 43, 62, 48, 39, 58, 49, 43, 48]))\n",
      "(array([0, 1, 2, 3, 4, 5, 6, 7, 8, 9], dtype=uint8), array([49, 36, 43, 62, 48, 39, 58, 49, 43, 48]))\n",
      "(array([0, 1, 2, 3, 4, 5, 6, 7, 8, 9], dtype=uint8), array([49, 36, 43, 62, 48, 39, 58, 49, 43, 48]))\n"
     ]
    }
   ],
   "source": [
    "for treino, validacao in skf.split(X_train, y_train):\n",
    "    count_train = np.unique(y_train[treino], return_counts=True)\n",
    "    print(count_train)"
   ]
  },
  {
   "cell_type": "markdown",
   "metadata": {
    "id": "vqnwArESMVzJ"
   },
   "source": [
    "Vamos quebrar nos conjuntos e avaliar o KNN. De um mundo de métricas, vamos fazer uso de 4 neste notebook:\n",
    "\n",
    "1. Precisão\n",
    "2. Revocação\n",
    "3. F1\n",
    "4. Acurácia\n",
    "\n",
    "![](https://raw.githubusercontent.com/icd-ufmg/material/master/aulas/23-MLPratica/f.png)\n",
    "\n",
    "Na figura acima, assuma que o termo `busca` indica as previsões do seu classificador (sem tempo para alterar a figura irmão). Sendo `y_p (y-pred)` um conjunto de elementos da previsão e `y_t (y-true)` os rótulos reais. Por clareza, vamos assumir duas classes `1 e 0`. Afinal, o caso multiclasse pode ser reduzido para este. Assim, cada elemento dos vetores `y_p` e `y_t` $\\in \\{0, 1\\}$. Os verdadeiros positivos, __true positive (TP)__, é o conjunto de previsões da classe `1` que foram corretas. Podemos formalizar como:\n",
    "\n",
    "$$TP = \\sum_i \\mathbb{1}_{y_t[i] = 1} \\mathbb{1}_{y_p[i] = 1}$$\n",
    "\n",
    "$\\mathbb{1}_{y_t[i] = 1}$ retorna 1 quando $y_t[i] = 1$, 0 caso contrário. O mesmo vale para $\\mathbb{1}_{y_t[i] = y_p[i]}$ que retorna um quando $y_p[i] = 1$. Usando a mesma notação, os verdadeiros negativos é definido como:\n",
    "\n",
    "$$TN = \\sum_i \\mathbb{1}_{y_t[i] = 0} \\mathbb{1}_{y_t[i] = 0}$$\n",
    "\n",
    "Os falsos positivos e negativos capturam os erros da previsão. Note que nos dois a previsão é o oposto do real:\n",
    "\n",
    "$$FP = \\sum_i \\mathbb{1}_{y_t[i] = 0} \\mathbb{1}_{y_p[i] = 1}$$\n",
    "\n",
    "$$FN = \\sum_i \\mathbb{1}_{y_t[i] = 1} \\mathbb{1}_{y_p[i] = 0}$$\n",
    "\n",
    "Assim, a acurácia do classificador é definida como a fração total de acertos:\n",
    "\n",
    "$$Acuracia = \\frac{TP + TN}{TP + TN + FP + FN}$$\n",
    "\n",
    "A precisão é definida como a fração dos elementos classificados como 1 que foram corretos:\n",
    "\n",
    "$$Precisão = \\frac{TP}{TP + FP}$$\n",
    "\n",
    "A revocação é a fração de todos os elementos do conjunto 1 que foram acertados. Diferente da precisão, aqui focamos nos elementos reais! Na precisão focamos nas previsões.\n",
    "\n",
    "$$Revocação = \\frac{TP}{TP + FN}$$\n",
    "\n",
    "Tanto a previsão quanto a revocação importam. Na primeira, precisão, queremos saber o quão bom o classificador é em retornar acertos. Na segunda, o quanto de elementos reais o classificador captura. Observe como um classificador que sempre retorna 1 tem revocação máxima, porém precisão baixa. Um classificador que sempre retorna 0 tem precisão máxima e revocação baixa. Para captura a média harmônica dos dois usamos o F1-score:\n",
    "\n",
    "$$F1 = MediaHarmonica(Precisao, Revocacao)$$\n",
    "\n",
    "Dependendo do problema uma métrica pode importar mais do que a outra. Aqui, trabalhamos com classes balanceadas, então a acurácia já é boa suficiente. Vamos avaliar a acurácia nos conjuntos abaixo:"
   ]
  },
  {
   "cell_type": "code",
   "execution_count": 19,
   "metadata": {
    "execution": {
     "iopub.execute_input": "2022-06-29T19:32:42.672248Z",
     "iopub.status.busy": "2022-06-29T19:32:42.671163Z",
     "iopub.status.idle": "2022-06-29T19:32:42.734811Z",
     "shell.execute_reply": "2022-06-29T19:32:42.735650Z"
    },
    "id": "l7BSWvlbMVzL"
   },
   "outputs": [],
   "source": [
    "from sklearn.neighbors import KNeighborsClassifier\n",
    "from sklearn.metrics import accuracy_score"
   ]
  },
  {
   "cell_type": "markdown",
   "metadata": {
    "id": "iYGYl7-AMVzS"
   },
   "source": [
    "Observe como o laço abaixo guarda o melhor valor de n para cada fold de validação!"
   ]
  },
  {
   "cell_type": "code",
   "execution_count": 20,
   "metadata": {
    "colab": {
     "base_uri": "https://localhost:8080/",
     "height": 364
    },
    "execution": {
     "iopub.execute_input": "2022-06-29T19:32:42.748425Z",
     "iopub.status.busy": "2022-06-29T19:32:42.746793Z",
     "iopub.status.idle": "2022-06-29T19:32:45.938361Z",
     "shell.execute_reply": "2022-06-29T19:32:45.939869Z"
    },
    "id": "xoykD4mHMVzV",
    "outputId": "868b3397-13ee-4729-877a-8f17bcef2cc2"
   },
   "outputs": [
    {
     "name": "stdout",
     "output_type": "stream",
     "text": [
      "Fold-1, melhor nn = 4, acc = 0.68\n",
      "Fold-2, melhor nn = 2, acc = 0.68\n",
      "Fold-3, melhor nn = 2, acc = 0.76\n",
      "Fold-4, melhor nn = 4, acc = 0.76\n",
      "Fold-5, melhor nn = 20, acc = 0.72\n",
      "Fold-6, melhor nn = 3, acc = 0.76\n",
      "Fold-7, melhor nn = 2, acc = 0.8\n",
      "Fold-8, melhor nn = 7, acc = 0.88\n",
      "Fold-9, melhor nn = 2, acc = 0.76\n",
      "Fold-10, melhor nn = 2, acc = 0.68\n",
      "Fold-11, melhor nn = 7, acc = 0.64\n",
      "Fold-12, melhor nn = 2, acc = 0.72\n",
      "Fold-13, melhor nn = 10, acc = 0.88\n",
      "Fold-14, melhor nn = 6, acc = 0.76\n",
      "Fold-15, melhor nn = 7, acc = 0.84\n",
      "Fold-16, melhor nn = 4, acc = 0.84\n",
      "Fold-17, melhor nn = 2, acc = 0.84\n",
      "Fold-18, melhor nn = 2, acc = 0.68\n",
      "Fold-19, melhor nn = 6, acc = 0.88\n",
      "Fold-20, melhor nn = 20, acc = 0.8\n"
     ]
    }
   ],
   "source": [
    "fold = 0\n",
    "melhores = []\n",
    "for treino, validacao in skf.split(X_train, y_train):\n",
    "    X_tt = X_train[treino]\n",
    "    y_tt = y_train[treino]\n",
    "    X_v = X_train[validacao]\n",
    "    y_v = y_train[validacao]\n",
    "    \n",
    "    best = (0, 0)\n",
    "    for nn in [2, 3, 4, 5, 6, 7, 8, 9, 10, 20, 30, 40, 50, 100]: # Vamos testar tais valores de n\n",
    "        model = KNeighborsClassifier(n_neighbors=nn)\n",
    "        model.fit(X_tt, y_tt) # treina no conjunto de treino\n",
    "        y_pv = model.predict(X_v) # previsões no conjunto de validação\n",
    "        \n",
    "        # Resultado com melhor acurácia!\n",
    "        accuracy = accuracy_score(y_v, y_pv)\n",
    "        if accuracy > best[0]:\n",
    "            best = (accuracy, nn)\n",
    "    \n",
    "    melhores.append(best[1])\n",
    "    fold += 1\n",
    "    print('Fold-{}, melhor nn = {}, acc = {}'.format(fold, best[1], best[0]))"
   ]
  },
  {
   "cell_type": "markdown",
   "metadata": {
    "id": "BeL3mP90MVzb"
   },
   "source": [
    "Vamos ver quantas vezes cada escolha de número de vizinhos, nn, ganhou na validação."
   ]
  },
  {
   "cell_type": "code",
   "execution_count": 21,
   "metadata": {
    "colab": {
     "base_uri": "https://localhost:8080/",
     "height": 555
    },
    "execution": {
     "iopub.execute_input": "2022-06-29T19:32:45.946993Z",
     "iopub.status.busy": "2022-06-29T19:32:45.945602Z",
     "iopub.status.idle": "2022-06-29T19:32:46.300543Z",
     "shell.execute_reply": "2022-06-29T19:32:46.299551Z"
    },
    "id": "WFeso6JAMVzc",
    "outputId": "a01e874e-ab7c-4cb3-c281-94fd17379c7d"
   },
   "outputs": [
    {
     "data": {
      "text/plain": [
       "Text(0, 0.5, 'Count na validação')"
      ]
     },
     "execution_count": 21,
     "metadata": {},
     "output_type": "execute_result"
    },
    {
     "data": {
      "image/png": "[encoded data removed]",
      "text/plain": [
       "<Figure size 864x576 with 1 Axes>"
      ]
     },
     "metadata": {
      "needs_background": "light"
     },
     "output_type": "display_data"
    }
   ],
   "source": [
    "unique, counts = np.unique(melhores, return_counts=True)\n",
    "plt.bar(unique, counts)\n",
    "despine()\n",
    "plt.title('Número de vezes que n ganhou na validação')\n",
    "plt.xlabel('NN')\n",
    "plt.ylabel('Count na validação')"
   ]
  },
  {
   "cell_type": "markdown",
   "metadata": {
    "id": "zl1TTfHZMVzg"
   },
   "source": [
    "Agora, podemos finalmente avaliar o modelo no conjunto de teste! Vamos escolher n como a médiana dos folds."
   ]
  },
  {
   "cell_type": "code",
   "execution_count": 22,
   "metadata": {
    "colab": {
     "base_uri": "https://localhost:8080/",
     "height": 35
    },
    "execution": {
     "iopub.execute_input": "2022-06-29T19:32:46.307781Z",
     "iopub.status.busy": "2022-06-29T19:32:46.306501Z",
     "iopub.status.idle": "2022-06-29T19:32:46.310748Z",
     "shell.execute_reply": "2022-06-29T19:32:46.311572Z"
    },
    "id": "Dy0t-LEOMVzi",
    "outputId": "9160c1f0-dfbf-43a4-bac7-0e33586fbbbd"
   },
   "outputs": [
    {
     "name": "stdout",
     "output_type": "stream",
     "text": [
      "4.0\n"
     ]
    }
   ],
   "source": [
    "print(np.median(melhores))"
   ]
  },
  {
   "cell_type": "markdown",
   "metadata": {
    "id": "qxACzvYyMVzv"
   },
   "source": [
    "Vamos verificar as outras métricas e todas as classes."
   ]
  },
  {
   "cell_type": "code",
   "execution_count": 23,
   "metadata": {
    "colab": {
     "base_uri": "https://localhost:8080/",
     "height": 312
    },
    "execution": {
     "iopub.execute_input": "2022-06-29T19:32:46.320710Z",
     "iopub.status.busy": "2022-06-29T19:32:46.319119Z",
     "iopub.status.idle": "2022-06-29T19:32:46.414397Z",
     "shell.execute_reply": "2022-06-29T19:32:46.415953Z"
    },
    "id": "LExxqL22MVzv",
    "outputId": "217766a8-a98e-4d5c-8384-81fe9ccb4817"
   },
   "outputs": [
    {
     "name": "stdout",
     "output_type": "stream",
     "text": [
      "              precision    recall  f1-score   support\n",
      "\n",
      "           0       0.71      0.77      0.74        53\n",
      "           1       0.95      0.97      0.96        40\n",
      "           2       0.53      0.62      0.57        63\n",
      "           3       0.86      0.93      0.90        46\n",
      "           4       0.63      0.60      0.62        55\n",
      "           5       0.94      0.60      0.73        52\n",
      "           6       0.53      0.43      0.47        49\n",
      "           7       0.71      0.87      0.78        52\n",
      "           8       0.94      0.79      0.86        43\n",
      "           9       0.83      0.96      0.89        47\n",
      "\n",
      "    accuracy                           0.74       500\n",
      "   macro avg       0.76      0.75      0.75       500\n",
      "weighted avg       0.75      0.74      0.74       500\n",
      "\n"
     ]
    }
   ],
   "source": [
    "from sklearn.metrics import classification_report\n",
    "\n",
    "model = KNeighborsClassifier(n_neighbors=5)\n",
    "model.fit(X_train, y_train)\n",
    "\n",
    "print(classification_report(y_test, model.predict(X_test)))"
   ]
  },
  {
   "cell_type": "markdown",
   "metadata": {
    "id": "DN4wcTpTMVz7"
   },
   "source": [
    "Parece que erramos muito a classe 4, coat. Casacos se parecem com camisas, vestidos etc. Podemos investigar isto usando a matriz de confusão."
   ]
  },
  {
   "cell_type": "code",
   "execution_count": 24,
   "metadata": {
    "colab": {
     "base_uri": "https://localhost:8080/",
     "height": 926
    },
    "execution": {
     "iopub.execute_input": "2022-06-29T19:32:46.426885Z",
     "iopub.status.busy": "2022-06-29T19:32:46.424843Z",
     "iopub.status.idle": "2022-06-29T19:32:46.923208Z",
     "shell.execute_reply": "2022-06-29T19:32:46.922110Z"
    },
    "id": "OuHD0WauMVz8",
    "outputId": "7f55838c-ba8d-4743-baba-bd1d007b3e62"
   },
   "outputs": [
    {
     "data": {
      "image/png": "[encoded data removed]",
      "text/plain": [
       "<Figure size 864x576 with 1 Axes>"
      ]
     },
     "metadata": {
      "needs_background": "light"
     },
     "output_type": "display_data"
    }
   ],
   "source": [
    "from sklearn.metrics import confusion_matrix\n",
    "plt.imshow(confusion_matrix(y_test, model.predict(X_test)))\n",
    "plt.xticks(labels.index, labels, rotation=90)\n",
    "plt.yticks(labels.index, labels);"
   ]
  },
  {
   "cell_type": "markdown",
   "metadata": {
    "id": "ZttqsfnYMV0C"
   },
   "source": [
    "## Logística\n",
    "\n",
    "Vamos repetir tudo para a regressão logística. Felizmente, o sklearn tem uma versão da logística que já faz treino/validação internamente. Para alguns modelos, existem atalhos para fazer isto. Caso queira entender, leia:\n",
    "\n",
    "https://robjhyndman.com/hyndsight/crossvalidation/"
   ]
  },
  {
   "cell_type": "code",
   "execution_count": 25,
   "metadata": {
    "execution": {
     "iopub.execute_input": "2022-06-29T19:32:46.930478Z",
     "iopub.status.busy": "2022-06-29T19:32:46.929204Z",
     "iopub.status.idle": "2022-06-29T19:32:46.932822Z",
     "shell.execute_reply": "2022-06-29T19:32:46.932019Z"
    },
    "id": "PmTqql8UMV0H"
   },
   "outputs": [],
   "source": [
    "from sklearn.linear_model import LogisticRegressionCV"
   ]
  },
  {
   "cell_type": "code",
   "execution_count": 26,
   "metadata": {
    "colab": {
     "base_uri": "https://localhost:8080/",
     "height": 1000
    },
    "execution": {
     "iopub.execute_input": "2022-06-29T19:32:46.940138Z",
     "iopub.status.busy": "2022-06-29T19:32:46.939056Z",
     "iopub.status.idle": "2022-06-29T19:38:25.868584Z",
     "shell.execute_reply": "2022-06-29T19:38:25.867621Z"
    },
    "id": "CK2LAkirMV0L",
    "outputId": "90bf0b41-5708-4d26-f3ba-73add3f5e74b"
   },
   "outputs": [
    {
     "data": {
      "text/plain": [
       "LogisticRegressionCV(Cs=100, cv=5, fit_intercept=False, multi_class='ovr',\n",
       "                     solver='liblinear')"
      ]
     },
     "execution_count": 26,
     "metadata": {},
     "output_type": "execute_result"
    }
   ],
   "source": [
    "# O LogisticCV tenta várias regularizações.\n",
    "model = LogisticRegressionCV(Cs=100,\n",
    "                             penalty='l2',   #ridge\n",
    "                             cv=5,           #5 folds internos\n",
    "                             fit_intercept=False,\n",
    "                             solver='liblinear',\n",
    "                             multi_class='ovr')\n",
    "model.fit(X_train, y_train)"
   ]
  },
  {
   "cell_type": "code",
   "execution_count": 27,
   "metadata": {
    "colab": {
     "base_uri": "https://localhost:8080/"
    },
    "execution": {
     "iopub.execute_input": "2022-06-29T19:38:25.876834Z",
     "iopub.status.busy": "2022-06-29T19:38:25.875478Z",
     "iopub.status.idle": "2022-06-29T19:38:25.879890Z",
     "shell.execute_reply": "2022-06-29T19:38:25.880901Z"
    },
    "id": "nDepivf_MV0P",
    "outputId": "b55e1ff7-bcd2-4bc3-b876-2e1871f29657"
   },
   "outputs": [
    {
     "data": {
      "text/plain": [
       "array([0.0001, 0.0001, 0.0001, 0.0001, 0.0001, 0.0001, 0.0001, 0.0001,\n",
       "       0.0001, 0.0001])"
      ]
     },
     "execution_count": 27,
     "metadata": {},
     "output_type": "execute_result"
    }
   ],
   "source": [
    "model.C_"
   ]
  },
  {
   "cell_type": "code",
   "execution_count": 28,
   "metadata": {
    "colab": {
     "base_uri": "https://localhost:8080/"
    },
    "execution": {
     "iopub.execute_input": "2022-06-29T19:38:25.888843Z",
     "iopub.status.busy": "2022-06-29T19:38:25.887247Z",
     "iopub.status.idle": "2022-06-29T19:38:25.904267Z",
     "shell.execute_reply": "2022-06-29T19:38:25.905439Z"
    },
    "id": "0X9blAPSMV0T",
    "outputId": "30d538e4-81ac-46ad-c10b-d75496dd49ac"
   },
   "outputs": [
    {
     "name": "stdout",
     "output_type": "stream",
     "text": [
      "              precision    recall  f1-score   support\n",
      "\n",
      "           0       0.83      0.64      0.72        53\n",
      "           1       1.00      0.97      0.99        40\n",
      "           2       0.69      0.54      0.61        63\n",
      "           3       0.75      0.91      0.82        46\n",
      "           4       0.59      0.75      0.66        55\n",
      "           5       1.00      0.69      0.82        52\n",
      "           6       0.52      0.65      0.58        49\n",
      "           7       0.85      0.87      0.86        52\n",
      "           8       0.89      0.79      0.84        43\n",
      "           9       0.82      0.98      0.89        47\n",
      "\n",
      "    accuracy                           0.77       500\n",
      "   macro avg       0.79      0.78      0.78       500\n",
      "weighted avg       0.79      0.77      0.77       500\n",
      "\n"
     ]
    }
   ],
   "source": [
    "print(classification_report(y_test, model.predict(X_test)))"
   ]
  },
  {
   "cell_type": "code",
   "execution_count": 29,
   "metadata": {
    "colab": {
     "base_uri": "https://localhost:8080/",
     "height": 926
    },
    "execution": {
     "iopub.execute_input": "2022-06-29T19:38:25.915118Z",
     "iopub.status.busy": "2022-06-29T19:38:25.913514Z",
     "iopub.status.idle": "2022-06-29T19:38:26.288206Z",
     "shell.execute_reply": "2022-06-29T19:38:26.289040Z"
    },
    "id": "VHZ8w4mtMV0a",
    "outputId": "e9c04795-454e-4fa5-9cd7-a608a93c1cad"
   },
   "outputs": [
    {
     "data": {
      "image/png": "[encoded data removed]",
      "text/plain": [
       "<Figure size 864x576 with 1 Axes>"
      ]
     },
     "metadata": {
      "needs_background": "light"
     },
     "output_type": "display_data"
    }
   ],
   "source": [
    "plt.imshow(confusion_matrix(y_test, model.predict(X_test)))\n",
    "plt.xticks(labels.index, labels, rotation=90)\n",
    "plt.yticks(labels.index, labels);"
   ]
  },
  {
   "cell_type": "markdown",
   "metadata": {
    "id": "iKcxB7zwMV0f"
   },
   "source": [
    "## Regressão\n",
    "\n",
    "Agora vamos avaliar modelos de regressão em dados tabulares. Primeiro, vamos carregar os dados. Obsevre que cada atributo é diferente. Data, numéricos categóricos, etc..."
   ]
  },
  {
   "cell_type": "code",
   "execution_count": 30,
   "metadata": {
    "colab": {
     "base_uri": "https://localhost:8080/"
    },
    "execution": {
     "iopub.execute_input": "2022-06-29T19:38:26.296832Z",
     "iopub.status.busy": "2022-06-29T19:38:26.295812Z",
     "iopub.status.idle": "2022-06-29T19:38:26.357942Z",
     "shell.execute_reply": "2022-06-29T19:38:26.358783Z"
    },
    "id": "IUtOU9T8MV0g",
    "outputId": "38fc46da-4613-4a88-b44f-1aec3b2e544a"
   },
   "outputs": [
    {
     "data": {
      "text/html": [
       "<div>\n",
       "<style scoped>\n",
       "    .dataframe tbody tr th:only-of-type {\n",
       "        vertical-align: middle;\n",
       "    }\n",
       "\n",
       "    .dataframe tbody tr th {\n",
       "        vertical-align: top;\n",
       "    }\n",
       "\n",
       "    .dataframe thead th {\n",
       "        text-align: right;\n",
       "    }\n",
       "</style>\n",
       "<table border=\"1\" class=\"dataframe\">\n",
       "  <thead>\n",
       "    <tr style=\"text-align: right;\">\n",
       "      <th></th>\n",
       "      <th>Store</th>\n",
       "      <th>Date</th>\n",
       "      <th>Weekly_Sales_Store</th>\n",
       "      <th>IsHoliday</th>\n",
       "      <th>Temperature</th>\n",
       "      <th>Fuel_Price</th>\n",
       "      <th>MarkDown1</th>\n",
       "      <th>MarkDown2</th>\n",
       "      <th>MarkDown3</th>\n",
       "      <th>MarkDown4</th>\n",
       "      <th>MarkDown5</th>\n",
       "      <th>CPI</th>\n",
       "      <th>Unemployment</th>\n",
       "      <th>Type</th>\n",
       "      <th>Size</th>\n",
       "      <th>Total Markdown</th>\n",
       "      <th>Total Sales</th>\n",
       "      <th>SalesPerSqFt</th>\n",
       "    </tr>\n",
       "  </thead>\n",
       "  <tbody>\n",
       "    <tr>\n",
       "      <th>0</th>\n",
       "      <td>1</td>\n",
       "      <td>5/2/2010</td>\n",
       "      <td>1643690.90</td>\n",
       "      <td>False</td>\n",
       "      <td>42.31</td>\n",
       "      <td>2.572</td>\n",
       "      <td>0.0</td>\n",
       "      <td>0.0</td>\n",
       "      <td>0.0</td>\n",
       "      <td>0.0</td>\n",
       "      <td>0.0</td>\n",
       "      <td>211.096358</td>\n",
       "      <td>8.106</td>\n",
       "      <td>A</td>\n",
       "      <td>151315</td>\n",
       "      <td>0.0</td>\n",
       "      <td>1643690.90</td>\n",
       "      <td>10.862710</td>\n",
       "    </tr>\n",
       "    <tr>\n",
       "      <th>1</th>\n",
       "      <td>1</td>\n",
       "      <td>12/2/2010</td>\n",
       "      <td>1641957.44</td>\n",
       "      <td>True</td>\n",
       "      <td>38.51</td>\n",
       "      <td>2.548</td>\n",
       "      <td>0.0</td>\n",
       "      <td>0.0</td>\n",
       "      <td>0.0</td>\n",
       "      <td>0.0</td>\n",
       "      <td>0.0</td>\n",
       "      <td>211.242170</td>\n",
       "      <td>8.106</td>\n",
       "      <td>A</td>\n",
       "      <td>151315</td>\n",
       "      <td>0.0</td>\n",
       "      <td>1641957.44</td>\n",
       "      <td>10.851254</td>\n",
       "    </tr>\n",
       "    <tr>\n",
       "      <th>2</th>\n",
       "      <td>1</td>\n",
       "      <td>19/2/2010</td>\n",
       "      <td>1611968.17</td>\n",
       "      <td>False</td>\n",
       "      <td>39.93</td>\n",
       "      <td>2.514</td>\n",
       "      <td>0.0</td>\n",
       "      <td>0.0</td>\n",
       "      <td>0.0</td>\n",
       "      <td>0.0</td>\n",
       "      <td>0.0</td>\n",
       "      <td>211.289143</td>\n",
       "      <td>8.106</td>\n",
       "      <td>A</td>\n",
       "      <td>151315</td>\n",
       "      <td>0.0</td>\n",
       "      <td>1611968.17</td>\n",
       "      <td>10.653063</td>\n",
       "    </tr>\n",
       "    <tr>\n",
       "      <th>3</th>\n",
       "      <td>1</td>\n",
       "      <td>26/2/2010</td>\n",
       "      <td>1409727.59</td>\n",
       "      <td>False</td>\n",
       "      <td>46.63</td>\n",
       "      <td>2.561</td>\n",
       "      <td>0.0</td>\n",
       "      <td>0.0</td>\n",
       "      <td>0.0</td>\n",
       "      <td>0.0</td>\n",
       "      <td>0.0</td>\n",
       "      <td>211.319643</td>\n",
       "      <td>8.106</td>\n",
       "      <td>A</td>\n",
       "      <td>151315</td>\n",
       "      <td>0.0</td>\n",
       "      <td>1409727.59</td>\n",
       "      <td>9.316509</td>\n",
       "    </tr>\n",
       "    <tr>\n",
       "      <th>4</th>\n",
       "      <td>1</td>\n",
       "      <td>5/3/2010</td>\n",
       "      <td>1554806.68</td>\n",
       "      <td>False</td>\n",
       "      <td>46.50</td>\n",
       "      <td>2.625</td>\n",
       "      <td>0.0</td>\n",
       "      <td>0.0</td>\n",
       "      <td>0.0</td>\n",
       "      <td>0.0</td>\n",
       "      <td>0.0</td>\n",
       "      <td>211.350143</td>\n",
       "      <td>8.106</td>\n",
       "      <td>A</td>\n",
       "      <td>151315</td>\n",
       "      <td>0.0</td>\n",
       "      <td>1554806.68</td>\n",
       "      <td>10.275298</td>\n",
       "    </tr>\n",
       "  </tbody>\n",
       "</table>\n",
       "</div>"
      ],
      "text/plain": [
       "   Store       Date  Weekly_Sales_Store  IsHoliday  Temperature  Fuel_Price  \\\n",
       "0      1   5/2/2010          1643690.90      False        42.31       2.572   \n",
       "1      1  12/2/2010          1641957.44       True        38.51       2.548   \n",
       "2      1  19/2/2010          1611968.17      False        39.93       2.514   \n",
       "3      1  26/2/2010          1409727.59      False        46.63       2.561   \n",
       "4      1   5/3/2010          1554806.68      False        46.50       2.625   \n",
       "\n",
       "   MarkDown1  MarkDown2  MarkDown3  MarkDown4  MarkDown5         CPI  \\\n",
       "0        0.0        0.0        0.0        0.0        0.0  211.096358   \n",
       "1        0.0        0.0        0.0        0.0        0.0  211.242170   \n",
       "2        0.0        0.0        0.0        0.0        0.0  211.289143   \n",
       "3        0.0        0.0        0.0        0.0        0.0  211.319643   \n",
       "4        0.0        0.0        0.0        0.0        0.0  211.350143   \n",
       "\n",
       "   Unemployment Type    Size  Total Markdown  Total Sales  SalesPerSqFt  \n",
       "0         8.106    A  151315             0.0   1643690.90     10.862710  \n",
       "1         8.106    A  151315             0.0   1641957.44     10.851254  \n",
       "2         8.106    A  151315             0.0   1611968.17     10.653063  \n",
       "3         8.106    A  151315             0.0   1409727.59      9.316509  \n",
       "4         8.106    A  151315             0.0   1554806.68     10.275298  "
      ]
     },
     "execution_count": 30,
     "metadata": {},
     "output_type": "execute_result"
    }
   ],
   "source": [
    "df = pd.read_csv('walmart.csv', on_bad_lines='skip')\n",
    "df = df.iloc[:, :-1]\n",
    "df.head()"
   ]
  },
  {
   "cell_type": "markdown",
   "metadata": {},
   "source": [
    "Vamos criar o treino e teste"
   ]
  },
  {
   "cell_type": "code",
   "execution_count": 31,
   "metadata": {
    "execution": {
     "iopub.execute_input": "2022-06-29T19:38:26.365586Z",
     "iopub.status.busy": "2022-06-29T19:38:26.364350Z",
     "iopub.status.idle": "2022-06-29T19:38:26.367271Z",
     "shell.execute_reply": "2022-06-29T19:38:26.368126Z"
    }
   },
   "outputs": [],
   "source": [
    "from sklearn.model_selection import train_test_split"
   ]
  },
  {
   "cell_type": "code",
   "execution_count": 32,
   "metadata": {
    "execution": {
     "iopub.execute_input": "2022-06-29T19:38:26.376273Z",
     "iopub.status.busy": "2022-06-29T19:38:26.374700Z",
     "iopub.status.idle": "2022-06-29T19:38:26.379974Z",
     "shell.execute_reply": "2022-06-29T19:38:26.380859Z"
    }
   },
   "outputs": [],
   "source": [
    "train_df, test_df = train_test_split(df, test_size=0.2)"
   ]
  },
  {
   "cell_type": "code",
   "execution_count": 33,
   "metadata": {
    "execution": {
     "iopub.execute_input": "2022-06-29T19:38:26.388211Z",
     "iopub.status.busy": "2022-06-29T19:38:26.387034Z",
     "iopub.status.idle": "2022-06-29T19:38:26.391353Z",
     "shell.execute_reply": "2022-06-29T19:38:26.392175Z"
    }
   },
   "outputs": [
    {
     "data": {
      "text/plain": [
       "(6435, 18)"
      ]
     },
     "execution_count": 33,
     "metadata": {},
     "output_type": "execute_result"
    }
   ],
   "source": [
    "df.shape"
   ]
  },
  {
   "cell_type": "code",
   "execution_count": 34,
   "metadata": {
    "execution": {
     "iopub.execute_input": "2022-06-29T19:38:26.400171Z",
     "iopub.status.busy": "2022-06-29T19:38:26.398837Z",
     "iopub.status.idle": "2022-06-29T19:38:26.403153Z",
     "shell.execute_reply": "2022-06-29T19:38:26.404007Z"
    }
   },
   "outputs": [
    {
     "data": {
      "text/plain": [
       "(5148, 18)"
      ]
     },
     "execution_count": 34,
     "metadata": {},
     "output_type": "execute_result"
    }
   ],
   "source": [
    "train_df.shape"
   ]
  },
  {
   "cell_type": "code",
   "execution_count": 35,
   "metadata": {
    "execution": {
     "iopub.execute_input": "2022-06-29T19:38:26.411309Z",
     "iopub.status.busy": "2022-06-29T19:38:26.410033Z",
     "iopub.status.idle": "2022-06-29T19:38:26.414376Z",
     "shell.execute_reply": "2022-06-29T19:38:26.415208Z"
    }
   },
   "outputs": [
    {
     "data": {
      "text/plain": [
       "(1287, 18)"
      ]
     },
     "execution_count": 35,
     "metadata": {},
     "output_type": "execute_result"
    }
   ],
   "source": [
    "test_df.shape"
   ]
  },
  {
   "cell_type": "markdown",
   "metadata": {
    "id": "wuyOtO3nMV0i"
   },
   "source": [
    "Segundo, temos que converter os atributos categóricos em colunas novas. Para isto, fazemos uso de one hot encoding. Cada categoria vira uma coluna de 1/0. Algoritmos como KNN e Logistic não sabem fazer uso de categorias por padrão. Mesmo se as categorias representarem números, faça uso de one hot. Sempre se pergunte: faz sentido computar uma distância nessa coluna? Se não, one-hot (ou outra abordagem)."
   ]
  },
  {
   "cell_type": "code",
   "execution_count": 36,
   "metadata": {
    "colab": {
     "base_uri": "https://localhost:8080/"
    },
    "execution": {
     "iopub.execute_input": "2022-06-29T19:38:26.425445Z",
     "iopub.status.busy": "2022-06-29T19:38:26.424111Z",
     "iopub.status.idle": "2022-06-29T19:38:26.428310Z",
     "shell.execute_reply": "2022-06-29T19:38:26.427333Z"
    },
    "id": "yYkUwebKMV0j",
    "outputId": "9a26a3dc-0e9d-4c8b-985f-1b85aeb39c2b"
   },
   "outputs": [],
   "source": [
    "train_df = train_df.drop(['MarkDown1', 'MarkDown2', 'MarkDown3', 'MarkDown4', 'MarkDown5'], axis='columns')\n",
    "test_df = test_df.drop(['MarkDown1', 'MarkDown2', 'MarkDown3', 'MarkDown4', 'MarkDown5'], axis='columns')"
   ]
  },
  {
   "cell_type": "code",
   "execution_count": 37,
   "metadata": {
    "colab": {
     "base_uri": "https://localhost:8080/"
    },
    "execution": {
     "iopub.execute_input": "2022-06-29T19:38:26.451741Z",
     "iopub.status.busy": "2022-06-29T19:38:26.442613Z",
     "iopub.status.idle": "2022-06-29T19:38:26.456036Z",
     "shell.execute_reply": "2022-06-29T19:38:26.456919Z"
    },
    "id": "BCAXiAXyMV0n",
    "outputId": "caa12fd1-c718-41cc-d9c2-339b2f0c8a00"
   },
   "outputs": [
    {
     "data": {
      "text/html": [
       "<div>\n",
       "<style scoped>\n",
       "    .dataframe tbody tr th:only-of-type {\n",
       "        vertical-align: middle;\n",
       "    }\n",
       "\n",
       "    .dataframe tbody tr th {\n",
       "        vertical-align: top;\n",
       "    }\n",
       "\n",
       "    .dataframe thead th {\n",
       "        text-align: right;\n",
       "    }\n",
       "</style>\n",
       "<table border=\"1\" class=\"dataframe\">\n",
       "  <thead>\n",
       "    <tr style=\"text-align: right;\">\n",
       "      <th></th>\n",
       "      <th>Store</th>\n",
       "      <th>Date</th>\n",
       "      <th>Weekly_Sales_Store</th>\n",
       "      <th>IsHoliday</th>\n",
       "      <th>Temperature</th>\n",
       "      <th>Fuel_Price</th>\n",
       "      <th>CPI</th>\n",
       "      <th>Unemployment</th>\n",
       "      <th>Type</th>\n",
       "      <th>Size</th>\n",
       "      <th>Total Markdown</th>\n",
       "      <th>Total Sales</th>\n",
       "      <th>SalesPerSqFt</th>\n",
       "    </tr>\n",
       "  </thead>\n",
       "  <tbody>\n",
       "    <tr>\n",
       "      <th>1873</th>\n",
       "      <td>14</td>\n",
       "      <td>14/5/2010</td>\n",
       "      <td>2129771.13</td>\n",
       "      <td>False</td>\n",
       "      <td>54.26</td>\n",
       "      <td>2.982</td>\n",
       "      <td>181.661279</td>\n",
       "      <td>8.899</td>\n",
       "      <td>A</td>\n",
       "      <td>200898</td>\n",
       "      <td>0.00</td>\n",
       "      <td>2129771.13</td>\n",
       "      <td>10.601256</td>\n",
       "    </tr>\n",
       "    <tr>\n",
       "      <th>413</th>\n",
       "      <td>3</td>\n",
       "      <td>13/7/2012</td>\n",
       "      <td>416913.10</td>\n",
       "      <td>False</td>\n",
       "      <td>82.28</td>\n",
       "      <td>3.256</td>\n",
       "      <td>225.434007</td>\n",
       "      <td>6.334</td>\n",
       "      <td>B</td>\n",
       "      <td>37392</td>\n",
       "      <td>3973.11</td>\n",
       "      <td>420886.21</td>\n",
       "      <td>11.256050</td>\n",
       "    </tr>\n",
       "    <tr>\n",
       "      <th>4048</th>\n",
       "      <td>29</td>\n",
       "      <td>10/12/2010</td>\n",
       "      <td>713834.74</td>\n",
       "      <td>False</td>\n",
       "      <td>28.43</td>\n",
       "      <td>3.132</td>\n",
       "      <td>132.676400</td>\n",
       "      <td>10.524</td>\n",
       "      <td>B</td>\n",
       "      <td>93638</td>\n",
       "      <td>0.00</td>\n",
       "      <td>713834.74</td>\n",
       "      <td>7.623345</td>\n",
       "    </tr>\n",
       "    <tr>\n",
       "      <th>2368</th>\n",
       "      <td>17</td>\n",
       "      <td>19/8/2011</td>\n",
       "      <td>797523.04</td>\n",
       "      <td>False</td>\n",
       "      <td>67.59</td>\n",
       "      <td>3.578</td>\n",
       "      <td>129.240581</td>\n",
       "      <td>6.745</td>\n",
       "      <td>B</td>\n",
       "      <td>93188</td>\n",
       "      <td>0.00</td>\n",
       "      <td>797523.04</td>\n",
       "      <td>8.558216</td>\n",
       "    </tr>\n",
       "    <tr>\n",
       "      <th>1465</th>\n",
       "      <td>11</td>\n",
       "      <td>8/10/2010</td>\n",
       "      <td>1293472.80</td>\n",
       "      <td>False</td>\n",
       "      <td>68.71</td>\n",
       "      <td>2.633</td>\n",
       "      <td>215.060858</td>\n",
       "      <td>7.564</td>\n",
       "      <td>A</td>\n",
       "      <td>207499</td>\n",
       "      <td>0.00</td>\n",
       "      <td>1293472.80</td>\n",
       "      <td>6.233634</td>\n",
       "    </tr>\n",
       "  </tbody>\n",
       "</table>\n",
       "</div>"
      ],
      "text/plain": [
       "      Store        Date  Weekly_Sales_Store  IsHoliday  Temperature  \\\n",
       "1873     14   14/5/2010          2129771.13      False        54.26   \n",
       "413       3   13/7/2012           416913.10      False        82.28   \n",
       "4048     29  10/12/2010           713834.74      False        28.43   \n",
       "2368     17   19/8/2011           797523.04      False        67.59   \n",
       "1465     11   8/10/2010          1293472.80      False        68.71   \n",
       "\n",
       "      Fuel_Price         CPI  Unemployment Type    Size  Total Markdown  \\\n",
       "1873       2.982  181.661279         8.899    A  200898            0.00   \n",
       "413        3.256  225.434007         6.334    B   37392         3973.11   \n",
       "4048       3.132  132.676400        10.524    B   93638            0.00   \n",
       "2368       3.578  129.240581         6.745    B   93188            0.00   \n",
       "1465       2.633  215.060858         7.564    A  207499            0.00   \n",
       "\n",
       "      Total Sales  SalesPerSqFt  \n",
       "1873   2129771.13     10.601256  \n",
       "413     420886.21     11.256050  \n",
       "4048    713834.74      7.623345  \n",
       "2368    797523.04      8.558216  \n",
       "1465   1293472.80      6.233634  "
      ]
     },
     "execution_count": 37,
     "metadata": {},
     "output_type": "execute_result"
    }
   ],
   "source": [
    "train_df.head()"
   ]
  },
  {
   "cell_type": "code",
   "execution_count": 38,
   "metadata": {
    "execution": {
     "iopub.execute_input": "2022-06-29T19:38:26.466436Z",
     "iopub.status.busy": "2022-06-29T19:38:26.465258Z",
     "iopub.status.idle": "2022-06-29T19:38:26.470624Z",
     "shell.execute_reply": "2022-06-29T19:38:26.469782Z"
    }
   },
   "outputs": [
    {
     "data": {
      "text/plain": [
       "Store                   int64\n",
       "Date                   object\n",
       "Weekly_Sales_Store    float64\n",
       "IsHoliday                bool\n",
       "Temperature           float64\n",
       "Fuel_Price            float64\n",
       "CPI                   float64\n",
       "Unemployment          float64\n",
       "Type                   object\n",
       "Size                    int64\n",
       "Total Markdown        float64\n",
       "Total Sales           float64\n",
       "SalesPerSqFt          float64\n",
       "dtype: object"
      ]
     },
     "execution_count": 38,
     "metadata": {},
     "output_type": "execute_result"
    }
   ],
   "source": [
    "train_df.dtypes"
   ]
  },
  {
   "cell_type": "markdown",
   "metadata": {
    "id": "_bOlMrMdMV0w"
   },
   "source": [
    "Vamos inicialmente converter a data. Note que a mesma existe em uma escala completamente diferente do resto. O split abaixo quebra o texto da data."
   ]
  },
  {
   "cell_type": "code",
   "execution_count": 39,
   "metadata": {
    "colab": {
     "base_uri": "https://localhost:8080/"
    },
    "execution": {
     "iopub.execute_input": "2022-06-29T19:38:26.487716Z",
     "iopub.status.busy": "2022-06-29T19:38:26.486536Z",
     "iopub.status.idle": "2022-06-29T19:38:26.491937Z",
     "shell.execute_reply": "2022-06-29T19:38:26.491072Z"
    },
    "id": "IkU_HDAOMV0y",
    "outputId": "f99cb2b3-6a02-40e2-e040-ae08cf6d7432"
   },
   "outputs": [
    {
     "data": {
      "text/plain": [
       "1873     [14, 5, 2010]\n",
       "413      [13, 7, 2012]\n",
       "4048    [10, 12, 2010]\n",
       "2368     [19, 8, 2011]\n",
       "1465     [8, 10, 2010]\n",
       "             ...      \n",
       "1870     [23, 4, 2010]\n",
       "5763     [3, 12, 2010]\n",
       "4307      [4, 6, 2010]\n",
       "3512     [19, 8, 2011]\n",
       "131      [10, 8, 2012]\n",
       "Name: Date, Length: 5148, dtype: object"
      ]
     },
     "execution_count": 39,
     "metadata": {},
     "output_type": "execute_result"
    }
   ],
   "source": [
    "train_df['Date'].str.split('/')"
   ]
  },
  {
   "cell_type": "markdown",
   "metadata": {},
   "source": [
    "Agora pegamos o mês"
   ]
  },
  {
   "cell_type": "code",
   "execution_count": 40,
   "metadata": {
    "execution": {
     "iopub.execute_input": "2022-06-29T19:38:26.505705Z",
     "iopub.status.busy": "2022-06-29T19:38:26.504402Z",
     "iopub.status.idle": "2022-06-29T19:38:26.508442Z",
     "shell.execute_reply": "2022-06-29T19:38:26.509257Z"
    }
   },
   "outputs": [
    {
     "name": "stdout",
     "output_type": "stream",
     "text": [
      "5\n"
     ]
    }
   ],
   "source": [
    "for split in train_df['Date'].str.split('/'):\n",
    "    print(split[1])\n",
    "    break"
   ]
  },
  {
   "cell_type": "code",
   "execution_count": 41,
   "metadata": {
    "execution": {
     "iopub.execute_input": "2022-06-29T19:38:26.526199Z",
     "iopub.status.busy": "2022-06-29T19:38:26.525156Z",
     "iopub.status.idle": "2022-06-29T19:38:26.527839Z",
     "shell.execute_reply": "2022-06-29T19:38:26.528685Z"
    }
   },
   "outputs": [],
   "source": [
    "train_df['Month'] = [split[1] for split in train_df['Date'].str.split('/')]\n",
    "test_df['Month'] = [split[1] for split in test_df['Date'].str.split('/')]"
   ]
  },
  {
   "cell_type": "code",
   "execution_count": 42,
   "metadata": {
    "execution": {
     "iopub.execute_input": "2022-06-29T19:38:26.549855Z",
     "iopub.status.busy": "2022-06-29T19:38:26.539363Z",
     "iopub.status.idle": "2022-06-29T19:38:26.557488Z",
     "shell.execute_reply": "2022-06-29T19:38:26.558337Z"
    }
   },
   "outputs": [
    {
     "data": {
      "text/html": [
       "<div>\n",
       "<style scoped>\n",
       "    .dataframe tbody tr th:only-of-type {\n",
       "        vertical-align: middle;\n",
       "    }\n",
       "\n",
       "    .dataframe tbody tr th {\n",
       "        vertical-align: top;\n",
       "    }\n",
       "\n",
       "    .dataframe thead th {\n",
       "        text-align: right;\n",
       "    }\n",
       "</style>\n",
       "<table border=\"1\" class=\"dataframe\">\n",
       "  <thead>\n",
       "    <tr style=\"text-align: right;\">\n",
       "      <th></th>\n",
       "      <th>Store</th>\n",
       "      <th>Date</th>\n",
       "      <th>Weekly_Sales_Store</th>\n",
       "      <th>IsHoliday</th>\n",
       "      <th>Temperature</th>\n",
       "      <th>Fuel_Price</th>\n",
       "      <th>CPI</th>\n",
       "      <th>Unemployment</th>\n",
       "      <th>Type</th>\n",
       "      <th>Size</th>\n",
       "      <th>Total Markdown</th>\n",
       "      <th>Total Sales</th>\n",
       "      <th>SalesPerSqFt</th>\n",
       "      <th>Month</th>\n",
       "    </tr>\n",
       "  </thead>\n",
       "  <tbody>\n",
       "    <tr>\n",
       "      <th>5311</th>\n",
       "      <td>38</td>\n",
       "      <td>25/6/2010</td>\n",
       "      <td>322046.76</td>\n",
       "      <td>False</td>\n",
       "      <td>87.27</td>\n",
       "      <td>3.084</td>\n",
       "      <td>126.126600</td>\n",
       "      <td>14.099</td>\n",
       "      <td>C</td>\n",
       "      <td>39690</td>\n",
       "      <td>0.00</td>\n",
       "      <td>322046.76</td>\n",
       "      <td>8.114053</td>\n",
       "      <td>6</td>\n",
       "    </tr>\n",
       "    <tr>\n",
       "      <th>2295</th>\n",
       "      <td>17</td>\n",
       "      <td>26/3/2010</td>\n",
       "      <td>793097.64</td>\n",
       "      <td>False</td>\n",
       "      <td>35.59</td>\n",
       "      <td>2.819</td>\n",
       "      <td>126.605064</td>\n",
       "      <td>6.548</td>\n",
       "      <td>B</td>\n",
       "      <td>93188</td>\n",
       "      <td>0.00</td>\n",
       "      <td>793097.64</td>\n",
       "      <td>8.510727</td>\n",
       "      <td>3</td>\n",
       "    </tr>\n",
       "    <tr>\n",
       "      <th>3071</th>\n",
       "      <td>22</td>\n",
       "      <td>27/5/2011</td>\n",
       "      <td>1021568.34</td>\n",
       "      <td>False</td>\n",
       "      <td>62.59</td>\n",
       "      <td>4.034</td>\n",
       "      <td>138.678283</td>\n",
       "      <td>8.252</td>\n",
       "      <td>B</td>\n",
       "      <td>119557</td>\n",
       "      <td>0.00</td>\n",
       "      <td>1021568.34</td>\n",
       "      <td>8.544613</td>\n",
       "      <td>5</td>\n",
       "    </tr>\n",
       "    <tr>\n",
       "      <th>2825</th>\n",
       "      <td>20</td>\n",
       "      <td>2/3/2012</td>\n",
       "      <td>2148822.76</td>\n",
       "      <td>False</td>\n",
       "      <td>39.98</td>\n",
       "      <td>3.816</td>\n",
       "      <td>213.671813</td>\n",
       "      <td>6.961</td>\n",
       "      <td>A</td>\n",
       "      <td>203742</td>\n",
       "      <td>64587.65</td>\n",
       "      <td>2213410.41</td>\n",
       "      <td>10.863791</td>\n",
       "      <td>3</td>\n",
       "    </tr>\n",
       "    <tr>\n",
       "      <th>2826</th>\n",
       "      <td>20</td>\n",
       "      <td>9/3/2012</td>\n",
       "      <td>2139265.40</td>\n",
       "      <td>False</td>\n",
       "      <td>41.14</td>\n",
       "      <td>3.848</td>\n",
       "      <td>213.871114</td>\n",
       "      <td>6.961</td>\n",
       "      <td>A</td>\n",
       "      <td>203742</td>\n",
       "      <td>18826.01</td>\n",
       "      <td>2158091.41</td>\n",
       "      <td>10.592276</td>\n",
       "      <td>3</td>\n",
       "    </tr>\n",
       "  </tbody>\n",
       "</table>\n",
       "</div>"
      ],
      "text/plain": [
       "      Store       Date  Weekly_Sales_Store  IsHoliday  Temperature  \\\n",
       "5311     38  25/6/2010           322046.76      False        87.27   \n",
       "2295     17  26/3/2010           793097.64      False        35.59   \n",
       "3071     22  27/5/2011          1021568.34      False        62.59   \n",
       "2825     20   2/3/2012          2148822.76      False        39.98   \n",
       "2826     20   9/3/2012          2139265.40      False        41.14   \n",
       "\n",
       "      Fuel_Price         CPI  Unemployment Type    Size  Total Markdown  \\\n",
       "5311       3.084  126.126600        14.099    C   39690            0.00   \n",
       "2295       2.819  126.605064         6.548    B   93188            0.00   \n",
       "3071       4.034  138.678283         8.252    B  119557            0.00   \n",
       "2825       3.816  213.671813         6.961    A  203742        64587.65   \n",
       "2826       3.848  213.871114         6.961    A  203742        18826.01   \n",
       "\n",
       "      Total Sales  SalesPerSqFt Month  \n",
       "5311    322046.76      8.114053     6  \n",
       "2295    793097.64      8.510727     3  \n",
       "3071   1021568.34      8.544613     5  \n",
       "2825   2213410.41     10.863791     3  \n",
       "2826   2158091.41     10.592276     3  "
      ]
     },
     "execution_count": 42,
     "metadata": {},
     "output_type": "execute_result"
    }
   ],
   "source": [
    "test_df.head()"
   ]
  },
  {
   "cell_type": "markdown",
   "metadata": {},
   "source": [
    "Removendo a data"
   ]
  },
  {
   "cell_type": "code",
   "execution_count": 43,
   "metadata": {
    "execution": {
     "iopub.execute_input": "2022-06-29T19:38:26.570374Z",
     "iopub.status.busy": "2022-06-29T19:38:26.568992Z",
     "iopub.status.idle": "2022-06-29T19:38:26.573696Z",
     "shell.execute_reply": "2022-06-29T19:38:26.574577Z"
    }
   },
   "outputs": [
    {
     "data": {
      "text/plain": [
       "(5148, 13)"
      ]
     },
     "execution_count": 43,
     "metadata": {},
     "output_type": "execute_result"
    }
   ],
   "source": [
    "train_df = train_df.drop(['Date'], axis='columns')\n",
    "test_df = test_df.drop(['Date'], axis='columns')\n",
    "train_df.shape"
   ]
  },
  {
   "cell_type": "markdown",
   "metadata": {},
   "source": [
    "One hot encoding do resto categórico"
   ]
  },
  {
   "cell_type": "code",
   "execution_count": 44,
   "metadata": {
    "execution": {
     "iopub.execute_input": "2022-06-29T19:38:26.587939Z",
     "iopub.status.busy": "2022-06-29T19:38:26.586546Z",
     "iopub.status.idle": "2022-06-29T19:38:26.609747Z",
     "shell.execute_reply": "2022-06-29T19:38:26.608776Z"
    }
   },
   "outputs": [],
   "source": [
    "cols_usar = ['Temperature', 'Fuel_Price', 'CPI', 'Unemployment', 'Size',\n",
    "             'Weekly_Sales_Store',\n",
    "             'Store', 'Month', 'Type', 'IsHoliday']\n",
    "cols_cat = ['Store', 'Month', 'Type', 'IsHoliday']\n",
    "train_df = pd.get_dummies(train_df[cols_usar],\n",
    "                          columns=cols_cat)\n",
    "test_df = pd.get_dummies(test_df[cols_usar],\n",
    "                         columns=cols_cat)"
   ]
  },
  {
   "cell_type": "markdown",
   "metadata": {},
   "source": [
    "Vamos focar em poucos pontos para o notebook executar e só olhar para o teste no fim de tudo!"
   ]
  },
  {
   "cell_type": "code",
   "execution_count": 45,
   "metadata": {
    "execution": {
     "iopub.execute_input": "2022-06-29T19:38:26.616678Z",
     "iopub.status.busy": "2022-06-29T19:38:26.615661Z",
     "iopub.status.idle": "2022-06-29T19:38:26.622811Z",
     "shell.execute_reply": "2022-06-29T19:38:26.621993Z"
    }
   },
   "outputs": [],
   "source": [
    "train_df = train_df.sample(1000)\n",
    "test_df = test_df.sample(1000)"
   ]
  },
  {
   "cell_type": "markdown",
   "metadata": {
    "id": "rREcZ8k4MV03"
   },
   "source": [
    "*Normalizando dados*: Como trabalhar com esse mundo de valores distintos? Solução!? Normalizar!"
   ]
  },
  {
   "cell_type": "code",
   "execution_count": 46,
   "metadata": {
    "execution": {
     "iopub.execute_input": "2022-06-29T19:38:26.631298Z",
     "iopub.status.busy": "2022-06-29T19:38:26.630224Z",
     "iopub.status.idle": "2022-06-29T19:38:26.633116Z",
     "shell.execute_reply": "2022-06-29T19:38:26.633986Z"
    }
   },
   "outputs": [],
   "source": [
    "y_train_df = train_df['Weekly_Sales_Store']\n",
    "X_train_df = train_df.drop('Weekly_Sales_Store', axis='columns')"
   ]
  },
  {
   "cell_type": "code",
   "execution_count": 47,
   "metadata": {
    "execution": {
     "iopub.execute_input": "2022-06-29T19:38:26.664714Z",
     "iopub.status.busy": "2022-06-29T19:38:26.663434Z",
     "iopub.status.idle": "2022-06-29T19:38:26.668254Z",
     "shell.execute_reply": "2022-06-29T19:38:26.669087Z"
    }
   },
   "outputs": [
    {
     "data": {
      "text/html": [
       "<div>\n",
       "<style scoped>\n",
       "    .dataframe tbody tr th:only-of-type {\n",
       "        vertical-align: middle;\n",
       "    }\n",
       "\n",
       "    .dataframe tbody tr th {\n",
       "        vertical-align: top;\n",
       "    }\n",
       "\n",
       "    .dataframe thead th {\n",
       "        text-align: right;\n",
       "    }\n",
       "</style>\n",
       "<table border=\"1\" class=\"dataframe\">\n",
       "  <thead>\n",
       "    <tr style=\"text-align: right;\">\n",
       "      <th></th>\n",
       "      <th>Temperature</th>\n",
       "      <th>Fuel_Price</th>\n",
       "      <th>CPI</th>\n",
       "      <th>Unemployment</th>\n",
       "      <th>Size</th>\n",
       "      <th>Store_1</th>\n",
       "      <th>Store_2</th>\n",
       "      <th>Store_3</th>\n",
       "      <th>Store_4</th>\n",
       "      <th>Store_5</th>\n",
       "      <th>...</th>\n",
       "      <th>Month_5</th>\n",
       "      <th>Month_6</th>\n",
       "      <th>Month_7</th>\n",
       "      <th>Month_8</th>\n",
       "      <th>Month_9</th>\n",
       "      <th>Type_A</th>\n",
       "      <th>Type_B</th>\n",
       "      <th>Type_C</th>\n",
       "      <th>IsHoliday_False</th>\n",
       "      <th>IsHoliday_True</th>\n",
       "    </tr>\n",
       "  </thead>\n",
       "  <tbody>\n",
       "    <tr>\n",
       "      <th>552</th>\n",
       "      <td>80.94</td>\n",
       "      <td>3.372</td>\n",
       "      <td>130.829533</td>\n",
       "      <td>4.308</td>\n",
       "      <td>205863</td>\n",
       "      <td>0</td>\n",
       "      <td>0</td>\n",
       "      <td>0</td>\n",
       "      <td>1</td>\n",
       "      <td>0</td>\n",
       "      <td>...</td>\n",
       "      <td>0</td>\n",
       "      <td>1</td>\n",
       "      <td>0</td>\n",
       "      <td>0</td>\n",
       "      <td>0</td>\n",
       "      <td>1</td>\n",
       "      <td>0</td>\n",
       "      <td>0</td>\n",
       "      <td>1</td>\n",
       "      <td>0</td>\n",
       "    </tr>\n",
       "    <tr>\n",
       "      <th>1376</th>\n",
       "      <td>77.91</td>\n",
       "      <td>3.842</td>\n",
       "      <td>129.782161</td>\n",
       "      <td>7.874</td>\n",
       "      <td>126512</td>\n",
       "      <td>0</td>\n",
       "      <td>0</td>\n",
       "      <td>0</td>\n",
       "      <td>0</td>\n",
       "      <td>0</td>\n",
       "      <td>...</td>\n",
       "      <td>0</td>\n",
       "      <td>0</td>\n",
       "      <td>0</td>\n",
       "      <td>0</td>\n",
       "      <td>0</td>\n",
       "      <td>0</td>\n",
       "      <td>1</td>\n",
       "      <td>0</td>\n",
       "      <td>1</td>\n",
       "      <td>0</td>\n",
       "    </tr>\n",
       "    <tr>\n",
       "      <th>5807</th>\n",
       "      <td>58.74</td>\n",
       "      <td>3.498</td>\n",
       "      <td>194.945972</td>\n",
       "      <td>6.759</td>\n",
       "      <td>196321</td>\n",
       "      <td>0</td>\n",
       "      <td>0</td>\n",
       "      <td>0</td>\n",
       "      <td>0</td>\n",
       "      <td>0</td>\n",
       "      <td>...</td>\n",
       "      <td>0</td>\n",
       "      <td>0</td>\n",
       "      <td>0</td>\n",
       "      <td>0</td>\n",
       "      <td>0</td>\n",
       "      <td>1</td>\n",
       "      <td>0</td>\n",
       "      <td>0</td>\n",
       "      <td>1</td>\n",
       "      <td>0</td>\n",
       "    </tr>\n",
       "    <tr>\n",
       "      <th>947</th>\n",
       "      <td>37.49</td>\n",
       "      <td>3.548</td>\n",
       "      <td>195.178999</td>\n",
       "      <td>8.513</td>\n",
       "      <td>70713</td>\n",
       "      <td>0</td>\n",
       "      <td>0</td>\n",
       "      <td>0</td>\n",
       "      <td>0</td>\n",
       "      <td>0</td>\n",
       "      <td>...</td>\n",
       "      <td>0</td>\n",
       "      <td>0</td>\n",
       "      <td>0</td>\n",
       "      <td>0</td>\n",
       "      <td>0</td>\n",
       "      <td>0</td>\n",
       "      <td>1</td>\n",
       "      <td>0</td>\n",
       "      <td>1</td>\n",
       "      <td>0</td>\n",
       "    </tr>\n",
       "    <tr>\n",
       "      <th>3162</th>\n",
       "      <td>69.26</td>\n",
       "      <td>2.906</td>\n",
       "      <td>132.293936</td>\n",
       "      <td>5.435</td>\n",
       "      <td>114533</td>\n",
       "      <td>0</td>\n",
       "      <td>0</td>\n",
       "      <td>0</td>\n",
       "      <td>0</td>\n",
       "      <td>0</td>\n",
       "      <td>...</td>\n",
       "      <td>1</td>\n",
       "      <td>0</td>\n",
       "      <td>0</td>\n",
       "      <td>0</td>\n",
       "      <td>0</td>\n",
       "      <td>0</td>\n",
       "      <td>1</td>\n",
       "      <td>0</td>\n",
       "      <td>1</td>\n",
       "      <td>0</td>\n",
       "    </tr>\n",
       "    <tr>\n",
       "      <th>...</th>\n",
       "      <td>...</td>\n",
       "      <td>...</td>\n",
       "      <td>...</td>\n",
       "      <td>...</td>\n",
       "      <td>...</td>\n",
       "      <td>...</td>\n",
       "      <td>...</td>\n",
       "      <td>...</td>\n",
       "      <td>...</td>\n",
       "      <td>...</td>\n",
       "      <td>...</td>\n",
       "      <td>...</td>\n",
       "      <td>...</td>\n",
       "      <td>...</td>\n",
       "      <td>...</td>\n",
       "      <td>...</td>\n",
       "      <td>...</td>\n",
       "      <td>...</td>\n",
       "      <td>...</td>\n",
       "      <td>...</td>\n",
       "      <td>...</td>\n",
       "    </tr>\n",
       "    <tr>\n",
       "      <th>4541</th>\n",
       "      <td>33.40</td>\n",
       "      <td>3.191</td>\n",
       "      <td>196.956530</td>\n",
       "      <td>8.256</td>\n",
       "      <td>203007</td>\n",
       "      <td>0</td>\n",
       "      <td>0</td>\n",
       "      <td>0</td>\n",
       "      <td>0</td>\n",
       "      <td>0</td>\n",
       "      <td>...</td>\n",
       "      <td>0</td>\n",
       "      <td>0</td>\n",
       "      <td>0</td>\n",
       "      <td>0</td>\n",
       "      <td>0</td>\n",
       "      <td>1</td>\n",
       "      <td>0</td>\n",
       "      <td>0</td>\n",
       "      <td>1</td>\n",
       "      <td>0</td>\n",
       "    </tr>\n",
       "    <tr>\n",
       "      <th>2068</th>\n",
       "      <td>57.07</td>\n",
       "      <td>4.211</td>\n",
       "      <td>134.593000</td>\n",
       "      <td>7.658</td>\n",
       "      <td>123737</td>\n",
       "      <td>0</td>\n",
       "      <td>0</td>\n",
       "      <td>0</td>\n",
       "      <td>0</td>\n",
       "      <td>0</td>\n",
       "      <td>...</td>\n",
       "      <td>1</td>\n",
       "      <td>0</td>\n",
       "      <td>0</td>\n",
       "      <td>0</td>\n",
       "      <td>0</td>\n",
       "      <td>0</td>\n",
       "      <td>1</td>\n",
       "      <td>0</td>\n",
       "      <td>1</td>\n",
       "      <td>0</td>\n",
       "    </tr>\n",
       "    <tr>\n",
       "      <th>5245</th>\n",
       "      <td>58.31</td>\n",
       "      <td>3.159</td>\n",
       "      <td>217.878134</td>\n",
       "      <td>7.716</td>\n",
       "      <td>39910</td>\n",
       "      <td>0</td>\n",
       "      <td>0</td>\n",
       "      <td>0</td>\n",
       "      <td>0</td>\n",
       "      <td>0</td>\n",
       "      <td>...</td>\n",
       "      <td>0</td>\n",
       "      <td>0</td>\n",
       "      <td>0</td>\n",
       "      <td>0</td>\n",
       "      <td>0</td>\n",
       "      <td>0</td>\n",
       "      <td>0</td>\n",
       "      <td>1</td>\n",
       "      <td>1</td>\n",
       "      <td>0</td>\n",
       "    </tr>\n",
       "    <tr>\n",
       "      <th>2427</th>\n",
       "      <td>52.81</td>\n",
       "      <td>3.815</td>\n",
       "      <td>131.075667</td>\n",
       "      <td>5.527</td>\n",
       "      <td>93188</td>\n",
       "      <td>0</td>\n",
       "      <td>0</td>\n",
       "      <td>0</td>\n",
       "      <td>0</td>\n",
       "      <td>0</td>\n",
       "      <td>...</td>\n",
       "      <td>0</td>\n",
       "      <td>0</td>\n",
       "      <td>0</td>\n",
       "      <td>0</td>\n",
       "      <td>0</td>\n",
       "      <td>0</td>\n",
       "      <td>1</td>\n",
       "      <td>0</td>\n",
       "      <td>1</td>\n",
       "      <td>0</td>\n",
       "    </tr>\n",
       "    <tr>\n",
       "      <th>747</th>\n",
       "      <td>81.78</td>\n",
       "      <td>2.582</td>\n",
       "      <td>213.039864</td>\n",
       "      <td>6.973</td>\n",
       "      <td>202505</td>\n",
       "      <td>0</td>\n",
       "      <td>0</td>\n",
       "      <td>0</td>\n",
       "      <td>0</td>\n",
       "      <td>0</td>\n",
       "      <td>...</td>\n",
       "      <td>0</td>\n",
       "      <td>0</td>\n",
       "      <td>0</td>\n",
       "      <td>0</td>\n",
       "      <td>1</td>\n",
       "      <td>1</td>\n",
       "      <td>0</td>\n",
       "      <td>0</td>\n",
       "      <td>1</td>\n",
       "      <td>0</td>\n",
       "    </tr>\n",
       "  </tbody>\n",
       "</table>\n",
       "<p>1000 rows × 67 columns</p>\n",
       "</div>"
      ],
      "text/plain": [
       "      Temperature  Fuel_Price         CPI  Unemployment    Size  Store_1  \\\n",
       "552         80.94       3.372  130.829533         4.308  205863        0   \n",
       "1376        77.91       3.842  129.782161         7.874  126512        0   \n",
       "5807        58.74       3.498  194.945972         6.759  196321        0   \n",
       "947         37.49       3.548  195.178999         8.513   70713        0   \n",
       "3162        69.26       2.906  132.293936         5.435  114533        0   \n",
       "...           ...         ...         ...           ...     ...      ...   \n",
       "4541        33.40       3.191  196.956530         8.256  203007        0   \n",
       "2068        57.07       4.211  134.593000         7.658  123737        0   \n",
       "5245        58.31       3.159  217.878134         7.716   39910        0   \n",
       "2427        52.81       3.815  131.075667         5.527   93188        0   \n",
       "747         81.78       2.582  213.039864         6.973  202505        0   \n",
       "\n",
       "      Store_2  Store_3  Store_4  Store_5  ...  Month_5  Month_6  Month_7  \\\n",
       "552         0        0        1        0  ...        0        1        0   \n",
       "1376        0        0        0        0  ...        0        0        0   \n",
       "5807        0        0        0        0  ...        0        0        0   \n",
       "947         0        0        0        0  ...        0        0        0   \n",
       "3162        0        0        0        0  ...        1        0        0   \n",
       "...       ...      ...      ...      ...  ...      ...      ...      ...   \n",
       "4541        0        0        0        0  ...        0        0        0   \n",
       "2068        0        0        0        0  ...        1        0        0   \n",
       "5245        0        0        0        0  ...        0        0        0   \n",
       "2427        0        0        0        0  ...        0        0        0   \n",
       "747         0        0        0        0  ...        0        0        0   \n",
       "\n",
       "      Month_8  Month_9  Type_A  Type_B  Type_C  IsHoliday_False  \\\n",
       "552         0        0       1       0       0                1   \n",
       "1376        0        0       0       1       0                1   \n",
       "5807        0        0       1       0       0                1   \n",
       "947         0        0       0       1       0                1   \n",
       "3162        0        0       0       1       0                1   \n",
       "...       ...      ...     ...     ...     ...              ...   \n",
       "4541        0        0       1       0       0                1   \n",
       "2068        0        0       0       1       0                1   \n",
       "5245        0        0       0       0       1                1   \n",
       "2427        0        0       0       1       0                1   \n",
       "747         0        1       1       0       0                1   \n",
       "\n",
       "      IsHoliday_True  \n",
       "552                0  \n",
       "1376               0  \n",
       "5807               0  \n",
       "947                0  \n",
       "3162               0  \n",
       "...              ...  \n",
       "4541               0  \n",
       "2068               0  \n",
       "5245               0  \n",
       "2427               0  \n",
       "747                0  \n",
       "\n",
       "[1000 rows x 67 columns]"
      ]
     },
     "execution_count": 47,
     "metadata": {},
     "output_type": "execute_result"
    }
   ],
   "source": [
    "X_train_df"
   ]
  },
  {
   "cell_type": "code",
   "execution_count": 48,
   "metadata": {
    "execution": {
     "iopub.execute_input": "2022-06-29T19:38:26.675847Z",
     "iopub.status.busy": "2022-06-29T19:38:26.674394Z",
     "iopub.status.idle": "2022-06-29T19:38:26.678282Z",
     "shell.execute_reply": "2022-06-29T19:38:26.677455Z"
    }
   },
   "outputs": [],
   "source": [
    "from sklearn.preprocessing import StandardScaler"
   ]
  },
  {
   "cell_type": "markdown",
   "metadata": {},
   "source": [
    "**IMPORTANTE SÓ NORMALIZE O TREINO!!! DEPOIS USE A MÉDIA E DESVIO DO TREINO PARA NORMALIZAR O TESTE!!**\n",
    "\n",
    "**O TESTE É UM FUTURO! NÃO EXISTE, VOCÊ NÃO SABE NADA DO MESMO**"
   ]
  },
  {
   "cell_type": "code",
   "execution_count": 49,
   "metadata": {
    "execution": {
     "iopub.execute_input": "2022-06-29T19:38:26.686164Z",
     "iopub.status.busy": "2022-06-29T19:38:26.685104Z",
     "iopub.status.idle": "2022-06-29T19:38:26.691407Z",
     "shell.execute_reply": "2022-06-29T19:38:26.690443Z"
    }
   },
   "outputs": [],
   "source": [
    "scaler_x = StandardScaler()\n",
    "scaler_y = StandardScaler()\n",
    "\n",
    "X_train = scaler_x.fit_transform(X_train_df.values)\n",
    "y_train = scaler_y.fit_transform(y_train_df.values[:, np.newaxis])"
   ]
  },
  {
   "cell_type": "code",
   "execution_count": 50,
   "metadata": {
    "execution": {
     "iopub.execute_input": "2022-06-29T19:38:26.700000Z",
     "iopub.status.busy": "2022-06-29T19:38:26.698810Z",
     "iopub.status.idle": "2022-06-29T19:38:26.704335Z",
     "shell.execute_reply": "2022-06-29T19:38:26.703344Z"
    }
   },
   "outputs": [
    {
     "data": {
      "text/plain": [
       "array([[ 1.0872153 ,  0.01864001, -1.03364357, ..., -0.37623465,\n",
       "         0.25264558, -0.25264558],\n",
       "       [ 0.92104679,  1.04078509, -1.06031538, ..., -0.37623465,\n",
       "         0.25264558, -0.25264558],\n",
       "       [-0.13025691,  0.29266188,  0.59911109, ..., -0.37623465,\n",
       "         0.25264558, -0.25264558],\n",
       "       ...,\n",
       "       [-0.15383858, -0.44458744,  1.18308914, ...,  2.65791575,\n",
       "         0.25264558, -0.25264558],\n",
       "       [-0.45546458,  0.98206612, -1.02737567, ..., -0.37623465,\n",
       "         0.25264558, -0.25264558],\n",
       "       [ 1.13328181, -1.69943363,  1.05988038, ..., -0.37623465,\n",
       "         0.25264558, -0.25264558]])"
      ]
     },
     "execution_count": 50,
     "metadata": {},
     "output_type": "execute_result"
    }
   ],
   "source": [
    "X_train"
   ]
  },
  {
   "cell_type": "code",
   "execution_count": 51,
   "metadata": {
    "execution": {
     "iopub.execute_input": "2022-06-29T19:38:26.729685Z",
     "iopub.status.busy": "2022-06-29T19:38:26.714822Z",
     "iopub.status.idle": "2022-06-29T19:38:26.735048Z",
     "shell.execute_reply": "2022-06-29T19:38:26.734206Z"
    }
   },
   "outputs": [
    {
     "data": {
      "text/plain": [
       "array([[ 2.11179373e+00],\n",
       "       [ 1.23927519e+00],\n",
       "       [ 4.02883421e-01],\n",
       "       [-8.82302201e-01],\n",
       "       [ 9.26963464e-01],\n",
       "       [-1.43567270e-01],\n",
       "       [ 4.47272548e+00],\n",
       "       [-1.41490666e-01],\n",
       "       [ 1.57820465e+00],\n",
       "       [-1.14467652e+00],\n",
       "       [ 4.91371964e-01],\n",
       "       [-9.90656930e-01],\n",
       "       [-1.82763223e-01],\n",
       "       [-9.47780820e-01],\n",
       "       [ 1.00234506e+00],\n",
       "       [ 2.79450095e-01],\n",
       "       [-2.42999376e-01],\n",
       "       [-3.28434727e-01],\n",
       "       [-7.86361599e-01],\n",
       "       [ 3.22292895e-01],\n",
       "       [-1.24339657e+00],\n",
       "       [-1.24794206e+00],\n",
       "       [ 4.96822990e-01],\n",
       "       [ 5.27481040e-01],\n",
       "       [-1.04884632e+00],\n",
       "       [-7.19232286e-01],\n",
       "       [ 6.97719221e-01],\n",
       "       [ 5.84743486e-01],\n",
       "       [ 1.53766831e+00],\n",
       "       [-5.54472209e-02],\n",
       "       [ 1.45939982e+00],\n",
       "       [-2.03940735e-01],\n",
       "       [-5.47925940e-02],\n",
       "       [-3.88204155e-01],\n",
       "       [-1.05387964e+00],\n",
       "       [-8.51375977e-01],\n",
       "       [ 1.02871849e+00],\n",
       "       [ 1.40359979e+00],\n",
       "       [-6.78334872e-01],\n",
       "       [-6.80342891e-01],\n",
       "       [-1.23208542e+00],\n",
       "       [-8.97092092e-01],\n",
       "       [-4.78801880e-01],\n",
       "       [ 1.05332018e+00],\n",
       "       [ 4.81738330e-02],\n",
       "       [-6.86793200e-01],\n",
       "       [-1.00148228e+00],\n",
       "       [-2.32987978e-01],\n",
       "       [-1.05532426e+00],\n",
       "       [-2.32287068e-01],\n",
       "       [-1.21201809e+00],\n",
       "       [-1.27699809e+00],\n",
       "       [-1.10821829e+00],\n",
       "       [-9.24690874e-01],\n",
       "       [ 8.38506723e-02],\n",
       "       [-1.41220158e+00],\n",
       "       [ 8.72512306e-01],\n",
       "       [-4.43750450e-01],\n",
       "       [-5.63375456e-01],\n",
       "       [ 1.57521859e-01],\n",
       "       [ 8.98882731e-01],\n",
       "       [ 5.93803457e-01],\n",
       "       [ 2.35079081e-01],\n",
       "       [ 1.84046510e+00],\n",
       "       [ 2.06453007e+00],\n",
       "       [-1.23569451e+00],\n",
       "       [-1.20039977e+00],\n",
       "       [-1.38117000e+00],\n",
       "       [ 7.35561888e-01],\n",
       "       [-1.39475058e+00],\n",
       "       [-1.12446731e+00],\n",
       "       [-1.64962473e-01],\n",
       "       [-1.93954408e-01],\n",
       "       [ 7.62723877e-01],\n",
       "       [-1.42321418e+00],\n",
       "       [-1.03200427e+00],\n",
       "       [-1.06341579e+00],\n",
       "       [ 1.39427036e+00],\n",
       "       [-1.25774763e+00],\n",
       "       [-2.02848886e-01],\n",
       "       [ 3.43017942e-01],\n",
       "       [-4.21417472e-01],\n",
       "       [-6.41847812e-01],\n",
       "       [-9.76763891e-01],\n",
       "       [ 1.19456379e+00],\n",
       "       [-4.15240144e-01],\n",
       "       [ 1.39962892e+00],\n",
       "       [-6.53914353e-01],\n",
       "       [-9.34673645e-01],\n",
       "       [ 6.72916037e-01],\n",
       "       [-8.35238626e-01],\n",
       "       [-1.15317229e+00],\n",
       "       [ 1.92388307e+00],\n",
       "       [ 6.37132014e-01],\n",
       "       [-2.65449402e-01],\n",
       "       [-8.84767206e-01],\n",
       "       [ 3.72997313e-01],\n",
       "       [-6.58975386e-01],\n",
       "       [ 4.58894779e-01],\n",
       "       [ 4.46872716e-01],\n",
       "       [ 1.89902565e-01],\n",
       "       [-1.27716905e+00],\n",
       "       [-1.36806658e+00],\n",
       "       [-9.63820190e-01],\n",
       "       [-1.01724515e+00],\n",
       "       [-8.57650290e-02],\n",
       "       [-8.09397506e-01],\n",
       "       [-1.24374437e+00],\n",
       "       [ 9.51024887e-01],\n",
       "       [-1.29923034e+00],\n",
       "       [-9.43119393e-01],\n",
       "       [ 1.83749713e+00],\n",
       "       [-1.10558016e+00],\n",
       "       [ 7.03965182e-02],\n",
       "       [ 1.85473573e+00],\n",
       "       [ 5.25226274e-01],\n",
       "       [-4.52214228e-01],\n",
       "       [ 1.08613097e+00],\n",
       "       [-2.51321786e-01],\n",
       "       [ 7.36574342e-01],\n",
       "       [-7.43487366e-01],\n",
       "       [-3.76429554e-01],\n",
       "       [-9.92096848e-01],\n",
       "       [ 1.69029729e+00],\n",
       "       [-8.48033239e-01],\n",
       "       [-9.82017621e-02],\n",
       "       [ 8.57539409e-01],\n",
       "       [-7.99408892e-01],\n",
       "       [-9.20570564e-01],\n",
       "       [ 1.94299985e+00],\n",
       "       [ 2.75541672e+00],\n",
       "       [-4.91817168e-01],\n",
       "       [-9.25391194e-01],\n",
       "       [-1.14257563e+00],\n",
       "       [-1.21365222e+00],\n",
       "       [ 2.26745377e-01],\n",
       "       [ 6.62464200e-01],\n",
       "       [ 2.33313776e+00],\n",
       "       [-5.81411874e-01],\n",
       "       [-8.41082145e-01],\n",
       "       [-1.37184897e+00],\n",
       "       [-7.24321429e-01],\n",
       "       [ 1.40947685e+00],\n",
       "       [-1.61542882e-02],\n",
       "       [ 2.06827077e+00],\n",
       "       [-2.59410261e-01],\n",
       "       [-8.15242277e-01],\n",
       "       [-6.21420781e-01],\n",
       "       [ 1.03790504e+00],\n",
       "       [-1.08096511e+00],\n",
       "       [ 3.36833555e-01],\n",
       "       [-9.94830795e-01],\n",
       "       [ 5.93119505e-01],\n",
       "       [-8.29313120e-01],\n",
       "       [-1.80200451e-01],\n",
       "       [-9.97644406e-01],\n",
       "       [-5.15486669e-01],\n",
       "       [-1.02211487e+00],\n",
       "       [ 1.04280581e+00],\n",
       "       [ 1.59698726e+00],\n",
       "       [-8.40910094e-01],\n",
       "       [ 6.26821795e-01],\n",
       "       [-1.13662708e-02],\n",
       "       [ 4.22434757e-01],\n",
       "       [-5.78914167e-01],\n",
       "       [-3.19605832e-01],\n",
       "       [-1.22134495e+00],\n",
       "       [-1.16708999e+00],\n",
       "       [ 8.58583796e-01],\n",
       "       [ 1.38557375e+00],\n",
       "       [-9.72506252e-01],\n",
       "       [ 1.72991448e-01],\n",
       "       [ 1.46227719e+00],\n",
       "       [-3.22695729e-01],\n",
       "       [-1.10280018e+00],\n",
       "       [-9.66940216e-01],\n",
       "       [ 6.83130991e-01],\n",
       "       [ 1.67484527e+00],\n",
       "       [ 1.02801535e+00],\n",
       "       [ 2.41864128e-01],\n",
       "       [ 1.20713178e-01],\n",
       "       [-2.79008255e-01],\n",
       "       [-1.32890781e+00],\n",
       "       [ 1.59400036e+00],\n",
       "       [ 1.49169375e+00],\n",
       "       [-1.03406111e+00],\n",
       "       [ 9.78226060e-02],\n",
       "       [ 1.94663154e+00],\n",
       "       [-8.64826846e-04],\n",
       "       [-1.40892168e-01],\n",
       "       [ 4.22897747e-01],\n",
       "       [-1.14906331e+00],\n",
       "       [-1.32188808e+00],\n",
       "       [-1.17545060e+00],\n",
       "       [ 9.24192526e-01],\n",
       "       [-9.97137854e-02],\n",
       "       [ 7.24856764e-01],\n",
       "       [-6.06243936e-01],\n",
       "       [ 1.66907612e+00],\n",
       "       [-1.38529861e-01],\n",
       "       [-5.33536900e-01],\n",
       "       [-5.99658317e-01],\n",
       "       [-8.72198361e-01],\n",
       "       [-8.93654340e-01],\n",
       "       [-9.45218870e-01],\n",
       "       [ 8.85095572e-01],\n",
       "       [-6.32413128e-01],\n",
       "       [-9.62635185e-01],\n",
       "       [-6.66050712e-01],\n",
       "       [ 6.49707113e-01],\n",
       "       [ 3.26029682e-01],\n",
       "       [-1.06795313e+00],\n",
       "       [-3.64380204e-01],\n",
       "       [ 8.76732973e-01],\n",
       "       [ 1.43680746e+00],\n",
       "       [-2.59681240e-01],\n",
       "       [ 1.82651540e+00],\n",
       "       [-4.53987205e-01],\n",
       "       [-1.33841968e+00],\n",
       "       [-1.27617867e+00],\n",
       "       [ 2.79076096e-01],\n",
       "       [-5.96027981e-01],\n",
       "       [ 4.70435267e-01],\n",
       "       [-3.10339696e-01],\n",
       "       [ 1.26093746e+00],\n",
       "       [ 1.63022039e+00],\n",
       "       [ 1.69622280e+00],\n",
       "       [-3.70800849e-01],\n",
       "       [ 3.32584596e-02],\n",
       "       [ 7.58944132e-01],\n",
       "       [-1.31476059e+00],\n",
       "       [-6.95195917e-01],\n",
       "       [ 6.93055059e-01],\n",
       "       [ 1.04140803e-01],\n",
       "       [ 4.10917607e-01],\n",
       "       [-1.27698606e+00],\n",
       "       [-1.27415896e+00],\n",
       "       [-1.25011228e+00],\n",
       "       [-2.33766890e-01],\n",
       "       [-5.01286037e-01],\n",
       "       [-2.05854938e-01],\n",
       "       [ 1.25707532e+00],\n",
       "       [-1.96763534e-01],\n",
       "       [-1.06730631e+00],\n",
       "       [ 2.79173219e-01],\n",
       "       [ 7.37594926e-01],\n",
       "       [-3.20520287e-01],\n",
       "       [ 8.23444375e-01],\n",
       "       [ 9.14610844e-01],\n",
       "       [-1.12284395e+00],\n",
       "       [-2.37896116e-01],\n",
       "       [-1.27153937e-01],\n",
       "       [-4.64591991e-01],\n",
       "       [ 1.63990534e+00],\n",
       "       [-1.21471364e+00],\n",
       "       [-1.27093079e+00],\n",
       "       [ 1.51000516e+00],\n",
       "       [-3.91192123e-01],\n",
       "       [ 4.62015341e-01],\n",
       "       [ 1.13905313e+00],\n",
       "       [ 6.70038827e-01],\n",
       "       [-1.47556237e+00],\n",
       "       [-2.34542692e-01],\n",
       "       [-1.44474317e+00],\n",
       "       [ 1.06529676e+00],\n",
       "       [ 1.53205570e-01],\n",
       "       [-7.13696379e-01],\n",
       "       [ 2.33153227e-01],\n",
       "       [-3.72701739e-01],\n",
       "       [-9.21890737e-01],\n",
       "       [ 1.75477132e+00],\n",
       "       [ 1.58309831e-01],\n",
       "       [-4.39571045e-01],\n",
       "       [-1.23582802e+00],\n",
       "       [-8.39263087e-02],\n",
       "       [-1.40447276e+00],\n",
       "       [ 1.00997521e+00],\n",
       "       [ 2.30919475e-01],\n",
       "       [ 5.99578838e-01],\n",
       "       [ 1.89953073e+00],\n",
       "       [ 6.91569912e-01],\n",
       "       [-1.08213760e+00],\n",
       "       [-9.67419039e-01],\n",
       "       [-9.14252779e-01],\n",
       "       [-1.74679769e-01],\n",
       "       [ 1.75819654e+00],\n",
       "       [-1.28931392e+00],\n",
       "       [-1.13056306e+00],\n",
       "       [-1.07460742e+00],\n",
       "       [-1.33806894e+00],\n",
       "       [ 2.13363243e+00],\n",
       "       [-7.74751133e-01],\n",
       "       [-7.98135056e-01],\n",
       "       [-9.79023143e-01],\n",
       "       [ 9.37076917e-01],\n",
       "       [ 7.47125142e-01],\n",
       "       [-3.36867323e-01],\n",
       "       [ 1.37367690e+00],\n",
       "       [-6.37934579e-01],\n",
       "       [ 4.76456895e-01],\n",
       "       [ 4.17002584e-01],\n",
       "       [-7.01629928e-01],\n",
       "       [-4.35674466e-01],\n",
       "       [-4.92792076e-01],\n",
       "       [-9.02277374e-01],\n",
       "       [ 3.13553939e-01],\n",
       "       [-8.59477908e-01],\n",
       "       [-3.99988263e-01],\n",
       "       [-5.09452907e-01],\n",
       "       [ 1.78798074e+00],\n",
       "       [ 1.78971083e+00],\n",
       "       [-4.38431126e-01],\n",
       "       [-8.43413985e-01],\n",
       "       [-1.94716290e-01],\n",
       "       [ 1.26895837e+00],\n",
       "       [-9.25915800e-01],\n",
       "       [ 9.85281536e-01],\n",
       "       [ 1.95122573e+00],\n",
       "       [-1.17550268e+00],\n",
       "       [-8.47503505e-01],\n",
       "       [-4.24114554e-01],\n",
       "       [ 1.65578775e+00],\n",
       "       [-1.36078839e+00],\n",
       "       [ 1.54937196e-01],\n",
       "       [-7.46592631e-01],\n",
       "       [-4.29065348e-01],\n",
       "       [ 6.17478712e-01],\n",
       "       [-1.10115481e+00],\n",
       "       [-4.55513203e-01],\n",
       "       [ 9.72458202e-02],\n",
       "       [ 4.69849367e-01],\n",
       "       [ 3.69880897e-01],\n",
       "       [-1.20094805e+00],\n",
       "       [-1.11287243e-01],\n",
       "       [ 1.02235399e+00],\n",
       "       [ 4.51463254e-01],\n",
       "       [-1.67550620e-01],\n",
       "       [ 5.02510952e-01],\n",
       "       [-8.53518432e-01],\n",
       "       [ 5.07672610e-01],\n",
       "       [-9.39851422e-01],\n",
       "       [-7.94257741e-01],\n",
       "       [-1.09139343e+00],\n",
       "       [ 5.09249948e-01],\n",
       "       [ 3.73261608e-01],\n",
       "       [-3.16993471e-01],\n",
       "       [ 1.77898356e+00],\n",
       "       [ 1.29077689e-01],\n",
       "       [-1.37809007e+00],\n",
       "       [-9.60810332e-01],\n",
       "       [-1.36452370e+00],\n",
       "       [-6.97336137e-01],\n",
       "       [-1.06244367e+00],\n",
       "       [ 3.06910100e-01],\n",
       "       [ 5.23632335e-01],\n",
       "       [-8.60905466e-02],\n",
       "       [ 1.17831136e+00],\n",
       "       [ 2.04527743e+00],\n",
       "       [-5.19360642e-01],\n",
       "       [-9.20526730e-01],\n",
       "       [-1.27018735e+00],\n",
       "       [-1.04029044e+00],\n",
       "       [-8.73568551e-01],\n",
       "       [-8.97697291e-01],\n",
       "       [-8.48671837e-01],\n",
       "       [ 1.53095528e-01],\n",
       "       [-1.21680789e-01],\n",
       "       [-1.54031241e-01],\n",
       "       [-1.24210302e+00],\n",
       "       [-9.70919943e-01],\n",
       "       [-5.96951621e-01],\n",
       "       [ 2.17620664e-01],\n",
       "       [ 6.61394831e-01],\n",
       "       [-1.47894943e+00],\n",
       "       [ 1.60542484e+00],\n",
       "       [-3.11169001e-01],\n",
       "       [-2.75445486e-01],\n",
       "       [ 1.17823270e+00],\n",
       "       [-1.56723015e-01],\n",
       "       [ 2.62442839e-01],\n",
       "       [-1.14601589e+00],\n",
       "       [-5.90257389e-01],\n",
       "       [-1.00191550e+00],\n",
       "       [-9.38638272e-01],\n",
       "       [-1.10406403e+00],\n",
       "       [ 1.61666065e+00],\n",
       "       [-8.46056854e-02],\n",
       "       [ 3.11952459e-01],\n",
       "       [-1.40711879e+00],\n",
       "       [-2.18562114e-01],\n",
       "       [-1.22598249e+00],\n",
       "       [-7.42941799e-01],\n",
       "       [-5.28771452e-01],\n",
       "       [-1.00180803e+00],\n",
       "       [-2.48734532e-01],\n",
       "       [ 6.87329749e-01],\n",
       "       [-1.44741013e+00],\n",
       "       [ 5.11853552e-01],\n",
       "       [ 1.14128595e-01],\n",
       "       [-7.73388359e-01],\n",
       "       [-9.44596194e-01],\n",
       "       [-9.61291067e-01],\n",
       "       [-6.37529045e-02],\n",
       "       [ 5.35401217e-01],\n",
       "       [-3.21585688e-01],\n",
       "       [-1.07154217e+00],\n",
       "       [ 8.05672610e-01],\n",
       "       [-1.03616243e+00],\n",
       "       [-1.29085814e+00],\n",
       "       [-8.97166109e-01],\n",
       "       [-2.34388779e-01],\n",
       "       [-1.05494474e+00],\n",
       "       [-9.48732498e-01],\n",
       "       [ 1.48662360e+00],\n",
       "       [ 1.81753520e+00],\n",
       "       [-8.31052520e-01],\n",
       "       [-1.24517594e+00],\n",
       "       [ 2.26405421e-01],\n",
       "       [-8.52510430e-03],\n",
       "       [ 3.86593229e-01],\n",
       "       [-1.06396832e+00],\n",
       "       [-4.34429615e-01],\n",
       "       [-1.15540933e+00],\n",
       "       [-8.39663206e-01],\n",
       "       [ 2.23216560e-01],\n",
       "       [-1.27595867e+00],\n",
       "       [ 1.26662880e+00],\n",
       "       [-6.64489814e-01],\n",
       "       [ 2.71978595e-01],\n",
       "       [-5.23624519e-01],\n",
       "       [-1.27957275e+00],\n",
       "       [ 1.03521757e+00],\n",
       "       [-6.40890220e-01],\n",
       "       [-1.76792470e-01],\n",
       "       [-2.02484412e-01],\n",
       "       [-7.15342194e-01],\n",
       "       [ 1.73901338e+00],\n",
       "       [-1.19383389e+00],\n",
       "       [ 1.49059058e-02],\n",
       "       [-1.25507163e+00],\n",
       "       [-6.31089936e-01],\n",
       "       [-2.30891645e-01],\n",
       "       [ 1.94959549e+00],\n",
       "       [-8.48337045e-01],\n",
       "       [-1.38194922e+00],\n",
       "       [ 1.29134771e+00],\n",
       "       [ 1.97213020e+00],\n",
       "       [-1.29727991e+00],\n",
       "       [-9.06573291e-01],\n",
       "       [-1.15249927e+00],\n",
       "       [-1.05263951e+00],\n",
       "       [-9.71466708e-01],\n",
       "       [ 1.51137148e+00],\n",
       "       [ 1.65828161e+00],\n",
       "       [ 1.27543218e+00],\n",
       "       [ 5.35480434e-01],\n",
       "       [-7.88129340e-01],\n",
       "       [ 1.93465169e+00],\n",
       "       [-1.02318188e+00],\n",
       "       [-1.22199313e+00],\n",
       "       [ 5.65932767e-01],\n",
       "       [-9.86734850e-01],\n",
       "       [-6.57753891e-01],\n",
       "       [-3.47549931e-01],\n",
       "       [ 4.25760751e-01],\n",
       "       [ 2.05699090e+00],\n",
       "       [-2.34416622e-03],\n",
       "       [-1.00797889e+00],\n",
       "       [ 1.46209581e+00],\n",
       "       [-1.21998756e+00],\n",
       "       [ 5.79415405e-01],\n",
       "       [ 1.56779395e+00],\n",
       "       [ 1.26402262e+00],\n",
       "       [-1.87053636e-01],\n",
       "       [ 1.78830347e+00],\n",
       "       [ 4.50817526e-01],\n",
       "       [-7.71161434e-01],\n",
       "       [ 1.82393095e+00],\n",
       "       [-1.14139771e+00],\n",
       "       [ 2.48672066e-01],\n",
       "       [-1.20246082e+00],\n",
       "       [ 3.67303794e-01],\n",
       "       [-1.22221126e+00],\n",
       "       [-3.77418830e-01],\n",
       "       [-5.18663432e-01],\n",
       "       [ 1.45935925e+00],\n",
       "       [ 1.02316747e+00],\n",
       "       [ 9.69511125e-01],\n",
       "       [ 2.74224301e-01],\n",
       "       [-6.25785854e-01],\n",
       "       [-5.07573479e-01],\n",
       "       [ 1.77218989e+00],\n",
       "       [ 1.61005267e+00],\n",
       "       [-1.39159541e+00],\n",
       "       [ 8.77596642e-01],\n",
       "       [ 7.12943368e-01],\n",
       "       [ 4.05023892e-01],\n",
       "       [-8.75257469e-01],\n",
       "       [-3.64184708e-01],\n",
       "       [-2.49412730e-01],\n",
       "       [-8.37704079e-01],\n",
       "       [ 1.51593040e+00],\n",
       "       [-1.05346343e+00],\n",
       "       [ 3.98789558e-01],\n",
       "       [-1.08307847e+00],\n",
       "       [ 6.40197394e-01],\n",
       "       [-1.19637190e-01],\n",
       "       [-1.41868122e+00],\n",
       "       [-1.12626518e+00],\n",
       "       [ 3.72908929e-01],\n",
       "       [ 5.84423901e-01],\n",
       "       [-1.29394286e+00],\n",
       "       [ 1.48020358e+00],\n",
       "       [-5.50218782e-01],\n",
       "       [-2.94857562e-01],\n",
       "       [ 1.99477973e+00],\n",
       "       [ 9.66016619e-01],\n",
       "       [ 1.38279327e+00],\n",
       "       [ 1.58605666e-01],\n",
       "       [ 9.15068742e-01],\n",
       "       [ 5.47575580e-02],\n",
       "       [ 9.26531741e-02],\n",
       "       [ 1.12754065e+00],\n",
       "       [ 1.13202375e+00],\n",
       "       [ 5.10846478e-01],\n",
       "       [-1.13860075e-01],\n",
       "       [-6.44979257e-01],\n",
       "       [-6.22022567e-01],\n",
       "       [ 1.24170723e+00],\n",
       "       [ 1.79629568e+00],\n",
       "       [-7.65391914e-01],\n",
       "       [-6.82806830e-02],\n",
       "       [ 9.19778900e-01],\n",
       "       [ 1.62176055e+00],\n",
       "       [ 3.26469281e-01],\n",
       "       [-4.41003636e-01],\n",
       "       [-1.76439094e-01],\n",
       "       [-1.27598501e+00],\n",
       "       [-1.26206756e+00],\n",
       "       [-9.65947616e-01],\n",
       "       [-8.11173700e-01],\n",
       "       [ 1.68340815e-01],\n",
       "       [-1.37947533e+00],\n",
       "       [-8.50921064e-01],\n",
       "       [ 2.69783031e-01],\n",
       "       [-1.45916622e-01],\n",
       "       [-1.09595246e+00],\n",
       "       [-4.01519353e-01],\n",
       "       [ 2.03807236e-01],\n",
       "       [ 4.63323165e-01],\n",
       "       [-1.16511193e+00],\n",
       "       [-3.45916018e-01],\n",
       "       [ 1.82835328e+00],\n",
       "       [-8.61001672e-01],\n",
       "       [-7.48036713e-01],\n",
       "       [ 1.73207408e+00],\n",
       "       [-3.66573070e-01],\n",
       "       [-2.51289209e-01],\n",
       "       [ 8.87399785e-01],\n",
       "       [-1.04795485e+00],\n",
       "       [-1.36144572e-01],\n",
       "       [ 4.61498973e-01],\n",
       "       [ 4.89979759e-01],\n",
       "       [-3.76119387e-01],\n",
       "       [-4.01519353e-01],\n",
       "       [ 1.13860149e+00],\n",
       "       [-7.24443605e-01],\n",
       "       [ 9.76078964e-01],\n",
       "       [ 5.81284415e-01],\n",
       "       [ 4.71687176e-01],\n",
       "       [-1.29564623e+00],\n",
       "       [ 7.72478110e-01],\n",
       "       [-8.27978491e-01],\n",
       "       [ 5.59547701e-01],\n",
       "       [-4.80929502e-01],\n",
       "       [ 1.45352109e+00],\n",
       "       [ 1.48161674e-01],\n",
       "       [ 3.82471883e-01],\n",
       "       [ 2.53422025e+00],\n",
       "       [ 1.39797576e+00],\n",
       "       [ 4.83243210e-01],\n",
       "       [-1.32284889e+00],\n",
       "       [ 6.32386813e-01],\n",
       "       [-8.53185141e-01],\n",
       "       [ 2.27590015e-01],\n",
       "       [ 1.29879612e+00],\n",
       "       [-8.77931891e-01],\n",
       "       [ 3.78851894e-01],\n",
       "       [-1.44814165e+00],\n",
       "       [-1.13130605e+00],\n",
       "       [-4.29302177e-01],\n",
       "       [ 1.57492077e+00],\n",
       "       [-2.99685483e-01],\n",
       "       [ 2.05716271e+00],\n",
       "       [-5.62570508e-01],\n",
       "       [-1.41120341e+00],\n",
       "       [-6.62106331e-01],\n",
       "       [ 2.59707158e-01],\n",
       "       [-7.52368160e-02],\n",
       "       [ 1.28535213e-01],\n",
       "       [ 1.12569387e+00],\n",
       "       [-1.00235351e+00],\n",
       "       [ 6.04904989e-01],\n",
       "       [ 1.88212624e+00],\n",
       "       [-5.38917559e-02],\n",
       "       [ 3.42558485e-02],\n",
       "       [ 5.71964313e-01],\n",
       "       [-1.78236557e-02],\n",
       "       [ 7.03682468e-01],\n",
       "       [ 5.97018515e-01],\n",
       "       [-9.61296911e-01],\n",
       "       [ 1.57460089e+00],\n",
       "       [ 1.23680170e+00],\n",
       "       [ 1.32673066e+00],\n",
       "       [ 5.26385242e-01],\n",
       "       [-2.23693500e-01],\n",
       "       [-1.35372476e+00],\n",
       "       [ 9.90349718e-01],\n",
       "       [ 5.26007866e-01],\n",
       "       [-1.24660235e+00],\n",
       "       [ 6.61690666e-01],\n",
       "       [-9.30713128e-01],\n",
       "       [ 1.88103648e+00],\n",
       "       [ 2.91145997e-01],\n",
       "       [-9.48536274e-02],\n",
       "       [ 7.05632035e-01],\n",
       "       [ 2.06063946e-02],\n",
       "       [-1.05195614e+00],\n",
       "       [-4.66284786e-01],\n",
       "       [ 9.64939459e-01],\n",
       "       [-1.03890887e+00],\n",
       "       [-1.76168151e-01],\n",
       "       [-5.79193955e-01],\n",
       "       [ 6.11726271e-02],\n",
       "       [-9.16968840e-03],\n",
       "       [-7.99683266e-01],\n",
       "       [-9.58434604e-01],\n",
       "       [ 4.98049756e-01],\n",
       "       [ 7.16559979e-01],\n",
       "       [-1.17446704e+00],\n",
       "       [-2.29259286e-01],\n",
       "       [-9.91874636e-01],\n",
       "       [ 7.08923093e-01],\n",
       "       [ 6.01107927e-01],\n",
       "       [ 5.71936203e-01],\n",
       "       [-1.15990891e+00],\n",
       "       [ 1.52359279e+00],\n",
       "       [-8.67551480e-01],\n",
       "       [ 7.68277596e-02],\n",
       "       [-4.24114554e-01],\n",
       "       [-7.44398407e-01],\n",
       "       [-1.37702805e+00],\n",
       "       [ 1.13368967e+00],\n",
       "       [ 3.69637581e-01],\n",
       "       [-8.98431117e-01],\n",
       "       [-9.20841561e-01],\n",
       "       [ 5.31862036e-01],\n",
       "       [ 2.11778697e+00],\n",
       "       [-1.33373489e+00],\n",
       "       [ 4.88574686e-01],\n",
       "       [ 7.61064410e-01],\n",
       "       [ 4.17205175e-01],\n",
       "       [-1.00631501e+00],\n",
       "       [-1.12036567e+00],\n",
       "       [-1.06110232e+00],\n",
       "       [-1.62156153e-01],\n",
       "       [-1.45172002e+00],\n",
       "       [ 1.84229635e+00],\n",
       "       [-5.33047159e-01],\n",
       "       [ 1.29987533e-01],\n",
       "       [ 2.09447488e+00],\n",
       "       [-9.36396354e-01],\n",
       "       [-5.91436478e-01],\n",
       "       [-1.33747845e+00],\n",
       "       [ 2.78346219e-01],\n",
       "       [-5.38325114e-01],\n",
       "       [ 1.28260750e+00],\n",
       "       [ 2.97227448e-02],\n",
       "       [-9.74519096e-01],\n",
       "       [ 6.84327593e-01],\n",
       "       [-9.74982253e-02],\n",
       "       [ 2.02266902e+00],\n",
       "       [-1.05424122e+00],\n",
       "       [ 1.55289786e+00],\n",
       "       [ 4.49076304e-01],\n",
       "       [ 1.55609953e+00],\n",
       "       [-8.20167034e-01],\n",
       "       [ 1.06714558e+00],\n",
       "       [ 1.15832362e+00],\n",
       "       [ 6.45020150e-01],\n",
       "       [ 1.20576391e+00],\n",
       "       [ 7.02585883e-01],\n",
       "       [ 1.47849259e+00],\n",
       "       [-1.12351640e+00],\n",
       "       [-1.35921788e+00],\n",
       "       [-1.73297695e-01],\n",
       "       [ 4.91379756e-01],\n",
       "       [-9.66164901e-02],\n",
       "       [ 9.02530329e-01],\n",
       "       [ 5.36046677e-01],\n",
       "       [-7.68389549e-01],\n",
       "       [-7.79897370e-01],\n",
       "       [-9.05267450e-01],\n",
       "       [ 3.89973994e-01],\n",
       "       [ 8.73253459e-01],\n",
       "       [ 6.14225699e-01],\n",
       "       [-1.20083633e-01],\n",
       "       [-1.09675005e-01],\n",
       "       [-9.58987998e-01],\n",
       "       [ 8.94311690e-01],\n",
       "       [-8.98723397e-01],\n",
       "       [ 1.64017874e+00],\n",
       "       [ 1.79540299e+00],\n",
       "       [ 5.80871532e-01],\n",
       "       [-1.17462484e+00],\n",
       "       [-7.34559989e-01],\n",
       "       [-1.27979646e+00],\n",
       "       [-9.93034623e-01],\n",
       "       [ 1.76668800e+00],\n",
       "       [-5.15393317e-01],\n",
       "       [ 5.87066891e-01],\n",
       "       [-8.76080466e-01],\n",
       "       [-1.17900848e+00],\n",
       "       [ 4.65367800e-01],\n",
       "       [ 1.03316037e-01],\n",
       "       [-1.63835813e-01],\n",
       "       [-1.35622917e+00],\n",
       "       [-1.48788814e+00],\n",
       "       [-1.25658941e+00],\n",
       "       [-1.13807252e-01],\n",
       "       [ 7.19551681e-01],\n",
       "       [ 2.86881281e-01],\n",
       "       [ 4.86781744e-02],\n",
       "       [-1.22696343e+00],\n",
       "       [-9.28632306e-01],\n",
       "       [-1.28079957e+00],\n",
       "       [-2.62473318e-01],\n",
       "       [-7.12834337e-01],\n",
       "       [-3.51153873e-01],\n",
       "       [ 4.76190562e-01],\n",
       "       [ 2.19832900e-01],\n",
       "       [ 4.89105922e-01],\n",
       "       [ 4.13034687e-01],\n",
       "       [ 7.89531542e-01],\n",
       "       [ 9.87036644e-01],\n",
       "       [ 7.06731121e-01],\n",
       "       [-1.40344722e+00],\n",
       "       [-1.49583244e+00],\n",
       "       [-8.20973810e-02],\n",
       "       [-1.80233564e-01],\n",
       "       [-9.03774244e-01],\n",
       "       [ 1.69898102e-01],\n",
       "       [ 8.13579796e-01],\n",
       "       [-9.57946024e-01],\n",
       "       [-7.44776480e-01],\n",
       "       [ 2.45045465e-01],\n",
       "       [ 1.33620637e+00],\n",
       "       [-1.19432419e-01],\n",
       "       [ 2.76758803e-01],\n",
       "       [ 1.38865529e+00],\n",
       "       [-9.47339094e-01],\n",
       "       [-5.40831006e-01],\n",
       "       [-1.39317945e+00],\n",
       "       [-8.31707486e-01],\n",
       "       [-1.37574791e+00],\n",
       "       [-7.01440096e-01],\n",
       "       [-1.28021745e+00],\n",
       "       [ 1.46442754e+00],\n",
       "       [ 1.96431130e+00],\n",
       "       [ 1.48009507e+00],\n",
       "       [-7.40642786e-01],\n",
       "       [-1.04953365e+00],\n",
       "       [-7.96300522e-02],\n",
       "       [-8.16299601e-01],\n",
       "       [ 5.21468597e-01],\n",
       "       [ 1.69292991e+00],\n",
       "       [-6.69150562e-01],\n",
       "       [-5.86104556e-01],\n",
       "       [ 5.82399513e-01],\n",
       "       [ 8.49855115e-01],\n",
       "       [ 4.60210497e-02],\n",
       "       [-1.33384864e+00],\n",
       "       [ 1.56403427e+00],\n",
       "       [-9.96077737e-01],\n",
       "       [-8.29127220e-01],\n",
       "       [ 7.28743264e-01],\n",
       "       [-1.26948424e+00],\n",
       "       [ 3.20334822e-01],\n",
       "       [ 6.55010945e-01],\n",
       "       [-1.05238436e+00],\n",
       "       [-2.17446051e-01],\n",
       "       [-3.90366856e-01],\n",
       "       [ 9.15636200e-01],\n",
       "       [ 3.03733000e+00],\n",
       "       [-1.45698940e+00],\n",
       "       [ 1.68613981e+00],\n",
       "       [-5.91183298e-01],\n",
       "       [-9.63341153e-01],\n",
       "       [ 4.92909858e-02],\n",
       "       [ 1.12270020e+00],\n",
       "       [ 1.38846558e+00],\n",
       "       [-6.55640011e-01],\n",
       "       [ 1.30095269e+00],\n",
       "       [-5.89583891e-01],\n",
       "       [-9.21293990e-01],\n",
       "       [ 2.20962455e-01],\n",
       "       [-1.54187781e-01],\n",
       "       [-9.55827319e-01],\n",
       "       [ 1.70240720e+00],\n",
       "       [ 2.91108626e-02],\n",
       "       [-9.31642915e-01],\n",
       "       [ 5.27207363e-01],\n",
       "       [ 1.11709463e+00],\n",
       "       [ 8.04383692e-01],\n",
       "       [-3.74863390e-02],\n",
       "       [ 1.00619057e+00],\n",
       "       [-9.49431911e-02],\n",
       "       [ 4.04954306e-01],\n",
       "       [ 2.29878669e+00],\n",
       "       [-2.54321333e-01],\n",
       "       [-1.06555967e+00],\n",
       "       [ 5.34271680e-01],\n",
       "       [-1.39374151e+00],\n",
       "       [ 8.97742866e-01],\n",
       "       [-1.24870460e+00],\n",
       "       [-9.75846685e-01],\n",
       "       [-6.80930184e-01],\n",
       "       [-3.60950815e-01],\n",
       "       [ 5.00651806e-01],\n",
       "       [ 1.90143757e+00],\n",
       "       [-8.48463403e-01],\n",
       "       [-1.14585586e+00],\n",
       "       [ 1.08649627e+00],\n",
       "       [ 4.48184222e-01],\n",
       "       [ 8.38363412e-01],\n",
       "       [ 3.17339260e-01],\n",
       "       [ 1.48047209e+00],\n",
       "       [-3.84270049e-01],\n",
       "       [ 4.75186365e-01],\n",
       "       [-7.17083810e-01],\n",
       "       [ 1.51953542e+00],\n",
       "       [-6.88859797e-01],\n",
       "       [-2.99725672e-01],\n",
       "       [-2.64339879e-01],\n",
       "       [-1.20996922e+00],\n",
       "       [-1.12484299e+00],\n",
       "       [-7.83981748e-02],\n",
       "       [ 1.54584094e+00],\n",
       "       [ 7.70451667e-01],\n",
       "       [-8.17875134e-01],\n",
       "       [ 1.45222814e+00],\n",
       "       [ 5.06818127e-01],\n",
       "       [-1.85813431e-01],\n",
       "       [-9.91671223e-01],\n",
       "       [ 4.15639237e-03],\n",
       "       [ 1.06855696e+00],\n",
       "       [-2.36418135e-01],\n",
       "       [ 5.95674772e-01],\n",
       "       [ 7.70376948e-02],\n",
       "       [ 3.23755927e+00],\n",
       "       [-1.36924533e+00],\n",
       "       [-5.54925777e-01],\n",
       "       [ 8.33216706e-02],\n",
       "       [ 7.53106760e-01],\n",
       "       [ 1.68983540e-01],\n",
       "       [ 2.76068865e-01],\n",
       "       [-5.44766041e-01],\n",
       "       [-1.05806977e+00],\n",
       "       [-1.30454276e+00],\n",
       "       [-9.11300372e-01],\n",
       "       [ 9.32009754e-01],\n",
       "       [-2.48056013e-01],\n",
       "       [-1.11242473e+00],\n",
       "       [-1.30229199e-01],\n",
       "       [ 1.69497853e+00],\n",
       "       [-9.38327658e-01],\n",
       "       [ 1.17650733e+00],\n",
       "       [-1.35834584e-01],\n",
       "       [-8.45887961e-01],\n",
       "       [ 4.47866031e-01],\n",
       "       [ 6.33679626e-01],\n",
       "       [ 1.74007399e+00],\n",
       "       [ 1.05368958e+00],\n",
       "       [-6.49516185e-01],\n",
       "       [ 6.52441543e-01],\n",
       "       [ 1.02207619e+00],\n",
       "       [ 4.87273456e-01],\n",
       "       [ 5.90683069e-02],\n",
       "       [-1.33598178e+00],\n",
       "       [ 1.01574237e+00],\n",
       "       [ 3.21564287e-01],\n",
       "       [-1.00288539e-02],\n",
       "       [-1.61677973e-01],\n",
       "       [-6.00499022e-01],\n",
       "       [ 4.58431324e-01],\n",
       "       [ 8.94397554e-01],\n",
       "       [-5.96282591e-01],\n",
       "       [ 1.70284264e+00],\n",
       "       [ 8.94961385e-01],\n",
       "       [ 1.53278571e+00],\n",
       "       [-7.79313115e-01],\n",
       "       [ 7.86255352e-01],\n",
       "       [ 3.94657955e-01],\n",
       "       [-6.59626797e-01],\n",
       "       [ 5.70114835e-01],\n",
       "       [ 2.07656530e+00],\n",
       "       [-3.20962763e-01],\n",
       "       [-1.57383539e-01],\n",
       "       [ 1.88146979e+00],\n",
       "       [-2.32109620e-01],\n",
       "       [ 1.74942042e+00],\n",
       "       [ 1.23561836e+00],\n",
       "       [ 1.92611924e+00],\n",
       "       [-3.52800796e-01],\n",
       "       [ 1.63144292e-01],\n",
       "       [-4.47324406e-01],\n",
       "       [-6.81124074e-03],\n",
       "       [-7.52763830e-01],\n",
       "       [-9.51759046e-01],\n",
       "       [-1.37727085e+00],\n",
       "       [ 2.09796985e-01],\n",
       "       [-1.17485891e+00],\n",
       "       [ 1.62956509e+00],\n",
       "       [-1.29468746e-01],\n",
       "       [-8.83488152e-01],\n",
       "       [-1.10072349e+00],\n",
       "       [ 1.57384028e-01],\n",
       "       [ 1.40825778e+00],\n",
       "       [ 2.99654503e-01],\n",
       "       [-1.81377683e-01],\n",
       "       [ 1.47866457e+00],\n",
       "       [-1.34967391e+00],\n",
       "       [-4.60560137e-01],\n",
       "       [-1.18244349e+00],\n",
       "       [-1.38166698e+00],\n",
       "       [-1.08597003e+00],\n",
       "       [ 7.81243175e-01],\n",
       "       [-1.26914296e+00],\n",
       "       [ 1.49336892e+00],\n",
       "       [-9.66960963e-01],\n",
       "       [-1.38762544e+00],\n",
       "       [ 7.06191076e-01],\n",
       "       [-1.17400568e+00],\n",
       "       [-5.12471825e-01],\n",
       "       [ 8.72062629e-01],\n",
       "       [ 2.57898288e+00],\n",
       "       [ 2.06127370e+00],\n",
       "       [-2.42066748e-01],\n",
       "       [-1.15656097e+00],\n",
       "       [-1.27401109e+00],\n",
       "       [-2.62102071e-01],\n",
       "       [ 1.22501339e+00],\n",
       "       [-1.23501774e+00],\n",
       "       [-1.04792227e+00],\n",
       "       [ 1.02039372e+00],\n",
       "       [ 4.51074709e-01],\n",
       "       [ 3.05653807e-02],\n",
       "       [ 1.28638269e-01],\n",
       "       [-9.75969790e-01],\n",
       "       [-6.38012563e-01],\n",
       "       [ 1.52773536e+00],\n",
       "       [-1.31288186e+00],\n",
       "       [ 5.59528598e-01],\n",
       "       [ 8.33780898e-01],\n",
       "       [-1.20680990e+00],\n",
       "       [-4.83305212e-01],\n",
       "       [ 1.58359179e+00],\n",
       "       [ 1.59401060e+00],\n",
       "       [ 1.44883002e+00],\n",
       "       [ 2.02719015e-01],\n",
       "       [ 1.36235941e+00],\n",
       "       [ 6.19894540e-01],\n",
       "       [ 3.63123888e-01],\n",
       "       [-9.80952929e-01],\n",
       "       [-1.22913548e+00],\n",
       "       [ 1.16345978e-01],\n",
       "       [-1.95782961e-01],\n",
       "       [ 1.89600012e+00],\n",
       "       [ 1.93479792e+00],\n",
       "       [ 1.23911931e+00],\n",
       "       [ 1.65055665e+00],\n",
       "       [ 1.43861767e+00],\n",
       "       [ 9.03049181e-01],\n",
       "       [-1.27092149e+00],\n",
       "       [-3.47649913e-01],\n",
       "       [ 2.62724253e-01],\n",
       "       [ 1.03728493e+00],\n",
       "       [-8.70014145e-01],\n",
       "       [ 1.52285147e+00],\n",
       "       [ 1.69821355e+00],\n",
       "       [ 9.77834875e-01],\n",
       "       [-1.13910098e+00],\n",
       "       [ 1.06051289e+00],\n",
       "       [-1.35703256e+00],\n",
       "       [ 3.82658605e-01],\n",
       "       [ 1.80314396e-01],\n",
       "       [-7.54011755e-01],\n",
       "       [-9.26594033e-01],\n",
       "       [-1.78376295e-01],\n",
       "       [ 4.57663473e-01]])"
      ]
     },
     "execution_count": 51,
     "metadata": {},
     "output_type": "execute_result"
    }
   ],
   "source": [
    "y_train"
   ]
  },
  {
   "cell_type": "code",
   "execution_count": 52,
   "metadata": {
    "execution": {
     "iopub.execute_input": "2022-06-29T19:38:26.742155Z",
     "iopub.status.busy": "2022-06-29T19:38:26.741102Z",
     "iopub.status.idle": "2022-06-29T19:38:26.743894Z",
     "shell.execute_reply": "2022-06-29T19:38:26.744738Z"
    }
   },
   "outputs": [],
   "source": [
    "from sklearn.linear_model import LinearRegression # sem regularizar\n",
    "from sklearn.linear_model import Lasso # com regularização l1\n",
    "from sklearn.linear_model import Ridge # com regularização l2\n",
    "from sklearn.neighbors import KNeighborsRegressor\n",
    "\n",
    "from sklearn.model_selection import GridSearchCV"
   ]
  },
  {
   "cell_type": "markdown",
   "metadata": {},
   "source": [
    "O gridsearch cv faz o laço que fizemos na mão acima (conjuntos de validação)"
   ]
  },
  {
   "cell_type": "code",
   "execution_count": 53,
   "metadata": {
    "colab": {
     "base_uri": "https://localhost:8080/"
    },
    "execution": {
     "iopub.execute_input": "2022-06-29T19:38:26.754082Z",
     "iopub.status.busy": "2022-06-29T19:38:26.753022Z",
     "iopub.status.idle": "2022-06-29T19:38:26.756782Z",
     "shell.execute_reply": "2022-06-29T19:38:26.755957Z"
    },
    "id": "yd6_FpzFMV03",
    "outputId": "70012064-02a1-4832-b71f-018e503a0c8e"
   },
   "outputs": [],
   "source": [
    "linear = LinearRegression(fit_intercept=False)\n",
    "lasso = GridSearchCV(Lasso(fit_intercept=False),\n",
    "                     cv=10,\n",
    "                     refit=True,\n",
    "                     param_grid={'alpha': [0.001, 0.01, 0.1, 1, 10, 100]})\n",
    "\n",
    "ridge = GridSearchCV(Ridge(fit_intercept=False),\n",
    "                     cv=10,\n",
    "                     refit=True,\n",
    "                     param_grid={'alpha': [0.001, 0.01, 0.1, 1, 10, 100]})\n",
    "\n",
    "knn = GridSearchCV(KNeighborsRegressor(),\n",
    "                   cv=10,\n",
    "                   refit=True,\n",
    "                   param_grid={'n_neighbors': [2, 3, 5, 7, 11, 13],\n",
    "                               'weights': ['uniform', 'distance']})"
   ]
  },
  {
   "cell_type": "code",
   "execution_count": 54,
   "metadata": {
    "execution": {
     "iopub.execute_input": "2022-06-29T19:38:26.763905Z",
     "iopub.status.busy": "2022-06-29T19:38:26.762887Z",
     "iopub.status.idle": "2022-06-29T19:38:26.783874Z",
     "shell.execute_reply": "2022-06-29T19:38:26.782711Z"
    }
   },
   "outputs": [
    {
     "data": {
      "text/plain": [
       "0.9536154330875907"
      ]
     },
     "execution_count": 54,
     "metadata": {},
     "output_type": "execute_result"
    }
   ],
   "source": [
    "linear = linear.fit(X_train, y_train)\n",
    "linear.score(X_train, y_train)"
   ]
  },
  {
   "cell_type": "code",
   "execution_count": 55,
   "metadata": {
    "execution": {
     "iopub.execute_input": "2022-06-29T19:38:26.791793Z",
     "iopub.status.busy": "2022-06-29T19:38:26.790379Z",
     "iopub.status.idle": "2022-06-29T19:38:27.587316Z",
     "shell.execute_reply": "2022-06-29T19:38:27.588485Z"
    }
   },
   "outputs": [
    {
     "data": {
      "text/plain": [
       "0.9533449275796007"
      ]
     },
     "execution_count": 55,
     "metadata": {},
     "output_type": "execute_result"
    }
   ],
   "source": [
    "lasso = lasso.fit(X_train, y_train)\n",
    "lasso.score(X_train, y_train)"
   ]
  },
  {
   "cell_type": "code",
   "execution_count": 56,
   "metadata": {
    "execution": {
     "iopub.execute_input": "2022-06-29T19:38:27.596335Z",
     "iopub.status.busy": "2022-06-29T19:38:27.594965Z",
     "iopub.status.idle": "2022-06-29T19:38:27.917329Z",
     "shell.execute_reply": "2022-06-29T19:38:27.918575Z"
    }
   },
   "outputs": [
    {
     "data": {
      "text/plain": [
       "0.9533899548863546"
      ]
     },
     "execution_count": 56,
     "metadata": {},
     "output_type": "execute_result"
    }
   ],
   "source": [
    "ridge = ridge.fit(X_train, y_train)\n",
    "ridge.score(X_train, y_train)"
   ]
  },
  {
   "cell_type": "code",
   "execution_count": 57,
   "metadata": {
    "execution": {
     "iopub.execute_input": "2022-06-29T19:38:27.928351Z",
     "iopub.status.busy": "2022-06-29T19:38:27.926619Z",
     "iopub.status.idle": "2022-06-29T19:38:28.957843Z",
     "shell.execute_reply": "2022-06-29T19:38:28.958936Z"
    }
   },
   "outputs": [
    {
     "data": {
      "text/plain": [
       "1.0"
      ]
     },
     "execution_count": 57,
     "metadata": {},
     "output_type": "execute_result"
    }
   ],
   "source": [
    "knn = knn.fit(X_train, y_train)\n",
    "knn.score(X_train, y_train)"
   ]
  },
  {
   "cell_type": "code",
   "execution_count": 58,
   "metadata": {
    "execution": {
     "iopub.execute_input": "2022-06-29T19:38:28.966156Z",
     "iopub.status.busy": "2022-06-29T19:38:28.963991Z",
     "iopub.status.idle": "2022-06-29T19:38:28.976390Z",
     "shell.execute_reply": "2022-06-29T19:38:28.977976Z"
    }
   },
   "outputs": [
    {
     "data": {
      "text/plain": [
       "{'n_neighbors': 11, 'weights': 'distance'}"
      ]
     },
     "execution_count": 58,
     "metadata": {},
     "output_type": "execute_result"
    }
   ],
   "source": [
    "knn.best_params_"
   ]
  },
  {
   "cell_type": "markdown",
   "metadata": {
    "id": "J61fxk3cMV06"
   },
   "source": [
    "Agora vamos usar o Bootstrap para entender o erro dos modelos caso eu repita o experimento."
   ]
  },
  {
   "cell_type": "code",
   "execution_count": 59,
   "metadata": {
    "execution": {
     "iopub.execute_input": "2022-06-29T19:38:28.985149Z",
     "iopub.status.busy": "2022-06-29T19:38:28.982906Z",
     "iopub.status.idle": "2022-06-29T19:38:28.990949Z",
     "shell.execute_reply": "2022-06-29T19:38:28.992538Z"
    },
    "id": "54e5wUTVMV08"
   },
   "outputs": [],
   "source": [
    "from sklearn.metrics import mean_squared_error"
   ]
  },
  {
   "cell_type": "code",
   "execution_count": 60,
   "metadata": {
    "execution": {
     "iopub.execute_input": "2022-06-29T19:38:28.999633Z",
     "iopub.status.busy": "2022-06-29T19:38:28.997326Z",
     "iopub.status.idle": "2022-06-29T19:38:29.011409Z",
     "shell.execute_reply": "2022-06-29T19:38:29.013010Z"
    },
    "id": "bLX5Gi8ZMV0-"
   },
   "outputs": [
    {
     "data": {
      "text/plain": [
       "0.046384566912409296"
      ]
     },
     "execution_count": 60,
     "metadata": {},
     "output_type": "execute_result"
    }
   ],
   "source": [
    "y_pred = linear.predict(X_train)\n",
    "mean_squared_error(y_train, y_pred)"
   ]
  },
  {
   "cell_type": "code",
   "execution_count": 61,
   "metadata": {
    "execution": {
     "iopub.execute_input": "2022-06-29T19:38:29.020136Z",
     "iopub.status.busy": "2022-06-29T19:38:29.017923Z",
     "iopub.status.idle": "2022-06-29T19:38:29.029072Z",
     "shell.execute_reply": "2022-06-29T19:38:29.030676Z"
    }
   },
   "outputs": [],
   "source": [
    "def bootstrap_score(X, y, model, n=1000):\n",
    "    size = len(y)    \n",
    "    samples = np.zeros(size)\n",
    "    for i in range(size):\n",
    "        # Gera amostras com reposição\n",
    "        idx = np.random.choice(size, size)\n",
    "        Xb = X[idx]\n",
    "        yb = y[idx]\n",
    "        \n",
    "        err = mean_squared_error(yb, model.predict(Xb))\n",
    "        samples[i] = err\n",
    "    return samples"
   ]
  },
  {
   "cell_type": "code",
   "execution_count": 62,
   "metadata": {
    "execution": {
     "iopub.execute_input": "2022-06-29T19:38:29.037720Z",
     "iopub.status.busy": "2022-06-29T19:38:29.035569Z",
     "iopub.status.idle": "2022-06-29T19:38:29.045540Z",
     "shell.execute_reply": "2022-06-29T19:38:29.047142Z"
    }
   },
   "outputs": [],
   "source": [
    "y_test_df = test_df['Weekly_Sales_Store']\n",
    "X_test_df = test_df.drop('Weekly_Sales_Store', axis='columns')"
   ]
  },
  {
   "cell_type": "code",
   "execution_count": 63,
   "metadata": {
    "execution": {
     "iopub.execute_input": "2022-06-29T19:38:29.054204Z",
     "iopub.status.busy": "2022-06-29T19:38:29.052020Z",
     "iopub.status.idle": "2022-06-29T19:38:29.063370Z",
     "shell.execute_reply": "2022-06-29T19:38:29.064942Z"
    }
   },
   "outputs": [],
   "source": [
    "X_test = scaler_x.transform(X_test_df.values)\n",
    "y_test = scaler_y.transform(y_test_df.values[:, np.newaxis])"
   ]
  },
  {
   "cell_type": "code",
   "execution_count": 64,
   "metadata": {
    "execution": {
     "iopub.execute_input": "2022-06-29T19:38:29.072177Z",
     "iopub.status.busy": "2022-06-29T19:38:29.069897Z",
     "iopub.status.idle": "2022-06-29T19:39:30.962414Z",
     "shell.execute_reply": "2022-06-29T19:39:30.961627Z"
    }
   },
   "outputs": [
    {
     "data": {
      "image/png": "[encoded data removed]",
      "text/plain": [
       "<Figure size 864x576 with 1 Axes>"
      ]
     },
     "metadata": {
      "needs_background": "light"
     },
     "output_type": "display_data"
    }
   ],
   "source": [
    "samples = bootstrap_score(X_test, y_test, knn)\n",
    "plt.hist(samples, edgecolor='k')\n",
    "plt.title('({}, {})'.format(ss.scoreatpercentile(samples, 2.5),\n",
    "                            ss.scoreatpercentile(samples, 97.5)))\n",
    "despine()"
   ]
  },
  {
   "cell_type": "code",
   "execution_count": 65,
   "metadata": {
    "execution": {
     "iopub.execute_input": "2022-06-29T19:39:30.971367Z",
     "iopub.status.busy": "2022-06-29T19:39:30.970028Z",
     "iopub.status.idle": "2022-06-29T19:39:32.620123Z",
     "shell.execute_reply": "2022-06-29T19:39:32.621082Z"
    }
   },
   "outputs": [
    {
     "data": {
      "image/png": "[encoded data removed]",
      "text/plain": [
       "<Figure size 864x576 with 1 Axes>"
      ]
     },
     "metadata": {
      "needs_background": "light"
     },
     "output_type": "display_data"
    }
   ],
   "source": [
    "samples = bootstrap_score(X_test, y_test, lasso)\n",
    "plt.hist(samples, edgecolor='k')\n",
    "plt.title('({}, {})'.format(ss.scoreatpercentile(samples, 2.5),\n",
    "                            ss.scoreatpercentile(samples, 97.5)))\n",
    "despine()"
   ]
  }
 ],
 "metadata": {
  "colab": {
   "collapsed_sections": [],
   "name": "Aula 7 - KNN + ML Prática - [AULA].ipynb",
   "provenance": [],
   "toc_visible": true
  },
  "kernelspec": {
   "display_name": "Python 3 (ipykernel)",
   "language": "python",
   "name": "python3"
  },
  "language_info": {
   "codemirror_mode": {
    "name": "ipython",
    "version": 3
   },
   "file_extension": ".py",
   "mimetype": "text/x-python",
   "name": "python",
   "nbconvert_exporter": "python",
   "pygments_lexer": "ipython3",
   "version": "3.10.5"
  }
 },
 "nbformat": 4,
 "nbformat_minor": 1
}
