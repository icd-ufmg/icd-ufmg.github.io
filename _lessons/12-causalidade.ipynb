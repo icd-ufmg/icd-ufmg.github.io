{
 "cells": [
  {
   "cell_type": "markdown",
   "metadata": {},
   "source": [
    "---\n",
    "layout: page\n",
    "title: Método Científico (Incompleto)\n",
    "nav_order: 12\n",
    "---\n",
    "\n",
    "[<img src=\"./colab_favicon_small.png\" style=\"float: right;\">](https://colab.research.google.com/github/icd-ufmg/icd-ufmg.github.io/blob/master/_lessons/12-causalidade.ipynb)\n",
    "\n",
    "\n",
    "# Método Científico (Incompleto)\n",
    "{: .no_toc .mb-2 }\n",
    "\n",
    "Juntando o método científico com o conceito de causalidade\n",
    "{: .fs-6 .fw-300 }\n",
    "\n",
    "{: .no_toc .text-delta }\n",
    "Resultados Esperados\n",
    "\n",
    "1. Entender como testes de hipótese ligam com causalidade\n",
    "1. Entender o método científico\n",
    "\n",
    "---\n",
    "**Sumário**\n",
    "1. TOC\n",
    "{:toc}\n",
    "---"
   ]
  },
  {
   "cell_type": "code",
   "execution_count": 1,
   "metadata": {
    "execution": {
     "iopub.execute_input": "2021-02-03T21:09:16.283562Z",
     "iopub.status.busy": "2021-02-03T21:09:16.281733Z",
     "iopub.status.idle": "2021-02-03T21:09:17.317853Z",
     "shell.execute_reply": "2021-02-03T21:09:17.318508Z"
    }
   },
   "outputs": [],
   "source": [
    "# -*- coding: utf8\n",
    "\n",
    "from scipy import stats as ss\n",
    "\n",
    "import numpy as np\n",
    "import matplotlib.pyplot as plt\n",
    "import pandas as pd"
   ]
  },
  {
   "cell_type": "code",
   "execution_count": 2,
   "metadata": {
    "execution": {
     "iopub.execute_input": "2021-02-03T21:09:17.326797Z",
     "iopub.status.busy": "2021-02-03T21:09:17.325986Z",
     "iopub.status.idle": "2021-02-03T21:09:17.329072Z",
     "shell.execute_reply": "2021-02-03T21:09:17.329729Z"
    }
   },
   "outputs": [],
   "source": [
    "plt.style.use('seaborn-colorblind')\n",
    "\n",
    "plt.rcParams['figure.figsize']  = (16, 10)\n",
    "plt.rcParams['axes.labelsize']  = 20\n",
    "plt.rcParams['axes.titlesize']  = 20\n",
    "plt.rcParams['legend.fontsize'] = 20\n",
    "plt.rcParams['xtick.labelsize'] = 20\n",
    "plt.rcParams['ytick.labelsize'] = 20\n",
    "plt.rcParams['lines.linewidth'] = 4"
   ]
  },
  {
   "cell_type": "code",
   "execution_count": 3,
   "metadata": {
    "execution": {
     "iopub.execute_input": "2021-02-03T21:09:17.335633Z",
     "iopub.status.busy": "2021-02-03T21:09:17.334833Z",
     "iopub.status.idle": "2021-02-03T21:09:17.338599Z",
     "shell.execute_reply": "2021-02-03T21:09:17.337475Z"
    }
   },
   "outputs": [],
   "source": [
    "plt.ion()"
   ]
  },
  {
   "cell_type": "code",
   "execution_count": 4,
   "metadata": {
    "execution": {
     "iopub.execute_input": "2021-02-03T21:09:17.347720Z",
     "iopub.status.busy": "2021-02-03T21:09:17.345508Z",
     "iopub.status.idle": "2021-02-03T21:09:17.348485Z",
     "shell.execute_reply": "2021-02-03T21:09:17.349378Z"
    }
   },
   "outputs": [],
   "source": [
    "def despine(ax=None):\n",
    "    if ax is None:\n",
    "        ax = plt.gca()\n",
    "    # Hide the right and top spines\n",
    "    ax.spines['right'].set_visible(False)\n",
    "    ax.spines['top'].set_visible(False)\n",
    "\n",
    "    # Only show ticks on the left and bottom spines\n",
    "    ax.yaxis.set_ticks_position('left')\n",
    "    ax.xaxis.set_ticks_position('bottom')"
   ]
  },
  {
   "cell_type": "markdown",
   "metadata": {},
   "source": [
    "## Introdução\n",
    "\n",
    "Aqui, vamos brincar um pouco com dados onde posso falar algo de causalidade. Isto é, foi feito um experimento controlado e randomizado. Note que minha ferramenta é a mesma de antes, permutação, porém a forma que os dados foram coletados mudara. Esta é a diferença.\n",
    "\n",
    "Abaixo tenho uma função simples que permuta uma coluna de um dataframe. Vamos usar ela para implementar o nosso teste de permutação. Este exemplo é bem similar ao teste de permutação já feito. Use o mesmo para revisar!"
   ]
  },
  {
   "cell_type": "code",
   "execution_count": 5,
   "metadata": {
    "execution": {
     "iopub.execute_input": "2021-02-03T21:09:17.356516Z",
     "iopub.status.busy": "2021-02-03T21:09:17.355588Z",
     "iopub.status.idle": "2021-02-03T21:09:17.359232Z",
     "shell.execute_reply": "2021-02-03T21:09:17.358540Z"
    }
   },
   "outputs": [],
   "source": [
    "def permuta(df, coluna):\n",
    "    '''\n",
    "    Permuta um dataframe com base e uma coluna categórica.\n",
    "    Este código é mais lento pois cria uma cópia.\n",
    "    \n",
    "    Parâmetros\n",
    "    ----------\n",
    "    df: o dataframe\n",
    "    coluna: uma coluna categórica\n",
    "    \n",
    "    Retorna\n",
    "    -------\n",
    "    um novo df permutado\n",
    "    '''\n",
    "    \n",
    "    novo = df.copy()            # Cópia dos dados\n",
    "    dados = df[coluna].copy()   # Copia da coluna, evitar um warning pandas. Deve ter forma melhor de fazer.\n",
    "    np.random.shuffle(dados)    # Faz o shuffle\n",
    "    novo[coluna] = dados        # Faz overwrite da coluna\n",
    "    return novo"
   ]
  },
  {
   "cell_type": "markdown",
   "metadata": {},
   "source": [
    "## Dados\n",
    "\n",
    "O DataFrame consiste de dois grupos. Um de controle, outro de tratamento. No primeiro, foi medicado placebo. No segundo, foi utilizado um novo medicamento. Quando o resultado é 1, dizemos que houve melhoria nos pacientes."
   ]
  },
  {
   "cell_type": "code",
   "execution_count": 6,
   "metadata": {
    "execution": {
     "iopub.execute_input": "2021-02-03T21:09:17.367444Z",
     "iopub.status.busy": "2021-02-03T21:09:17.366654Z",
     "iopub.status.idle": "2021-02-03T21:09:17.772021Z",
     "shell.execute_reply": "2021-02-03T21:09:17.772638Z"
    }
   },
   "outputs": [
    {
     "data": {
      "text/html": [
       "<div>\n",
       "<style scoped>\n",
       "    .dataframe tbody tr th:only-of-type {\n",
       "        vertical-align: middle;\n",
       "    }\n",
       "\n",
       "    .dataframe tbody tr th {\n",
       "        vertical-align: top;\n",
       "    }\n",
       "\n",
       "    .dataframe thead th {\n",
       "        text-align: right;\n",
       "    }\n",
       "</style>\n",
       "<table border=\"1\" class=\"dataframe\">\n",
       "  <thead>\n",
       "    <tr style=\"text-align: right;\">\n",
       "      <th></th>\n",
       "      <th>Group</th>\n",
       "      <th>Result</th>\n",
       "    </tr>\n",
       "  </thead>\n",
       "  <tbody>\n",
       "    <tr>\n",
       "      <th>0</th>\n",
       "      <td>Control</td>\n",
       "      <td>1.0</td>\n",
       "    </tr>\n",
       "    <tr>\n",
       "      <th>1</th>\n",
       "      <td>Control</td>\n",
       "      <td>1.0</td>\n",
       "    </tr>\n",
       "    <tr>\n",
       "      <th>2</th>\n",
       "      <td>Control</td>\n",
       "      <td>0.0</td>\n",
       "    </tr>\n",
       "    <tr>\n",
       "      <th>3</th>\n",
       "      <td>Control</td>\n",
       "      <td>0.0</td>\n",
       "    </tr>\n",
       "    <tr>\n",
       "      <th>4</th>\n",
       "      <td>Control</td>\n",
       "      <td>0.0</td>\n",
       "    </tr>\n",
       "  </tbody>\n",
       "</table>\n",
       "</div>"
      ],
      "text/plain": [
       "     Group  Result\n",
       "0  Control     1.0\n",
       "1  Control     1.0\n",
       "2  Control     0.0\n",
       "3  Control     0.0\n",
       "4  Control     0.0"
      ]
     },
     "execution_count": 1,
     "metadata": {},
     "output_type": "execute_result"
    }
   ],
   "source": [
    "df = pd.read_csv('https://media.githubusercontent.com/media/icd-ufmg/material/master/aulas/13-CausalidadeRCT/bta.csv')\n",
    "df.head()"
   ]
  },
  {
   "cell_type": "code",
   "execution_count": 7,
   "metadata": {
    "execution": {
     "iopub.execute_input": "2021-02-03T21:09:17.778861Z",
     "iopub.status.busy": "2021-02-03T21:09:17.778053Z",
     "iopub.status.idle": "2021-02-03T21:09:17.788969Z",
     "shell.execute_reply": "2021-02-03T21:09:17.789728Z"
    }
   },
   "outputs": [
    {
     "data": {
      "text/html": [
       "<div>\n",
       "<style scoped>\n",
       "    .dataframe tbody tr th:only-of-type {\n",
       "        vertical-align: middle;\n",
       "    }\n",
       "\n",
       "    .dataframe tbody tr th {\n",
       "        vertical-align: top;\n",
       "    }\n",
       "\n",
       "    .dataframe thead th {\n",
       "        text-align: right;\n",
       "    }\n",
       "</style>\n",
       "<table border=\"1\" class=\"dataframe\">\n",
       "  <thead>\n",
       "    <tr style=\"text-align: right;\">\n",
       "      <th></th>\n",
       "      <th>Group</th>\n",
       "      <th>Result</th>\n",
       "    </tr>\n",
       "  </thead>\n",
       "  <tbody>\n",
       "    <tr>\n",
       "      <th>0</th>\n",
       "      <td>Control</td>\n",
       "      <td>1.0</td>\n",
       "    </tr>\n",
       "    <tr>\n",
       "      <th>1</th>\n",
       "      <td>Control</td>\n",
       "      <td>1.0</td>\n",
       "    </tr>\n",
       "    <tr>\n",
       "      <th>2</th>\n",
       "      <td>Control</td>\n",
       "      <td>0.0</td>\n",
       "    </tr>\n",
       "    <tr>\n",
       "      <th>3</th>\n",
       "      <td>Control</td>\n",
       "      <td>0.0</td>\n",
       "    </tr>\n",
       "    <tr>\n",
       "      <th>4</th>\n",
       "      <td>Control</td>\n",
       "      <td>0.0</td>\n",
       "    </tr>\n",
       "  </tbody>\n",
       "</table>\n",
       "</div>"
      ],
      "text/plain": [
       "     Group  Result\n",
       "0  Control     1.0\n",
       "1  Control     1.0\n",
       "2  Control     0.0\n",
       "3  Control     0.0\n",
       "4  Control     0.0"
      ]
     },
     "execution_count": 1,
     "metadata": {},
     "output_type": "execute_result"
    }
   ],
   "source": [
    "control = df.query('Group == \"Control\"')\n",
    "control.head()"
   ]
  },
  {
   "cell_type": "code",
   "execution_count": 8,
   "metadata": {
    "execution": {
     "iopub.execute_input": "2021-02-03T21:09:17.803943Z",
     "iopub.status.busy": "2021-02-03T21:09:17.802684Z",
     "iopub.status.idle": "2021-02-03T21:09:17.806143Z",
     "shell.execute_reply": "2021-02-03T21:09:17.806881Z"
    }
   },
   "outputs": [
    {
     "data": {
      "text/html": [
       "<div>\n",
       "<style scoped>\n",
       "    .dataframe tbody tr th:only-of-type {\n",
       "        vertical-align: middle;\n",
       "    }\n",
       "\n",
       "    .dataframe tbody tr th {\n",
       "        vertical-align: top;\n",
       "    }\n",
       "\n",
       "    .dataframe thead th {\n",
       "        text-align: right;\n",
       "    }\n",
       "</style>\n",
       "<table border=\"1\" class=\"dataframe\">\n",
       "  <thead>\n",
       "    <tr style=\"text-align: right;\">\n",
       "      <th></th>\n",
       "      <th>Group</th>\n",
       "      <th>Result</th>\n",
       "    </tr>\n",
       "  </thead>\n",
       "  <tbody>\n",
       "    <tr>\n",
       "      <th>16</th>\n",
       "      <td>Treatment</td>\n",
       "      <td>1.0</td>\n",
       "    </tr>\n",
       "    <tr>\n",
       "      <th>17</th>\n",
       "      <td>Treatment</td>\n",
       "      <td>1.0</td>\n",
       "    </tr>\n",
       "    <tr>\n",
       "      <th>18</th>\n",
       "      <td>Treatment</td>\n",
       "      <td>1.0</td>\n",
       "    </tr>\n",
       "    <tr>\n",
       "      <th>19</th>\n",
       "      <td>Treatment</td>\n",
       "      <td>1.0</td>\n",
       "    </tr>\n",
       "    <tr>\n",
       "      <th>20</th>\n",
       "      <td>Treatment</td>\n",
       "      <td>1.0</td>\n",
       "    </tr>\n",
       "  </tbody>\n",
       "</table>\n",
       "</div>"
      ],
      "text/plain": [
       "        Group  Result\n",
       "16  Treatment     1.0\n",
       "17  Treatment     1.0\n",
       "18  Treatment     1.0\n",
       "19  Treatment     1.0\n",
       "20  Treatment     1.0"
      ]
     },
     "execution_count": 1,
     "metadata": {},
     "output_type": "execute_result"
    }
   ],
   "source": [
    "medicados = df.query('Group != \"Control\"')\n",
    "medicados.head()"
   ]
  },
  {
   "cell_type": "markdown",
   "metadata": {},
   "source": [
    "Ao somar o resultado de cada caso, vejo quantos melhoraram. Note que o valor é bem maior nos medicados."
   ]
  },
  {
   "cell_type": "code",
   "execution_count": 9,
   "metadata": {
    "execution": {
     "iopub.execute_input": "2021-02-03T21:09:17.814545Z",
     "iopub.status.busy": "2021-02-03T21:09:17.812970Z",
     "iopub.status.idle": "2021-02-03T21:09:17.816397Z",
     "shell.execute_reply": "2021-02-03T21:09:17.817138Z"
    }
   },
   "outputs": [
    {
     "data": {
      "text/plain": [
       "2.0"
      ]
     },
     "execution_count": 1,
     "metadata": {},
     "output_type": "execute_result"
    }
   ],
   "source": [
    "control['Result'].sum()"
   ]
  },
  {
   "cell_type": "code",
   "execution_count": 10,
   "metadata": {
    "execution": {
     "iopub.execute_input": "2021-02-03T21:09:17.824010Z",
     "iopub.status.busy": "2021-02-03T21:09:17.822681Z",
     "iopub.status.idle": "2021-02-03T21:09:17.826419Z",
     "shell.execute_reply": "2021-02-03T21:09:17.827991Z"
    }
   },
   "outputs": [
    {
     "data": {
      "text/plain": [
       "9.0"
      ]
     },
     "execution_count": 1,
     "metadata": {},
     "output_type": "execute_result"
    }
   ],
   "source": [
    "medicados['Result'].sum()"
   ]
  },
  {
   "cell_type": "markdown",
   "metadata": {},
   "source": [
    "Como os dados são 1/0, a média aqui vira uma proporção. Cada observação, $x_i \\in \\{0, 1\\}$. 0 é quando não temos um efeito positivo e 1 quando temos.\n",
    "\n",
    "$$\\sum_{i=1}^{N} x_i/n$$"
   ]
  },
  {
   "cell_type": "code",
   "execution_count": 11,
   "metadata": {
    "execution": {
     "iopub.execute_input": "2021-02-03T21:09:17.835070Z",
     "iopub.status.busy": "2021-02-03T21:09:17.833858Z",
     "iopub.status.idle": "2021-02-03T21:09:17.837160Z",
     "shell.execute_reply": "2021-02-03T21:09:17.837902Z"
    }
   },
   "outputs": [
    {
     "data": {
      "text/plain": [
       "0.125"
      ]
     },
     "execution_count": 1,
     "metadata": {},
     "output_type": "execute_result"
    }
   ],
   "source": [
    "control['Result'].mean()"
   ]
  },
  {
   "cell_type": "code",
   "execution_count": 12,
   "metadata": {
    "execution": {
     "iopub.execute_input": "2021-02-03T21:09:17.844513Z",
     "iopub.status.busy": "2021-02-03T21:09:17.843281Z",
     "iopub.status.idle": "2021-02-03T21:09:17.846965Z",
     "shell.execute_reply": "2021-02-03T21:09:17.847719Z"
    }
   },
   "outputs": [
    {
     "data": {
      "text/plain": [
       "0.6"
      ]
     },
     "execution_count": 1,
     "metadata": {},
     "output_type": "execute_result"
    }
   ],
   "source": [
    "medicados['Result'].mean()"
   ]
  },
  {
   "cell_type": "markdown",
   "metadata": {},
   "source": [
    "Aqui tenho o efeito nos dados reais, mensurados em abs."
   ]
  },
  {
   "cell_type": "code",
   "execution_count": 13,
   "metadata": {
    "execution": {
     "iopub.execute_input": "2021-02-03T21:09:17.854789Z",
     "iopub.status.busy": "2021-02-03T21:09:17.853591Z",
     "iopub.status.idle": "2021-02-03T21:09:17.856901Z",
     "shell.execute_reply": "2021-02-03T21:09:17.857648Z"
    }
   },
   "outputs": [
    {
     "data": {
      "text/plain": [
       "0.475"
      ]
     },
     "execution_count": 1,
     "metadata": {},
     "output_type": "execute_result"
    }
   ],
   "source": [
    "abs(medicados['Result'].mean() - control['Result'].mean())"
   ]
  },
  {
   "cell_type": "code",
   "execution_count": 14,
   "metadata": {
    "execution": {
     "iopub.execute_input": "2021-02-03T21:09:17.863315Z",
     "iopub.status.busy": "2021-02-03T21:09:17.862532Z",
     "iopub.status.idle": "2021-02-03T21:09:17.864918Z",
     "shell.execute_reply": "2021-02-03T21:09:17.864150Z"
    }
   },
   "outputs": [],
   "source": [
    "tobs = abs(medicados['Result'].mean() - control['Result'].mean())"
   ]
  },
  {
   "cell_type": "code",
   "execution_count": 15,
   "metadata": {
    "execution": {
     "iopub.execute_input": "2021-02-03T21:09:17.869965Z",
     "iopub.status.busy": "2021-02-03T21:09:17.869190Z",
     "iopub.status.idle": "2021-02-03T21:09:17.872132Z",
     "shell.execute_reply": "2021-02-03T21:09:17.872744Z"
    }
   },
   "outputs": [
    {
     "data": {
      "text/plain": [
       "0.475"
      ]
     },
     "execution_count": 1,
     "metadata": {},
     "output_type": "execute_result"
    }
   ],
   "source": [
    "tobs"
   ]
  },
  {
   "cell_type": "markdown",
   "metadata": {},
   "source": [
    "## Dados permutados"
   ]
  },
  {
   "cell_type": "code",
   "execution_count": 16,
   "metadata": {
    "execution": {
     "iopub.execute_input": "2021-02-03T21:09:17.885485Z",
     "iopub.status.busy": "2021-02-03T21:09:17.884269Z",
     "iopub.status.idle": "2021-02-03T21:09:17.887757Z",
     "shell.execute_reply": "2021-02-03T21:09:17.888496Z"
    }
   },
   "outputs": [
    {
     "data": {
      "text/html": [
       "<div>\n",
       "<style scoped>\n",
       "    .dataframe tbody tr th:only-of-type {\n",
       "        vertical-align: middle;\n",
       "    }\n",
       "\n",
       "    .dataframe tbody tr th {\n",
       "        vertical-align: top;\n",
       "    }\n",
       "\n",
       "    .dataframe thead th {\n",
       "        text-align: right;\n",
       "    }\n",
       "</style>\n",
       "<table border=\"1\" class=\"dataframe\">\n",
       "  <thead>\n",
       "    <tr style=\"text-align: right;\">\n",
       "      <th></th>\n",
       "      <th>Group</th>\n",
       "      <th>Result</th>\n",
       "    </tr>\n",
       "  </thead>\n",
       "  <tbody>\n",
       "    <tr>\n",
       "      <th>0</th>\n",
       "      <td>Treatment</td>\n",
       "      <td>1.0</td>\n",
       "    </tr>\n",
       "    <tr>\n",
       "      <th>1</th>\n",
       "      <td>Control</td>\n",
       "      <td>1.0</td>\n",
       "    </tr>\n",
       "    <tr>\n",
       "      <th>2</th>\n",
       "      <td>Control</td>\n",
       "      <td>0.0</td>\n",
       "    </tr>\n",
       "    <tr>\n",
       "      <th>3</th>\n",
       "      <td>Treatment</td>\n",
       "      <td>0.0</td>\n",
       "    </tr>\n",
       "    <tr>\n",
       "      <th>4</th>\n",
       "      <td>Control</td>\n",
       "      <td>0.0</td>\n",
       "    </tr>\n",
       "  </tbody>\n",
       "</table>\n",
       "</div>"
      ],
      "text/plain": [
       "       Group  Result\n",
       "0  Treatment     1.0\n",
       "1    Control     1.0\n",
       "2    Control     0.0\n",
       "3  Treatment     0.0\n",
       "4    Control     0.0"
      ]
     },
     "execution_count": 1,
     "metadata": {},
     "output_type": "execute_result"
    }
   ],
   "source": [
    "p1 = permuta(df, 'Group')\n",
    "p1.head()"
   ]
  },
  {
   "cell_type": "code",
   "execution_count": 17,
   "metadata": {
    "execution": {
     "iopub.execute_input": "2021-02-03T21:09:17.899488Z",
     "iopub.status.busy": "2021-02-03T21:09:17.898221Z",
     "iopub.status.idle": "2021-02-03T21:09:17.901587Z",
     "shell.execute_reply": "2021-02-03T21:09:17.902332Z"
    }
   },
   "outputs": [
    {
     "data": {
      "text/plain": [
       "Result    0.25\n",
       "dtype: float64"
      ]
     },
     "execution_count": 1,
     "metadata": {},
     "output_type": "execute_result"
    }
   ],
   "source": [
    "p1.query('Group == \"Control\"').mean()"
   ]
  },
  {
   "cell_type": "code",
   "execution_count": 18,
   "metadata": {
    "execution": {
     "iopub.execute_input": "2021-02-03T21:09:17.913430Z",
     "iopub.status.busy": "2021-02-03T21:09:17.911943Z",
     "iopub.status.idle": "2021-02-03T21:09:17.915293Z",
     "shell.execute_reply": "2021-02-03T21:09:17.916054Z"
    }
   },
   "outputs": [
    {
     "data": {
      "text/plain": [
       "Result    0.466667\n",
       "dtype: float64"
      ]
     },
     "execution_count": 1,
     "metadata": {},
     "output_type": "execute_result"
    }
   ],
   "source": [
    "p1.query('Group == \"Treatment\"').mean()"
   ]
  },
  {
   "cell_type": "code",
   "execution_count": 19,
   "metadata": {
    "execution": {
     "iopub.execute_input": "2021-02-03T21:09:17.927496Z",
     "iopub.status.busy": "2021-02-03T21:09:17.926617Z",
     "iopub.status.idle": "2021-02-03T21:09:17.930308Z",
     "shell.execute_reply": "2021-02-03T21:09:17.931055Z"
    }
   },
   "outputs": [
    {
     "data": {
      "text/html": [
       "<div>\n",
       "<style scoped>\n",
       "    .dataframe tbody tr th:only-of-type {\n",
       "        vertical-align: middle;\n",
       "    }\n",
       "\n",
       "    .dataframe tbody tr th {\n",
       "        vertical-align: top;\n",
       "    }\n",
       "\n",
       "    .dataframe thead th {\n",
       "        text-align: right;\n",
       "    }\n",
       "</style>\n",
       "<table border=\"1\" class=\"dataframe\">\n",
       "  <thead>\n",
       "    <tr style=\"text-align: right;\">\n",
       "      <th></th>\n",
       "      <th>Group</th>\n",
       "      <th>Result</th>\n",
       "    </tr>\n",
       "  </thead>\n",
       "  <tbody>\n",
       "    <tr>\n",
       "      <th>0</th>\n",
       "      <td>Control</td>\n",
       "      <td>1.0</td>\n",
       "    </tr>\n",
       "    <tr>\n",
       "      <th>1</th>\n",
       "      <td>Control</td>\n",
       "      <td>1.0</td>\n",
       "    </tr>\n",
       "    <tr>\n",
       "      <th>2</th>\n",
       "      <td>Control</td>\n",
       "      <td>0.0</td>\n",
       "    </tr>\n",
       "    <tr>\n",
       "      <th>3</th>\n",
       "      <td>Control</td>\n",
       "      <td>0.0</td>\n",
       "    </tr>\n",
       "    <tr>\n",
       "      <th>4</th>\n",
       "      <td>Control</td>\n",
       "      <td>0.0</td>\n",
       "    </tr>\n",
       "  </tbody>\n",
       "</table>\n",
       "</div>"
      ],
      "text/plain": [
       "     Group  Result\n",
       "0  Control     1.0\n",
       "1  Control     1.0\n",
       "2  Control     0.0\n",
       "3  Control     0.0\n",
       "4  Control     0.0"
      ]
     },
     "execution_count": 1,
     "metadata": {},
     "output_type": "execute_result"
    }
   ],
   "source": [
    "df.head()"
   ]
  },
  {
   "cell_type": "markdown",
   "metadata": {},
   "source": [
    "## Teste de Permutação abaixo."
   ]
  },
  {
   "cell_type": "code",
   "execution_count": 20,
   "metadata": {
    "execution": {
     "iopub.execute_input": "2021-02-03T21:09:18.031529Z",
     "iopub.status.busy": "2021-02-03T21:09:17.983281Z",
     "iopub.status.idle": "2021-02-03T21:10:11.165908Z",
     "shell.execute_reply": "2021-02-03T21:10:11.166420Z"
    }
   },
   "outputs": [],
   "source": [
    "valores = []\n",
    "for _ in range(10000):\n",
    "    novo = permuta(df, 'Group')\n",
    "    controle = novo.query('Group == \"Control\"')['Result']\n",
    "    medicados = novo.query('Group != \"Control\"')['Result']\n",
    "    valores.append(abs(controle.mean() - medicados.mean()))"
   ]
  },
  {
   "cell_type": "code",
   "execution_count": 21,
   "metadata": {
    "execution": {
     "iopub.execute_input": "2021-02-03T21:10:11.172694Z",
     "iopub.status.busy": "2021-02-03T21:10:11.172215Z",
     "iopub.status.idle": "2021-02-03T21:10:11.174831Z",
     "shell.execute_reply": "2021-02-03T21:10:11.174317Z"
    }
   },
   "outputs": [],
   "source": [
    "valores = np.array(valores)"
   ]
  },
  {
   "cell_type": "code",
   "execution_count": 22,
   "metadata": {
    "execution": {
     "iopub.execute_input": "2021-02-03T21:10:11.178793Z",
     "iopub.status.busy": "2021-02-03T21:10:11.178178Z",
     "iopub.status.idle": "2021-02-03T21:10:11.181693Z",
     "shell.execute_reply": "2021-02-03T21:10:11.181194Z"
    }
   },
   "outputs": [
    {
     "data": {
      "text/plain": [
       "array([0.04166667, 0.04166667, 0.3       , ..., 0.04166667, 0.0875    ,\n",
       "       0.04166667])"
      ]
     },
     "execution_count": 1,
     "metadata": {},
     "output_type": "execute_result"
    }
   ],
   "source": [
    "valores"
   ]
  },
  {
   "cell_type": "code",
   "execution_count": 23,
   "metadata": {
    "execution": {
     "iopub.execute_input": "2021-02-03T21:10:11.203897Z",
     "iopub.status.busy": "2021-02-03T21:10:11.192530Z",
     "iopub.status.idle": "2021-02-03T21:10:11.394520Z",
     "shell.execute_reply": "2021-02-03T21:10:11.393784Z"
    }
   },
   "outputs": [
    {
     "name": "stdout",
     "output_type": "stream",
     "text": [
      "[0.15 0.2  0.25 0.3  0.35 0.4  0.45 0.5  0.55 0.6  0.65 0.7 ]\n"
     ]
    },
    {
     "data": {
      "image/png": "[encoded data removed]",
      "text/plain": [
       "<Figure size 1152x720 with 1 Axes>"
      ]
     },
     "metadata": {
      "needs_background": "light"
     },
     "output_type": "display_data"
    }
   ],
   "source": [
    "bins = np.arange(0.15, 0.75, 0.05)\n",
    "print(bins)\n",
    "plt.hist(valores, bins=10, edgecolor='k')\n",
    "plt.ylabel('# de Permutações')\n",
    "plt.xlabel('Diferança Absoluta ao Permutar')\n",
    "plt.plot([tobs], [0], 'ro', ms=15)\n",
    "despine()"
   ]
  },
  {
   "cell_type": "code",
   "execution_count": 24,
   "metadata": {
    "execution": {
     "iopub.execute_input": "2021-02-03T21:10:11.398097Z",
     "iopub.status.busy": "2021-02-03T21:10:11.397509Z",
     "iopub.status.idle": "2021-02-03T21:10:11.401241Z",
     "shell.execute_reply": "2021-02-03T21:10:11.401810Z"
    }
   },
   "outputs": [
    {
     "data": {
      "text/plain": [
       "0.0024"
      ]
     },
     "execution_count": 1,
     "metadata": {},
     "output_type": "execute_result"
    }
   ],
   "source": [
    "valor_p = (valores > tobs).mean()\n",
    "valor_p"
   ]
  },
  {
   "cell_type": "markdown",
   "metadata": {},
   "source": [
    "## Diferença de outros exemplos\n",
    "\n",
    "Neste exemplo foi feito uma intervenção. Isto é, medicamos parte dos dados. Não estamos observando dados apenas. Por isto um exemplo como este é causal, vemos um efeito real em um experimento controlado! Mais importante do que isto, em 2011 foi averiguado que este pequeno estudo é um dos mais corretos quando se trata de dor crônica lombar! O ferramental aqui foram testes simples + uma boa amostra! "
   ]
  }
 ],
 "metadata": {
  "kernelspec": {
   "display_name": "Python 3",
   "language": "python",
   "name": "python3"
  },
  "language_info": {
   "codemirror_mode": {
    "name": "ipython",
    "version": 3
   },
   "file_extension": ".py",
   "mimetype": "text/x-python",
   "name": "python",
   "nbconvert_exporter": "python",
   "pygments_lexer": "ipython3",
   "version": "3.8.5"
  }
 },
 "nbformat": 4,
 "nbformat_minor": 2
}
