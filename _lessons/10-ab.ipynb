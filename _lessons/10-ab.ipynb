{
 "cells": [
  {
   "cell_type": "markdown",
   "metadata": {},
   "source": [
    "---\n",
    "layout: page\n",
    "title: Testes AB\n",
    "nav_order: 10\n",
    "---\n",
    "\n",
    "[<img src=\"./colab_favicon_small.png\" style=\"float: right;\">](https://colab.research.google.com/github/icd-ufmg/icd-ufmg.github.io/blob/master/_lessons/10-ab.ipynb)\n",
    "\n",
    "# Testes AB\n",
    "{: .no_toc .mb-2 }\n",
    "\n",
    "Como comparar dois grupos\n",
    "{: .fs-6 .fw-300 }\n",
    "\n",
    "{: .no_toc .text-delta }\n",
    "Resultados Esperados\n",
    "\n",
    "1. Comparar dois grupos usando intervalos de confiança\n",
    "1. Entender como fazer um comparativo de dois grupos\n",
    "1. Fazer uso do Bootstrap para comparar grupos\n",
    "1. Fazer uso de ICs para comparar grupos\n",
    "\n",
    "---\n",
    "**Sumário**\n",
    "1. TOC\n",
    "{:toc}\n",
    "---"
   ]
  },
  {
   "cell_type": "code",
   "execution_count": 1,
   "metadata": {
    "execution": {
     "iopub.execute_input": "2021-02-03T21:02:43.604701Z",
     "iopub.status.busy": "2021-02-03T21:02:43.604082Z",
     "iopub.status.idle": "2021-02-03T21:02:44.236074Z",
     "shell.execute_reply": "2021-02-03T21:02:44.236560Z"
    }
   },
   "outputs": [],
   "source": [
    "# -*- coding: utf8\n",
    "\n",
    "from scipy import stats as ss\n",
    "\n",
    "import numpy as np\n",
    "import matplotlib.pyplot as plt\n",
    "import pandas as pd"
   ]
  },
  {
   "cell_type": "code",
   "execution_count": 2,
   "metadata": {
    "execution": {
     "iopub.execute_input": "2021-02-03T21:02:44.242495Z",
     "iopub.status.busy": "2021-02-03T21:02:44.242007Z",
     "iopub.status.idle": "2021-02-03T21:02:44.244699Z",
     "shell.execute_reply": "2021-02-03T21:02:44.244112Z"
    }
   },
   "outputs": [],
   "source": [
    "plt.style.use('seaborn-colorblind')\n",
    "plt.rcParams['figure.figsize']  = (12, 8)\n",
    "plt.rcParams['axes.labelsize']  = 20\n",
    "plt.rcParams['axes.titlesize']  = 20\n",
    "plt.rcParams['legend.fontsize'] = 20\n",
    "plt.rcParams['xtick.labelsize'] = 20\n",
    "plt.rcParams['ytick.labelsize'] = 20\n",
    "plt.rcParams['lines.linewidth'] = 4"
   ]
  },
  {
   "cell_type": "code",
   "execution_count": 3,
   "metadata": {
    "execution": {
     "iopub.execute_input": "2021-02-03T21:02:44.248621Z",
     "iopub.status.busy": "2021-02-03T21:02:44.248156Z",
     "iopub.status.idle": "2021-02-03T21:02:44.251250Z",
     "shell.execute_reply": "2021-02-03T21:02:44.251602Z"
    }
   },
   "outputs": [],
   "source": [
    "def despine(ax=None):\n",
    "    if ax is None:\n",
    "        ax = plt.gca()\n",
    "    # Hide the right and top spines\n",
    "    ax.spines['right'].set_visible(False)\n",
    "    ax.spines['top'].set_visible(False)\n",
    "\n",
    "    # Only show ticks on the left and bottom spines\n",
    "    ax.yaxis.set_ticks_position('left')\n",
    "    ax.xaxis.set_ticks_position('bottom')"
   ]
  },
  {
   "cell_type": "markdown",
   "metadata": {},
   "source": [
    "## Introdução\n",
    "\n",
    "**Partes da discussão vem do material do Professor Nazareno Andrade**\n",
    "\n",
    "Neste notebook vamos continuar nossa exploração de intervalos de confiança e o significado dos mesmos. Em particular, vamos continuar também usando o **bootstrap** para entender o conceito. Lembre-se que a ideia de um intervalo de confiança é entender _a média da população com base em uma amostra_. Por isso o teorema central do limite é tão importante. Na aula anterior iniciamos assumindo que conhecíamos a população. Quando isso ocorre tudo é muito mais simples, quase nunca é verdade. Então como falar algo da população usando apenas uma amostra?\n",
    "\n",
    "Perguntas como esta acima são a base da __estatística frequentista__. Assumimos que uma verdade existe, na população, e queremos saber como entender essa população só com uma amostra.\n",
    "\n",
    "Para este notebook, preparei algumas funções abaixo que computa.\n",
    "1. IC da média usando o TCL\n",
    "1. IC da média usando bootstrap\n",
    "1. IC da diferença entre duas médias usando bootstrap\n",
    "\n",
    "### Funções abaixo com documentação"
   ]
  },
  {
   "cell_type": "code",
   "execution_count": 4,
   "metadata": {
    "execution": {
     "iopub.execute_input": "2021-02-03T21:02:44.256659Z",
     "iopub.status.busy": "2021-02-03T21:02:44.255885Z",
     "iopub.status.idle": "2021-02-03T21:02:44.257593Z",
     "shell.execute_reply": "2021-02-03T21:02:44.258282Z"
    }
   },
   "outputs": [],
   "source": [
    "def bootstrap_mean(df, column, n=5000, size=None):\n",
    "    '''\n",
    "    Faz um boostrap da média. Gera amostras.\n",
    "    \n",
    "    Parâmetros\n",
    "    ----------\n",
    "    df: o dataframe\n",
    "    column: a coluna que queremos focar\n",
    "    n: número de amostras para o bootstrap\n",
    "    size: tamanho de cada amostra, por padrão vira o tamanho do df.\n",
    "    '''\n",
    "    if size is None:\n",
    "        size = len(df)\n",
    "    values = np.zeros(n)\n",
    "    for i in range(n):\n",
    "        sample = df[column].sample(size, replace=True)\n",
    "        values[i] = sample.mean()\n",
    "    return values"
   ]
  },
  {
   "cell_type": "code",
   "execution_count": 5,
   "metadata": {
    "execution": {
     "iopub.execute_input": "2021-02-03T21:02:44.263085Z",
     "iopub.status.busy": "2021-02-03T21:02:44.262311Z",
     "iopub.status.idle": "2021-02-03T21:02:44.263970Z",
     "shell.execute_reply": "2021-02-03T21:02:44.264656Z"
    }
   },
   "outputs": [],
   "source": [
    "def ic_bootstrap(df, column, n=5000, size=None):\n",
    "    '''\n",
    "    Faz um IC boostrap da média. Gera um Intervalo.\n",
    "    \n",
    "    Parâmetros\n",
    "    ----------\n",
    "    df: o dataframe\n",
    "    column: a coluna que queremos focar\n",
    "    n: número de amostras para o bootstrap\n",
    "    size: tamanho de cada amostra, por padrão vira o tamanho do df.\n",
    "    '''\n",
    "        \n",
    "    values = bootstrap_mean(df, column, n, size)\n",
    "    return (np.percentile(values, 2.5), np.percentile(values, 97.5))"
   ]
  },
  {
   "cell_type": "code",
   "execution_count": 6,
   "metadata": {
    "execution": {
     "iopub.execute_input": "2021-02-03T21:02:44.269469Z",
     "iopub.status.busy": "2021-02-03T21:02:44.268731Z",
     "iopub.status.idle": "2021-02-03T21:02:44.270477Z",
     "shell.execute_reply": "2021-02-03T21:02:44.271162Z"
    }
   },
   "outputs": [],
   "source": [
    "def ic_classic(df, column):\n",
    "    '''\n",
    "    Faz um IC clássico usando o teorema central do limite.\n",
    "    \n",
    "    Parâmetros\n",
    "    ----------\n",
    "    df: o dataframe\n",
    "    column: a coluna que queremos focar\n",
    "    n: número de amostras para o bootstrap\n",
    "    size: tamanho de cada amostra, por padrão vira o tamanho do df.\n",
    "    '''\n",
    "    data = df[column]\n",
    "    mean = data.mean()\n",
    "    std = data.std(ddof=1)\n",
    "    se = std / np.sqrt(len(data))\n",
    "    \n",
    "    return (mean - 1.96 * se, mean + 1.96 * se)"
   ]
  },
  {
   "cell_type": "markdown",
   "metadata": {},
   "source": [
    "## Entendimento Inicial com Dados Sintéticos\n",
    "\n",
    "Vamos, mais uma vez entender um IC usando o bootstrap. Inicialmente, vamos assumir uma população $Normal(0, 1)$. Obviamente, teremos média perto de = 0 e std = 1. \n",
    "\n",
    "Caso queira, brinque com o size acima e observe como a média fica mais correta. Além do mais, códigos scipy usam dois parâmetros: __loc__ e __scale__. LEIA ATENTAMENTE A DOCUMENTAÇÃO ANTES DE USAR AS DISTRIBUIÇÕES. ÀS VEZES, LOC e SCALE MAPEAM DIRETAMENTE PARA O UM LIVRO/WIKIPEDIA. NO CASO DA NORMAL BATE.\n",
    "\n",
    "__Sobre Scipy__. Leia o link abaixo para entender a API um pouco mais.\n",
    "https://www.johndcook.com/blog/distributions_scipy/"
   ]
  },
  {
   "cell_type": "code",
   "execution_count": 7,
   "metadata": {
    "execution": {
     "iopub.execute_input": "2021-02-03T21:02:44.275409Z",
     "iopub.status.busy": "2021-02-03T21:02:44.274716Z",
     "iopub.status.idle": "2021-02-03T21:02:44.277635Z",
     "shell.execute_reply": "2021-02-03T21:02:44.276994Z"
    }
   },
   "outputs": [],
   "source": [
    "pop = ss.distributions.norm.rvs(size=10000, loc=0, scale=1)"
   ]
  },
  {
   "cell_type": "code",
   "execution_count": 8,
   "metadata": {
    "execution": {
     "iopub.execute_input": "2021-02-03T21:02:44.285187Z",
     "iopub.status.busy": "2021-02-03T21:02:44.284512Z",
     "iopub.status.idle": "2021-02-03T21:02:44.287541Z",
     "shell.execute_reply": "2021-02-03T21:02:44.287992Z"
    }
   },
   "outputs": [
    {
     "data": {
      "text/plain": [
       "8.07115311097739e-06"
      ]
     },
     "execution_count": 1,
     "metadata": {},
     "output_type": "execute_result"
    }
   ],
   "source": [
    "pop.mean()"
   ]
  },
  {
   "cell_type": "code",
   "execution_count": 9,
   "metadata": {
    "execution": {
     "iopub.execute_input": "2021-02-03T21:02:44.292021Z",
     "iopub.status.busy": "2021-02-03T21:02:44.291223Z",
     "iopub.status.idle": "2021-02-03T21:02:44.295051Z",
     "shell.execute_reply": "2021-02-03T21:02:44.295521Z"
    }
   },
   "outputs": [
    {
     "data": {
      "text/plain": [
       "0.9809422430953739"
      ]
     },
     "execution_count": 1,
     "metadata": {},
     "output_type": "execute_result"
    }
   ],
   "source": [
    "pop.std(ddof=1)"
   ]
  },
  {
   "cell_type": "markdown",
   "metadata": {},
   "source": [
    "Vou converter os dados para um DataFrame. Além do mais, vou comparar o IC do bootstrap com o IC real ao variar o número de amostras no meu Bootstrap."
   ]
  },
  {
   "cell_type": "code",
   "execution_count": 10,
   "metadata": {
    "execution": {
     "iopub.execute_input": "2021-02-03T21:02:44.304165Z",
     "iopub.status.busy": "2021-02-03T21:02:44.303374Z",
     "iopub.status.idle": "2021-02-03T21:04:33.078694Z",
     "shell.execute_reply": "2021-02-03T21:04:33.078050Z"
    }
   },
   "outputs": [],
   "source": [
    "pop = ss.distributions.norm.rvs(size=100, loc=0, scale=1)\n",
    "data = pd.DataFrame()\n",
    "data['values'] = pop\n",
    "\n",
    "serie_1 = []\n",
    "serie_2 = []\n",
    "ns = np.arange(1, 1001)\n",
    "for n in ns:\n",
    "    ic_bs = ic_bootstrap(data, 'values', n=n)\n",
    "    ic_c = ic_classic(data, 'values')\n",
    "    tamanho_bs = ic_bs[1] - ic_bs[0]\n",
    "    tamanho_c = ic_c[1] - ic_c[0]\n",
    "    \n",
    "    serie_1.append(tamanho_bs)\n",
    "    serie_2.append(tamanho_c)"
   ]
  },
  {
   "cell_type": "markdown",
   "metadata": {},
   "source": [
    "No gráfico abaixo note que como o IC com bootstrap vai cada vez mais parecendo com o IC clássico (com SE/erro padrão). Ou seja, os dois estimam o mesmo intervalo. O gráfico mostra o tamanho do intervalo, mas já discutimos como o valor do intervalo é similar."
   ]
  },
  {
   "cell_type": "code",
   "execution_count": 11,
   "metadata": {
    "execution": {
     "iopub.execute_input": "2021-02-03T21:04:33.128311Z",
     "iopub.status.busy": "2021-02-03T21:04:33.127827Z",
     "iopub.status.idle": "2021-02-03T21:04:33.295595Z",
     "shell.execute_reply": "2021-02-03T21:04:33.295136Z"
    }
   },
   "outputs": [
    {
     "data": {
      "image/png": "[encoded data removed]",
      "text/plain": [
       "<Figure size 864x576 with 1 Axes>"
      ]
     },
     "metadata": {
      "needs_background": "light"
     },
     "output_type": "display_data"
    }
   ],
   "source": [
    "plt.plot(ns, serie_1, label='Bootstrap')\n",
    "plt.plot(ns, serie_2, label='Real')\n",
    "plt.xlabel('Número de Amostras')\n",
    "plt.ylabel('Tamanho do IC')\n",
    "despine()"
   ]
  },
  {
   "cell_type": "markdown",
   "metadata": {},
   "source": [
    "## Dados Reais\n",
    "\n",
    "Agora vamos explorar dados reais para entender se existe algum efeito entre fumar o peso.\n",
    "\n",
    "### Algumas hipóteses\n",
    "\n",
    "Tente brincar com os dados para entender um pouco mais cada caso.\n",
    "\n",
    "1. __Mães que fumam tendem a ter bebês com pesos menores.__\n",
    "1. Mães que têm idade menor tendem a ter bebês com pesos menores.\n",
    "1. Mães que têm peso menor tendem a ter bebês com pesos menores.\n",
    "\n",
    "Vamos explorar a primeira."
   ]
  },
  {
   "cell_type": "markdown",
   "metadata": {},
   "source": [
    "Primeiro, vamos dar uma olhada na base como um todo."
   ]
  },
  {
   "cell_type": "code",
   "execution_count": 12,
   "metadata": {
    "execution": {
     "iopub.execute_input": "2021-02-03T21:04:33.300676Z",
     "iopub.status.busy": "2021-02-03T21:04:33.300003Z",
     "iopub.status.idle": "2021-02-03T21:04:33.762505Z",
     "shell.execute_reply": "2021-02-03T21:04:33.762999Z"
    }
   },
   "outputs": [
    {
     "data": {
      "text/html": [
       "<div>\n",
       "<style scoped>\n",
       "    .dataframe tbody tr th:only-of-type {\n",
       "        vertical-align: middle;\n",
       "    }\n",
       "\n",
       "    .dataframe tbody tr th {\n",
       "        vertical-align: top;\n",
       "    }\n",
       "\n",
       "    .dataframe thead th {\n",
       "        text-align: right;\n",
       "    }\n",
       "</style>\n",
       "<table border=\"1\" class=\"dataframe\">\n",
       "  <thead>\n",
       "    <tr style=\"text-align: right;\">\n",
       "      <th></th>\n",
       "      <th>Birth Weight</th>\n",
       "      <th>Gestational Days</th>\n",
       "      <th>Maternal Age</th>\n",
       "      <th>Maternal Height</th>\n",
       "      <th>Maternal Pregnancy Weight</th>\n",
       "      <th>Maternal Smoker</th>\n",
       "    </tr>\n",
       "  </thead>\n",
       "  <tbody>\n",
       "    <tr>\n",
       "      <th>0</th>\n",
       "      <td>3.401940</td>\n",
       "      <td>284</td>\n",
       "      <td>27</td>\n",
       "      <td>1.5748</td>\n",
       "      <td>2.834950</td>\n",
       "      <td>False</td>\n",
       "    </tr>\n",
       "    <tr>\n",
       "      <th>1</th>\n",
       "      <td>3.203493</td>\n",
       "      <td>282</td>\n",
       "      <td>33</td>\n",
       "      <td>1.6256</td>\n",
       "      <td>3.827183</td>\n",
       "      <td>False</td>\n",
       "    </tr>\n",
       "    <tr>\n",
       "      <th>2</th>\n",
       "      <td>3.628736</td>\n",
       "      <td>279</td>\n",
       "      <td>28</td>\n",
       "      <td>1.6256</td>\n",
       "      <td>3.260193</td>\n",
       "      <td>True</td>\n",
       "    </tr>\n",
       "    <tr>\n",
       "      <th>3</th>\n",
       "      <td>3.061746</td>\n",
       "      <td>282</td>\n",
       "      <td>23</td>\n",
       "      <td>1.7018</td>\n",
       "      <td>3.543687</td>\n",
       "      <td>True</td>\n",
       "    </tr>\n",
       "    <tr>\n",
       "      <th>4</th>\n",
       "      <td>3.855532</td>\n",
       "      <td>286</td>\n",
       "      <td>25</td>\n",
       "      <td>1.5748</td>\n",
       "      <td>2.636503</td>\n",
       "      <td>False</td>\n",
       "    </tr>\n",
       "  </tbody>\n",
       "</table>\n",
       "</div>"
      ],
      "text/plain": [
       "   Birth Weight  Gestational Days  Maternal Age  Maternal Height  \\\n",
       "0      3.401940               284            27           1.5748   \n",
       "1      3.203493               282            33           1.6256   \n",
       "2      3.628736               279            28           1.6256   \n",
       "3      3.061746               282            23           1.7018   \n",
       "4      3.855532               286            25           1.5748   \n",
       "\n",
       "   Maternal Pregnancy Weight  Maternal Smoker  \n",
       "0                   2.834950            False  \n",
       "1                   3.827183            False  \n",
       "2                   3.260193             True  \n",
       "3                   3.543687             True  \n",
       "4                   2.636503            False  "
      ]
     },
     "execution_count": 1,
     "metadata": {},
     "output_type": "execute_result"
    }
   ],
   "source": [
    "df = pd.read_csv('https://media.githubusercontent.com/media/icd-ufmg/material/master/aulas/10-AB/baby.csv')\n",
    "\n",
    "# Convertendo para unidades não EUA\n",
    "df['Birth Weight'] = 0.0283495 * df['Birth Weight']\n",
    "df['Maternal Pregnancy Weight'] = 0.0283495 * df['Maternal Pregnancy Weight']\n",
    "df['Maternal Height'] = 0.0254 * df['Maternal Height']\n",
    "\n",
    "df.head()"
   ]
  },
  {
   "cell_type": "code",
   "execution_count": 13,
   "metadata": {
    "execution": {
     "iopub.execute_input": "2021-02-03T21:04:33.770878Z",
     "iopub.status.busy": "2021-02-03T21:04:33.770001Z",
     "iopub.status.idle": "2021-02-03T21:04:33.790800Z",
     "shell.execute_reply": "2021-02-03T21:04:33.790324Z"
    }
   },
   "outputs": [
    {
     "data": {
      "text/html": [
       "<div>\n",
       "<style scoped>\n",
       "    .dataframe tbody tr th:only-of-type {\n",
       "        vertical-align: middle;\n",
       "    }\n",
       "\n",
       "    .dataframe tbody tr th {\n",
       "        vertical-align: top;\n",
       "    }\n",
       "\n",
       "    .dataframe thead th {\n",
       "        text-align: right;\n",
       "    }\n",
       "</style>\n",
       "<table border=\"1\" class=\"dataframe\">\n",
       "  <thead>\n",
       "    <tr style=\"text-align: right;\">\n",
       "      <th></th>\n",
       "      <th>Birth Weight</th>\n",
       "      <th>Gestational Days</th>\n",
       "      <th>Maternal Age</th>\n",
       "      <th>Maternal Height</th>\n",
       "      <th>Maternal Pregnancy Weight</th>\n",
       "    </tr>\n",
       "  </thead>\n",
       "  <tbody>\n",
       "    <tr>\n",
       "      <th>count</th>\n",
       "      <td>1174.000000</td>\n",
       "      <td>1174.000000</td>\n",
       "      <td>1174.000000</td>\n",
       "      <td>1174.000000</td>\n",
       "      <td>1174.000000</td>\n",
       "    </tr>\n",
       "    <tr>\n",
       "      <th>mean</th>\n",
       "      <td>3.386703</td>\n",
       "      <td>279.101363</td>\n",
       "      <td>27.228279</td>\n",
       "      <td>1.626855</td>\n",
       "      <td>3.642307</td>\n",
       "    </tr>\n",
       "    <tr>\n",
       "      <th>std</th>\n",
       "      <td>0.519609</td>\n",
       "      <td>16.010305</td>\n",
       "      <td>5.817839</td>\n",
       "      <td>0.064163</td>\n",
       "      <td>0.587807</td>\n",
       "    </tr>\n",
       "    <tr>\n",
       "      <th>min</th>\n",
       "      <td>1.559222</td>\n",
       "      <td>148.000000</td>\n",
       "      <td>15.000000</td>\n",
       "      <td>1.346200</td>\n",
       "      <td>2.466407</td>\n",
       "    </tr>\n",
       "    <tr>\n",
       "      <th>25%</th>\n",
       "      <td>3.061746</td>\n",
       "      <td>272.000000</td>\n",
       "      <td>23.000000</td>\n",
       "      <td>1.574800</td>\n",
       "      <td>3.238930</td>\n",
       "    </tr>\n",
       "    <tr>\n",
       "      <th>50%</th>\n",
       "      <td>3.401940</td>\n",
       "      <td>280.000000</td>\n",
       "      <td>26.000000</td>\n",
       "      <td>1.625600</td>\n",
       "      <td>3.543687</td>\n",
       "    </tr>\n",
       "    <tr>\n",
       "      <th>75%</th>\n",
       "      <td>3.713785</td>\n",
       "      <td>288.000000</td>\n",
       "      <td>31.000000</td>\n",
       "      <td>1.676400</td>\n",
       "      <td>3.940580</td>\n",
       "    </tr>\n",
       "    <tr>\n",
       "      <th>max</th>\n",
       "      <td>4.989512</td>\n",
       "      <td>353.000000</td>\n",
       "      <td>45.000000</td>\n",
       "      <td>1.828800</td>\n",
       "      <td>7.087375</td>\n",
       "    </tr>\n",
       "  </tbody>\n",
       "</table>\n",
       "</div>"
      ],
      "text/plain": [
       "       Birth Weight  Gestational Days  Maternal Age  Maternal Height  \\\n",
       "count   1174.000000       1174.000000   1174.000000      1174.000000   \n",
       "mean       3.386703        279.101363     27.228279         1.626855   \n",
       "std        0.519609         16.010305      5.817839         0.064163   \n",
       "min        1.559222        148.000000     15.000000         1.346200   \n",
       "25%        3.061746        272.000000     23.000000         1.574800   \n",
       "50%        3.401940        280.000000     26.000000         1.625600   \n",
       "75%        3.713785        288.000000     31.000000         1.676400   \n",
       "max        4.989512        353.000000     45.000000         1.828800   \n",
       "\n",
       "       Maternal Pregnancy Weight  \n",
       "count                1174.000000  \n",
       "mean                    3.642307  \n",
       "std                     0.587807  \n",
       "min                     2.466407  \n",
       "25%                     3.238930  \n",
       "50%                     3.543687  \n",
       "75%                     3.940580  \n",
       "max                     7.087375  "
      ]
     },
     "execution_count": 1,
     "metadata": {},
     "output_type": "execute_result"
    }
   ],
   "source": [
    "df.describe()"
   ]
  },
  {
   "cell_type": "markdown",
   "metadata": {},
   "source": [
    "Agora vamos ver os dados de quem fuma."
   ]
  },
  {
   "cell_type": "code",
   "execution_count": 14,
   "metadata": {
    "execution": {
     "iopub.execute_input": "2021-02-03T21:04:33.810809Z",
     "iopub.status.busy": "2021-02-03T21:04:33.794158Z",
     "iopub.status.idle": "2021-02-03T21:04:33.813451Z",
     "shell.execute_reply": "2021-02-03T21:04:33.813893Z"
    }
   },
   "outputs": [
    {
     "data": {
      "text/html": [
       "<div>\n",
       "<style scoped>\n",
       "    .dataframe tbody tr th:only-of-type {\n",
       "        vertical-align: middle;\n",
       "    }\n",
       "\n",
       "    .dataframe tbody tr th {\n",
       "        vertical-align: top;\n",
       "    }\n",
       "\n",
       "    .dataframe thead th {\n",
       "        text-align: right;\n",
       "    }\n",
       "</style>\n",
       "<table border=\"1\" class=\"dataframe\">\n",
       "  <thead>\n",
       "    <tr style=\"text-align: right;\">\n",
       "      <th></th>\n",
       "      <th>Birth Weight</th>\n",
       "      <th>Gestational Days</th>\n",
       "      <th>Maternal Age</th>\n",
       "      <th>Maternal Height</th>\n",
       "      <th>Maternal Pregnancy Weight</th>\n",
       "    </tr>\n",
       "  </thead>\n",
       "  <tbody>\n",
       "    <tr>\n",
       "      <th>count</th>\n",
       "      <td>459.000000</td>\n",
       "      <td>459.000000</td>\n",
       "      <td>459.000000</td>\n",
       "      <td>459.000000</td>\n",
       "      <td>459.000000</td>\n",
       "    </tr>\n",
       "    <tr>\n",
       "      <th>mean</th>\n",
       "      <td>3.226717</td>\n",
       "      <td>277.897603</td>\n",
       "      <td>26.736383</td>\n",
       "      <td>1.628256</td>\n",
       "      <td>3.598101</td>\n",
       "    </tr>\n",
       "    <tr>\n",
       "      <th>std</th>\n",
       "      <td>0.518654</td>\n",
       "      <td>15.201427</td>\n",
       "      <td>5.713139</td>\n",
       "      <td>0.066135</td>\n",
       "      <td>0.566761</td>\n",
       "    </tr>\n",
       "    <tr>\n",
       "      <th>min</th>\n",
       "      <td>1.644271</td>\n",
       "      <td>223.000000</td>\n",
       "      <td>15.000000</td>\n",
       "      <td>1.346200</td>\n",
       "      <td>2.466407</td>\n",
       "    </tr>\n",
       "    <tr>\n",
       "      <th>25%</th>\n",
       "      <td>2.863300</td>\n",
       "      <td>271.000000</td>\n",
       "      <td>22.000000</td>\n",
       "      <td>1.587500</td>\n",
       "      <td>3.175144</td>\n",
       "    </tr>\n",
       "    <tr>\n",
       "      <th>50%</th>\n",
       "      <td>3.260193</td>\n",
       "      <td>278.000000</td>\n",
       "      <td>26.000000</td>\n",
       "      <td>1.625600</td>\n",
       "      <td>3.543687</td>\n",
       "    </tr>\n",
       "    <tr>\n",
       "      <th>75%</th>\n",
       "      <td>3.572037</td>\n",
       "      <td>286.000000</td>\n",
       "      <td>30.000000</td>\n",
       "      <td>1.676400</td>\n",
       "      <td>3.869707</td>\n",
       "    </tr>\n",
       "    <tr>\n",
       "      <th>max</th>\n",
       "      <td>4.620969</td>\n",
       "      <td>330.000000</td>\n",
       "      <td>43.000000</td>\n",
       "      <td>1.828800</td>\n",
       "      <td>6.095142</td>\n",
       "    </tr>\n",
       "  </tbody>\n",
       "</table>\n",
       "</div>"
      ],
      "text/plain": [
       "       Birth Weight  Gestational Days  Maternal Age  Maternal Height  \\\n",
       "count    459.000000        459.000000    459.000000       459.000000   \n",
       "mean       3.226717        277.897603     26.736383         1.628256   \n",
       "std        0.518654         15.201427      5.713139         0.066135   \n",
       "min        1.644271        223.000000     15.000000         1.346200   \n",
       "25%        2.863300        271.000000     22.000000         1.587500   \n",
       "50%        3.260193        278.000000     26.000000         1.625600   \n",
       "75%        3.572037        286.000000     30.000000         1.676400   \n",
       "max        4.620969        330.000000     43.000000         1.828800   \n",
       "\n",
       "       Maternal Pregnancy Weight  \n",
       "count                 459.000000  \n",
       "mean                    3.598101  \n",
       "std                     0.566761  \n",
       "min                     2.466407  \n",
       "25%                     3.175144  \n",
       "50%                     3.543687  \n",
       "75%                     3.869707  \n",
       "max                     6.095142  "
      ]
     },
     "execution_count": 1,
     "metadata": {},
     "output_type": "execute_result"
    }
   ],
   "source": [
    "smokers = df[df['Maternal Smoker'] == True]\n",
    "smokers.describe()"
   ]
  },
  {
   "cell_type": "markdown",
   "metadata": {},
   "source": [
    "Contra os dados de quem não fuma."
   ]
  },
  {
   "cell_type": "code",
   "execution_count": 15,
   "metadata": {
    "execution": {
     "iopub.execute_input": "2021-02-03T21:04:33.819591Z",
     "iopub.status.busy": "2021-02-03T21:04:33.819079Z",
     "iopub.status.idle": "2021-02-03T21:04:33.836788Z",
     "shell.execute_reply": "2021-02-03T21:04:33.836322Z"
    }
   },
   "outputs": [
    {
     "data": {
      "text/html": [
       "<div>\n",
       "<style scoped>\n",
       "    .dataframe tbody tr th:only-of-type {\n",
       "        vertical-align: middle;\n",
       "    }\n",
       "\n",
       "    .dataframe tbody tr th {\n",
       "        vertical-align: top;\n",
       "    }\n",
       "\n",
       "    .dataframe thead th {\n",
       "        text-align: right;\n",
       "    }\n",
       "</style>\n",
       "<table border=\"1\" class=\"dataframe\">\n",
       "  <thead>\n",
       "    <tr style=\"text-align: right;\">\n",
       "      <th></th>\n",
       "      <th>Birth Weight</th>\n",
       "      <th>Gestational Days</th>\n",
       "      <th>Maternal Age</th>\n",
       "      <th>Maternal Height</th>\n",
       "      <th>Maternal Pregnancy Weight</th>\n",
       "    </tr>\n",
       "  </thead>\n",
       "  <tbody>\n",
       "    <tr>\n",
       "      <th>count</th>\n",
       "      <td>715.000000</td>\n",
       "      <td>715.000000</td>\n",
       "      <td>715.000000</td>\n",
       "      <td>715.000000</td>\n",
       "      <td>715.000000</td>\n",
       "    </tr>\n",
       "    <tr>\n",
       "      <th>mean</th>\n",
       "      <td>3.489407</td>\n",
       "      <td>279.874126</td>\n",
       "      <td>27.544056</td>\n",
       "      <td>1.625955</td>\n",
       "      <td>3.670685</td>\n",
       "    </tr>\n",
       "    <tr>\n",
       "      <th>std</th>\n",
       "      <td>0.493953</td>\n",
       "      <td>16.472823</td>\n",
       "      <td>5.866317</td>\n",
       "      <td>0.062895</td>\n",
       "      <td>0.599603</td>\n",
       "    </tr>\n",
       "    <tr>\n",
       "      <th>min</th>\n",
       "      <td>1.559222</td>\n",
       "      <td>148.000000</td>\n",
       "      <td>17.000000</td>\n",
       "      <td>1.422400</td>\n",
       "      <td>2.523105</td>\n",
       "    </tr>\n",
       "    <tr>\n",
       "      <th>25%</th>\n",
       "      <td>3.203493</td>\n",
       "      <td>273.000000</td>\n",
       "      <td>23.000000</td>\n",
       "      <td>1.574800</td>\n",
       "      <td>3.260193</td>\n",
       "    </tr>\n",
       "    <tr>\n",
       "      <th>50%</th>\n",
       "      <td>3.486988</td>\n",
       "      <td>281.000000</td>\n",
       "      <td>27.000000</td>\n",
       "      <td>1.625600</td>\n",
       "      <td>3.572037</td>\n",
       "    </tr>\n",
       "    <tr>\n",
       "      <th>75%</th>\n",
       "      <td>3.798833</td>\n",
       "      <td>289.000000</td>\n",
       "      <td>31.000000</td>\n",
       "      <td>1.676400</td>\n",
       "      <td>3.968930</td>\n",
       "    </tr>\n",
       "    <tr>\n",
       "      <th>max</th>\n",
       "      <td>4.989512</td>\n",
       "      <td>353.000000</td>\n",
       "      <td>45.000000</td>\n",
       "      <td>1.803400</td>\n",
       "      <td>7.087375</td>\n",
       "    </tr>\n",
       "  </tbody>\n",
       "</table>\n",
       "</div>"
      ],
      "text/plain": [
       "       Birth Weight  Gestational Days  Maternal Age  Maternal Height  \\\n",
       "count    715.000000        715.000000    715.000000       715.000000   \n",
       "mean       3.489407        279.874126     27.544056         1.625955   \n",
       "std        0.493953         16.472823      5.866317         0.062895   \n",
       "min        1.559222        148.000000     17.000000         1.422400   \n",
       "25%        3.203493        273.000000     23.000000         1.574800   \n",
       "50%        3.486988        281.000000     27.000000         1.625600   \n",
       "75%        3.798833        289.000000     31.000000         1.676400   \n",
       "max        4.989512        353.000000     45.000000         1.803400   \n",
       "\n",
       "       Maternal Pregnancy Weight  \n",
       "count                 715.000000  \n",
       "mean                    3.670685  \n",
       "std                     0.599603  \n",
       "min                     2.523105  \n",
       "25%                     3.260193  \n",
       "50%                     3.572037  \n",
       "75%                     3.968930  \n",
       "max                     7.087375  "
      ]
     },
     "execution_count": 1,
     "metadata": {},
     "output_type": "execute_result"
    }
   ],
   "source": [
    "no_smokers = df[df['Maternal Smoker'] == False]\n",
    "no_smokers.describe()"
   ]
  },
  {
   "cell_type": "markdown",
   "metadata": {},
   "source": [
    "Oberserve que sim, existem diferenças nos valores. Porém precisamos de um __arcabouço__ para entender exatamente como comparar os grupos. Não é impossível que tais erros sejam factíveis em uma amostra. Até na distribuição temos diferença, mas podemos fazer alguma coisa mais fundamentada (com garantias estatísticas) com uma amostra?!"
   ]
  },
  {
   "cell_type": "code",
   "execution_count": 16,
   "metadata": {
    "execution": {
     "iopub.execute_input": "2021-02-03T21:04:33.850938Z",
     "iopub.status.busy": "2021-02-03T21:04:33.849669Z",
     "iopub.status.idle": "2021-02-03T21:04:34.039038Z",
     "shell.execute_reply": "2021-02-03T21:04:34.038576Z"
    }
   },
   "outputs": [
    {
     "data": {
      "text/plain": [
       "<matplotlib.legend.Legend at 0x7f944ae397f0>"
      ]
     },
     "execution_count": 1,
     "metadata": {},
     "output_type": "execute_result"
    },
    {
     "data": {
      "image/png": "[encoded data removed]",
      "text/plain": [
       "<Figure size 864x576 with 1 Axes>"
      ]
     },
     "metadata": {
      "needs_background": "light"
     },
     "output_type": "display_data"
    }
   ],
   "source": [
    "plt.hist(no_smokers['Birth Weight'], alpha=0.3, edgecolor='k', label='No Smokers')\n",
    "plt.hist(smokers['Birth Weight'], alpha=0.3, edgecolor='k', label='Smokers')\n",
    "despine()\n",
    "plt.xlabel('Peso da Criança')\n",
    "plt.ylabel('Freq')\n",
    "plt.legend()"
   ]
  },
  {
   "cell_type": "markdown",
   "metadata": {},
   "source": [
    "Por isso que ICs são bem interessante. Vemos qual a chance do parâmetro na população, depois comparamos os ICs.\n",
    "\n",
    "Abaixo temos o IC de cada caso com bootstrap. Podemos falar alguma coisa?!"
   ]
  },
  {
   "cell_type": "code",
   "execution_count": 17,
   "metadata": {
    "execution": {
     "iopub.execute_input": "2021-02-03T21:04:34.044532Z",
     "iopub.status.busy": "2021-02-03T21:04:34.044035Z",
     "iopub.status.idle": "2021-02-03T21:04:34.961825Z",
     "shell.execute_reply": "2021-02-03T21:04:34.962265Z"
    }
   },
   "outputs": [
    {
     "data": {
      "text/plain": [
       "(3.1791586350762526, 3.2729775686274505)"
      ]
     },
     "execution_count": 1,
     "metadata": {},
     "output_type": "execute_result"
    }
   ],
   "source": [
    "ic_bootstrap(smokers, 'Birth Weight')"
   ]
  },
  {
   "cell_type": "code",
   "execution_count": 18,
   "metadata": {
    "execution": {
     "iopub.execute_input": "2021-02-03T21:04:34.966596Z",
     "iopub.status.busy": "2021-02-03T21:04:34.966138Z",
     "iopub.status.idle": "2021-02-03T21:04:35.955949Z",
     "shell.execute_reply": "2021-02-03T21:04:35.956427Z"
    }
   },
   "outputs": [
    {
     "data": {
      "text/plain": [
       "(3.4531663570104905, 3.525530933863637)"
      ]
     },
     "execution_count": 1,
     "metadata": {},
     "output_type": "execute_result"
    }
   ],
   "source": [
    "ic_bootstrap(no_smokers, 'Birth Weight')"
   ]
  },
  {
   "cell_type": "code",
   "execution_count": 19,
   "metadata": {
    "execution": {
     "iopub.execute_input": "2021-02-03T21:04:35.966374Z",
     "iopub.status.busy": "2021-02-03T21:04:35.960142Z",
     "iopub.status.idle": "2021-02-03T21:04:37.851689Z",
     "shell.execute_reply": "2021-02-03T21:04:37.852217Z"
    }
   },
   "outputs": [],
   "source": [
    "samples_smokers = bootstrap_mean(smokers, 'Birth Weight')\n",
    "samples_no_smokers = bootstrap_mean(no_smokers, 'Birth Weight')\n",
    "to_plot = pd.DataFrame()\n",
    "to_plot['smoker_boot'] = samples_smokers\n",
    "to_plot['no_smoker_boot'] = samples_no_smokers"
   ]
  },
  {
   "cell_type": "code",
   "execution_count": 20,
   "metadata": {
    "execution": {
     "iopub.execute_input": "2021-02-03T21:04:37.856228Z",
     "iopub.status.busy": "2021-02-03T21:04:37.855491Z",
     "iopub.status.idle": "2021-02-03T21:04:37.982157Z",
     "shell.execute_reply": "2021-02-03T21:04:37.982613Z"
    }
   },
   "outputs": [
    {
     "data": {
      "image/png": "[encoded data removed]",
      "text/plain": [
       "<Figure size 864x576 with 1 Axes>"
      ]
     },
     "metadata": {
      "needs_background": "light"
     },
     "output_type": "display_data"
    }
   ],
   "source": [
    "to_plot.boxplot(grid=False, sym='', whis=[5, 95], showmeans=True)\n",
    "plt.ylim(3, 3.6)\n",
    "plt.ylabel('Media')\n",
    "despine()"
   ]
  },
  {
   "cell_type": "markdown",
   "metadata": {},
   "source": [
    "Uma forma mais simples de entender é comparar a diferença entre os dois grupos. Note que o bootstrap também pode ser utilizado, agora vamos comparar a média de cada amostra. É o mesmo arcabouço."
   ]
  },
  {
   "cell_type": "code",
   "execution_count": 21,
   "metadata": {
    "execution": {
     "iopub.execute_input": "2021-02-03T21:04:37.986783Z",
     "iopub.status.busy": "2021-02-03T21:04:37.986340Z",
     "iopub.status.idle": "2021-02-03T21:04:37.988122Z",
     "shell.execute_reply": "2021-02-03T21:04:37.988593Z"
    }
   },
   "outputs": [],
   "source": [
    "def bootstrap_diff(df1, df2, column, n=5000, size=None):\n",
    "    '''\n",
    "    Faz um boostrap da diferença das média. Gera amostras.\n",
    "    \n",
    "    Parâmetros\n",
    "    ----------\n",
    "    df: o dataframe\n",
    "    column: a coluna que queremos focar\n",
    "    n: número de amostras para o bootstrap\n",
    "    size: tamanho de cada amostra, por padrão vira o tamanho do df.\n",
    "    '''\n",
    "    if size is None:\n",
    "        size = len(df)\n",
    "    values = np.zeros(n)\n",
    "    for i in range(n):\n",
    "        sample1 = df1[column].sample(size, replace=True)\n",
    "        sample2 = df2[column].sample(size, replace=True)\n",
    "        values[i] = sample1.mean() - sample2.mean()\n",
    "    return values"
   ]
  },
  {
   "cell_type": "code",
   "execution_count": 22,
   "metadata": {
    "execution": {
     "iopub.execute_input": "2021-02-03T21:04:37.993018Z",
     "iopub.status.busy": "2021-02-03T21:04:37.992588Z",
     "iopub.status.idle": "2021-02-03T21:04:40.183411Z",
     "shell.execute_reply": "2021-02-03T21:04:40.183970Z"
    }
   },
   "outputs": [],
   "source": [
    "caso2 = pd.DataFrame()\n",
    "diff = bootstrap_diff(smokers, no_smokers, 'Birth Weight')"
   ]
  },
  {
   "cell_type": "code",
   "execution_count": 23,
   "metadata": {
    "execution": {
     "iopub.execute_input": "2021-02-03T21:04:40.200409Z",
     "iopub.status.busy": "2021-02-03T21:04:40.198510Z",
     "iopub.status.idle": "2021-02-03T21:04:40.338091Z",
     "shell.execute_reply": "2021-02-03T21:04:40.338794Z"
    }
   },
   "outputs": [
    {
     "data": {
      "image/png": "[encoded data removed]",
      "text/plain": [
       "<Figure size 864x576 with 1 Axes>"
      ]
     },
     "metadata": {
      "needs_background": "light"
     },
     "output_type": "display_data"
    }
   ],
   "source": [
    "plt.hist(diff, edgecolor='k')\n",
    "plt.ylabel('Média Fumantes - Não Fumantes')\n",
    "plt.ylabel('Freq')\n",
    "despine()"
   ]
  },
  {
   "cell_type": "code",
   "execution_count": 24,
   "metadata": {
    "execution": {
     "iopub.execute_input": "2021-02-03T21:04:40.343396Z",
     "iopub.status.busy": "2021-02-03T21:04:40.342623Z",
     "iopub.status.idle": "2021-02-03T21:04:40.496637Z",
     "shell.execute_reply": "2021-02-03T21:04:40.495982Z"
    }
   },
   "outputs": [
    {
     "data": {
      "image/png": "[encoded data removed]",
      "text/plain": [
       "<Figure size 864x576 with 1 Axes>"
      ]
     },
     "metadata": {
      "needs_background": "light"
     },
     "output_type": "display_data"
    }
   ],
   "source": [
    "from statsmodels.distributions.empirical_distribution import ECDF\n",
    "ecdf = ECDF(diff)\n",
    "plt.plot(ecdf.x, ecdf.y)\n",
    "plt.xlabel('Média Fumantes - Não Fumantes')\n",
    "plt.ylabel('P(X <= x)')\n",
    "despine()"
   ]
  }
 ],
 "metadata": {
  "kernelspec": {
   "display_name": "Python 3",
   "language": "python",
   "name": "python3"
  },
  "language_info": {
   "codemirror_mode": {
    "name": "ipython",
    "version": 3
   },
   "file_extension": ".py",
   "mimetype": "text/x-python",
   "name": "python",
   "nbconvert_exporter": "python",
   "pygments_lexer": "ipython3",
   "version": "3.8.5"
  }
 },
 "nbformat": 4,
 "nbformat_minor": 2
}
